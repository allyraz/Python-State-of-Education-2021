{
 "cells": [
  {
   "cell_type": "markdown",
   "id": "3803928a",
   "metadata": {},
   "source": [
    "# 0. Content\n",
    "    1. Import Libraries & Data\n",
    "    2. Data Preprocessing & Cleaning\n",
    "    3. Elbow Technique\n",
    "    4. Run K-Means algorithm\n",
    "       i) Male Primary & upper secondary\n",
    "       ii) Female primary and upper secondary\n",
    "    5. Discussion"
   ]
  },
  {
   "cell_type": "markdown",
   "id": "c052d8ce",
   "metadata": {},
   "source": [
    "# 1. Import Libraries & Data"
   ]
  },
  {
   "cell_type": "code",
   "execution_count": 1,
   "id": "7fd8aec7",
   "metadata": {},
   "outputs": [],
   "source": [
    "import pandas as pd\n",
    "import numpy as np\n",
    "import os\n",
    "import seaborn as sns\n",
    "import matplotlib\n",
    "import matplotlib.pyplot as plt\n",
    "import sklearn\n",
    "from sklearn.cluster import KMeans\n",
    "import pylab as pl"
   ]
  },
  {
   "cell_type": "code",
   "execution_count": 2,
   "id": "85cd50b0",
   "metadata": {},
   "outputs": [],
   "source": [
    "path = r'C:\\Users\\Azalia\\Documents\\Projects\\Self-Study\\CareerFoundry\\Education Completion Analysis'"
   ]
  },
  {
   "cell_type": "code",
   "execution_count": 3,
   "id": "a0b03086",
   "metadata": {},
   "outputs": [],
   "source": [
    "df = pd.read_csv(os.path.join(path,'02 Data','Prepared Data','State_of_Education.csv'))"
   ]
  },
  {
   "cell_type": "markdown",
   "id": "9e6412c3",
   "metadata": {},
   "source": [
    "# 2. Data Preprocessing and Cleaning"
   ]
  },
  {
   "cell_type": "code",
   "execution_count": 4,
   "id": "2eefa164",
   "metadata": {},
   "outputs": [
    {
     "data": {
      "text/html": [
       "<div>\n",
       "<style scoped>\n",
       "    .dataframe tbody tr th:only-of-type {\n",
       "        vertical-align: middle;\n",
       "    }\n",
       "\n",
       "    .dataframe tbody tr th {\n",
       "        vertical-align: top;\n",
       "    }\n",
       "\n",
       "    .dataframe thead th {\n",
       "        text-align: right;\n",
       "    }\n",
       "</style>\n",
       "<table border=\"1\" class=\"dataframe\">\n",
       "  <thead>\n",
       "    <tr style=\"text-align: right;\">\n",
       "      <th></th>\n",
       "      <th>Country</th>\n",
       "      <th>Indicator</th>\n",
       "      <th>Gender</th>\n",
       "      <th>Education_Level</th>\n",
       "      <th>Wealth_Quintile</th>\n",
       "      <th>Residence</th>\n",
       "      <th>Data_Year</th>\n",
       "      <th>Percentage</th>\n",
       "      <th>Data_Source</th>\n",
       "      <th>Happiness_Rank</th>\n",
       "      <th>Country_Code</th>\n",
       "      <th>GDP_PerCapita</th>\n",
       "      <th>Region</th>\n",
       "      <th>Income_Group</th>\n",
       "    </tr>\n",
       "  </thead>\n",
       "  <tbody>\n",
       "    <tr>\n",
       "      <th>0</th>\n",
       "      <td>Afghanistan</td>\n",
       "      <td>Completion rate for children of primary school...</td>\n",
       "      <td>Female</td>\n",
       "      <td>Primary</td>\n",
       "      <td>Total</td>\n",
       "      <td>Total</td>\n",
       "      <td>2015</td>\n",
       "      <td>40.200001</td>\n",
       "      <td>DHS 2015</td>\n",
       "      <td>146.0</td>\n",
       "      <td>AFG</td>\n",
       "      <td>368.754614</td>\n",
       "      <td>South Asia</td>\n",
       "      <td>Low income</td>\n",
       "    </tr>\n",
       "    <tr>\n",
       "      <th>1</th>\n",
       "      <td>Afghanistan</td>\n",
       "      <td>Completion rate for children of primary school...</td>\n",
       "      <td>Male</td>\n",
       "      <td>Primary</td>\n",
       "      <td>Total</td>\n",
       "      <td>Total</td>\n",
       "      <td>2015</td>\n",
       "      <td>67.199997</td>\n",
       "      <td>DHS 2015</td>\n",
       "      <td>146.0</td>\n",
       "      <td>AFG</td>\n",
       "      <td>368.754614</td>\n",
       "      <td>South Asia</td>\n",
       "      <td>Low income</td>\n",
       "    </tr>\n",
       "    <tr>\n",
       "      <th>2</th>\n",
       "      <td>Afghanistan</td>\n",
       "      <td>Completion rate for youth of upper secondary e...</td>\n",
       "      <td>Female</td>\n",
       "      <td>Upper Secondary</td>\n",
       "      <td>Not Available</td>\n",
       "      <td>Not Available</td>\n",
       "      <td>2015</td>\n",
       "      <td>14.365360</td>\n",
       "      <td>DHS 2015</td>\n",
       "      <td>146.0</td>\n",
       "      <td>AFG</td>\n",
       "      <td>368.754614</td>\n",
       "      <td>South Asia</td>\n",
       "      <td>Low income</td>\n",
       "    </tr>\n",
       "    <tr>\n",
       "      <th>3</th>\n",
       "      <td>Afghanistan</td>\n",
       "      <td>Completion rate for youth of upper secondary e...</td>\n",
       "      <td>Male</td>\n",
       "      <td>Upper Secondary</td>\n",
       "      <td>Not Available</td>\n",
       "      <td>Not Available</td>\n",
       "      <td>2015</td>\n",
       "      <td>32.315559</td>\n",
       "      <td>DHS 2015</td>\n",
       "      <td>146.0</td>\n",
       "      <td>AFG</td>\n",
       "      <td>368.754614</td>\n",
       "      <td>South Asia</td>\n",
       "      <td>Low income</td>\n",
       "    </tr>\n",
       "    <tr>\n",
       "      <th>4</th>\n",
       "      <td>Afghanistan</td>\n",
       "      <td>Completion rate for adolescents of lower secon...</td>\n",
       "      <td>Female</td>\n",
       "      <td>Lower Secondary</td>\n",
       "      <td>Not Available</td>\n",
       "      <td>Not Available</td>\n",
       "      <td>2015</td>\n",
       "      <td>25.631340</td>\n",
       "      <td>DHS 2015</td>\n",
       "      <td>146.0</td>\n",
       "      <td>AFG</td>\n",
       "      <td>368.754614</td>\n",
       "      <td>South Asia</td>\n",
       "      <td>Low income</td>\n",
       "    </tr>\n",
       "  </tbody>\n",
       "</table>\n",
       "</div>"
      ],
      "text/plain": [
       "       Country                                          Indicator  Gender  \\\n",
       "0  Afghanistan  Completion rate for children of primary school...  Female   \n",
       "1  Afghanistan  Completion rate for children of primary school...    Male   \n",
       "2  Afghanistan  Completion rate for youth of upper secondary e...  Female   \n",
       "3  Afghanistan  Completion rate for youth of upper secondary e...    Male   \n",
       "4  Afghanistan  Completion rate for adolescents of lower secon...  Female   \n",
       "\n",
       "   Education_Level Wealth_Quintile      Residence  Data_Year  Percentage  \\\n",
       "0          Primary           Total          Total       2015   40.200001   \n",
       "1          Primary           Total          Total       2015   67.199997   \n",
       "2  Upper Secondary   Not Available  Not Available       2015   14.365360   \n",
       "3  Upper Secondary   Not Available  Not Available       2015   32.315559   \n",
       "4  Lower Secondary   Not Available  Not Available       2015   25.631340   \n",
       "\n",
       "  Data_Source  Happiness_Rank Country_Code  GDP_PerCapita      Region  \\\n",
       "0    DHS 2015           146.0          AFG     368.754614  South Asia   \n",
       "1    DHS 2015           146.0          AFG     368.754614  South Asia   \n",
       "2    DHS 2015           146.0          AFG     368.754614  South Asia   \n",
       "3    DHS 2015           146.0          AFG     368.754614  South Asia   \n",
       "4    DHS 2015           146.0          AFG     368.754614  South Asia   \n",
       "\n",
       "  Income_Group  \n",
       "0   Low income  \n",
       "1   Low income  \n",
       "2   Low income  \n",
       "3   Low income  \n",
       "4   Low income  "
      ]
     },
     "execution_count": 4,
     "metadata": {},
     "output_type": "execute_result"
    }
   ],
   "source": [
    "df.head()"
   ]
  },
  {
   "cell_type": "code",
   "execution_count": 5,
   "id": "5e7ea727",
   "metadata": {},
   "outputs": [],
   "source": [
    "# Removing categorical columns\n",
    "df = df[['Country', 'Indicator', 'Gender', 'Percentage', 'Happiness_Rank', 'GDP_PerCapita']]"
   ]
  },
  {
   "cell_type": "code",
   "execution_count": 6,
   "id": "dac447e7",
   "metadata": {},
   "outputs": [
    {
     "data": {
      "text/html": [
       "<div>\n",
       "<style scoped>\n",
       "    .dataframe tbody tr th:only-of-type {\n",
       "        vertical-align: middle;\n",
       "    }\n",
       "\n",
       "    .dataframe tbody tr th {\n",
       "        vertical-align: top;\n",
       "    }\n",
       "\n",
       "    .dataframe thead th {\n",
       "        text-align: right;\n",
       "    }\n",
       "</style>\n",
       "<table border=\"1\" class=\"dataframe\">\n",
       "  <thead>\n",
       "    <tr style=\"text-align: right;\">\n",
       "      <th></th>\n",
       "      <th>Country</th>\n",
       "      <th>Indicator</th>\n",
       "      <th>Gender</th>\n",
       "      <th>Percentage</th>\n",
       "      <th>Happiness_Rank</th>\n",
       "      <th>GDP_PerCapita</th>\n",
       "    </tr>\n",
       "  </thead>\n",
       "  <tbody>\n",
       "    <tr>\n",
       "      <th>0</th>\n",
       "      <td>Afghanistan</td>\n",
       "      <td>Completion rate for children of primary school...</td>\n",
       "      <td>Female</td>\n",
       "      <td>40.200001</td>\n",
       "      <td>146.0</td>\n",
       "      <td>368.754614</td>\n",
       "    </tr>\n",
       "    <tr>\n",
       "      <th>1</th>\n",
       "      <td>Afghanistan</td>\n",
       "      <td>Completion rate for children of primary school...</td>\n",
       "      <td>Male</td>\n",
       "      <td>67.199997</td>\n",
       "      <td>146.0</td>\n",
       "      <td>368.754614</td>\n",
       "    </tr>\n",
       "    <tr>\n",
       "      <th>8</th>\n",
       "      <td>Angola</td>\n",
       "      <td>Completion rate for children of primary school...</td>\n",
       "      <td>Female</td>\n",
       "      <td>56.631340</td>\n",
       "      <td>NaN</td>\n",
       "      <td>1953.533757</td>\n",
       "    </tr>\n",
       "    <tr>\n",
       "      <th>9</th>\n",
       "      <td>Angola</td>\n",
       "      <td>Completion rate for children of primary school...</td>\n",
       "      <td>Male</td>\n",
       "      <td>63.278900</td>\n",
       "      <td>NaN</td>\n",
       "      <td>1953.533757</td>\n",
       "    </tr>\n",
       "    <tr>\n",
       "      <th>14</th>\n",
       "      <td>Albania</td>\n",
       "      <td>Completion rate for children of primary school...</td>\n",
       "      <td>Female</td>\n",
       "      <td>95.698372</td>\n",
       "      <td>90.0</td>\n",
       "      <td>6492.872012</td>\n",
       "    </tr>\n",
       "    <tr>\n",
       "      <th>...</th>\n",
       "      <td>...</td>\n",
       "      <td>...</td>\n",
       "      <td>...</td>\n",
       "      <td>...</td>\n",
       "      <td>...</td>\n",
       "      <td>...</td>\n",
       "    </tr>\n",
       "    <tr>\n",
       "      <th>1089</th>\n",
       "      <td>Zambia</td>\n",
       "      <td>Completion rate for children of primary school...</td>\n",
       "      <td>Male</td>\n",
       "      <td>70.944771</td>\n",
       "      <td>137.0</td>\n",
       "      <td>1137.343633</td>\n",
       "    </tr>\n",
       "    <tr>\n",
       "      <th>1096</th>\n",
       "      <td>Zimbabwe</td>\n",
       "      <td>Completion rate for children of primary school...</td>\n",
       "      <td>Female</td>\n",
       "      <td>91.599998</td>\n",
       "      <td>144.0</td>\n",
       "      <td>1773.920411</td>\n",
       "    </tr>\n",
       "    <tr>\n",
       "      <th>1097</th>\n",
       "      <td>Zimbabwe</td>\n",
       "      <td>Completion rate for children of primary school...</td>\n",
       "      <td>Male</td>\n",
       "      <td>86.400002</td>\n",
       "      <td>144.0</td>\n",
       "      <td>1773.920411</td>\n",
       "    </tr>\n",
       "    <tr>\n",
       "      <th>1106</th>\n",
       "      <td>Kosovo</td>\n",
       "      <td>Completion rate for children of primary school...</td>\n",
       "      <td>Female</td>\n",
       "      <td>98.800000</td>\n",
       "      <td>32.0</td>\n",
       "      <td>5269.783901</td>\n",
       "    </tr>\n",
       "    <tr>\n",
       "      <th>1107</th>\n",
       "      <td>Kosovo</td>\n",
       "      <td>Completion rate for children of primary school...</td>\n",
       "      <td>Male</td>\n",
       "      <td>98.100000</td>\n",
       "      <td>32.0</td>\n",
       "      <td>5269.783901</td>\n",
       "    </tr>\n",
       "  </tbody>\n",
       "</table>\n",
       "<p>214 rows × 6 columns</p>\n",
       "</div>"
      ],
      "text/plain": [
       "          Country                                          Indicator  Gender  \\\n",
       "0     Afghanistan  Completion rate for children of primary school...  Female   \n",
       "1     Afghanistan  Completion rate for children of primary school...    Male   \n",
       "8          Angola  Completion rate for children of primary school...  Female   \n",
       "9          Angola  Completion rate for children of primary school...    Male   \n",
       "14        Albania  Completion rate for children of primary school...  Female   \n",
       "...           ...                                                ...     ...   \n",
       "1089       Zambia  Completion rate for children of primary school...    Male   \n",
       "1096     Zimbabwe  Completion rate for children of primary school...  Female   \n",
       "1097     Zimbabwe  Completion rate for children of primary school...    Male   \n",
       "1106       Kosovo  Completion rate for children of primary school...  Female   \n",
       "1107       Kosovo  Completion rate for children of primary school...    Male   \n",
       "\n",
       "      Percentage  Happiness_Rank  GDP_PerCapita  \n",
       "0      40.200001           146.0     368.754614  \n",
       "1      67.199997           146.0     368.754614  \n",
       "8      56.631340             NaN    1953.533757  \n",
       "9      63.278900             NaN    1953.533757  \n",
       "14     95.698372            90.0    6492.872012  \n",
       "...          ...             ...            ...  \n",
       "1089   70.944771           137.0    1137.343633  \n",
       "1096   91.599998           144.0    1773.920411  \n",
       "1097   86.400002           144.0    1773.920411  \n",
       "1106   98.800000            32.0    5269.783901  \n",
       "1107   98.100000            32.0    5269.783901  \n",
       "\n",
       "[214 rows x 6 columns]"
      ]
     },
     "execution_count": 6,
     "metadata": {},
     "output_type": "execute_result"
    }
   ],
   "source": [
    "# Creating subset for primary level completion rates \n",
    "df_prim_comp = df[df['Indicator']=='Completion rate for children of primary school age']\n",
    "df_prim_comp"
   ]
  },
  {
   "cell_type": "code",
   "execution_count": 7,
   "id": "79678b42",
   "metadata": {},
   "outputs": [
    {
     "data": {
      "text/plain": [
       "Country            0\n",
       "Indicator          0\n",
       "Gender             0\n",
       "Percentage         0\n",
       "Happiness_Rank    40\n",
       "GDP_PerCapita      8\n",
       "dtype: int64"
      ]
     },
     "execution_count": 7,
     "metadata": {},
     "output_type": "execute_result"
    }
   ],
   "source": [
    "# Checking nan values\n",
    "df_prim_comp.isnull().sum()"
   ]
  },
  {
   "cell_type": "code",
   "execution_count": 8,
   "id": "8a23d22d",
   "metadata": {},
   "outputs": [
    {
     "data": {
      "text/html": [
       "<div>\n",
       "<style scoped>\n",
       "    .dataframe tbody tr th:only-of-type {\n",
       "        vertical-align: middle;\n",
       "    }\n",
       "\n",
       "    .dataframe tbody tr th {\n",
       "        vertical-align: top;\n",
       "    }\n",
       "\n",
       "    .dataframe thead th {\n",
       "        text-align: right;\n",
       "    }\n",
       "</style>\n",
       "<table border=\"1\" class=\"dataframe\">\n",
       "  <thead>\n",
       "    <tr style=\"text-align: right;\">\n",
       "      <th></th>\n",
       "      <th>Country</th>\n",
       "      <th>Indicator</th>\n",
       "      <th>Gender</th>\n",
       "      <th>Percentage</th>\n",
       "      <th>Happiness_Rank</th>\n",
       "      <th>GDP_PerCapita</th>\n",
       "    </tr>\n",
       "  </thead>\n",
       "  <tbody>\n",
       "    <tr>\n",
       "      <th>8</th>\n",
       "      <td>Angola</td>\n",
       "      <td>Completion rate for children of primary school...</td>\n",
       "      <td>Female</td>\n",
       "      <td>56.631340</td>\n",
       "      <td>NaN</td>\n",
       "      <td>1953.533757</td>\n",
       "    </tr>\n",
       "    <tr>\n",
       "      <th>9</th>\n",
       "      <td>Angola</td>\n",
       "      <td>Completion rate for children of primary school...</td>\n",
       "      <td>Male</td>\n",
       "      <td>63.278900</td>\n",
       "      <td>NaN</td>\n",
       "      <td>1953.533757</td>\n",
       "    </tr>\n",
       "    <tr>\n",
       "      <th>48</th>\n",
       "      <td>Burundi</td>\n",
       "      <td>Completion rate for children of primary school...</td>\n",
       "      <td>Female</td>\n",
       "      <td>54.099998</td>\n",
       "      <td>NaN</td>\n",
       "      <td>221.477676</td>\n",
       "    </tr>\n",
       "    <tr>\n",
       "      <th>49</th>\n",
       "      <td>Burundi</td>\n",
       "      <td>Completion rate for children of primary school...</td>\n",
       "      <td>Male</td>\n",
       "      <td>46.000000</td>\n",
       "      <td>NaN</td>\n",
       "      <td>221.477676</td>\n",
       "    </tr>\n",
       "    <tr>\n",
       "      <th>106</th>\n",
       "      <td>Belize</td>\n",
       "      <td>Completion rate for children of primary school...</td>\n",
       "      <td>Female</td>\n",
       "      <td>96.000000</td>\n",
       "      <td>NaN</td>\n",
       "      <td>6228.267309</td>\n",
       "    </tr>\n",
       "    <tr>\n",
       "      <th>107</th>\n",
       "      <td>Belize</td>\n",
       "      <td>Completion rate for children of primary school...</td>\n",
       "      <td>Male</td>\n",
       "      <td>94.800003</td>\n",
       "      <td>NaN</td>\n",
       "      <td>6228.267309</td>\n",
       "    </tr>\n",
       "    <tr>\n",
       "      <th>142</th>\n",
       "      <td>Barbados</td>\n",
       "      <td>Completion rate for children of primary school...</td>\n",
       "      <td>Female</td>\n",
       "      <td>99.199997</td>\n",
       "      <td>NaN</td>\n",
       "      <td>17225.462300</td>\n",
       "    </tr>\n",
       "    <tr>\n",
       "      <th>143</th>\n",
       "      <td>Barbados</td>\n",
       "      <td>Completion rate for children of primary school...</td>\n",
       "      <td>Male</td>\n",
       "      <td>98.699997</td>\n",
       "      <td>NaN</td>\n",
       "      <td>17225.462300</td>\n",
       "    </tr>\n",
       "    <tr>\n",
       "      <th>166</th>\n",
       "      <td>Central African Republic</td>\n",
       "      <td>Completion rate for children of primary school...</td>\n",
       "      <td>Female</td>\n",
       "      <td>23.639120</td>\n",
       "      <td>NaN</td>\n",
       "      <td>461.137490</td>\n",
       "    </tr>\n",
       "    <tr>\n",
       "      <th>167</th>\n",
       "      <td>Central African Republic</td>\n",
       "      <td>Completion rate for children of primary school...</td>\n",
       "      <td>Male</td>\n",
       "      <td>29.803450</td>\n",
       "      <td>NaN</td>\n",
       "      <td>461.137490</td>\n",
       "    </tr>\n",
       "    <tr>\n",
       "      <th>218</th>\n",
       "      <td>Democratic Republic of the Congo</td>\n",
       "      <td>Completion rate for children of primary school...</td>\n",
       "      <td>Female</td>\n",
       "      <td>66.262306</td>\n",
       "      <td>NaN</td>\n",
       "      <td>577.209215</td>\n",
       "    </tr>\n",
       "    <tr>\n",
       "      <th>219</th>\n",
       "      <td>Democratic Republic of the Congo</td>\n",
       "      <td>Completion rate for children of primary school...</td>\n",
       "      <td>Male</td>\n",
       "      <td>67.099716</td>\n",
       "      <td>NaN</td>\n",
       "      <td>577.209215</td>\n",
       "    </tr>\n",
       "    <tr>\n",
       "      <th>268</th>\n",
       "      <td>Cuba</td>\n",
       "      <td>Completion rate for children of primary school...</td>\n",
       "      <td>Female</td>\n",
       "      <td>99.840607</td>\n",
       "      <td>NaN</td>\n",
       "      <td>NaN</td>\n",
       "    </tr>\n",
       "    <tr>\n",
       "      <th>269</th>\n",
       "      <td>Cuba</td>\n",
       "      <td>Completion rate for children of primary school...</td>\n",
       "      <td>Male</td>\n",
       "      <td>99.500000</td>\n",
       "      <td>NaN</td>\n",
       "      <td>NaN</td>\n",
       "    </tr>\n",
       "    <tr>\n",
       "      <th>390</th>\n",
       "      <td>Guinea-Bissau</td>\n",
       "      <td>Completion rate for children of primary school...</td>\n",
       "      <td>Female</td>\n",
       "      <td>25.063000</td>\n",
       "      <td>NaN</td>\n",
       "      <td>795.118569</td>\n",
       "    </tr>\n",
       "    <tr>\n",
       "      <th>391</th>\n",
       "      <td>Guinea-Bissau</td>\n",
       "      <td>Completion rate for children of primary school...</td>\n",
       "      <td>Male</td>\n",
       "      <td>29.224979</td>\n",
       "      <td>NaN</td>\n",
       "      <td>795.118569</td>\n",
       "    </tr>\n",
       "    <tr>\n",
       "      <th>408</th>\n",
       "      <td>Guyana</td>\n",
       "      <td>Completion rate for children of primary school...</td>\n",
       "      <td>Female</td>\n",
       "      <td>98.698563</td>\n",
       "      <td>NaN</td>\n",
       "      <td>9998.544311</td>\n",
       "    </tr>\n",
       "    <tr>\n",
       "      <th>409</th>\n",
       "      <td>Guyana</td>\n",
       "      <td>Completion rate for children of primary school...</td>\n",
       "      <td>Male</td>\n",
       "      <td>96.152771</td>\n",
       "      <td>NaN</td>\n",
       "      <td>9998.544311</td>\n",
       "    </tr>\n",
       "    <tr>\n",
       "      <th>426</th>\n",
       "      <td>Haiti</td>\n",
       "      <td>Completion rate for children of primary school...</td>\n",
       "      <td>Female</td>\n",
       "      <td>58.396599</td>\n",
       "      <td>NaN</td>\n",
       "      <td>1829.593044</td>\n",
       "    </tr>\n",
       "    <tr>\n",
       "      <th>427</th>\n",
       "      <td>Haiti</td>\n",
       "      <td>Completion rate for children of primary school...</td>\n",
       "      <td>Male</td>\n",
       "      <td>48.747589</td>\n",
       "      <td>NaN</td>\n",
       "      <td>1829.593044</td>\n",
       "    </tr>\n",
       "    <tr>\n",
       "      <th>510</th>\n",
       "      <td>Kiribati</td>\n",
       "      <td>Completion rate for children of primary school...</td>\n",
       "      <td>Female</td>\n",
       "      <td>96.451591</td>\n",
       "      <td>NaN</td>\n",
       "      <td>1606.462514</td>\n",
       "    </tr>\n",
       "    <tr>\n",
       "      <th>511</th>\n",
       "      <td>Kiribati</td>\n",
       "      <td>Completion rate for children of primary school...</td>\n",
       "      <td>Male</td>\n",
       "      <td>92.135643</td>\n",
       "      <td>NaN</td>\n",
       "      <td>1606.462514</td>\n",
       "    </tr>\n",
       "    <tr>\n",
       "      <th>540</th>\n",
       "      <td>Saint Lucia</td>\n",
       "      <td>Completion rate for children of primary school...</td>\n",
       "      <td>Female</td>\n",
       "      <td>99.000000</td>\n",
       "      <td>NaN</td>\n",
       "      <td>9414.226231</td>\n",
       "    </tr>\n",
       "    <tr>\n",
       "      <th>541</th>\n",
       "      <td>Saint Lucia</td>\n",
       "      <td>Completion rate for children of primary school...</td>\n",
       "      <td>Male</td>\n",
       "      <td>99.199997</td>\n",
       "      <td>NaN</td>\n",
       "      <td>9414.226231</td>\n",
       "    </tr>\n",
       "    <tr>\n",
       "      <th>796</th>\n",
       "      <td>Sudan</td>\n",
       "      <td>Completion rate for children of primary school...</td>\n",
       "      <td>Female</td>\n",
       "      <td>63.834949</td>\n",
       "      <td>NaN</td>\n",
       "      <td>751.821350</td>\n",
       "    </tr>\n",
       "    <tr>\n",
       "      <th>797</th>\n",
       "      <td>Sudan</td>\n",
       "      <td>Completion rate for children of primary school...</td>\n",
       "      <td>Male</td>\n",
       "      <td>65.752007</td>\n",
       "      <td>NaN</td>\n",
       "      <td>751.821350</td>\n",
       "    </tr>\n",
       "    <tr>\n",
       "      <th>854</th>\n",
       "      <td>Sao Tome and Principe</td>\n",
       "      <td>Completion rate for children of primary school...</td>\n",
       "      <td>Female</td>\n",
       "      <td>92.105583</td>\n",
       "      <td>NaN</td>\n",
       "      <td>2360.543554</td>\n",
       "    </tr>\n",
       "    <tr>\n",
       "      <th>855</th>\n",
       "      <td>Sao Tome and Principe</td>\n",
       "      <td>Completion rate for children of primary school...</td>\n",
       "      <td>Male</td>\n",
       "      <td>82.172188</td>\n",
       "      <td>NaN</td>\n",
       "      <td>2360.543554</td>\n",
       "    </tr>\n",
       "    <tr>\n",
       "      <th>866</th>\n",
       "      <td>Suriname</td>\n",
       "      <td>Completion rate for children of primary school...</td>\n",
       "      <td>Female</td>\n",
       "      <td>89.929176</td>\n",
       "      <td>NaN</td>\n",
       "      <td>4869.134226</td>\n",
       "    </tr>\n",
       "    <tr>\n",
       "      <th>867</th>\n",
       "      <td>Suriname</td>\n",
       "      <td>Completion rate for children of primary school...</td>\n",
       "      <td>Male</td>\n",
       "      <td>80.010406</td>\n",
       "      <td>NaN</td>\n",
       "      <td>4869.134226</td>\n",
       "    </tr>\n",
       "    <tr>\n",
       "      <th>890</th>\n",
       "      <td>Turks and Caicos Islands</td>\n",
       "      <td>Completion rate for children of primary school...</td>\n",
       "      <td>Female</td>\n",
       "      <td>100.000000</td>\n",
       "      <td>NaN</td>\n",
       "      <td>20908.582700</td>\n",
       "    </tr>\n",
       "    <tr>\n",
       "      <th>891</th>\n",
       "      <td>Turks and Caicos Islands</td>\n",
       "      <td>Completion rate for children of primary school...</td>\n",
       "      <td>Male</td>\n",
       "      <td>97.928627</td>\n",
       "      <td>NaN</td>\n",
       "      <td>20908.582700</td>\n",
       "    </tr>\n",
       "    <tr>\n",
       "      <th>950</th>\n",
       "      <td>Timor-Leste</td>\n",
       "      <td>Completion rate for children of primary school...</td>\n",
       "      <td>Female</td>\n",
       "      <td>84.822144</td>\n",
       "      <td>NaN</td>\n",
       "      <td>2741.393931</td>\n",
       "    </tr>\n",
       "    <tr>\n",
       "      <th>951</th>\n",
       "      <td>Timor-Leste</td>\n",
       "      <td>Completion rate for children of primary school...</td>\n",
       "      <td>Male</td>\n",
       "      <td>76.861488</td>\n",
       "      <td>NaN</td>\n",
       "      <td>2741.393931</td>\n",
       "    </tr>\n",
       "    <tr>\n",
       "      <th>962</th>\n",
       "      <td>Tonga</td>\n",
       "      <td>Completion rate for children of primary school...</td>\n",
       "      <td>Female</td>\n",
       "      <td>98.640320</td>\n",
       "      <td>NaN</td>\n",
       "      <td>4426.000637</td>\n",
       "    </tr>\n",
       "    <tr>\n",
       "      <th>963</th>\n",
       "      <td>Tonga</td>\n",
       "      <td>Completion rate for children of primary school...</td>\n",
       "      <td>Male</td>\n",
       "      <td>97.791397</td>\n",
       "      <td>NaN</td>\n",
       "      <td>4426.000637</td>\n",
       "    </tr>\n",
       "    <tr>\n",
       "      <th>990</th>\n",
       "      <td>Tuvalu</td>\n",
       "      <td>Completion rate for children of primary school...</td>\n",
       "      <td>Female</td>\n",
       "      <td>100.000000</td>\n",
       "      <td>NaN</td>\n",
       "      <td>5632.002993</td>\n",
       "    </tr>\n",
       "    <tr>\n",
       "      <th>991</th>\n",
       "      <td>Tuvalu</td>\n",
       "      <td>Completion rate for children of primary school...</td>\n",
       "      <td>Male</td>\n",
       "      <td>98.494034</td>\n",
       "      <td>NaN</td>\n",
       "      <td>5632.002993</td>\n",
       "    </tr>\n",
       "    <tr>\n",
       "      <th>1056</th>\n",
       "      <td>Samoa</td>\n",
       "      <td>Completion rate for children of primary school...</td>\n",
       "      <td>Female</td>\n",
       "      <td>99.214439</td>\n",
       "      <td>NaN</td>\n",
       "      <td>3857.318464</td>\n",
       "    </tr>\n",
       "    <tr>\n",
       "      <th>1057</th>\n",
       "      <td>Samoa</td>\n",
       "      <td>Completion rate for children of primary school...</td>\n",
       "      <td>Male</td>\n",
       "      <td>96.243637</td>\n",
       "      <td>NaN</td>\n",
       "      <td>3857.318464</td>\n",
       "    </tr>\n",
       "  </tbody>\n",
       "</table>\n",
       "</div>"
      ],
      "text/plain": [
       "                               Country  \\\n",
       "8                               Angola   \n",
       "9                               Angola   \n",
       "48                             Burundi   \n",
       "49                             Burundi   \n",
       "106                             Belize   \n",
       "107                             Belize   \n",
       "142                           Barbados   \n",
       "143                           Barbados   \n",
       "166           Central African Republic   \n",
       "167           Central African Republic   \n",
       "218   Democratic Republic of the Congo   \n",
       "219   Democratic Republic of the Congo   \n",
       "268                               Cuba   \n",
       "269                               Cuba   \n",
       "390                      Guinea-Bissau   \n",
       "391                      Guinea-Bissau   \n",
       "408                             Guyana   \n",
       "409                             Guyana   \n",
       "426                              Haiti   \n",
       "427                              Haiti   \n",
       "510                           Kiribati   \n",
       "511                           Kiribati   \n",
       "540                        Saint Lucia   \n",
       "541                        Saint Lucia   \n",
       "796                              Sudan   \n",
       "797                              Sudan   \n",
       "854              Sao Tome and Principe   \n",
       "855              Sao Tome and Principe   \n",
       "866                           Suriname   \n",
       "867                           Suriname   \n",
       "890           Turks and Caicos Islands   \n",
       "891           Turks and Caicos Islands   \n",
       "950                        Timor-Leste   \n",
       "951                        Timor-Leste   \n",
       "962                              Tonga   \n",
       "963                              Tonga   \n",
       "990                             Tuvalu   \n",
       "991                             Tuvalu   \n",
       "1056                             Samoa   \n",
       "1057                             Samoa   \n",
       "\n",
       "                                              Indicator  Gender  Percentage  \\\n",
       "8     Completion rate for children of primary school...  Female   56.631340   \n",
       "9     Completion rate for children of primary school...    Male   63.278900   \n",
       "48    Completion rate for children of primary school...  Female   54.099998   \n",
       "49    Completion rate for children of primary school...    Male   46.000000   \n",
       "106   Completion rate for children of primary school...  Female   96.000000   \n",
       "107   Completion rate for children of primary school...    Male   94.800003   \n",
       "142   Completion rate for children of primary school...  Female   99.199997   \n",
       "143   Completion rate for children of primary school...    Male   98.699997   \n",
       "166   Completion rate for children of primary school...  Female   23.639120   \n",
       "167   Completion rate for children of primary school...    Male   29.803450   \n",
       "218   Completion rate for children of primary school...  Female   66.262306   \n",
       "219   Completion rate for children of primary school...    Male   67.099716   \n",
       "268   Completion rate for children of primary school...  Female   99.840607   \n",
       "269   Completion rate for children of primary school...    Male   99.500000   \n",
       "390   Completion rate for children of primary school...  Female   25.063000   \n",
       "391   Completion rate for children of primary school...    Male   29.224979   \n",
       "408   Completion rate for children of primary school...  Female   98.698563   \n",
       "409   Completion rate for children of primary school...    Male   96.152771   \n",
       "426   Completion rate for children of primary school...  Female   58.396599   \n",
       "427   Completion rate for children of primary school...    Male   48.747589   \n",
       "510   Completion rate for children of primary school...  Female   96.451591   \n",
       "511   Completion rate for children of primary school...    Male   92.135643   \n",
       "540   Completion rate for children of primary school...  Female   99.000000   \n",
       "541   Completion rate for children of primary school...    Male   99.199997   \n",
       "796   Completion rate for children of primary school...  Female   63.834949   \n",
       "797   Completion rate for children of primary school...    Male   65.752007   \n",
       "854   Completion rate for children of primary school...  Female   92.105583   \n",
       "855   Completion rate for children of primary school...    Male   82.172188   \n",
       "866   Completion rate for children of primary school...  Female   89.929176   \n",
       "867   Completion rate for children of primary school...    Male   80.010406   \n",
       "890   Completion rate for children of primary school...  Female  100.000000   \n",
       "891   Completion rate for children of primary school...    Male   97.928627   \n",
       "950   Completion rate for children of primary school...  Female   84.822144   \n",
       "951   Completion rate for children of primary school...    Male   76.861488   \n",
       "962   Completion rate for children of primary school...  Female   98.640320   \n",
       "963   Completion rate for children of primary school...    Male   97.791397   \n",
       "990   Completion rate for children of primary school...  Female  100.000000   \n",
       "991   Completion rate for children of primary school...    Male   98.494034   \n",
       "1056  Completion rate for children of primary school...  Female   99.214439   \n",
       "1057  Completion rate for children of primary school...    Male   96.243637   \n",
       "\n",
       "      Happiness_Rank  GDP_PerCapita  \n",
       "8                NaN    1953.533757  \n",
       "9                NaN    1953.533757  \n",
       "48               NaN     221.477676  \n",
       "49               NaN     221.477676  \n",
       "106              NaN    6228.267309  \n",
       "107              NaN    6228.267309  \n",
       "142              NaN   17225.462300  \n",
       "143              NaN   17225.462300  \n",
       "166              NaN     461.137490  \n",
       "167              NaN     461.137490  \n",
       "218              NaN     577.209215  \n",
       "219              NaN     577.209215  \n",
       "268              NaN            NaN  \n",
       "269              NaN            NaN  \n",
       "390              NaN     795.118569  \n",
       "391              NaN     795.118569  \n",
       "408              NaN    9998.544311  \n",
       "409              NaN    9998.544311  \n",
       "426              NaN    1829.593044  \n",
       "427              NaN    1829.593044  \n",
       "510              NaN    1606.462514  \n",
       "511              NaN    1606.462514  \n",
       "540              NaN    9414.226231  \n",
       "541              NaN    9414.226231  \n",
       "796              NaN     751.821350  \n",
       "797              NaN     751.821350  \n",
       "854              NaN    2360.543554  \n",
       "855              NaN    2360.543554  \n",
       "866              NaN    4869.134226  \n",
       "867              NaN    4869.134226  \n",
       "890              NaN   20908.582700  \n",
       "891              NaN   20908.582700  \n",
       "950              NaN    2741.393931  \n",
       "951              NaN    2741.393931  \n",
       "962              NaN    4426.000637  \n",
       "963              NaN    4426.000637  \n",
       "990              NaN    5632.002993  \n",
       "991              NaN    5632.002993  \n",
       "1056             NaN    3857.318464  \n",
       "1057             NaN    3857.318464  "
      ]
     },
     "execution_count": 8,
     "metadata": {},
     "output_type": "execute_result"
    }
   ],
   "source": [
    "# Checking nan values\n",
    "df_prim_comp_NaN = df_prim_comp[df_prim_comp['Happiness_Rank'].isnull()==True]\n",
    "df_prim_comp_NaN"
   ]
  },
  {
   "cell_type": "code",
   "execution_count": 9,
   "id": "3ecbf41d",
   "metadata": {
    "scrolled": true
   },
   "outputs": [
    {
     "name": "stderr",
     "output_type": "stream",
     "text": [
      "C:\\Users\\Azalia\\AppData\\Local\\Temp\\ipykernel_142460\\3501297835.py:2: SettingWithCopyWarning: \n",
      "A value is trying to be set on a copy of a slice from a DataFrame\n",
      "\n",
      "See the caveats in the documentation: https://pandas.pydata.org/pandas-docs/stable/user_guide/indexing.html#returning-a-view-versus-a-copy\n",
      "  df_prim_comp.dropna(inplace=True)\n"
     ]
    }
   ],
   "source": [
    "# Removing Nan Values \n",
    "df_prim_comp.dropna(inplace=True)"
   ]
  },
  {
   "cell_type": "code",
   "execution_count": 10,
   "id": "738a2c5e",
   "metadata": {},
   "outputs": [
    {
     "data": {
      "text/plain": [
       "Country           0\n",
       "Indicator         0\n",
       "Gender            0\n",
       "Percentage        0\n",
       "Happiness_Rank    0\n",
       "GDP_PerCapita     0\n",
       "dtype: int64"
      ]
     },
     "execution_count": 10,
     "metadata": {},
     "output_type": "execute_result"
    }
   ],
   "source": [
    "# Checking nan values\n",
    "df_prim_comp.isnull().sum()"
   ]
  },
  {
   "cell_type": "code",
   "execution_count": 11,
   "id": "139e494d",
   "metadata": {},
   "outputs": [
    {
     "data": {
      "text/plain": [
       "(168, 6)"
      ]
     },
     "execution_count": 11,
     "metadata": {},
     "output_type": "execute_result"
    }
   ],
   "source": [
    "df_prim_comp.shape"
   ]
  },
  {
   "cell_type": "code",
   "execution_count": 12,
   "id": "ac41bdfc",
   "metadata": {},
   "outputs": [],
   "source": [
    "# Creating subset data for Primary level Completion rate for Male & Female\n",
    "df_prim_comp_M = df_prim_comp.loc[df['Gender']=='Male']\n",
    "df_prim_comp_F = df_prim_comp.loc[df['Gender']=='Female']"
   ]
  },
  {
   "cell_type": "code",
   "execution_count": 13,
   "id": "6692143f",
   "metadata": {},
   "outputs": [],
   "source": [
    "# Drop further categorical values\n",
    "df_prim_comp_M = df_prim_comp_M[['Percentage', 'Happiness_Rank', 'GDP_PerCapita']]"
   ]
  },
  {
   "cell_type": "code",
   "execution_count": 14,
   "id": "af0a6cb8",
   "metadata": {
    "scrolled": true
   },
   "outputs": [
    {
     "data": {
      "text/html": [
       "<div>\n",
       "<style scoped>\n",
       "    .dataframe tbody tr th:only-of-type {\n",
       "        vertical-align: middle;\n",
       "    }\n",
       "\n",
       "    .dataframe tbody tr th {\n",
       "        vertical-align: top;\n",
       "    }\n",
       "\n",
       "    .dataframe thead th {\n",
       "        text-align: right;\n",
       "    }\n",
       "</style>\n",
       "<table border=\"1\" class=\"dataframe\">\n",
       "  <thead>\n",
       "    <tr style=\"text-align: right;\">\n",
       "      <th></th>\n",
       "      <th>Percentage</th>\n",
       "      <th>Happiness_Rank</th>\n",
       "      <th>GDP_PerCapita</th>\n",
       "    </tr>\n",
       "  </thead>\n",
       "  <tbody>\n",
       "    <tr>\n",
       "      <th>1</th>\n",
       "      <td>67.199997</td>\n",
       "      <td>146.0</td>\n",
       "      <td>368.754614</td>\n",
       "    </tr>\n",
       "    <tr>\n",
       "      <th>15</th>\n",
       "      <td>94.155960</td>\n",
       "      <td>90.0</td>\n",
       "      <td>6492.872012</td>\n",
       "    </tr>\n",
       "    <tr>\n",
       "      <th>27</th>\n",
       "      <td>95.666924</td>\n",
       "      <td>57.0</td>\n",
       "      <td>10636.120200</td>\n",
       "    </tr>\n",
       "    <tr>\n",
       "      <th>37</th>\n",
       "      <td>99.389252</td>\n",
       "      <td>82.0</td>\n",
       "      <td>4966.513471</td>\n",
       "    </tr>\n",
       "    <tr>\n",
       "      <th>61</th>\n",
       "      <td>51.015980</td>\n",
       "      <td>115.0</td>\n",
       "      <td>1319.154995</td>\n",
       "    </tr>\n",
       "  </tbody>\n",
       "</table>\n",
       "</div>"
      ],
      "text/plain": [
       "    Percentage  Happiness_Rank  GDP_PerCapita\n",
       "1    67.199997           146.0     368.754614\n",
       "15   94.155960            90.0    6492.872012\n",
       "27   95.666924            57.0   10636.120200\n",
       "37   99.389252            82.0    4966.513471\n",
       "61   51.015980           115.0    1319.154995"
      ]
     },
     "execution_count": 14,
     "metadata": {},
     "output_type": "execute_result"
    }
   ],
   "source": [
    "df_prim_comp_M.head()"
   ]
  },
  {
   "cell_type": "code",
   "execution_count": 15,
   "id": "db09412d",
   "metadata": {},
   "outputs": [
    {
     "data": {
      "text/html": [
       "<div>\n",
       "<style scoped>\n",
       "    .dataframe tbody tr th:only-of-type {\n",
       "        vertical-align: middle;\n",
       "    }\n",
       "\n",
       "    .dataframe tbody tr th {\n",
       "        vertical-align: top;\n",
       "    }\n",
       "\n",
       "    .dataframe thead th {\n",
       "        text-align: right;\n",
       "    }\n",
       "</style>\n",
       "<table border=\"1\" class=\"dataframe\">\n",
       "  <thead>\n",
       "    <tr style=\"text-align: right;\">\n",
       "      <th></th>\n",
       "      <th>Country</th>\n",
       "      <th>Indicator</th>\n",
       "      <th>Gender</th>\n",
       "      <th>Percentage</th>\n",
       "      <th>Happiness_Rank</th>\n",
       "      <th>GDP_PerCapita</th>\n",
       "    </tr>\n",
       "  </thead>\n",
       "  <tbody>\n",
       "    <tr>\n",
       "      <th>2</th>\n",
       "      <td>Afghanistan</td>\n",
       "      <td>Completion rate for youth of upper secondary e...</td>\n",
       "      <td>Female</td>\n",
       "      <td>14.365360</td>\n",
       "      <td>146.0</td>\n",
       "      <td>368.754614</td>\n",
       "    </tr>\n",
       "    <tr>\n",
       "      <th>3</th>\n",
       "      <td>Afghanistan</td>\n",
       "      <td>Completion rate for youth of upper secondary e...</td>\n",
       "      <td>Male</td>\n",
       "      <td>32.315559</td>\n",
       "      <td>146.0</td>\n",
       "      <td>368.754614</td>\n",
       "    </tr>\n",
       "    <tr>\n",
       "      <th>10</th>\n",
       "      <td>Angola</td>\n",
       "      <td>Completion rate for youth of upper secondary e...</td>\n",
       "      <td>Female</td>\n",
       "      <td>15.210190</td>\n",
       "      <td>NaN</td>\n",
       "      <td>1953.533757</td>\n",
       "    </tr>\n",
       "    <tr>\n",
       "      <th>11</th>\n",
       "      <td>Angola</td>\n",
       "      <td>Completion rate for youth of upper secondary e...</td>\n",
       "      <td>Male</td>\n",
       "      <td>23.698139</td>\n",
       "      <td>NaN</td>\n",
       "      <td>1953.533757</td>\n",
       "    </tr>\n",
       "    <tr>\n",
       "      <th>16</th>\n",
       "      <td>Albania</td>\n",
       "      <td>Completion rate for youth of upper secondary e...</td>\n",
       "      <td>Female</td>\n",
       "      <td>79.857063</td>\n",
       "      <td>90.0</td>\n",
       "      <td>6492.872012</td>\n",
       "    </tr>\n",
       "    <tr>\n",
       "      <th>...</th>\n",
       "      <td>...</td>\n",
       "      <td>...</td>\n",
       "      <td>...</td>\n",
       "      <td>...</td>\n",
       "      <td>...</td>\n",
       "      <td>...</td>\n",
       "    </tr>\n",
       "    <tr>\n",
       "      <th>1091</th>\n",
       "      <td>Zambia</td>\n",
       "      <td>Completion rate for youth of upper secondary e...</td>\n",
       "      <td>Male</td>\n",
       "      <td>33.276039</td>\n",
       "      <td>137.0</td>\n",
       "      <td>1137.343633</td>\n",
       "    </tr>\n",
       "    <tr>\n",
       "      <th>1098</th>\n",
       "      <td>Zimbabwe</td>\n",
       "      <td>Completion rate for youth of upper secondary e...</td>\n",
       "      <td>Female</td>\n",
       "      <td>13.600000</td>\n",
       "      <td>144.0</td>\n",
       "      <td>1773.920411</td>\n",
       "    </tr>\n",
       "    <tr>\n",
       "      <th>1099</th>\n",
       "      <td>Zimbabwe</td>\n",
       "      <td>Completion rate for youth of upper secondary e...</td>\n",
       "      <td>Male</td>\n",
       "      <td>17.200001</td>\n",
       "      <td>144.0</td>\n",
       "      <td>1773.920411</td>\n",
       "    </tr>\n",
       "    <tr>\n",
       "      <th>1108</th>\n",
       "      <td>Kosovo</td>\n",
       "      <td>Completion rate for youth of upper secondary e...</td>\n",
       "      <td>Female</td>\n",
       "      <td>86.600000</td>\n",
       "      <td>32.0</td>\n",
       "      <td>5269.783901</td>\n",
       "    </tr>\n",
       "    <tr>\n",
       "      <th>1109</th>\n",
       "      <td>Kosovo</td>\n",
       "      <td>Completion rate for youth of upper secondary e...</td>\n",
       "      <td>Male</td>\n",
       "      <td>87.900000</td>\n",
       "      <td>32.0</td>\n",
       "      <td>5269.783901</td>\n",
       "    </tr>\n",
       "  </tbody>\n",
       "</table>\n",
       "<p>214 rows × 6 columns</p>\n",
       "</div>"
      ],
      "text/plain": [
       "          Country                                          Indicator  Gender  \\\n",
       "2     Afghanistan  Completion rate for youth of upper secondary e...  Female   \n",
       "3     Afghanistan  Completion rate for youth of upper secondary e...    Male   \n",
       "10         Angola  Completion rate for youth of upper secondary e...  Female   \n",
       "11         Angola  Completion rate for youth of upper secondary e...    Male   \n",
       "16        Albania  Completion rate for youth of upper secondary e...  Female   \n",
       "...           ...                                                ...     ...   \n",
       "1091       Zambia  Completion rate for youth of upper secondary e...    Male   \n",
       "1098     Zimbabwe  Completion rate for youth of upper secondary e...  Female   \n",
       "1099     Zimbabwe  Completion rate for youth of upper secondary e...    Male   \n",
       "1108       Kosovo  Completion rate for youth of upper secondary e...  Female   \n",
       "1109       Kosovo  Completion rate for youth of upper secondary e...    Male   \n",
       "\n",
       "      Percentage  Happiness_Rank  GDP_PerCapita  \n",
       "2      14.365360           146.0     368.754614  \n",
       "3      32.315559           146.0     368.754614  \n",
       "10     15.210190             NaN    1953.533757  \n",
       "11     23.698139             NaN    1953.533757  \n",
       "16     79.857063            90.0    6492.872012  \n",
       "...          ...             ...            ...  \n",
       "1091   33.276039           137.0    1137.343633  \n",
       "1098   13.600000           144.0    1773.920411  \n",
       "1099   17.200001           144.0    1773.920411  \n",
       "1108   86.600000            32.0    5269.783901  \n",
       "1109   87.900000            32.0    5269.783901  \n",
       "\n",
       "[214 rows x 6 columns]"
      ]
     },
     "execution_count": 15,
     "metadata": {},
     "output_type": "execute_result"
    }
   ],
   "source": [
    "# Creating subset for primary level completion rates \n",
    "df_upsec_comp = df[df['Indicator']=='Completion rate for youth of upper secondary education school age']\n",
    "df_upsec_comp"
   ]
  },
  {
   "cell_type": "code",
   "execution_count": 16,
   "id": "f3d34691",
   "metadata": {},
   "outputs": [
    {
     "data": {
      "text/plain": [
       "Country            0\n",
       "Indicator          0\n",
       "Gender             0\n",
       "Percentage         0\n",
       "Happiness_Rank    40\n",
       "GDP_PerCapita      8\n",
       "dtype: int64"
      ]
     },
     "execution_count": 16,
     "metadata": {},
     "output_type": "execute_result"
    }
   ],
   "source": [
    "# Checking nan values\n",
    "df_upsec_comp.isnull().sum()"
   ]
  },
  {
   "cell_type": "code",
   "execution_count": 17,
   "id": "e2009464",
   "metadata": {},
   "outputs": [
    {
     "name": "stderr",
     "output_type": "stream",
     "text": [
      "C:\\Users\\Azalia\\AppData\\Local\\Temp\\ipykernel_142460\\1951673087.py:2: SettingWithCopyWarning: \n",
      "A value is trying to be set on a copy of a slice from a DataFrame\n",
      "\n",
      "See the caveats in the documentation: https://pandas.pydata.org/pandas-docs/stable/user_guide/indexing.html#returning-a-view-versus-a-copy\n",
      "  df_upsec_comp.dropna(inplace=True)\n"
     ]
    },
    {
     "data": {
      "text/plain": [
       "Country           0\n",
       "Indicator         0\n",
       "Gender            0\n",
       "Percentage        0\n",
       "Happiness_Rank    0\n",
       "GDP_PerCapita     0\n",
       "dtype: int64"
      ]
     },
     "execution_count": 17,
     "metadata": {},
     "output_type": "execute_result"
    }
   ],
   "source": [
    "# Removing Nan Values \n",
    "df_upsec_comp.dropna(inplace=True)\n",
    "df_upsec_comp.isnull().sum()"
   ]
  },
  {
   "cell_type": "code",
   "execution_count": 18,
   "id": "4d196eed",
   "metadata": {},
   "outputs": [],
   "source": [
    "# Creating subset data for upper secondary level Completion rate for Male & Female\n",
    "df_upsec_comp_M = df_upsec_comp.loc[df['Gender']=='Male']\n",
    "df_upsec_comp_F = df_upsec_comp.loc[df['Gender']=='Female']"
   ]
  },
  {
   "cell_type": "code",
   "execution_count": 19,
   "id": "4fe34111",
   "metadata": {},
   "outputs": [],
   "source": [
    "# Drop further categorical values\n",
    "df_upsec_comp_M = df_upsec_comp_M[['Percentage', 'Happiness_Rank', 'GDP_PerCapita']]\n",
    "df_upsec_comp_F = df_upsec_comp_F[['Percentage', 'Happiness_Rank', 'GDP_PerCapita']]"
   ]
  },
  {
   "cell_type": "markdown",
   "id": "c7facda5",
   "metadata": {},
   "source": [
    "# 3. Elbow Technique"
   ]
  },
  {
   "cell_type": "code",
   "execution_count": 20,
   "id": "0ee79ddb",
   "metadata": {},
   "outputs": [],
   "source": [
    "num_clstr = range(1, 10) # Defines the range of potential clusters in the data.\n",
    "kmeans = [KMeans(n_clusters=i) for i in num_clstr] # Defines k-means clusters in the range assigned above."
   ]
  },
  {
   "cell_type": "code",
   "execution_count": 21,
   "id": "1ce26f46",
   "metadata": {},
   "outputs": [
    {
     "name": "stderr",
     "output_type": "stream",
     "text": [
      "C:\\Users\\Azalia\\anaconda3\\lib\\site-packages\\sklearn\\cluster\\_kmeans.py:1334: UserWarning: KMeans is known to have a memory leak on Windows with MKL, when there are less chunks than available threads. You can avoid it by setting the environment variable OMP_NUM_THREADS=1.\n",
      "  warnings.warn(\n",
      "C:\\Users\\Azalia\\anaconda3\\lib\\site-packages\\sklearn\\cluster\\_kmeans.py:1334: UserWarning: KMeans is known to have a memory leak on Windows with MKL, when there are less chunks than available threads. You can avoid it by setting the environment variable OMP_NUM_THREADS=1.\n",
      "  warnings.warn(\n",
      "C:\\Users\\Azalia\\anaconda3\\lib\\site-packages\\sklearn\\cluster\\_kmeans.py:1334: UserWarning: KMeans is known to have a memory leak on Windows with MKL, when there are less chunks than available threads. You can avoid it by setting the environment variable OMP_NUM_THREADS=1.\n",
      "  warnings.warn(\n",
      "C:\\Users\\Azalia\\anaconda3\\lib\\site-packages\\sklearn\\cluster\\_kmeans.py:1334: UserWarning: KMeans is known to have a memory leak on Windows with MKL, when there are less chunks than available threads. You can avoid it by setting the environment variable OMP_NUM_THREADS=1.\n",
      "  warnings.warn(\n",
      "C:\\Users\\Azalia\\anaconda3\\lib\\site-packages\\sklearn\\cluster\\_kmeans.py:1334: UserWarning: KMeans is known to have a memory leak on Windows with MKL, when there are less chunks than available threads. You can avoid it by setting the environment variable OMP_NUM_THREADS=1.\n",
      "  warnings.warn(\n",
      "C:\\Users\\Azalia\\anaconda3\\lib\\site-packages\\sklearn\\cluster\\_kmeans.py:1334: UserWarning: KMeans is known to have a memory leak on Windows with MKL, when there are less chunks than available threads. You can avoid it by setting the environment variable OMP_NUM_THREADS=1.\n",
      "  warnings.warn(\n",
      "C:\\Users\\Azalia\\anaconda3\\lib\\site-packages\\sklearn\\cluster\\_kmeans.py:1334: UserWarning: KMeans is known to have a memory leak on Windows with MKL, when there are less chunks than available threads. You can avoid it by setting the environment variable OMP_NUM_THREADS=1.\n",
      "  warnings.warn(\n",
      "C:\\Users\\Azalia\\anaconda3\\lib\\site-packages\\sklearn\\cluster\\_kmeans.py:1334: UserWarning: KMeans is known to have a memory leak on Windows with MKL, when there are less chunks than available threads. You can avoid it by setting the environment variable OMP_NUM_THREADS=1.\n",
      "  warnings.warn(\n",
      "C:\\Users\\Azalia\\anaconda3\\lib\\site-packages\\sklearn\\cluster\\_kmeans.py:1334: UserWarning: KMeans is known to have a memory leak on Windows with MKL, when there are less chunks than available threads. You can avoid it by setting the environment variable OMP_NUM_THREADS=1.\n",
      "  warnings.warn(\n"
     ]
    },
    {
     "data": {
      "text/plain": [
       "[-1197518682.5873535,\n",
       " -391032755.92412484,\n",
       " -173928550.26865214,\n",
       " -84859338.5649072,\n",
       " -49342948.40730097,\n",
       " -35856610.16288161,\n",
       " -22714157.55546669,\n",
       " -16295753.265496675,\n",
       " -13571175.86098288]"
      ]
     },
     "execution_count": 21,
     "metadata": {},
     "output_type": "execute_result"
    }
   ],
   "source": [
    "# Calculating a rate of variation score for the given number of cluster\n",
    "score = [kmeans[i].fit(df_prim_comp_M).score(df_prim_comp_M) for i in range(len(kmeans))] \n",
    "\n",
    "score"
   ]
  },
  {
   "cell_type": "code",
   "execution_count": 22,
   "id": "9018d34d",
   "metadata": {
    "scrolled": true
   },
   "outputs": [
    {
     "data": {
      "image/png": "[encoded data removed]",
      "text/plain": [
       "<Figure size 432x288 with 1 Axes>"
      ]
     },
     "metadata": {
      "needs_background": "light"
     },
     "output_type": "display_data"
    }
   ],
   "source": [
    "# Plot the elbow curve using PyLab.\n",
    "pl.plot(num_clstr,score)\n",
    "pl.xlabel('Number of Clusters')\n",
    "pl.ylabel('Score')\n",
    "pl.title('Elbow Curve')\n",
    "pl.show()"
   ]
  },
  {
   "cell_type": "markdown",
   "id": "62820251",
   "metadata": {},
   "source": [
    "The number of clusters that will be chosen is 4. Anything bigger than 4, the rate of variation reduces significantly."
   ]
  },
  {
   "cell_type": "code",
   "execution_count": 23,
   "id": "76ed7e7b",
   "metadata": {},
   "outputs": [],
   "source": [
    "num_clstr = range(1, 10) # Defines the range of potential clusters in the data.\n",
    "kmeans = [KMeans(n_clusters=i) for i in num_clstr] # Defines k-means clusters in the range assigned above."
   ]
  },
  {
   "cell_type": "code",
   "execution_count": 24,
   "id": "ae176470",
   "metadata": {},
   "outputs": [
    {
     "name": "stderr",
     "output_type": "stream",
     "text": [
      "C:\\Users\\Azalia\\anaconda3\\lib\\site-packages\\sklearn\\cluster\\_kmeans.py:1334: UserWarning: KMeans is known to have a memory leak on Windows with MKL, when there are less chunks than available threads. You can avoid it by setting the environment variable OMP_NUM_THREADS=1.\n",
      "  warnings.warn(\n",
      "C:\\Users\\Azalia\\anaconda3\\lib\\site-packages\\sklearn\\cluster\\_kmeans.py:1334: UserWarning: KMeans is known to have a memory leak on Windows with MKL, when there are less chunks than available threads. You can avoid it by setting the environment variable OMP_NUM_THREADS=1.\n",
      "  warnings.warn(\n",
      "C:\\Users\\Azalia\\anaconda3\\lib\\site-packages\\sklearn\\cluster\\_kmeans.py:1334: UserWarning: KMeans is known to have a memory leak on Windows with MKL, when there are less chunks than available threads. You can avoid it by setting the environment variable OMP_NUM_THREADS=1.\n",
      "  warnings.warn(\n",
      "C:\\Users\\Azalia\\anaconda3\\lib\\site-packages\\sklearn\\cluster\\_kmeans.py:1334: UserWarning: KMeans is known to have a memory leak on Windows with MKL, when there are less chunks than available threads. You can avoid it by setting the environment variable OMP_NUM_THREADS=1.\n",
      "  warnings.warn(\n",
      "C:\\Users\\Azalia\\anaconda3\\lib\\site-packages\\sklearn\\cluster\\_kmeans.py:1334: UserWarning: KMeans is known to have a memory leak on Windows with MKL, when there are less chunks than available threads. You can avoid it by setting the environment variable OMP_NUM_THREADS=1.\n",
      "  warnings.warn(\n",
      "C:\\Users\\Azalia\\anaconda3\\lib\\site-packages\\sklearn\\cluster\\_kmeans.py:1334: UserWarning: KMeans is known to have a memory leak on Windows with MKL, when there are less chunks than available threads. You can avoid it by setting the environment variable OMP_NUM_THREADS=1.\n",
      "  warnings.warn(\n",
      "C:\\Users\\Azalia\\anaconda3\\lib\\site-packages\\sklearn\\cluster\\_kmeans.py:1334: UserWarning: KMeans is known to have a memory leak on Windows with MKL, when there are less chunks than available threads. You can avoid it by setting the environment variable OMP_NUM_THREADS=1.\n",
      "  warnings.warn(\n",
      "C:\\Users\\Azalia\\anaconda3\\lib\\site-packages\\sklearn\\cluster\\_kmeans.py:1334: UserWarning: KMeans is known to have a memory leak on Windows with MKL, when there are less chunks than available threads. You can avoid it by setting the environment variable OMP_NUM_THREADS=1.\n",
      "  warnings.warn(\n",
      "C:\\Users\\Azalia\\anaconda3\\lib\\site-packages\\sklearn\\cluster\\_kmeans.py:1334: UserWarning: KMeans is known to have a memory leak on Windows with MKL, when there are less chunks than available threads. You can avoid it by setting the environment variable OMP_NUM_THREADS=1.\n",
      "  warnings.warn(\n"
     ]
    },
    {
     "data": {
      "text/plain": [
       "[-1197542069.4319384,\n",
       " -391047377.31203556,\n",
       " -173945834.89357954,\n",
       " -84873578.56776461,\n",
       " -49356782.04106584,\n",
       " -35869851.20797379,\n",
       " -22732470.342728667,\n",
       " -16504284.670940997,\n",
       " -13367385.416155204]"
      ]
     },
     "execution_count": 24,
     "metadata": {},
     "output_type": "execute_result"
    }
   ],
   "source": [
    "# Calculating a rate of variation score for the given number of cluster\n",
    "score = [kmeans[i].fit(df_upsec_comp_M).score(df_upsec_comp_M) for i in range(len(kmeans))] \n",
    "\n",
    "score"
   ]
  },
  {
   "cell_type": "code",
   "execution_count": 25,
   "id": "cf60f824",
   "metadata": {},
   "outputs": [
    {
     "data": {
      "image/png": "[encoded data removed]",
      "text/plain": [
       "<Figure size 432x288 with 1 Axes>"
      ]
     },
     "metadata": {
      "needs_background": "light"
     },
     "output_type": "display_data"
    }
   ],
   "source": [
    "# Plot the elbow curve using PyLab.\n",
    "\n",
    "pl.plot(num_clstr,score)\n",
    "pl.xlabel('Number of Clusters')\n",
    "pl.ylabel('Score')\n",
    "pl.title('Elbow Curve')\n",
    "pl.show()"
   ]
  },
  {
   "cell_type": "markdown",
   "id": "9738982f",
   "metadata": {},
   "source": [
    "# 4. Run K-Means Algorithm"
   ]
  },
  {
   "cell_type": "markdown",
   "id": "e23de20e",
   "metadata": {},
   "source": [
    "### k-means for Male Primary Level Completion"
   ]
  },
  {
   "cell_type": "code",
   "execution_count": 26,
   "id": "3d7f68b8",
   "metadata": {},
   "outputs": [],
   "source": [
    "# Create the k-means object.\n",
    "kmeans = KMeans(n_clusters = 4) "
   ]
  },
  {
   "cell_type": "code",
   "execution_count": 27,
   "id": "5b34a651",
   "metadata": {},
   "outputs": [
    {
     "name": "stderr",
     "output_type": "stream",
     "text": [
      "C:\\Users\\Azalia\\anaconda3\\lib\\site-packages\\sklearn\\cluster\\_kmeans.py:1334: UserWarning: KMeans is known to have a memory leak on Windows with MKL, when there are less chunks than available threads. You can avoid it by setting the environment variable OMP_NUM_THREADS=1.\n",
      "  warnings.warn(\n"
     ]
    },
    {
     "data": {
      "text/html": [
       "<style>#sk-container-id-1 {color: black;background-color: white;}#sk-container-id-1 pre{padding: 0;}#sk-container-id-1 div.sk-toggleable {background-color: white;}#sk-container-id-1 label.sk-toggleable__label {cursor: pointer;display: block;width: 100%;margin-bottom: 0;padding: 0.3em;box-sizing: border-box;text-align: center;}#sk-container-id-1 label.sk-toggleable__label-arrow:before {content: \"▸\";float: left;margin-right: 0.25em;color: #696969;}#sk-container-id-1 label.sk-toggleable__label-arrow:hover:before {color: black;}#sk-container-id-1 div.sk-estimator:hover label.sk-toggleable__label-arrow:before {color: black;}#sk-container-id-1 div.sk-toggleable__content {max-height: 0;max-width: 0;overflow: hidden;text-align: left;background-color: #f0f8ff;}#sk-container-id-1 div.sk-toggleable__content pre {margin: 0.2em;color: black;border-radius: 0.25em;background-color: #f0f8ff;}#sk-container-id-1 input.sk-toggleable__control:checked~div.sk-toggleable__content {max-height: 200px;max-width: 100%;overflow: auto;}#sk-container-id-1 input.sk-toggleable__control:checked~label.sk-toggleable__label-arrow:before {content: \"▾\";}#sk-container-id-1 div.sk-estimator input.sk-toggleable__control:checked~label.sk-toggleable__label {background-color: #d4ebff;}#sk-container-id-1 div.sk-label input.sk-toggleable__control:checked~label.sk-toggleable__label {background-color: #d4ebff;}#sk-container-id-1 input.sk-hidden--visually {border: 0;clip: rect(1px 1px 1px 1px);clip: rect(1px, 1px, 1px, 1px);height: 1px;margin: -1px;overflow: hidden;padding: 0;position: absolute;width: 1px;}#sk-container-id-1 div.sk-estimator {font-family: monospace;background-color: #f0f8ff;border: 1px dotted black;border-radius: 0.25em;box-sizing: border-box;margin-bottom: 0.5em;}#sk-container-id-1 div.sk-estimator:hover {background-color: #d4ebff;}#sk-container-id-1 div.sk-parallel-item::after {content: \"\";width: 100%;border-bottom: 1px solid gray;flex-grow: 1;}#sk-container-id-1 div.sk-label:hover label.sk-toggleable__label {background-color: #d4ebff;}#sk-container-id-1 div.sk-serial::before {content: \"\";position: absolute;border-left: 1px solid gray;box-sizing: border-box;top: 0;bottom: 0;left: 50%;z-index: 0;}#sk-container-id-1 div.sk-serial {display: flex;flex-direction: column;align-items: center;background-color: white;padding-right: 0.2em;padding-left: 0.2em;position: relative;}#sk-container-id-1 div.sk-item {position: relative;z-index: 1;}#sk-container-id-1 div.sk-parallel {display: flex;align-items: stretch;justify-content: center;background-color: white;position: relative;}#sk-container-id-1 div.sk-item::before, #sk-container-id-1 div.sk-parallel-item::before {content: \"\";position: absolute;border-left: 1px solid gray;box-sizing: border-box;top: 0;bottom: 0;left: 50%;z-index: -1;}#sk-container-id-1 div.sk-parallel-item {display: flex;flex-direction: column;z-index: 1;position: relative;background-color: white;}#sk-container-id-1 div.sk-parallel-item:first-child::after {align-self: flex-end;width: 50%;}#sk-container-id-1 div.sk-parallel-item:last-child::after {align-self: flex-start;width: 50%;}#sk-container-id-1 div.sk-parallel-item:only-child::after {width: 0;}#sk-container-id-1 div.sk-dashed-wrapped {border: 1px dashed gray;margin: 0 0.4em 0.5em 0.4em;box-sizing: border-box;padding-bottom: 0.4em;background-color: white;}#sk-container-id-1 div.sk-label label {font-family: monospace;font-weight: bold;display: inline-block;line-height: 1.2em;}#sk-container-id-1 div.sk-label-container {text-align: center;}#sk-container-id-1 div.sk-container {/* jupyter's `normalize.less` sets `[hidden] { display: none; }` but bootstrap.min.css set `[hidden] { display: none !important; }` so we also need the `!important` here to be able to override the default hidden behavior on the sphinx rendered scikit-learn.org. See: https://github.com/scikit-learn/scikit-learn/issues/21755 */display: inline-block !important;position: relative;}#sk-container-id-1 div.sk-text-repr-fallback {display: none;}</style><div id=\"sk-container-id-1\" class=\"sk-top-container\"><div class=\"sk-text-repr-fallback\"><pre>KMeans(n_clusters=4)</pre><b>In a Jupyter environment, please rerun this cell to show the HTML representation or trust the notebook. <br />On GitHub, the HTML representation is unable to render, please try loading this page with nbviewer.org.</b></div><div class=\"sk-container\" hidden><div class=\"sk-item\"><div class=\"sk-estimator sk-toggleable\"><input class=\"sk-toggleable__control sk-hidden--visually\" id=\"sk-estimator-id-1\" type=\"checkbox\" checked><label for=\"sk-estimator-id-1\" class=\"sk-toggleable__label sk-toggleable__label-arrow\">KMeans</label><div class=\"sk-toggleable__content\"><pre>KMeans(n_clusters=4)</pre></div></div></div></div></div>"
      ],
      "text/plain": [
       "KMeans(n_clusters=4)"
      ]
     },
     "execution_count": 27,
     "metadata": {},
     "output_type": "execute_result"
    }
   ],
   "source": [
    "# Fit the k-means object to the data.\n",
    "kmeans.fit(df_prim_comp_M)"
   ]
  },
  {
   "cell_type": "code",
   "execution_count": 28,
   "id": "9840f3f1",
   "metadata": {
    "scrolled": true
   },
   "outputs": [
    {
     "name": "stderr",
     "output_type": "stream",
     "text": [
      "C:\\Users\\Azalia\\anaconda3\\lib\\site-packages\\sklearn\\cluster\\_kmeans.py:1334: UserWarning: KMeans is known to have a memory leak on Windows with MKL, when there are less chunks than available threads. You can avoid it by setting the environment variable OMP_NUM_THREADS=1.\n",
      "  warnings.warn(\n"
     ]
    }
   ],
   "source": [
    "# Creating new column to identify cluster num\n",
    "df_prim_comp_M['Clusters'] = kmeans.fit_predict(df_prim_comp_M)"
   ]
  },
  {
   "cell_type": "code",
   "execution_count": 29,
   "id": "57da8f42",
   "metadata": {},
   "outputs": [
    {
     "data": {
      "text/html": [
       "<div>\n",
       "<style scoped>\n",
       "    .dataframe tbody tr th:only-of-type {\n",
       "        vertical-align: middle;\n",
       "    }\n",
       "\n",
       "    .dataframe tbody tr th {\n",
       "        vertical-align: top;\n",
       "    }\n",
       "\n",
       "    .dataframe thead th {\n",
       "        text-align: right;\n",
       "    }\n",
       "</style>\n",
       "<table border=\"1\" class=\"dataframe\">\n",
       "  <thead>\n",
       "    <tr style=\"text-align: right;\">\n",
       "      <th></th>\n",
       "      <th>Percentage</th>\n",
       "      <th>Happiness_Rank</th>\n",
       "      <th>GDP_PerCapita</th>\n",
       "      <th>Clusters</th>\n",
       "    </tr>\n",
       "  </thead>\n",
       "  <tbody>\n",
       "    <tr>\n",
       "      <th>1</th>\n",
       "      <td>67.199997</td>\n",
       "      <td>146.0</td>\n",
       "      <td>368.754614</td>\n",
       "      <td>1</td>\n",
       "    </tr>\n",
       "    <tr>\n",
       "      <th>15</th>\n",
       "      <td>94.155960</td>\n",
       "      <td>90.0</td>\n",
       "      <td>6492.872012</td>\n",
       "      <td>0</td>\n",
       "    </tr>\n",
       "    <tr>\n",
       "      <th>27</th>\n",
       "      <td>95.666924</td>\n",
       "      <td>57.0</td>\n",
       "      <td>10636.120200</td>\n",
       "      <td>0</td>\n",
       "    </tr>\n",
       "    <tr>\n",
       "      <th>37</th>\n",
       "      <td>99.389252</td>\n",
       "      <td>82.0</td>\n",
       "      <td>4966.513471</td>\n",
       "      <td>3</td>\n",
       "    </tr>\n",
       "    <tr>\n",
       "      <th>61</th>\n",
       "      <td>51.015980</td>\n",
       "      <td>115.0</td>\n",
       "      <td>1319.154995</td>\n",
       "      <td>1</td>\n",
       "    </tr>\n",
       "  </tbody>\n",
       "</table>\n",
       "</div>"
      ],
      "text/plain": [
       "    Percentage  Happiness_Rank  GDP_PerCapita  Clusters\n",
       "1    67.199997           146.0     368.754614         1\n",
       "15   94.155960            90.0    6492.872012         0\n",
       "27   95.666924            57.0   10636.120200         0\n",
       "37   99.389252            82.0    4966.513471         3\n",
       "61   51.015980           115.0    1319.154995         1"
      ]
     },
     "execution_count": 29,
     "metadata": {},
     "output_type": "execute_result"
    }
   ],
   "source": [
    "df_prim_comp_M.head()"
   ]
  },
  {
   "cell_type": "code",
   "execution_count": 30,
   "id": "1ebfd714",
   "metadata": {},
   "outputs": [
    {
     "data": {
      "text/plain": [
       "1    38\n",
       "3    24\n",
       "0    17\n",
       "2     5\n",
       "Name: Clusters, dtype: int64"
      ]
     },
     "execution_count": 30,
     "metadata": {},
     "output_type": "execute_result"
    }
   ],
   "source": [
    "df_prim_comp_M['Clusters'].value_counts()"
   ]
  },
  {
   "cell_type": "code",
   "execution_count": 31,
   "id": "f691131c",
   "metadata": {},
   "outputs": [
    {
     "data": {
      "image/png": "[encoded data removed]",
      "text/plain": [
       "<Figure size 864x576 with 1 Axes>"
      ]
     },
     "metadata": {
      "needs_background": "light"
     },
     "output_type": "display_data"
    }
   ],
   "source": [
    "# Plot the clusters for the \"Percentage\" and \"GDP_PerCapita\" variables.\n",
    "\n",
    "plt.figure(figsize=(12,8))\n",
    "ax = sns.scatterplot(x=df_prim_comp_M['Percentage'], y=df_prim_comp_M['GDP_PerCapita'], hue=kmeans.labels_, s=100) \n",
    "# Here, you're subsetting `X` for the x and y arguments to avoid using their labels. \n",
    "# `hue` takes the value of the attribute `kmeans.labels_`, which is the result of running the k-means algorithm.\n",
    "# `s` represents the size of the points you want to see in the plot.\n",
    "\n",
    "ax.grid(False) # This removes the grid from the background.\n",
    "plt.xlabel('Percentage') # Label x-axis.\n",
    "plt.ylabel('GDP PerCapita') # Label y-axis.\n",
    "plt.show()"
   ]
  },
  {
   "cell_type": "markdown",
   "id": "1ae6a13c",
   "metadata": {},
   "source": [
    "For Male Primary level completion, we can see that the high GDP clusters have  high percentage completion at primary level."
   ]
  },
  {
   "cell_type": "code",
   "execution_count": 32,
   "id": "9a7123c4",
   "metadata": {},
   "outputs": [
    {
     "data": {
      "image/png": "[encoded data removed]",
      "text/plain": [
       "<Figure size 864x576 with 1 Axes>"
      ]
     },
     "metadata": {
      "needs_background": "light"
     },
     "output_type": "display_data"
    }
   ],
   "source": [
    "# Plot the clusters for the \"Percentage\" and \"Happiness_Rank\" variables.\n",
    "plt.figure(figsize=(12,8))\n",
    "ax = sns.scatterplot(x=df_prim_comp_M['Percentage'], y=df_prim_comp_M['Happiness_Rank'], hue=kmeans.labels_, s=100) \n",
    "# Here, you're subsetting `X` for the x and y arguments to avoid using their labels. \n",
    "# `hue` takes the value of the attribute `kmeans.labels_`, which is the result of running the k-means algorithm.\n",
    "# `s` represents the size of the points you want to see in the plot.\n",
    "\n",
    "ax.grid(False) # This removes the grid from the background.\n",
    "plt.xlabel('Percentage') # Label x-axis.\n",
    "plt.ylabel('Happiness Rank') # Label y-axis.\n",
    "plt.show()"
   ]
  },
  {
   "cell_type": "code",
   "execution_count": 33,
   "id": "a656ff81",
   "metadata": {
    "scrolled": true
   },
   "outputs": [],
   "source": [
    "# Renaming the clusters\n",
    "df_prim_comp_M.loc[df_prim_comp_M['Clusters'] == 1, 'Cluster'] = 'Low GDP PerCapita'\n",
    "df_prim_comp_M.loc[df_prim_comp_M['Clusters'] == 0, 'Cluster'] = 'Mid-High GDP PerCapita'\n",
    "df_prim_comp_M.loc[df_prim_comp_M['Clusters'] == 2, 'Cluster'] = 'High GDP PerCapita'\n",
    "df_prim_comp_M.loc[df_prim_comp_M['Clusters'] == 3, 'Cluster'] = 'Mid-Low GDP PerCapita'"
   ]
  },
  {
   "cell_type": "code",
   "execution_count": 34,
   "id": "d91e1029",
   "metadata": {},
   "outputs": [
    {
     "data": {
      "text/html": [
       "<div>\n",
       "<style scoped>\n",
       "    .dataframe tbody tr th:only-of-type {\n",
       "        vertical-align: middle;\n",
       "    }\n",
       "\n",
       "    .dataframe tbody tr th {\n",
       "        vertical-align: top;\n",
       "    }\n",
       "\n",
       "    .dataframe thead th {\n",
       "        text-align: right;\n",
       "    }\n",
       "</style>\n",
       "<table border=\"1\" class=\"dataframe\">\n",
       "  <thead>\n",
       "    <tr style=\"text-align: right;\">\n",
       "      <th></th>\n",
       "      <th>Percentage</th>\n",
       "      <th>Happiness_Rank</th>\n",
       "      <th>GDP_PerCapita</th>\n",
       "      <th>Clusters</th>\n",
       "      <th>Cluster</th>\n",
       "    </tr>\n",
       "  </thead>\n",
       "  <tbody>\n",
       "    <tr>\n",
       "      <th>1</th>\n",
       "      <td>67.199997</td>\n",
       "      <td>146.0</td>\n",
       "      <td>368.754614</td>\n",
       "      <td>1</td>\n",
       "      <td>Low GDP PerCapita</td>\n",
       "    </tr>\n",
       "    <tr>\n",
       "      <th>15</th>\n",
       "      <td>94.155960</td>\n",
       "      <td>90.0</td>\n",
       "      <td>6492.872012</td>\n",
       "      <td>0</td>\n",
       "      <td>Mid-High GDP PerCapita</td>\n",
       "    </tr>\n",
       "    <tr>\n",
       "      <th>27</th>\n",
       "      <td>95.666924</td>\n",
       "      <td>57.0</td>\n",
       "      <td>10636.120200</td>\n",
       "      <td>0</td>\n",
       "      <td>Mid-High GDP PerCapita</td>\n",
       "    </tr>\n",
       "    <tr>\n",
       "      <th>37</th>\n",
       "      <td>99.389252</td>\n",
       "      <td>82.0</td>\n",
       "      <td>4966.513471</td>\n",
       "      <td>3</td>\n",
       "      <td>Mid-Low GDP PerCapita</td>\n",
       "    </tr>\n",
       "    <tr>\n",
       "      <th>61</th>\n",
       "      <td>51.015980</td>\n",
       "      <td>115.0</td>\n",
       "      <td>1319.154995</td>\n",
       "      <td>1</td>\n",
       "      <td>Low GDP PerCapita</td>\n",
       "    </tr>\n",
       "  </tbody>\n",
       "</table>\n",
       "</div>"
      ],
      "text/plain": [
       "    Percentage  Happiness_Rank  GDP_PerCapita  Clusters  \\\n",
       "1    67.199997           146.0     368.754614         1   \n",
       "15   94.155960            90.0    6492.872012         0   \n",
       "27   95.666924            57.0   10636.120200         0   \n",
       "37   99.389252            82.0    4966.513471         3   \n",
       "61   51.015980           115.0    1319.154995         1   \n",
       "\n",
       "                   Cluster  \n",
       "1        Low GDP PerCapita  \n",
       "15  Mid-High GDP PerCapita  \n",
       "27  Mid-High GDP PerCapita  \n",
       "37   Mid-Low GDP PerCapita  \n",
       "61       Low GDP PerCapita  "
      ]
     },
     "execution_count": 34,
     "metadata": {},
     "output_type": "execute_result"
    }
   ],
   "source": [
    "df_prim_comp_M.head()"
   ]
  },
  {
   "cell_type": "code",
   "execution_count": 35,
   "id": "146f2a73",
   "metadata": {},
   "outputs": [],
   "source": [
    "# Export data\n",
    "df_prim_comp_M.to_csv(os.path.join(path,'02 Data','Prepared Data', 'clust_prim_comp_M.csv'))"
   ]
  },
  {
   "cell_type": "code",
   "execution_count": 36,
   "id": "e1f89281",
   "metadata": {
    "scrolled": true
   },
   "outputs": [
    {
     "data": {
      "text/html": [
       "<div>\n",
       "<style scoped>\n",
       "    .dataframe tbody tr th:only-of-type {\n",
       "        vertical-align: middle;\n",
       "    }\n",
       "\n",
       "    .dataframe tbody tr th {\n",
       "        vertical-align: top;\n",
       "    }\n",
       "\n",
       "    .dataframe thead tr th {\n",
       "        text-align: left;\n",
       "    }\n",
       "\n",
       "    .dataframe thead tr:last-of-type th {\n",
       "        text-align: right;\n",
       "    }\n",
       "</style>\n",
       "<table border=\"1\" class=\"dataframe\">\n",
       "  <thead>\n",
       "    <tr>\n",
       "      <th></th>\n",
       "      <th colspan=\"2\" halign=\"left\">GDP_PerCapita</th>\n",
       "      <th colspan=\"2\" halign=\"left\">Happiness_Rank</th>\n",
       "      <th colspan=\"2\" halign=\"left\">Percentage</th>\n",
       "    </tr>\n",
       "    <tr>\n",
       "      <th></th>\n",
       "      <th>mean</th>\n",
       "      <th>median</th>\n",
       "      <th>mean</th>\n",
       "      <th>median</th>\n",
       "      <th>mean</th>\n",
       "      <th>median</th>\n",
       "    </tr>\n",
       "    <tr>\n",
       "      <th>Cluster</th>\n",
       "      <th></th>\n",
       "      <th></th>\n",
       "      <th></th>\n",
       "      <th></th>\n",
       "      <th></th>\n",
       "      <th></th>\n",
       "    </tr>\n",
       "  </thead>\n",
       "  <tbody>\n",
       "    <tr>\n",
       "      <th>High GDP PerCapita</th>\n",
       "      <td>14644.933132</td>\n",
       "      <td>14617.604480</td>\n",
       "      <td>41.200000</td>\n",
       "      <td>37.0</td>\n",
       "      <td>96.335841</td>\n",
       "      <td>96.375938</td>\n",
       "    </tr>\n",
       "    <tr>\n",
       "      <th>Low GDP PerCapita</th>\n",
       "      <td>1393.189106</td>\n",
       "      <td>1209.072738</td>\n",
       "      <td>115.026316</td>\n",
       "      <td>117.5</td>\n",
       "      <td>65.962038</td>\n",
       "      <td>68.547782</td>\n",
       "    </tr>\n",
       "    <tr>\n",
       "      <th>Mid-High GDP PerCapita</th>\n",
       "      <td>8189.003530</td>\n",
       "      <td>7507.160971</td>\n",
       "      <td>74.411765</td>\n",
       "      <td>69.0</td>\n",
       "      <td>94.616194</td>\n",
       "      <td>95.666924</td>\n",
       "    </tr>\n",
       "    <tr>\n",
       "      <th>Mid-Low GDP PerCapita</th>\n",
       "      <td>4538.384346</td>\n",
       "      <td>4558.662407</td>\n",
       "      <td>88.708333</td>\n",
       "      <td>84.5</td>\n",
       "      <td>91.625664</td>\n",
       "      <td>94.648510</td>\n",
       "    </tr>\n",
       "  </tbody>\n",
       "</table>\n",
       "</div>"
      ],
      "text/plain": [
       "                       GDP_PerCapita               Happiness_Rank         \\\n",
       "                                mean        median           mean median   \n",
       "Cluster                                                                    \n",
       "High GDP PerCapita      14644.933132  14617.604480      41.200000   37.0   \n",
       "Low GDP PerCapita        1393.189106   1209.072738     115.026316  117.5   \n",
       "Mid-High GDP PerCapita   8189.003530   7507.160971      74.411765   69.0   \n",
       "Mid-Low GDP PerCapita    4538.384346   4558.662407      88.708333   84.5   \n",
       "\n",
       "                       Percentage             \n",
       "                             mean     median  \n",
       "Cluster                                       \n",
       "High GDP PerCapita      96.335841  96.375938  \n",
       "Low GDP PerCapita       65.962038  68.547782  \n",
       "Mid-High GDP PerCapita  94.616194  95.666924  \n",
       "Mid-Low GDP PerCapita   91.625664  94.648510  "
      ]
     },
     "execution_count": 36,
     "metadata": {},
     "output_type": "execute_result"
    }
   ],
   "source": [
    "df_prim_comp_M.groupby('Cluster').agg({'GDP_PerCapita':['mean', 'median'], \n",
    "                         'Happiness_Rank':['mean', 'median'], \n",
    "                         'Percentage':['mean', 'median']})"
   ]
  },
  {
   "cell_type": "markdown",
   "id": "7f229716",
   "metadata": {},
   "source": [
    "High Percentage Completion for males at primary level lands you in mid to high GDP per capita range. A median of 68% completion rate at primary level puts the country in low GDP. As expected, higher GDP correlates to top ranking in happiness"
   ]
  },
  {
   "cell_type": "markdown",
   "id": "98fa03aa",
   "metadata": {},
   "source": [
    "#### Run k-means for Male upper secondary completion"
   ]
  },
  {
   "cell_type": "code",
   "execution_count": 37,
   "id": "b62fad13",
   "metadata": {},
   "outputs": [],
   "source": [
    "# Create the k-means object.\n",
    "kmeans_upsec_M = KMeans(n_clusters = 4) "
   ]
  },
  {
   "cell_type": "code",
   "execution_count": 38,
   "id": "5bb28f5f",
   "metadata": {
    "scrolled": true
   },
   "outputs": [
    {
     "name": "stderr",
     "output_type": "stream",
     "text": [
      "C:\\Users\\Azalia\\anaconda3\\lib\\site-packages\\sklearn\\cluster\\_kmeans.py:1334: UserWarning: KMeans is known to have a memory leak on Windows with MKL, when there are less chunks than available threads. You can avoid it by setting the environment variable OMP_NUM_THREADS=1.\n",
      "  warnings.warn(\n"
     ]
    },
    {
     "data": {
      "text/html": [
       "<style>#sk-container-id-2 {color: black;background-color: white;}#sk-container-id-2 pre{padding: 0;}#sk-container-id-2 div.sk-toggleable {background-color: white;}#sk-container-id-2 label.sk-toggleable__label {cursor: pointer;display: block;width: 100%;margin-bottom: 0;padding: 0.3em;box-sizing: border-box;text-align: center;}#sk-container-id-2 label.sk-toggleable__label-arrow:before {content: \"▸\";float: left;margin-right: 0.25em;color: #696969;}#sk-container-id-2 label.sk-toggleable__label-arrow:hover:before {color: black;}#sk-container-id-2 div.sk-estimator:hover label.sk-toggleable__label-arrow:before {color: black;}#sk-container-id-2 div.sk-toggleable__content {max-height: 0;max-width: 0;overflow: hidden;text-align: left;background-color: #f0f8ff;}#sk-container-id-2 div.sk-toggleable__content pre {margin: 0.2em;color: black;border-radius: 0.25em;background-color: #f0f8ff;}#sk-container-id-2 input.sk-toggleable__control:checked~div.sk-toggleable__content {max-height: 200px;max-width: 100%;overflow: auto;}#sk-container-id-2 input.sk-toggleable__control:checked~label.sk-toggleable__label-arrow:before {content: \"▾\";}#sk-container-id-2 div.sk-estimator input.sk-toggleable__control:checked~label.sk-toggleable__label {background-color: #d4ebff;}#sk-container-id-2 div.sk-label input.sk-toggleable__control:checked~label.sk-toggleable__label {background-color: #d4ebff;}#sk-container-id-2 input.sk-hidden--visually {border: 0;clip: rect(1px 1px 1px 1px);clip: rect(1px, 1px, 1px, 1px);height: 1px;margin: -1px;overflow: hidden;padding: 0;position: absolute;width: 1px;}#sk-container-id-2 div.sk-estimator {font-family: monospace;background-color: #f0f8ff;border: 1px dotted black;border-radius: 0.25em;box-sizing: border-box;margin-bottom: 0.5em;}#sk-container-id-2 div.sk-estimator:hover {background-color: #d4ebff;}#sk-container-id-2 div.sk-parallel-item::after {content: \"\";width: 100%;border-bottom: 1px solid gray;flex-grow: 1;}#sk-container-id-2 div.sk-label:hover label.sk-toggleable__label {background-color: #d4ebff;}#sk-container-id-2 div.sk-serial::before {content: \"\";position: absolute;border-left: 1px solid gray;box-sizing: border-box;top: 0;bottom: 0;left: 50%;z-index: 0;}#sk-container-id-2 div.sk-serial {display: flex;flex-direction: column;align-items: center;background-color: white;padding-right: 0.2em;padding-left: 0.2em;position: relative;}#sk-container-id-2 div.sk-item {position: relative;z-index: 1;}#sk-container-id-2 div.sk-parallel {display: flex;align-items: stretch;justify-content: center;background-color: white;position: relative;}#sk-container-id-2 div.sk-item::before, #sk-container-id-2 div.sk-parallel-item::before {content: \"\";position: absolute;border-left: 1px solid gray;box-sizing: border-box;top: 0;bottom: 0;left: 50%;z-index: -1;}#sk-container-id-2 div.sk-parallel-item {display: flex;flex-direction: column;z-index: 1;position: relative;background-color: white;}#sk-container-id-2 div.sk-parallel-item:first-child::after {align-self: flex-end;width: 50%;}#sk-container-id-2 div.sk-parallel-item:last-child::after {align-self: flex-start;width: 50%;}#sk-container-id-2 div.sk-parallel-item:only-child::after {width: 0;}#sk-container-id-2 div.sk-dashed-wrapped {border: 1px dashed gray;margin: 0 0.4em 0.5em 0.4em;box-sizing: border-box;padding-bottom: 0.4em;background-color: white;}#sk-container-id-2 div.sk-label label {font-family: monospace;font-weight: bold;display: inline-block;line-height: 1.2em;}#sk-container-id-2 div.sk-label-container {text-align: center;}#sk-container-id-2 div.sk-container {/* jupyter's `normalize.less` sets `[hidden] { display: none; }` but bootstrap.min.css set `[hidden] { display: none !important; }` so we also need the `!important` here to be able to override the default hidden behavior on the sphinx rendered scikit-learn.org. See: https://github.com/scikit-learn/scikit-learn/issues/21755 */display: inline-block !important;position: relative;}#sk-container-id-2 div.sk-text-repr-fallback {display: none;}</style><div id=\"sk-container-id-2\" class=\"sk-top-container\"><div class=\"sk-text-repr-fallback\"><pre>KMeans(n_clusters=4)</pre><b>In a Jupyter environment, please rerun this cell to show the HTML representation or trust the notebook. <br />On GitHub, the HTML representation is unable to render, please try loading this page with nbviewer.org.</b></div><div class=\"sk-container\" hidden><div class=\"sk-item\"><div class=\"sk-estimator sk-toggleable\"><input class=\"sk-toggleable__control sk-hidden--visually\" id=\"sk-estimator-id-2\" type=\"checkbox\" checked><label for=\"sk-estimator-id-2\" class=\"sk-toggleable__label sk-toggleable__label-arrow\">KMeans</label><div class=\"sk-toggleable__content\"><pre>KMeans(n_clusters=4)</pre></div></div></div></div></div>"
      ],
      "text/plain": [
       "KMeans(n_clusters=4)"
      ]
     },
     "execution_count": 38,
     "metadata": {},
     "output_type": "execute_result"
    }
   ],
   "source": [
    "# Fit the k-means object to the data.\n",
    "kmeans_upsec_M.fit(df_upsec_comp_M)"
   ]
  },
  {
   "cell_type": "code",
   "execution_count": 39,
   "id": "b8d5c5d1",
   "metadata": {},
   "outputs": [
    {
     "name": "stderr",
     "output_type": "stream",
     "text": [
      "C:\\Users\\Azalia\\anaconda3\\lib\\site-packages\\sklearn\\cluster\\_kmeans.py:1334: UserWarning: KMeans is known to have a memory leak on Windows with MKL, when there are less chunks than available threads. You can avoid it by setting the environment variable OMP_NUM_THREADS=1.\n",
      "  warnings.warn(\n"
     ]
    }
   ],
   "source": [
    "# Creating new column to identify cluster num\n",
    "df_upsec_comp_M['clusters'] = kmeans_upsec_M.fit_predict(df_upsec_comp_M)"
   ]
  },
  {
   "cell_type": "code",
   "execution_count": 40,
   "id": "ac88625d",
   "metadata": {},
   "outputs": [
    {
     "data": {
      "text/html": [
       "<div>\n",
       "<style scoped>\n",
       "    .dataframe tbody tr th:only-of-type {\n",
       "        vertical-align: middle;\n",
       "    }\n",
       "\n",
       "    .dataframe tbody tr th {\n",
       "        vertical-align: top;\n",
       "    }\n",
       "\n",
       "    .dataframe thead th {\n",
       "        text-align: right;\n",
       "    }\n",
       "</style>\n",
       "<table border=\"1\" class=\"dataframe\">\n",
       "  <thead>\n",
       "    <tr style=\"text-align: right;\">\n",
       "      <th></th>\n",
       "      <th>Percentage</th>\n",
       "      <th>Happiness_Rank</th>\n",
       "      <th>GDP_PerCapita</th>\n",
       "      <th>clusters</th>\n",
       "    </tr>\n",
       "  </thead>\n",
       "  <tbody>\n",
       "    <tr>\n",
       "      <th>3</th>\n",
       "      <td>32.315559</td>\n",
       "      <td>146.0</td>\n",
       "      <td>368.754614</td>\n",
       "      <td>1</td>\n",
       "    </tr>\n",
       "    <tr>\n",
       "      <th>17</th>\n",
       "      <td>76.226807</td>\n",
       "      <td>90.0</td>\n",
       "      <td>6492.872012</td>\n",
       "      <td>3</td>\n",
       "    </tr>\n",
       "    <tr>\n",
       "      <th>29</th>\n",
       "      <td>54.310711</td>\n",
       "      <td>57.0</td>\n",
       "      <td>10636.120200</td>\n",
       "      <td>3</td>\n",
       "    </tr>\n",
       "    <tr>\n",
       "      <th>39</th>\n",
       "      <td>68.794182</td>\n",
       "      <td>82.0</td>\n",
       "      <td>4966.513471</td>\n",
       "      <td>0</td>\n",
       "    </tr>\n",
       "    <tr>\n",
       "      <th>63</th>\n",
       "      <td>12.060180</td>\n",
       "      <td>115.0</td>\n",
       "      <td>1319.154995</td>\n",
       "      <td>1</td>\n",
       "    </tr>\n",
       "  </tbody>\n",
       "</table>\n",
       "</div>"
      ],
      "text/plain": [
       "    Percentage  Happiness_Rank  GDP_PerCapita  clusters\n",
       "3    32.315559           146.0     368.754614         1\n",
       "17   76.226807            90.0    6492.872012         3\n",
       "29   54.310711            57.0   10636.120200         3\n",
       "39   68.794182            82.0    4966.513471         0\n",
       "63   12.060180           115.0    1319.154995         1"
      ]
     },
     "execution_count": 40,
     "metadata": {},
     "output_type": "execute_result"
    }
   ],
   "source": [
    "df_upsec_comp_M.head()"
   ]
  },
  {
   "cell_type": "code",
   "execution_count": 41,
   "id": "e2322fdb",
   "metadata": {},
   "outputs": [
    {
     "data": {
      "text/plain": [
       "1    38\n",
       "0    24\n",
       "3    17\n",
       "2     5\n",
       "Name: clusters, dtype: int64"
      ]
     },
     "execution_count": 41,
     "metadata": {},
     "output_type": "execute_result"
    }
   ],
   "source": [
    "df_upsec_comp_M['clusters'].value_counts()"
   ]
  },
  {
   "cell_type": "code",
   "execution_count": 42,
   "id": "7b3c622b",
   "metadata": {},
   "outputs": [
    {
     "data": {
      "image/png": "[encoded data removed]",
      "text/plain": [
       "<Figure size 864x576 with 1 Axes>"
      ]
     },
     "metadata": {
      "needs_background": "light"
     },
     "output_type": "display_data"
    }
   ],
   "source": [
    "# Plot the clusters for the \"Percentage\" and \"GDP_PerCapita\" variables.\n",
    "\n",
    "plt.figure(figsize=(12,8))\n",
    "ax = sns.scatterplot(x=df_upsec_comp_M['Percentage'], y=df_upsec_comp_M['GDP_PerCapita'], hue=kmeans_upsec_M.labels_, s=100) \n",
    "# Here, you're subsetting `X` for the x and y arguments to avoid using their labels. \n",
    "# `hue` takes the value of the attribute `kmeans.labels_`, which is the result of running the k-means algorithm.\n",
    "# `s` represents the size of the points you want to see in the plot.\n",
    "\n",
    "ax.grid(False) # This removes the grid from the background.\n",
    "plt.xlabel('Percentage') # Label x-axis.\n",
    "plt.ylabel('GDP PerCapita') # Label y-axis.\n",
    "plt.show()"
   ]
  },
  {
   "cell_type": "markdown",
   "id": "4227866d",
   "metadata": {},
   "source": [
    "For Male Upper Secondary level completion, we can see that the high GDP clusters only have mid-high percentage completion at upper secondary level. "
   ]
  },
  {
   "cell_type": "code",
   "execution_count": 43,
   "id": "e4523e05",
   "metadata": {},
   "outputs": [
    {
     "data": {
      "image/png": "[encoded data removed]",
      "text/plain": [
       "<Figure size 864x576 with 1 Axes>"
      ]
     },
     "metadata": {
      "needs_background": "light"
     },
     "output_type": "display_data"
    }
   ],
   "source": [
    "# Plot the clusters for the \"Percentage\" and \"Happiness_Rank\" variables.\n",
    "plt.figure(figsize=(12,8))\n",
    "ax = sns.scatterplot(x=df_upsec_comp_M['Percentage'], y=df_upsec_comp_M['Happiness_Rank'], hue=kmeans.labels_, s=100) \n",
    "\n",
    "ax.grid(False) # This removes the grid from the background.\n",
    "plt.xlabel('Percentage') # Label x-axis.\n",
    "plt.ylabel('Happiness Rank') # Label y-axis.\n",
    "plt.show()"
   ]
  },
  {
   "cell_type": "code",
   "execution_count": 44,
   "id": "f8a3c34c",
   "metadata": {},
   "outputs": [],
   "source": [
    "# Renaming the clusters\n",
    "df_upsec_comp_M.loc[df_upsec_comp_M['clusters'] == 1, 'Cluster'] = 'Low GDP PerCapita'\n",
    "df_upsec_comp_M.loc[df_upsec_comp_M['clusters'] == 3, 'Cluster'] = 'Mid-High GDP PerCapita'\n",
    "df_upsec_comp_M.loc[df_upsec_comp_M['clusters'] == 2, 'Cluster'] = 'High GDP PerCapita'\n",
    "df_upsec_comp_M.loc[df_upsec_comp_M['clusters'] == 0, 'Cluster'] = 'Mid-Low GDP PerCapita'"
   ]
  },
  {
   "cell_type": "code",
   "execution_count": 68,
   "id": "6fd7d377",
   "metadata": {},
   "outputs": [],
   "source": [
    "# Export data\n",
    "df_upsec_comp_M.to_csv(os.path.join(path,'02 Data','Prepared Data', 'clust_upsec_comp_M.csv'))"
   ]
  },
  {
   "cell_type": "code",
   "execution_count": 46,
   "id": "81e7f575",
   "metadata": {
    "scrolled": true
   },
   "outputs": [
    {
     "data": {
      "text/html": [
       "<div>\n",
       "<style scoped>\n",
       "    .dataframe tbody tr th:only-of-type {\n",
       "        vertical-align: middle;\n",
       "    }\n",
       "\n",
       "    .dataframe tbody tr th {\n",
       "        vertical-align: top;\n",
       "    }\n",
       "\n",
       "    .dataframe thead tr th {\n",
       "        text-align: left;\n",
       "    }\n",
       "\n",
       "    .dataframe thead tr:last-of-type th {\n",
       "        text-align: right;\n",
       "    }\n",
       "</style>\n",
       "<table border=\"1\" class=\"dataframe\">\n",
       "  <thead>\n",
       "    <tr>\n",
       "      <th></th>\n",
       "      <th colspan=\"2\" halign=\"left\">GDP_PerCapita</th>\n",
       "      <th colspan=\"2\" halign=\"left\">Happiness_Rank</th>\n",
       "      <th colspan=\"2\" halign=\"left\">Percentage</th>\n",
       "    </tr>\n",
       "    <tr>\n",
       "      <th></th>\n",
       "      <th>mean</th>\n",
       "      <th>median</th>\n",
       "      <th>mean</th>\n",
       "      <th>median</th>\n",
       "      <th>mean</th>\n",
       "      <th>median</th>\n",
       "    </tr>\n",
       "    <tr>\n",
       "      <th>Cluster</th>\n",
       "      <th></th>\n",
       "      <th></th>\n",
       "      <th></th>\n",
       "      <th></th>\n",
       "      <th></th>\n",
       "      <th></th>\n",
       "    </tr>\n",
       "  </thead>\n",
       "  <tbody>\n",
       "    <tr>\n",
       "      <th>High GDP PerCapita</th>\n",
       "      <td>14644.933132</td>\n",
       "      <td>14617.604480</td>\n",
       "      <td>41.200000</td>\n",
       "      <td>37.0</td>\n",
       "      <td>61.263963</td>\n",
       "      <td>56.500000</td>\n",
       "    </tr>\n",
       "    <tr>\n",
       "      <th>Low GDP PerCapita</th>\n",
       "      <td>1393.189106</td>\n",
       "      <td>1209.072738</td>\n",
       "      <td>115.026316</td>\n",
       "      <td>117.5</td>\n",
       "      <td>27.355164</td>\n",
       "      <td>24.619035</td>\n",
       "    </tr>\n",
       "    <tr>\n",
       "      <th>Mid-High GDP PerCapita</th>\n",
       "      <td>8189.003530</td>\n",
       "      <td>7507.160971</td>\n",
       "      <td>74.411765</td>\n",
       "      <td>69.0</td>\n",
       "      <td>67.909076</td>\n",
       "      <td>64.699997</td>\n",
       "    </tr>\n",
       "    <tr>\n",
       "      <th>Mid-Low GDP PerCapita</th>\n",
       "      <td>4538.384346</td>\n",
       "      <td>4558.662407</td>\n",
       "      <td>88.708333</td>\n",
       "      <td>84.5</td>\n",
       "      <td>55.683963</td>\n",
       "      <td>55.457520</td>\n",
       "    </tr>\n",
       "  </tbody>\n",
       "</table>\n",
       "</div>"
      ],
      "text/plain": [
       "                       GDP_PerCapita               Happiness_Rank         \\\n",
       "                                mean        median           mean median   \n",
       "Cluster                                                                    \n",
       "High GDP PerCapita      14644.933132  14617.604480      41.200000   37.0   \n",
       "Low GDP PerCapita        1393.189106   1209.072738     115.026316  117.5   \n",
       "Mid-High GDP PerCapita   8189.003530   7507.160971      74.411765   69.0   \n",
       "Mid-Low GDP PerCapita    4538.384346   4558.662407      88.708333   84.5   \n",
       "\n",
       "                       Percentage             \n",
       "                             mean     median  \n",
       "Cluster                                       \n",
       "High GDP PerCapita      61.263963  56.500000  \n",
       "Low GDP PerCapita       27.355164  24.619035  \n",
       "Mid-High GDP PerCapita  67.909076  64.699997  \n",
       "Mid-Low GDP PerCapita   55.683963  55.457520  "
      ]
     },
     "execution_count": 46,
     "metadata": {},
     "output_type": "execute_result"
    }
   ],
   "source": [
    "df_upsec_comp_M.groupby('Cluster').agg({'GDP_PerCapita':['mean', 'median'], \n",
    "                         'Happiness_Rank':['mean', 'median'], \n",
    "                         'Percentage':['mean', 'median']})"
   ]
  },
  {
   "cell_type": "markdown",
   "id": "98b748fc",
   "metadata": {},
   "source": [
    "For males at upper secondary level, a median percentage of completion of more than 55% is required to at least have mid to high GDPs. Low GDP countries have only 25% males completing their education. As with the observation at primary level, higher gdp corresponds to top rank in happiness."
   ]
  },
  {
   "cell_type": "code",
   "execution_count": 73,
   "id": "0d459272",
   "metadata": {},
   "outputs": [],
   "source": [
    "df_upsec_comp_M_stats = df_upsec_comp_M.groupby('Cluster').agg({'GDP_PerCapita':['mean', 'median'], \n",
    "                         'Happiness_Rank':['mean', 'median'], \n",
    "                         'Percentage':['mean', 'median']})"
   ]
  },
  {
   "cell_type": "code",
   "execution_count": 74,
   "id": "ca649c61",
   "metadata": {},
   "outputs": [],
   "source": [
    "# Export data\n",
    "df_upsec_comp_M_stats.to_csv(os.path.join(path,'02 Data','Prepared Data', 'stats_upsec_comp_M.csv'))"
   ]
  },
  {
   "cell_type": "markdown",
   "id": "52a39768",
   "metadata": {},
   "source": [
    "### Run k-means for female primary and uppersecondary completion"
   ]
  },
  {
   "cell_type": "markdown",
   "id": "829a7495",
   "metadata": {},
   "source": [
    "#### k-means for female primary completion"
   ]
  },
  {
   "cell_type": "code",
   "execution_count": 47,
   "id": "8767f98a",
   "metadata": {},
   "outputs": [
    {
     "data": {
      "text/html": [
       "<div>\n",
       "<style scoped>\n",
       "    .dataframe tbody tr th:only-of-type {\n",
       "        vertical-align: middle;\n",
       "    }\n",
       "\n",
       "    .dataframe tbody tr th {\n",
       "        vertical-align: top;\n",
       "    }\n",
       "\n",
       "    .dataframe thead th {\n",
       "        text-align: right;\n",
       "    }\n",
       "</style>\n",
       "<table border=\"1\" class=\"dataframe\">\n",
       "  <thead>\n",
       "    <tr style=\"text-align: right;\">\n",
       "      <th></th>\n",
       "      <th>Country</th>\n",
       "      <th>Indicator</th>\n",
       "      <th>Gender</th>\n",
       "      <th>Percentage</th>\n",
       "      <th>Happiness_Rank</th>\n",
       "      <th>GDP_PerCapita</th>\n",
       "    </tr>\n",
       "  </thead>\n",
       "  <tbody>\n",
       "    <tr>\n",
       "      <th>0</th>\n",
       "      <td>Afghanistan</td>\n",
       "      <td>Completion rate for children of primary school...</td>\n",
       "      <td>Female</td>\n",
       "      <td>40.200001</td>\n",
       "      <td>146.0</td>\n",
       "      <td>368.754614</td>\n",
       "    </tr>\n",
       "    <tr>\n",
       "      <th>14</th>\n",
       "      <td>Albania</td>\n",
       "      <td>Completion rate for children of primary school...</td>\n",
       "      <td>Female</td>\n",
       "      <td>95.698372</td>\n",
       "      <td>90.0</td>\n",
       "      <td>6492.872012</td>\n",
       "    </tr>\n",
       "    <tr>\n",
       "      <th>26</th>\n",
       "      <td>Argentina</td>\n",
       "      <td>Completion rate for children of primary school...</td>\n",
       "      <td>Female</td>\n",
       "      <td>98.040077</td>\n",
       "      <td>57.0</td>\n",
       "      <td>10636.120200</td>\n",
       "    </tr>\n",
       "    <tr>\n",
       "      <th>36</th>\n",
       "      <td>Armenia</td>\n",
       "      <td>Completion rate for children of primary school...</td>\n",
       "      <td>Female</td>\n",
       "      <td>99.112640</td>\n",
       "      <td>82.0</td>\n",
       "      <td>4966.513471</td>\n",
       "    </tr>\n",
       "    <tr>\n",
       "      <th>60</th>\n",
       "      <td>Benin</td>\n",
       "      <td>Completion rate for children of primary school...</td>\n",
       "      <td>Female</td>\n",
       "      <td>44.196468</td>\n",
       "      <td>115.0</td>\n",
       "      <td>1319.154995</td>\n",
       "    </tr>\n",
       "  </tbody>\n",
       "</table>\n",
       "</div>"
      ],
      "text/plain": [
       "        Country                                          Indicator  Gender  \\\n",
       "0   Afghanistan  Completion rate for children of primary school...  Female   \n",
       "14      Albania  Completion rate for children of primary school...  Female   \n",
       "26    Argentina  Completion rate for children of primary school...  Female   \n",
       "36      Armenia  Completion rate for children of primary school...  Female   \n",
       "60        Benin  Completion rate for children of primary school...  Female   \n",
       "\n",
       "    Percentage  Happiness_Rank  GDP_PerCapita  \n",
       "0    40.200001           146.0     368.754614  \n",
       "14   95.698372            90.0    6492.872012  \n",
       "26   98.040077            57.0   10636.120200  \n",
       "36   99.112640            82.0    4966.513471  \n",
       "60   44.196468           115.0    1319.154995  "
      ]
     },
     "execution_count": 47,
     "metadata": {},
     "output_type": "execute_result"
    }
   ],
   "source": [
    "df_prim_comp_F.head()"
   ]
  },
  {
   "cell_type": "code",
   "execution_count": 48,
   "id": "08adf125",
   "metadata": {},
   "outputs": [],
   "source": [
    "# Drop further categorical values\n",
    "df_prim_comp_F = df_prim_comp_F[['Percentage', 'Happiness_Rank', 'GDP_PerCapita']]"
   ]
  },
  {
   "cell_type": "code",
   "execution_count": 49,
   "id": "74ccf598",
   "metadata": {},
   "outputs": [],
   "source": [
    "# Create the k-means object.\n",
    "kmeans = KMeans(n_clusters = 4) "
   ]
  },
  {
   "cell_type": "code",
   "execution_count": 50,
   "id": "8a568a98",
   "metadata": {},
   "outputs": [
    {
     "name": "stderr",
     "output_type": "stream",
     "text": [
      "C:\\Users\\Azalia\\anaconda3\\lib\\site-packages\\sklearn\\cluster\\_kmeans.py:1334: UserWarning: KMeans is known to have a memory leak on Windows with MKL, when there are less chunks than available threads. You can avoid it by setting the environment variable OMP_NUM_THREADS=1.\n",
      "  warnings.warn(\n"
     ]
    },
    {
     "data": {
      "text/html": [
       "<style>#sk-container-id-3 {color: black;background-color: white;}#sk-container-id-3 pre{padding: 0;}#sk-container-id-3 div.sk-toggleable {background-color: white;}#sk-container-id-3 label.sk-toggleable__label {cursor: pointer;display: block;width: 100%;margin-bottom: 0;padding: 0.3em;box-sizing: border-box;text-align: center;}#sk-container-id-3 label.sk-toggleable__label-arrow:before {content: \"▸\";float: left;margin-right: 0.25em;color: #696969;}#sk-container-id-3 label.sk-toggleable__label-arrow:hover:before {color: black;}#sk-container-id-3 div.sk-estimator:hover label.sk-toggleable__label-arrow:before {color: black;}#sk-container-id-3 div.sk-toggleable__content {max-height: 0;max-width: 0;overflow: hidden;text-align: left;background-color: #f0f8ff;}#sk-container-id-3 div.sk-toggleable__content pre {margin: 0.2em;color: black;border-radius: 0.25em;background-color: #f0f8ff;}#sk-container-id-3 input.sk-toggleable__control:checked~div.sk-toggleable__content {max-height: 200px;max-width: 100%;overflow: auto;}#sk-container-id-3 input.sk-toggleable__control:checked~label.sk-toggleable__label-arrow:before {content: \"▾\";}#sk-container-id-3 div.sk-estimator input.sk-toggleable__control:checked~label.sk-toggleable__label {background-color: #d4ebff;}#sk-container-id-3 div.sk-label input.sk-toggleable__control:checked~label.sk-toggleable__label {background-color: #d4ebff;}#sk-container-id-3 input.sk-hidden--visually {border: 0;clip: rect(1px 1px 1px 1px);clip: rect(1px, 1px, 1px, 1px);height: 1px;margin: -1px;overflow: hidden;padding: 0;position: absolute;width: 1px;}#sk-container-id-3 div.sk-estimator {font-family: monospace;background-color: #f0f8ff;border: 1px dotted black;border-radius: 0.25em;box-sizing: border-box;margin-bottom: 0.5em;}#sk-container-id-3 div.sk-estimator:hover {background-color: #d4ebff;}#sk-container-id-3 div.sk-parallel-item::after {content: \"\";width: 100%;border-bottom: 1px solid gray;flex-grow: 1;}#sk-container-id-3 div.sk-label:hover label.sk-toggleable__label {background-color: #d4ebff;}#sk-container-id-3 div.sk-serial::before {content: \"\";position: absolute;border-left: 1px solid gray;box-sizing: border-box;top: 0;bottom: 0;left: 50%;z-index: 0;}#sk-container-id-3 div.sk-serial {display: flex;flex-direction: column;align-items: center;background-color: white;padding-right: 0.2em;padding-left: 0.2em;position: relative;}#sk-container-id-3 div.sk-item {position: relative;z-index: 1;}#sk-container-id-3 div.sk-parallel {display: flex;align-items: stretch;justify-content: center;background-color: white;position: relative;}#sk-container-id-3 div.sk-item::before, #sk-container-id-3 div.sk-parallel-item::before {content: \"\";position: absolute;border-left: 1px solid gray;box-sizing: border-box;top: 0;bottom: 0;left: 50%;z-index: -1;}#sk-container-id-3 div.sk-parallel-item {display: flex;flex-direction: column;z-index: 1;position: relative;background-color: white;}#sk-container-id-3 div.sk-parallel-item:first-child::after {align-self: flex-end;width: 50%;}#sk-container-id-3 div.sk-parallel-item:last-child::after {align-self: flex-start;width: 50%;}#sk-container-id-3 div.sk-parallel-item:only-child::after {width: 0;}#sk-container-id-3 div.sk-dashed-wrapped {border: 1px dashed gray;margin: 0 0.4em 0.5em 0.4em;box-sizing: border-box;padding-bottom: 0.4em;background-color: white;}#sk-container-id-3 div.sk-label label {font-family: monospace;font-weight: bold;display: inline-block;line-height: 1.2em;}#sk-container-id-3 div.sk-label-container {text-align: center;}#sk-container-id-3 div.sk-container {/* jupyter's `normalize.less` sets `[hidden] { display: none; }` but bootstrap.min.css set `[hidden] { display: none !important; }` so we also need the `!important` here to be able to override the default hidden behavior on the sphinx rendered scikit-learn.org. See: https://github.com/scikit-learn/scikit-learn/issues/21755 */display: inline-block !important;position: relative;}#sk-container-id-3 div.sk-text-repr-fallback {display: none;}</style><div id=\"sk-container-id-3\" class=\"sk-top-container\"><div class=\"sk-text-repr-fallback\"><pre>KMeans(n_clusters=4)</pre><b>In a Jupyter environment, please rerun this cell to show the HTML representation or trust the notebook. <br />On GitHub, the HTML representation is unable to render, please try loading this page with nbviewer.org.</b></div><div class=\"sk-container\" hidden><div class=\"sk-item\"><div class=\"sk-estimator sk-toggleable\"><input class=\"sk-toggleable__control sk-hidden--visually\" id=\"sk-estimator-id-3\" type=\"checkbox\" checked><label for=\"sk-estimator-id-3\" class=\"sk-toggleable__label sk-toggleable__label-arrow\">KMeans</label><div class=\"sk-toggleable__content\"><pre>KMeans(n_clusters=4)</pre></div></div></div></div></div>"
      ],
      "text/plain": [
       "KMeans(n_clusters=4)"
      ]
     },
     "execution_count": 50,
     "metadata": {},
     "output_type": "execute_result"
    }
   ],
   "source": [
    "# Fit the k-means object to the data.\n",
    "kmeans.fit(df_prim_comp_F)"
   ]
  },
  {
   "cell_type": "code",
   "execution_count": 51,
   "id": "9f688b30",
   "metadata": {},
   "outputs": [
    {
     "name": "stderr",
     "output_type": "stream",
     "text": [
      "C:\\Users\\Azalia\\anaconda3\\lib\\site-packages\\sklearn\\cluster\\_kmeans.py:1334: UserWarning: KMeans is known to have a memory leak on Windows with MKL, when there are less chunks than available threads. You can avoid it by setting the environment variable OMP_NUM_THREADS=1.\n",
      "  warnings.warn(\n"
     ]
    }
   ],
   "source": [
    "# Creating new column to identify cluster num\n",
    "df_prim_comp_F['Clusters'] = kmeans.fit_predict(df_prim_comp_F)"
   ]
  },
  {
   "cell_type": "code",
   "execution_count": 52,
   "id": "8eddd36a",
   "metadata": {},
   "outputs": [
    {
     "data": {
      "text/plain": [
       "0    38\n",
       "3    24\n",
       "1    17\n",
       "2     5\n",
       "Name: Clusters, dtype: int64"
      ]
     },
     "execution_count": 52,
     "metadata": {},
     "output_type": "execute_result"
    }
   ],
   "source": [
    "df_prim_comp_F['Clusters'].value_counts()"
   ]
  },
  {
   "cell_type": "code",
   "execution_count": 53,
   "id": "806d2066",
   "metadata": {},
   "outputs": [
    {
     "data": {
      "image/png": "[encoded data removed]",
      "text/plain": [
       "<Figure size 864x576 with 1 Axes>"
      ]
     },
     "metadata": {
      "needs_background": "light"
     },
     "output_type": "display_data"
    }
   ],
   "source": [
    "# Plot the clusters for the \"Percentage\" and \"GDP_PerCapita\" variables.\n",
    "\n",
    "plt.figure(figsize=(12,8))\n",
    "ax = sns.scatterplot(x=df_prim_comp_F['Percentage'], y=df_prim_comp_F['GDP_PerCapita'], hue=kmeans.labels_, s=100) \n",
    "\n",
    "ax.grid(False) # This removes the grid from the background.\n",
    "plt.xlabel('Percentage') # Label x-axis.\n",
    "plt.ylabel('GDP PerCapita') # Label y-axis.\n",
    "plt.show()"
   ]
  },
  {
   "cell_type": "code",
   "execution_count": 54,
   "id": "05528f9a",
   "metadata": {},
   "outputs": [
    {
     "data": {
      "image/png": "[encoded data removed]",
      "text/plain": [
       "<Figure size 864x576 with 1 Axes>"
      ]
     },
     "metadata": {
      "needs_background": "light"
     },
     "output_type": "display_data"
    }
   ],
   "source": [
    "# Plot the clusters for the \"Percentage\" and \"Happiness_Rank\" variables.\n",
    "plt.figure(figsize=(12,8))\n",
    "ax = sns.scatterplot(x=df_prim_comp_F['Percentage'], y=df_prim_comp_F['Happiness_Rank'], hue=kmeans.labels_, s=100) \n",
    "\n",
    "ax.grid(False) # This removes the grid from the background.\n",
    "plt.xlabel('Percentage') # Label x-axis.\n",
    "plt.ylabel('Happiness Rank') # Label y-axis.\n",
    "plt.show()"
   ]
  },
  {
   "cell_type": "code",
   "execution_count": 55,
   "id": "26e590f2",
   "metadata": {},
   "outputs": [],
   "source": [
    "# Renaming the clusters\n",
    "df_prim_comp_F.loc[df_prim_comp_F['Clusters'] == 0, 'Cluster'] = 'Low GDP PerCapita'\n",
    "df_prim_comp_F.loc[df_prim_comp_F['Clusters'] == 1, 'Cluster'] = 'Mid-High GDP PerCapita'\n",
    "df_prim_comp_F.loc[df_prim_comp_F['Clusters'] == 2, 'Cluster'] = 'High GDP PerCapita'\n",
    "df_prim_comp_F.loc[df_prim_comp_F['Clusters'] == 3, 'Cluster'] = 'Mid-Low GDP PerCapita'"
   ]
  },
  {
   "cell_type": "code",
   "execution_count": 56,
   "id": "2f1415c7",
   "metadata": {},
   "outputs": [],
   "source": [
    "# Export data\n",
    "df_prim_comp_F.to_csv(os.path.join(path,'02 Data','Prepared Data', 'clust_prim_comp_F.csv'))"
   ]
  },
  {
   "cell_type": "code",
   "execution_count": 57,
   "id": "70127def",
   "metadata": {},
   "outputs": [
    {
     "data": {
      "text/html": [
       "<div>\n",
       "<style scoped>\n",
       "    .dataframe tbody tr th:only-of-type {\n",
       "        vertical-align: middle;\n",
       "    }\n",
       "\n",
       "    .dataframe tbody tr th {\n",
       "        vertical-align: top;\n",
       "    }\n",
       "\n",
       "    .dataframe thead tr th {\n",
       "        text-align: left;\n",
       "    }\n",
       "\n",
       "    .dataframe thead tr:last-of-type th {\n",
       "        text-align: right;\n",
       "    }\n",
       "</style>\n",
       "<table border=\"1\" class=\"dataframe\">\n",
       "  <thead>\n",
       "    <tr>\n",
       "      <th></th>\n",
       "      <th colspan=\"2\" halign=\"left\">GDP_PerCapita</th>\n",
       "      <th colspan=\"2\" halign=\"left\">Happiness_Rank</th>\n",
       "      <th colspan=\"2\" halign=\"left\">Percentage</th>\n",
       "    </tr>\n",
       "    <tr>\n",
       "      <th></th>\n",
       "      <th>mean</th>\n",
       "      <th>median</th>\n",
       "      <th>mean</th>\n",
       "      <th>median</th>\n",
       "      <th>mean</th>\n",
       "      <th>median</th>\n",
       "    </tr>\n",
       "    <tr>\n",
       "      <th>Cluster</th>\n",
       "      <th></th>\n",
       "      <th></th>\n",
       "      <th></th>\n",
       "      <th></th>\n",
       "      <th></th>\n",
       "      <th></th>\n",
       "    </tr>\n",
       "  </thead>\n",
       "  <tbody>\n",
       "    <tr>\n",
       "      <th>High GDP PerCapita</th>\n",
       "      <td>14644.933132</td>\n",
       "      <td>14617.604480</td>\n",
       "      <td>41.200000</td>\n",
       "      <td>37.0</td>\n",
       "      <td>97.275691</td>\n",
       "      <td>97.000000</td>\n",
       "    </tr>\n",
       "    <tr>\n",
       "      <th>Low GDP PerCapita</th>\n",
       "      <td>1393.189106</td>\n",
       "      <td>1209.072738</td>\n",
       "      <td>115.026316</td>\n",
       "      <td>117.5</td>\n",
       "      <td>66.302574</td>\n",
       "      <td>71.922642</td>\n",
       "    </tr>\n",
       "    <tr>\n",
       "      <th>Mid-High GDP PerCapita</th>\n",
       "      <td>8189.003530</td>\n",
       "      <td>7507.160971</td>\n",
       "      <td>74.411765</td>\n",
       "      <td>69.0</td>\n",
       "      <td>96.505089</td>\n",
       "      <td>97.922318</td>\n",
       "    </tr>\n",
       "    <tr>\n",
       "      <th>Mid-Low GDP PerCapita</th>\n",
       "      <td>4538.384346</td>\n",
       "      <td>4558.662407</td>\n",
       "      <td>88.708333</td>\n",
       "      <td>84.5</td>\n",
       "      <td>93.682671</td>\n",
       "      <td>96.716186</td>\n",
       "    </tr>\n",
       "  </tbody>\n",
       "</table>\n",
       "</div>"
      ],
      "text/plain": [
       "                       GDP_PerCapita               Happiness_Rank         \\\n",
       "                                mean        median           mean median   \n",
       "Cluster                                                                    \n",
       "High GDP PerCapita      14644.933132  14617.604480      41.200000   37.0   \n",
       "Low GDP PerCapita        1393.189106   1209.072738     115.026316  117.5   \n",
       "Mid-High GDP PerCapita   8189.003530   7507.160971      74.411765   69.0   \n",
       "Mid-Low GDP PerCapita    4538.384346   4558.662407      88.708333   84.5   \n",
       "\n",
       "                       Percentage             \n",
       "                             mean     median  \n",
       "Cluster                                       \n",
       "High GDP PerCapita      97.275691  97.000000  \n",
       "Low GDP PerCapita       66.302574  71.922642  \n",
       "Mid-High GDP PerCapita  96.505089  97.922318  \n",
       "Mid-Low GDP PerCapita   93.682671  96.716186  "
      ]
     },
     "execution_count": 57,
     "metadata": {},
     "output_type": "execute_result"
    }
   ],
   "source": [
    "df_prim_comp_F.groupby('Cluster').agg({'GDP_PerCapita':['mean', 'median'], \n",
    "                         'Happiness_Rank':['mean', 'median'], \n",
    "                         'Percentage':['mean', 'median']})"
   ]
  },
  {
   "cell_type": "markdown",
   "id": "383d7e38",
   "metadata": {},
   "source": [
    "For females at primary level, a median of 71% completion rate at primary level puts the country in low GDP (compared to males at 68%). As with the male findings, high Percentage Completion at primary level could land the country in mid to high GDP per capita range."
   ]
  },
  {
   "cell_type": "markdown",
   "id": "cc0a9995",
   "metadata": {},
   "source": [
    "#### k-means for female uppersecondary completion"
   ]
  },
  {
   "cell_type": "code",
   "execution_count": 58,
   "id": "a1e65bc5",
   "metadata": {},
   "outputs": [
    {
     "data": {
      "text/html": [
       "<div>\n",
       "<style scoped>\n",
       "    .dataframe tbody tr th:only-of-type {\n",
       "        vertical-align: middle;\n",
       "    }\n",
       "\n",
       "    .dataframe tbody tr th {\n",
       "        vertical-align: top;\n",
       "    }\n",
       "\n",
       "    .dataframe thead th {\n",
       "        text-align: right;\n",
       "    }\n",
       "</style>\n",
       "<table border=\"1\" class=\"dataframe\">\n",
       "  <thead>\n",
       "    <tr style=\"text-align: right;\">\n",
       "      <th></th>\n",
       "      <th>Percentage</th>\n",
       "      <th>Happiness_Rank</th>\n",
       "      <th>GDP_PerCapita</th>\n",
       "    </tr>\n",
       "  </thead>\n",
       "  <tbody>\n",
       "    <tr>\n",
       "      <th>2</th>\n",
       "      <td>14.365360</td>\n",
       "      <td>146.0</td>\n",
       "      <td>368.754614</td>\n",
       "    </tr>\n",
       "    <tr>\n",
       "      <th>16</th>\n",
       "      <td>79.857063</td>\n",
       "      <td>90.0</td>\n",
       "      <td>6492.872012</td>\n",
       "    </tr>\n",
       "    <tr>\n",
       "      <th>28</th>\n",
       "      <td>65.963852</td>\n",
       "      <td>57.0</td>\n",
       "      <td>10636.120200</td>\n",
       "    </tr>\n",
       "    <tr>\n",
       "      <th>38</th>\n",
       "      <td>79.394547</td>\n",
       "      <td>82.0</td>\n",
       "      <td>4966.513471</td>\n",
       "    </tr>\n",
       "    <tr>\n",
       "      <th>62</th>\n",
       "      <td>5.440437</td>\n",
       "      <td>115.0</td>\n",
       "      <td>1319.154995</td>\n",
       "    </tr>\n",
       "  </tbody>\n",
       "</table>\n",
       "</div>"
      ],
      "text/plain": [
       "    Percentage  Happiness_Rank  GDP_PerCapita\n",
       "2    14.365360           146.0     368.754614\n",
       "16   79.857063            90.0    6492.872012\n",
       "28   65.963852            57.0   10636.120200\n",
       "38   79.394547            82.0    4966.513471\n",
       "62    5.440437           115.0    1319.154995"
      ]
     },
     "execution_count": 58,
     "metadata": {},
     "output_type": "execute_result"
    }
   ],
   "source": [
    "df_upsec_comp_F.head()"
   ]
  },
  {
   "cell_type": "code",
   "execution_count": 59,
   "id": "42137e47",
   "metadata": {},
   "outputs": [],
   "source": [
    "# Create the k-means object.\n",
    "kmeans = KMeans(n_clusters = 4) "
   ]
  },
  {
   "cell_type": "code",
   "execution_count": 60,
   "id": "cb859842",
   "metadata": {},
   "outputs": [
    {
     "name": "stderr",
     "output_type": "stream",
     "text": [
      "C:\\Users\\Azalia\\anaconda3\\lib\\site-packages\\sklearn\\cluster\\_kmeans.py:1334: UserWarning: KMeans is known to have a memory leak on Windows with MKL, when there are less chunks than available threads. You can avoid it by setting the environment variable OMP_NUM_THREADS=1.\n",
      "  warnings.warn(\n"
     ]
    },
    {
     "data": {
      "text/html": [
       "<style>#sk-container-id-4 {color: black;background-color: white;}#sk-container-id-4 pre{padding: 0;}#sk-container-id-4 div.sk-toggleable {background-color: white;}#sk-container-id-4 label.sk-toggleable__label {cursor: pointer;display: block;width: 100%;margin-bottom: 0;padding: 0.3em;box-sizing: border-box;text-align: center;}#sk-container-id-4 label.sk-toggleable__label-arrow:before {content: \"▸\";float: left;margin-right: 0.25em;color: #696969;}#sk-container-id-4 label.sk-toggleable__label-arrow:hover:before {color: black;}#sk-container-id-4 div.sk-estimator:hover label.sk-toggleable__label-arrow:before {color: black;}#sk-container-id-4 div.sk-toggleable__content {max-height: 0;max-width: 0;overflow: hidden;text-align: left;background-color: #f0f8ff;}#sk-container-id-4 div.sk-toggleable__content pre {margin: 0.2em;color: black;border-radius: 0.25em;background-color: #f0f8ff;}#sk-container-id-4 input.sk-toggleable__control:checked~div.sk-toggleable__content {max-height: 200px;max-width: 100%;overflow: auto;}#sk-container-id-4 input.sk-toggleable__control:checked~label.sk-toggleable__label-arrow:before {content: \"▾\";}#sk-container-id-4 div.sk-estimator input.sk-toggleable__control:checked~label.sk-toggleable__label {background-color: #d4ebff;}#sk-container-id-4 div.sk-label input.sk-toggleable__control:checked~label.sk-toggleable__label {background-color: #d4ebff;}#sk-container-id-4 input.sk-hidden--visually {border: 0;clip: rect(1px 1px 1px 1px);clip: rect(1px, 1px, 1px, 1px);height: 1px;margin: -1px;overflow: hidden;padding: 0;position: absolute;width: 1px;}#sk-container-id-4 div.sk-estimator {font-family: monospace;background-color: #f0f8ff;border: 1px dotted black;border-radius: 0.25em;box-sizing: border-box;margin-bottom: 0.5em;}#sk-container-id-4 div.sk-estimator:hover {background-color: #d4ebff;}#sk-container-id-4 div.sk-parallel-item::after {content: \"\";width: 100%;border-bottom: 1px solid gray;flex-grow: 1;}#sk-container-id-4 div.sk-label:hover label.sk-toggleable__label {background-color: #d4ebff;}#sk-container-id-4 div.sk-serial::before {content: \"\";position: absolute;border-left: 1px solid gray;box-sizing: border-box;top: 0;bottom: 0;left: 50%;z-index: 0;}#sk-container-id-4 div.sk-serial {display: flex;flex-direction: column;align-items: center;background-color: white;padding-right: 0.2em;padding-left: 0.2em;position: relative;}#sk-container-id-4 div.sk-item {position: relative;z-index: 1;}#sk-container-id-4 div.sk-parallel {display: flex;align-items: stretch;justify-content: center;background-color: white;position: relative;}#sk-container-id-4 div.sk-item::before, #sk-container-id-4 div.sk-parallel-item::before {content: \"\";position: absolute;border-left: 1px solid gray;box-sizing: border-box;top: 0;bottom: 0;left: 50%;z-index: -1;}#sk-container-id-4 div.sk-parallel-item {display: flex;flex-direction: column;z-index: 1;position: relative;background-color: white;}#sk-container-id-4 div.sk-parallel-item:first-child::after {align-self: flex-end;width: 50%;}#sk-container-id-4 div.sk-parallel-item:last-child::after {align-self: flex-start;width: 50%;}#sk-container-id-4 div.sk-parallel-item:only-child::after {width: 0;}#sk-container-id-4 div.sk-dashed-wrapped {border: 1px dashed gray;margin: 0 0.4em 0.5em 0.4em;box-sizing: border-box;padding-bottom: 0.4em;background-color: white;}#sk-container-id-4 div.sk-label label {font-family: monospace;font-weight: bold;display: inline-block;line-height: 1.2em;}#sk-container-id-4 div.sk-label-container {text-align: center;}#sk-container-id-4 div.sk-container {/* jupyter's `normalize.less` sets `[hidden] { display: none; }` but bootstrap.min.css set `[hidden] { display: none !important; }` so we also need the `!important` here to be able to override the default hidden behavior on the sphinx rendered scikit-learn.org. See: https://github.com/scikit-learn/scikit-learn/issues/21755 */display: inline-block !important;position: relative;}#sk-container-id-4 div.sk-text-repr-fallback {display: none;}</style><div id=\"sk-container-id-4\" class=\"sk-top-container\"><div class=\"sk-text-repr-fallback\"><pre>KMeans(n_clusters=4)</pre><b>In a Jupyter environment, please rerun this cell to show the HTML representation or trust the notebook. <br />On GitHub, the HTML representation is unable to render, please try loading this page with nbviewer.org.</b></div><div class=\"sk-container\" hidden><div class=\"sk-item\"><div class=\"sk-estimator sk-toggleable\"><input class=\"sk-toggleable__control sk-hidden--visually\" id=\"sk-estimator-id-4\" type=\"checkbox\" checked><label for=\"sk-estimator-id-4\" class=\"sk-toggleable__label sk-toggleable__label-arrow\">KMeans</label><div class=\"sk-toggleable__content\"><pre>KMeans(n_clusters=4)</pre></div></div></div></div></div>"
      ],
      "text/plain": [
       "KMeans(n_clusters=4)"
      ]
     },
     "execution_count": 60,
     "metadata": {},
     "output_type": "execute_result"
    }
   ],
   "source": [
    "# Fit the k-means object to the data.\n",
    "kmeans.fit(df_upsec_comp_F)"
   ]
  },
  {
   "cell_type": "code",
   "execution_count": 61,
   "id": "417f6f38",
   "metadata": {},
   "outputs": [
    {
     "name": "stderr",
     "output_type": "stream",
     "text": [
      "C:\\Users\\Azalia\\anaconda3\\lib\\site-packages\\sklearn\\cluster\\_kmeans.py:1334: UserWarning: KMeans is known to have a memory leak on Windows with MKL, when there are less chunks than available threads. You can avoid it by setting the environment variable OMP_NUM_THREADS=1.\n",
      "  warnings.warn(\n"
     ]
    }
   ],
   "source": [
    "# Creating new column to identify cluster num\n",
    "df_upsec_comp_F['Clusters'] = kmeans.fit_predict(df_upsec_comp_F)"
   ]
  },
  {
   "cell_type": "code",
   "execution_count": 62,
   "id": "3369f23c",
   "metadata": {},
   "outputs": [
    {
     "data": {
      "text/plain": [
       "2    38\n",
       "1    24\n",
       "3    17\n",
       "0     5\n",
       "Name: Clusters, dtype: int64"
      ]
     },
     "execution_count": 62,
     "metadata": {},
     "output_type": "execute_result"
    }
   ],
   "source": [
    "df_upsec_comp_F['Clusters'].value_counts()"
   ]
  },
  {
   "cell_type": "code",
   "execution_count": 63,
   "id": "7675c293",
   "metadata": {},
   "outputs": [
    {
     "data": {
      "image/png": "[encoded data removed]",
      "text/plain": [
       "<Figure size 864x576 with 1 Axes>"
      ]
     },
     "metadata": {
      "needs_background": "light"
     },
     "output_type": "display_data"
    }
   ],
   "source": [
    "# Plot the clusters for the \"Percentage\" and \"GDP_PerCapita\" variables.\n",
    "\n",
    "plt.figure(figsize=(12,8))\n",
    "ax = sns.scatterplot(x=df_upsec_comp_F['Percentage'], y=df_upsec_comp_F['GDP_PerCapita'], hue=kmeans.labels_, s=100) \n",
    "\n",
    "ax.grid(False) # This removes the grid from the background.\n",
    "plt.xlabel('Percentage') # Label x-axis.\n",
    "plt.ylabel('GDP PerCapita') # Label y-axis.\n",
    "plt.show()"
   ]
  },
  {
   "cell_type": "code",
   "execution_count": 64,
   "id": "0079f3a1",
   "metadata": {},
   "outputs": [
    {
     "data": {
      "image/png": "[encoded data removed]",
      "text/plain": [
       "<Figure size 864x576 with 1 Axes>"
      ]
     },
     "metadata": {
      "needs_background": "light"
     },
     "output_type": "display_data"
    }
   ],
   "source": [
    "# Plot the clusters for the \"Percentage\" and \"Happiness_Rank\" variables.\n",
    "plt.figure(figsize=(12,8))\n",
    "ax = sns.scatterplot(x=df_upsec_comp_F['Percentage'], y=df_upsec_comp_F['Happiness_Rank'], hue=kmeans.labels_, s=100) \n",
    "\n",
    "ax.grid(False) # This removes the grid from the background.\n",
    "plt.xlabel('Percentage') # Label x-axis.\n",
    "plt.ylabel('Happiness Rank') # Label y-axis.\n",
    "plt.show()"
   ]
  },
  {
   "cell_type": "code",
   "execution_count": 65,
   "id": "20580c6c",
   "metadata": {},
   "outputs": [],
   "source": [
    "# Renaming the clusters\n",
    "df_upsec_comp_F.loc[df_upsec_comp_F['Clusters'] == 2, 'Cluster'] = 'Low GDP PerCapita'\n",
    "df_upsec_comp_F.loc[df_upsec_comp_F['Clusters'] == 3, 'Cluster'] = 'Mid-High GDP PerCapita'\n",
    "df_upsec_comp_F.loc[df_upsec_comp_F['Clusters'] == 0, 'Cluster'] = 'High GDP PerCapita'\n",
    "df_upsec_comp_F.loc[df_upsec_comp_F['Clusters'] == 1, 'Cluster'] = 'Mid-Low GDP PerCapita'"
   ]
  },
  {
   "cell_type": "code",
   "execution_count": 66,
   "id": "db62d0ad",
   "metadata": {},
   "outputs": [],
   "source": [
    "# Export data\n",
    "df_upsec_comp_F.to_csv(os.path.join(path,'02 Data','Prepared Data', 'clust_upsec_comp_F.csv'))"
   ]
  },
  {
   "cell_type": "code",
   "execution_count": 67,
   "id": "f3913e76",
   "metadata": {
    "scrolled": true
   },
   "outputs": [
    {
     "data": {
      "text/html": [
       "<div>\n",
       "<style scoped>\n",
       "    .dataframe tbody tr th:only-of-type {\n",
       "        vertical-align: middle;\n",
       "    }\n",
       "\n",
       "    .dataframe tbody tr th {\n",
       "        vertical-align: top;\n",
       "    }\n",
       "\n",
       "    .dataframe thead tr th {\n",
       "        text-align: left;\n",
       "    }\n",
       "\n",
       "    .dataframe thead tr:last-of-type th {\n",
       "        text-align: right;\n",
       "    }\n",
       "</style>\n",
       "<table border=\"1\" class=\"dataframe\">\n",
       "  <thead>\n",
       "    <tr>\n",
       "      <th></th>\n",
       "      <th colspan=\"2\" halign=\"left\">GDP_PerCapita</th>\n",
       "      <th colspan=\"2\" halign=\"left\">Happiness_Rank</th>\n",
       "      <th colspan=\"2\" halign=\"left\">Percentage</th>\n",
       "    </tr>\n",
       "    <tr>\n",
       "      <th></th>\n",
       "      <th>mean</th>\n",
       "      <th>median</th>\n",
       "      <th>mean</th>\n",
       "      <th>median</th>\n",
       "      <th>mean</th>\n",
       "      <th>median</th>\n",
       "    </tr>\n",
       "    <tr>\n",
       "      <th>Cluster</th>\n",
       "      <th></th>\n",
       "      <th></th>\n",
       "      <th></th>\n",
       "      <th></th>\n",
       "      <th></th>\n",
       "      <th></th>\n",
       "    </tr>\n",
       "  </thead>\n",
       "  <tbody>\n",
       "    <tr>\n",
       "      <th>High GDP PerCapita</th>\n",
       "      <td>14644.933132</td>\n",
       "      <td>14617.604480</td>\n",
       "      <td>41.200000</td>\n",
       "      <td>37.0</td>\n",
       "      <td>62.677241</td>\n",
       "      <td>67.300003</td>\n",
       "    </tr>\n",
       "    <tr>\n",
       "      <th>Low GDP PerCapita</th>\n",
       "      <td>1393.189106</td>\n",
       "      <td>1209.072738</td>\n",
       "      <td>115.026316</td>\n",
       "      <td>117.5</td>\n",
       "      <td>22.996935</td>\n",
       "      <td>19.302684</td>\n",
       "    </tr>\n",
       "    <tr>\n",
       "      <th>Mid-High GDP PerCapita</th>\n",
       "      <td>8189.003530</td>\n",
       "      <td>7507.160971</td>\n",
       "      <td>74.411765</td>\n",
       "      <td>69.0</td>\n",
       "      <td>71.682070</td>\n",
       "      <td>71.699997</td>\n",
       "    </tr>\n",
       "    <tr>\n",
       "      <th>Mid-Low GDP PerCapita</th>\n",
       "      <td>4538.384346</td>\n",
       "      <td>4558.662407</td>\n",
       "      <td>88.708333</td>\n",
       "      <td>84.5</td>\n",
       "      <td>62.546030</td>\n",
       "      <td>64.386515</td>\n",
       "    </tr>\n",
       "  </tbody>\n",
       "</table>\n",
       "</div>"
      ],
      "text/plain": [
       "                       GDP_PerCapita               Happiness_Rank         \\\n",
       "                                mean        median           mean median   \n",
       "Cluster                                                                    \n",
       "High GDP PerCapita      14644.933132  14617.604480      41.200000   37.0   \n",
       "Low GDP PerCapita        1393.189106   1209.072738     115.026316  117.5   \n",
       "Mid-High GDP PerCapita   8189.003530   7507.160971      74.411765   69.0   \n",
       "Mid-Low GDP PerCapita    4538.384346   4558.662407      88.708333   84.5   \n",
       "\n",
       "                       Percentage             \n",
       "                             mean     median  \n",
       "Cluster                                       \n",
       "High GDP PerCapita      62.677241  67.300003  \n",
       "Low GDP PerCapita       22.996935  19.302684  \n",
       "Mid-High GDP PerCapita  71.682070  71.699997  \n",
       "Mid-Low GDP PerCapita   62.546030  64.386515  "
      ]
     },
     "execution_count": 67,
     "metadata": {},
     "output_type": "execute_result"
    }
   ],
   "source": [
    "df_upsec_comp_F.groupby('Cluster').agg({'GDP_PerCapita':['mean', 'median'], \n",
    "                         'Happiness_Rank':['mean', 'median'], \n",
    "                         'Percentage':['mean', 'median']})"
   ]
  },
  {
   "cell_type": "markdown",
   "id": "65bcc197",
   "metadata": {},
   "source": [
    "For females at upper secondary level, a median percentage of completion of more than 64% is required to at least have mid to high GDPs (compared to male at 55%). Low GDP countries have only 19% females completing their education."
   ]
  },
  {
   "cell_type": "code",
   "execution_count": 69,
   "id": "496324aa",
   "metadata": {},
   "outputs": [],
   "source": [
    "df_upsec_comp_F_stats = df_upsec_comp_F.groupby('Cluster').agg({'GDP_PerCapita':['mean', 'median'], \n",
    "                         'Happiness_Rank':['mean', 'median'], \n",
    "                         'Percentage':['mean', 'median']})"
   ]
  },
  {
   "cell_type": "code",
   "execution_count": 71,
   "id": "6874ee8c",
   "metadata": {
    "scrolled": true
   },
   "outputs": [
    {
     "data": {
      "text/html": [
       "<div>\n",
       "<style scoped>\n",
       "    .dataframe tbody tr th:only-of-type {\n",
       "        vertical-align: middle;\n",
       "    }\n",
       "\n",
       "    .dataframe tbody tr th {\n",
       "        vertical-align: top;\n",
       "    }\n",
       "\n",
       "    .dataframe thead tr th {\n",
       "        text-align: left;\n",
       "    }\n",
       "\n",
       "    .dataframe thead tr:last-of-type th {\n",
       "        text-align: right;\n",
       "    }\n",
       "</style>\n",
       "<table border=\"1\" class=\"dataframe\">\n",
       "  <thead>\n",
       "    <tr>\n",
       "      <th></th>\n",
       "      <th colspan=\"2\" halign=\"left\">GDP_PerCapita</th>\n",
       "      <th colspan=\"2\" halign=\"left\">Happiness_Rank</th>\n",
       "      <th colspan=\"2\" halign=\"left\">Percentage</th>\n",
       "    </tr>\n",
       "    <tr>\n",
       "      <th></th>\n",
       "      <th>mean</th>\n",
       "      <th>median</th>\n",
       "      <th>mean</th>\n",
       "      <th>median</th>\n",
       "      <th>mean</th>\n",
       "      <th>median</th>\n",
       "    </tr>\n",
       "    <tr>\n",
       "      <th>Cluster</th>\n",
       "      <th></th>\n",
       "      <th></th>\n",
       "      <th></th>\n",
       "      <th></th>\n",
       "      <th></th>\n",
       "      <th></th>\n",
       "    </tr>\n",
       "  </thead>\n",
       "  <tbody>\n",
       "    <tr>\n",
       "      <th>High GDP PerCapita</th>\n",
       "      <td>14644.933132</td>\n",
       "      <td>14617.604480</td>\n",
       "      <td>41.200000</td>\n",
       "      <td>37.0</td>\n",
       "      <td>62.677241</td>\n",
       "      <td>67.300003</td>\n",
       "    </tr>\n",
       "    <tr>\n",
       "      <th>Low GDP PerCapita</th>\n",
       "      <td>1393.189106</td>\n",
       "      <td>1209.072738</td>\n",
       "      <td>115.026316</td>\n",
       "      <td>117.5</td>\n",
       "      <td>22.996935</td>\n",
       "      <td>19.302684</td>\n",
       "    </tr>\n",
       "    <tr>\n",
       "      <th>Mid-High GDP PerCapita</th>\n",
       "      <td>8189.003530</td>\n",
       "      <td>7507.160971</td>\n",
       "      <td>74.411765</td>\n",
       "      <td>69.0</td>\n",
       "      <td>71.682070</td>\n",
       "      <td>71.699997</td>\n",
       "    </tr>\n",
       "    <tr>\n",
       "      <th>Mid-Low GDP PerCapita</th>\n",
       "      <td>4538.384346</td>\n",
       "      <td>4558.662407</td>\n",
       "      <td>88.708333</td>\n",
       "      <td>84.5</td>\n",
       "      <td>62.546030</td>\n",
       "      <td>64.386515</td>\n",
       "    </tr>\n",
       "  </tbody>\n",
       "</table>\n",
       "</div>"
      ],
      "text/plain": [
       "                       GDP_PerCapita               Happiness_Rank         \\\n",
       "                                mean        median           mean median   \n",
       "Cluster                                                                    \n",
       "High GDP PerCapita      14644.933132  14617.604480      41.200000   37.0   \n",
       "Low GDP PerCapita        1393.189106   1209.072738     115.026316  117.5   \n",
       "Mid-High GDP PerCapita   8189.003530   7507.160971      74.411765   69.0   \n",
       "Mid-Low GDP PerCapita    4538.384346   4558.662407      88.708333   84.5   \n",
       "\n",
       "                       Percentage             \n",
       "                             mean     median  \n",
       "Cluster                                       \n",
       "High GDP PerCapita      62.677241  67.300003  \n",
       "Low GDP PerCapita       22.996935  19.302684  \n",
       "Mid-High GDP PerCapita  71.682070  71.699997  \n",
       "Mid-Low GDP PerCapita   62.546030  64.386515  "
      ]
     },
     "execution_count": 71,
     "metadata": {},
     "output_type": "execute_result"
    }
   ],
   "source": [
    "df_upsec_comp_F_stats.head()"
   ]
  },
  {
   "cell_type": "code",
   "execution_count": 72,
   "id": "7edc932f",
   "metadata": {},
   "outputs": [],
   "source": [
    "# Export data\n",
    "df_upsec_comp_F_stats.to_csv(os.path.join(path,'02 Data','Prepared Data', 'stats_upsec_comp_F.csv'))"
   ]
  },
  {
   "cell_type": "markdown",
   "id": "8b65beff",
   "metadata": {},
   "source": [
    "# 5. Discussion"
   ]
  },
  {
   "cell_type": "markdown",
   "id": "2f8ea8a1",
   "metadata": {},
   "source": [
    "In summary,\n",
    "\n",
    "1. For males, a median completion rate at primary level of at least 68% is required to possibly lift the country out of the low GDP per Capita cluster. For females at primary level, a median of more than 71% completion rate is required to put the country out of the low GDP PerCapita cluster.\n",
    "2. At Uppersecondary level, for males, having more than 55% completion rate will place the country in mid to high GDP per capita. For female, more than 64% completion rate is required at this level to place the country in mid to high GDP.\n",
    "Based on this, the data is possibly suggesting the importance of ensuring children are enabled to complete their education, as it has a possible correlation to the GDP as well as the country's happiness rank. More importantly, data shows that countries in mid to high GDP countries have higher percentage of women completing their studies at 64% compared to the male median at 55%. This shows the importance gender equity to enable females completing their education for the benefit of the country. Pushing the female uppersecondary completion rate in the low GDP countries to more than just 19% might just tilt the country's GDP. This may be the next steps we might want to explore."
   ]
  }
 ],
 "metadata": {
  "kernelspec": {
   "display_name": "Python 3",
   "language": "python",
   "name": "python3"
  },
  "language_info": {
   "codemirror_mode": {
    "name": "ipython",
    "version": 3
   },
   "file_extension": ".py",
   "mimetype": "text/x-python",
   "name": "python",
   "nbconvert_exporter": "python",
   "pygments_lexer": "ipython3",
   "version": "3.9.12"
  }
 },
 "nbformat": 4,
 "nbformat_minor": 5
}
