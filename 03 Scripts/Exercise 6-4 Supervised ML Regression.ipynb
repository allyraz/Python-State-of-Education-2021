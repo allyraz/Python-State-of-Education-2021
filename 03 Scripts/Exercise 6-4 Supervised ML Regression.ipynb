{
 "cells": [
  {
   "cell_type": "markdown",
   "id": "f0d38742",
   "metadata": {},
   "source": [
    "# 0. Content\n",
    "\n",
    "    1. Import Library & Data\n",
    "    2. Data Cleaning & Prepping\n",
    "    3. Visual Exploration\n",
    "    4. Running Regression\n",
    "    5. Discussion\n",
    "    6. Additional Analysis on Education Completion with Happiness Rank\n",
    "    7. Additional: How much of GDP is correlated to Happines Rank"
   ]
  },
  {
   "cell_type": "markdown",
   "id": "85adacf4",
   "metadata": {},
   "source": [
    "# 1. Import Library & Data"
   ]
  },
  {
   "cell_type": "code",
   "execution_count": 1,
   "id": "1aec1180",
   "metadata": {},
   "outputs": [],
   "source": [
    "import pandas as pd\n",
    "import numpy as np\n",
    "import os\n",
    "import matplotlib\n",
    "import matplotlib.pyplot as plt\n",
    "import seaborn as sns\n",
    "import sklearn\n",
    "from sklearn.model_selection import train_test_split\n",
    "from sklearn.linear_model import LinearRegression\n",
    "from sklearn.metrics import mean_squared_error, r2_score"
   ]
  },
  {
   "cell_type": "code",
   "execution_count": 2,
   "id": "f73d3e37",
   "metadata": {},
   "outputs": [],
   "source": [
    "path = r'C:\\Users\\Azalia\\Documents\\Projects\\Self-Study\\CareerFoundry\\Education Completion Analysis'"
   ]
  },
  {
   "cell_type": "code",
   "execution_count": 3,
   "id": "8fa39bc1",
   "metadata": {},
   "outputs": [],
   "source": [
    "df = pd.read_csv(os.path.join(path,'02 Data', 'Prepared Data','State_of_Education.csv'))"
   ]
  },
  {
   "cell_type": "code",
   "execution_count": 4,
   "id": "24697370",
   "metadata": {},
   "outputs": [
    {
     "data": {
      "text/html": [
       "<div>\n",
       "<style scoped>\n",
       "    .dataframe tbody tr th:only-of-type {\n",
       "        vertical-align: middle;\n",
       "    }\n",
       "\n",
       "    .dataframe tbody tr th {\n",
       "        vertical-align: top;\n",
       "    }\n",
       "\n",
       "    .dataframe thead th {\n",
       "        text-align: right;\n",
       "    }\n",
       "</style>\n",
       "<table border=\"1\" class=\"dataframe\">\n",
       "  <thead>\n",
       "    <tr style=\"text-align: right;\">\n",
       "      <th></th>\n",
       "      <th>Country</th>\n",
       "      <th>Indicator</th>\n",
       "      <th>Gender</th>\n",
       "      <th>Education_Level</th>\n",
       "      <th>Wealth_Quintile</th>\n",
       "      <th>Residence</th>\n",
       "      <th>Data_Year</th>\n",
       "      <th>Percentage</th>\n",
       "      <th>Data_Source</th>\n",
       "      <th>Happiness_Rank</th>\n",
       "      <th>Country_Code</th>\n",
       "      <th>GDP_PerCapita</th>\n",
       "      <th>Region</th>\n",
       "      <th>Income_Group</th>\n",
       "    </tr>\n",
       "  </thead>\n",
       "  <tbody>\n",
       "    <tr>\n",
       "      <th>0</th>\n",
       "      <td>Afghanistan</td>\n",
       "      <td>Completion rate for children of primary school...</td>\n",
       "      <td>Female</td>\n",
       "      <td>Primary</td>\n",
       "      <td>Total</td>\n",
       "      <td>Total</td>\n",
       "      <td>2015</td>\n",
       "      <td>40.200001</td>\n",
       "      <td>DHS 2015</td>\n",
       "      <td>146.0</td>\n",
       "      <td>AFG</td>\n",
       "      <td>368.754614</td>\n",
       "      <td>South Asia</td>\n",
       "      <td>Low income</td>\n",
       "    </tr>\n",
       "    <tr>\n",
       "      <th>1</th>\n",
       "      <td>Afghanistan</td>\n",
       "      <td>Completion rate for children of primary school...</td>\n",
       "      <td>Male</td>\n",
       "      <td>Primary</td>\n",
       "      <td>Total</td>\n",
       "      <td>Total</td>\n",
       "      <td>2015</td>\n",
       "      <td>67.199997</td>\n",
       "      <td>DHS 2015</td>\n",
       "      <td>146.0</td>\n",
       "      <td>AFG</td>\n",
       "      <td>368.754614</td>\n",
       "      <td>South Asia</td>\n",
       "      <td>Low income</td>\n",
       "    </tr>\n",
       "    <tr>\n",
       "      <th>2</th>\n",
       "      <td>Afghanistan</td>\n",
       "      <td>Completion rate for youth of upper secondary e...</td>\n",
       "      <td>Female</td>\n",
       "      <td>Upper Secondary</td>\n",
       "      <td>Not Available</td>\n",
       "      <td>Not Available</td>\n",
       "      <td>2015</td>\n",
       "      <td>14.365360</td>\n",
       "      <td>DHS 2015</td>\n",
       "      <td>146.0</td>\n",
       "      <td>AFG</td>\n",
       "      <td>368.754614</td>\n",
       "      <td>South Asia</td>\n",
       "      <td>Low income</td>\n",
       "    </tr>\n",
       "    <tr>\n",
       "      <th>3</th>\n",
       "      <td>Afghanistan</td>\n",
       "      <td>Completion rate for youth of upper secondary e...</td>\n",
       "      <td>Male</td>\n",
       "      <td>Upper Secondary</td>\n",
       "      <td>Not Available</td>\n",
       "      <td>Not Available</td>\n",
       "      <td>2015</td>\n",
       "      <td>32.315559</td>\n",
       "      <td>DHS 2015</td>\n",
       "      <td>146.0</td>\n",
       "      <td>AFG</td>\n",
       "      <td>368.754614</td>\n",
       "      <td>South Asia</td>\n",
       "      <td>Low income</td>\n",
       "    </tr>\n",
       "    <tr>\n",
       "      <th>4</th>\n",
       "      <td>Afghanistan</td>\n",
       "      <td>Completion rate for adolescents of lower secon...</td>\n",
       "      <td>Female</td>\n",
       "      <td>Lower Secondary</td>\n",
       "      <td>Not Available</td>\n",
       "      <td>Not Available</td>\n",
       "      <td>2015</td>\n",
       "      <td>25.631340</td>\n",
       "      <td>DHS 2015</td>\n",
       "      <td>146.0</td>\n",
       "      <td>AFG</td>\n",
       "      <td>368.754614</td>\n",
       "      <td>South Asia</td>\n",
       "      <td>Low income</td>\n",
       "    </tr>\n",
       "  </tbody>\n",
       "</table>\n",
       "</div>"
      ],
      "text/plain": [
       "       Country                                          Indicator  Gender  \\\n",
       "0  Afghanistan  Completion rate for children of primary school...  Female   \n",
       "1  Afghanistan  Completion rate for children of primary school...    Male   \n",
       "2  Afghanistan  Completion rate for youth of upper secondary e...  Female   \n",
       "3  Afghanistan  Completion rate for youth of upper secondary e...    Male   \n",
       "4  Afghanistan  Completion rate for adolescents of lower secon...  Female   \n",
       "\n",
       "   Education_Level Wealth_Quintile      Residence  Data_Year  Percentage  \\\n",
       "0          Primary           Total          Total       2015   40.200001   \n",
       "1          Primary           Total          Total       2015   67.199997   \n",
       "2  Upper Secondary   Not Available  Not Available       2015   14.365360   \n",
       "3  Upper Secondary   Not Available  Not Available       2015   32.315559   \n",
       "4  Lower Secondary   Not Available  Not Available       2015   25.631340   \n",
       "\n",
       "  Data_Source  Happiness_Rank Country_Code  GDP_PerCapita      Region  \\\n",
       "0    DHS 2015           146.0          AFG     368.754614  South Asia   \n",
       "1    DHS 2015           146.0          AFG     368.754614  South Asia   \n",
       "2    DHS 2015           146.0          AFG     368.754614  South Asia   \n",
       "3    DHS 2015           146.0          AFG     368.754614  South Asia   \n",
       "4    DHS 2015           146.0          AFG     368.754614  South Asia   \n",
       "\n",
       "  Income_Group  \n",
       "0   Low income  \n",
       "1   Low income  \n",
       "2   Low income  \n",
       "3   Low income  \n",
       "4   Low income  "
      ]
     },
     "execution_count": 4,
     "metadata": {},
     "output_type": "execute_result"
    }
   ],
   "source": [
    "df.head()"
   ]
  },
  {
   "cell_type": "markdown",
   "id": "9c3d27d1",
   "metadata": {},
   "source": [
    "# 2. Data Cleaning & Prepping"
   ]
  },
  {
   "cell_type": "code",
   "execution_count": 5,
   "id": "800df542",
   "metadata": {},
   "outputs": [],
   "source": [
    "# Using necessary columns\n",
    "df = df[['Country','Indicator','Gender','Percentage','Happiness_Rank','GDP_PerCapita','Income_Group']]"
   ]
  },
  {
   "cell_type": "code",
   "execution_count": 6,
   "id": "a99b235f",
   "metadata": {},
   "outputs": [
    {
     "data": {
      "text/html": [
       "<div>\n",
       "<style scoped>\n",
       "    .dataframe tbody tr th:only-of-type {\n",
       "        vertical-align: middle;\n",
       "    }\n",
       "\n",
       "    .dataframe tbody tr th {\n",
       "        vertical-align: top;\n",
       "    }\n",
       "\n",
       "    .dataframe thead th {\n",
       "        text-align: right;\n",
       "    }\n",
       "</style>\n",
       "<table border=\"1\" class=\"dataframe\">\n",
       "  <thead>\n",
       "    <tr style=\"text-align: right;\">\n",
       "      <th></th>\n",
       "      <th>Country</th>\n",
       "      <th>Indicator</th>\n",
       "      <th>Gender</th>\n",
       "      <th>Percentage</th>\n",
       "      <th>Happiness_Rank</th>\n",
       "      <th>GDP_PerCapita</th>\n",
       "      <th>Income_Group</th>\n",
       "    </tr>\n",
       "  </thead>\n",
       "  <tbody>\n",
       "    <tr>\n",
       "      <th>0</th>\n",
       "      <td>Afghanistan</td>\n",
       "      <td>Completion rate for children of primary school...</td>\n",
       "      <td>Female</td>\n",
       "      <td>40.200001</td>\n",
       "      <td>146.0</td>\n",
       "      <td>368.754614</td>\n",
       "      <td>Low income</td>\n",
       "    </tr>\n",
       "    <tr>\n",
       "      <th>1</th>\n",
       "      <td>Afghanistan</td>\n",
       "      <td>Completion rate for children of primary school...</td>\n",
       "      <td>Male</td>\n",
       "      <td>67.199997</td>\n",
       "      <td>146.0</td>\n",
       "      <td>368.754614</td>\n",
       "      <td>Low income</td>\n",
       "    </tr>\n",
       "    <tr>\n",
       "      <th>2</th>\n",
       "      <td>Afghanistan</td>\n",
       "      <td>Completion rate for youth of upper secondary e...</td>\n",
       "      <td>Female</td>\n",
       "      <td>14.365360</td>\n",
       "      <td>146.0</td>\n",
       "      <td>368.754614</td>\n",
       "      <td>Low income</td>\n",
       "    </tr>\n",
       "    <tr>\n",
       "      <th>3</th>\n",
       "      <td>Afghanistan</td>\n",
       "      <td>Completion rate for youth of upper secondary e...</td>\n",
       "      <td>Male</td>\n",
       "      <td>32.315559</td>\n",
       "      <td>146.0</td>\n",
       "      <td>368.754614</td>\n",
       "      <td>Low income</td>\n",
       "    </tr>\n",
       "    <tr>\n",
       "      <th>4</th>\n",
       "      <td>Afghanistan</td>\n",
       "      <td>Completion rate for adolescents of lower secon...</td>\n",
       "      <td>Female</td>\n",
       "      <td>25.631340</td>\n",
       "      <td>146.0</td>\n",
       "      <td>368.754614</td>\n",
       "      <td>Low income</td>\n",
       "    </tr>\n",
       "  </tbody>\n",
       "</table>\n",
       "</div>"
      ],
      "text/plain": [
       "       Country                                          Indicator  Gender  \\\n",
       "0  Afghanistan  Completion rate for children of primary school...  Female   \n",
       "1  Afghanistan  Completion rate for children of primary school...    Male   \n",
       "2  Afghanistan  Completion rate for youth of upper secondary e...  Female   \n",
       "3  Afghanistan  Completion rate for youth of upper secondary e...    Male   \n",
       "4  Afghanistan  Completion rate for adolescents of lower secon...  Female   \n",
       "\n",
       "   Percentage  Happiness_Rank  GDP_PerCapita Income_Group  \n",
       "0   40.200001           146.0     368.754614   Low income  \n",
       "1   67.199997           146.0     368.754614   Low income  \n",
       "2   14.365360           146.0     368.754614   Low income  \n",
       "3   32.315559           146.0     368.754614   Low income  \n",
       "4   25.631340           146.0     368.754614   Low income  "
      ]
     },
     "execution_count": 6,
     "metadata": {},
     "output_type": "execute_result"
    }
   ],
   "source": [
    "df.head()"
   ]
  },
  {
   "cell_type": "code",
   "execution_count": 7,
   "id": "bd104d9a",
   "metadata": {
    "scrolled": true
   },
   "outputs": [
    {
     "data": {
      "text/html": [
       "<div>\n",
       "<style scoped>\n",
       "    .dataframe tbody tr th:only-of-type {\n",
       "        vertical-align: middle;\n",
       "    }\n",
       "\n",
       "    .dataframe tbody tr th {\n",
       "        vertical-align: top;\n",
       "    }\n",
       "\n",
       "    .dataframe thead th {\n",
       "        text-align: right;\n",
       "    }\n",
       "</style>\n",
       "<table border=\"1\" class=\"dataframe\">\n",
       "  <thead>\n",
       "    <tr style=\"text-align: right;\">\n",
       "      <th></th>\n",
       "      <th>Country</th>\n",
       "      <th>Indicator</th>\n",
       "      <th>Gender</th>\n",
       "      <th>Percentage</th>\n",
       "      <th>Happiness_Rank</th>\n",
       "      <th>GDP_PerCapita</th>\n",
       "      <th>Income_Group</th>\n",
       "    </tr>\n",
       "  </thead>\n",
       "  <tbody>\n",
       "    <tr>\n",
       "      <th>0</th>\n",
       "      <td>Afghanistan</td>\n",
       "      <td>Completion rate for children of primary school...</td>\n",
       "      <td>Female</td>\n",
       "      <td>40.200001</td>\n",
       "      <td>146.0</td>\n",
       "      <td>368.754614</td>\n",
       "      <td>Low income</td>\n",
       "    </tr>\n",
       "    <tr>\n",
       "      <th>1</th>\n",
       "      <td>Afghanistan</td>\n",
       "      <td>Completion rate for children of primary school...</td>\n",
       "      <td>Male</td>\n",
       "      <td>67.199997</td>\n",
       "      <td>146.0</td>\n",
       "      <td>368.754614</td>\n",
       "      <td>Low income</td>\n",
       "    </tr>\n",
       "    <tr>\n",
       "      <th>8</th>\n",
       "      <td>Angola</td>\n",
       "      <td>Completion rate for children of primary school...</td>\n",
       "      <td>Female</td>\n",
       "      <td>56.631340</td>\n",
       "      <td>NaN</td>\n",
       "      <td>1953.533757</td>\n",
       "      <td>Lower middle income</td>\n",
       "    </tr>\n",
       "    <tr>\n",
       "      <th>9</th>\n",
       "      <td>Angola</td>\n",
       "      <td>Completion rate for children of primary school...</td>\n",
       "      <td>Male</td>\n",
       "      <td>63.278900</td>\n",
       "      <td>NaN</td>\n",
       "      <td>1953.533757</td>\n",
       "      <td>Lower middle income</td>\n",
       "    </tr>\n",
       "    <tr>\n",
       "      <th>14</th>\n",
       "      <td>Albania</td>\n",
       "      <td>Completion rate for children of primary school...</td>\n",
       "      <td>Female</td>\n",
       "      <td>95.698372</td>\n",
       "      <td>90.0</td>\n",
       "      <td>6492.872012</td>\n",
       "      <td>Upper middle income</td>\n",
       "    </tr>\n",
       "    <tr>\n",
       "      <th>...</th>\n",
       "      <td>...</td>\n",
       "      <td>...</td>\n",
       "      <td>...</td>\n",
       "      <td>...</td>\n",
       "      <td>...</td>\n",
       "      <td>...</td>\n",
       "      <td>...</td>\n",
       "    </tr>\n",
       "    <tr>\n",
       "      <th>1089</th>\n",
       "      <td>Zambia</td>\n",
       "      <td>Completion rate for children of primary school...</td>\n",
       "      <td>Male</td>\n",
       "      <td>70.944771</td>\n",
       "      <td>137.0</td>\n",
       "      <td>1137.343633</td>\n",
       "      <td>Low income</td>\n",
       "    </tr>\n",
       "    <tr>\n",
       "      <th>1096</th>\n",
       "      <td>Zimbabwe</td>\n",
       "      <td>Completion rate for children of primary school...</td>\n",
       "      <td>Female</td>\n",
       "      <td>91.599998</td>\n",
       "      <td>144.0</td>\n",
       "      <td>1773.920411</td>\n",
       "      <td>Lower middle income</td>\n",
       "    </tr>\n",
       "    <tr>\n",
       "      <th>1097</th>\n",
       "      <td>Zimbabwe</td>\n",
       "      <td>Completion rate for children of primary school...</td>\n",
       "      <td>Male</td>\n",
       "      <td>86.400002</td>\n",
       "      <td>144.0</td>\n",
       "      <td>1773.920411</td>\n",
       "      <td>Lower middle income</td>\n",
       "    </tr>\n",
       "    <tr>\n",
       "      <th>1106</th>\n",
       "      <td>Kosovo</td>\n",
       "      <td>Completion rate for children of primary school...</td>\n",
       "      <td>Female</td>\n",
       "      <td>98.800000</td>\n",
       "      <td>32.0</td>\n",
       "      <td>5269.783901</td>\n",
       "      <td>Upper middle income</td>\n",
       "    </tr>\n",
       "    <tr>\n",
       "      <th>1107</th>\n",
       "      <td>Kosovo</td>\n",
       "      <td>Completion rate for children of primary school...</td>\n",
       "      <td>Male</td>\n",
       "      <td>98.100000</td>\n",
       "      <td>32.0</td>\n",
       "      <td>5269.783901</td>\n",
       "      <td>Upper middle income</td>\n",
       "    </tr>\n",
       "  </tbody>\n",
       "</table>\n",
       "<p>214 rows × 7 columns</p>\n",
       "</div>"
      ],
      "text/plain": [
       "          Country                                          Indicator  Gender  \\\n",
       "0     Afghanistan  Completion rate for children of primary school...  Female   \n",
       "1     Afghanistan  Completion rate for children of primary school...    Male   \n",
       "8          Angola  Completion rate for children of primary school...  Female   \n",
       "9          Angola  Completion rate for children of primary school...    Male   \n",
       "14        Albania  Completion rate for children of primary school...  Female   \n",
       "...           ...                                                ...     ...   \n",
       "1089       Zambia  Completion rate for children of primary school...    Male   \n",
       "1096     Zimbabwe  Completion rate for children of primary school...  Female   \n",
       "1097     Zimbabwe  Completion rate for children of primary school...    Male   \n",
       "1106       Kosovo  Completion rate for children of primary school...  Female   \n",
       "1107       Kosovo  Completion rate for children of primary school...    Male   \n",
       "\n",
       "      Percentage  Happiness_Rank  GDP_PerCapita         Income_Group  \n",
       "0      40.200001           146.0     368.754614           Low income  \n",
       "1      67.199997           146.0     368.754614           Low income  \n",
       "8      56.631340             NaN    1953.533757  Lower middle income  \n",
       "9      63.278900             NaN    1953.533757  Lower middle income  \n",
       "14     95.698372            90.0    6492.872012  Upper middle income  \n",
       "...          ...             ...            ...                  ...  \n",
       "1089   70.944771           137.0    1137.343633           Low income  \n",
       "1096   91.599998           144.0    1773.920411  Lower middle income  \n",
       "1097   86.400002           144.0    1773.920411  Lower middle income  \n",
       "1106   98.800000            32.0    5269.783901  Upper middle income  \n",
       "1107   98.100000            32.0    5269.783901  Upper middle income  \n",
       "\n",
       "[214 rows x 7 columns]"
      ]
     },
     "execution_count": 7,
     "metadata": {},
     "output_type": "execute_result"
    }
   ],
   "source": [
    "# Creating subset for primary level completion rates \n",
    "df_prim_comp = df[df['Indicator']=='Completion rate for children of primary school age']\n",
    "df_prim_comp"
   ]
  },
  {
   "cell_type": "code",
   "execution_count": 8,
   "id": "42b03b3b",
   "metadata": {
    "scrolled": true
   },
   "outputs": [
    {
     "data": {
      "text/plain": [
       "Country            0\n",
       "Indicator          0\n",
       "Gender             0\n",
       "Percentage         0\n",
       "Happiness_Rank    40\n",
       "GDP_PerCapita      8\n",
       "Income_Group       0\n",
       "dtype: int64"
      ]
     },
     "execution_count": 8,
     "metadata": {},
     "output_type": "execute_result"
    }
   ],
   "source": [
    "#Check for missing values\n",
    "df_prim_comp.isnull().sum()"
   ]
  },
  {
   "cell_type": "code",
   "execution_count": 9,
   "id": "8537d3c5",
   "metadata": {
    "scrolled": true
   },
   "outputs": [
    {
     "data": {
      "text/html": [
       "<div>\n",
       "<style scoped>\n",
       "    .dataframe tbody tr th:only-of-type {\n",
       "        vertical-align: middle;\n",
       "    }\n",
       "\n",
       "    .dataframe tbody tr th {\n",
       "        vertical-align: top;\n",
       "    }\n",
       "\n",
       "    .dataframe thead th {\n",
       "        text-align: right;\n",
       "    }\n",
       "</style>\n",
       "<table border=\"1\" class=\"dataframe\">\n",
       "  <thead>\n",
       "    <tr style=\"text-align: right;\">\n",
       "      <th></th>\n",
       "      <th>Country</th>\n",
       "      <th>Indicator</th>\n",
       "      <th>Gender</th>\n",
       "      <th>Percentage</th>\n",
       "      <th>Happiness_Rank</th>\n",
       "      <th>GDP_PerCapita</th>\n",
       "      <th>Income_Group</th>\n",
       "    </tr>\n",
       "  </thead>\n",
       "  <tbody>\n",
       "    <tr>\n",
       "      <th>268</th>\n",
       "      <td>Cuba</td>\n",
       "      <td>Completion rate for children of primary school...</td>\n",
       "      <td>Female</td>\n",
       "      <td>99.840607</td>\n",
       "      <td>NaN</td>\n",
       "      <td>NaN</td>\n",
       "      <td>Upper middle income</td>\n",
       "    </tr>\n",
       "    <tr>\n",
       "      <th>269</th>\n",
       "      <td>Cuba</td>\n",
       "      <td>Completion rate for children of primary school...</td>\n",
       "      <td>Male</td>\n",
       "      <td>99.500000</td>\n",
       "      <td>NaN</td>\n",
       "      <td>NaN</td>\n",
       "      <td>Upper middle income</td>\n",
       "    </tr>\n",
       "    <tr>\n",
       "      <th>758</th>\n",
       "      <td>Democratic People's Republic of Korea</td>\n",
       "      <td>Completion rate for children of primary school...</td>\n",
       "      <td>Female</td>\n",
       "      <td>100.000000</td>\n",
       "      <td>59.0</td>\n",
       "      <td>NaN</td>\n",
       "      <td>Low income</td>\n",
       "    </tr>\n",
       "    <tr>\n",
       "      <th>759</th>\n",
       "      <td>Democratic People's Republic of Korea</td>\n",
       "      <td>Completion rate for children of primary school...</td>\n",
       "      <td>Male</td>\n",
       "      <td>100.000000</td>\n",
       "      <td>59.0</td>\n",
       "      <td>NaN</td>\n",
       "      <td>Low income</td>\n",
       "    </tr>\n",
       "    <tr>\n",
       "      <th>944</th>\n",
       "      <td>Turkmenistan</td>\n",
       "      <td>Completion rate for children of primary school...</td>\n",
       "      <td>Female</td>\n",
       "      <td>100.000000</td>\n",
       "      <td>78.0</td>\n",
       "      <td>NaN</td>\n",
       "      <td>Upper middle income</td>\n",
       "    </tr>\n",
       "    <tr>\n",
       "      <th>945</th>\n",
       "      <td>Turkmenistan</td>\n",
       "      <td>Completion rate for children of primary school...</td>\n",
       "      <td>Male</td>\n",
       "      <td>100.000000</td>\n",
       "      <td>78.0</td>\n",
       "      <td>NaN</td>\n",
       "      <td>Upper middle income</td>\n",
       "    </tr>\n",
       "    <tr>\n",
       "      <th>1064</th>\n",
       "      <td>Yemen</td>\n",
       "      <td>Completion rate for children of primary school...</td>\n",
       "      <td>Female</td>\n",
       "      <td>54.799999</td>\n",
       "      <td>132.0</td>\n",
       "      <td>NaN</td>\n",
       "      <td>Low income</td>\n",
       "    </tr>\n",
       "    <tr>\n",
       "      <th>1065</th>\n",
       "      <td>Yemen</td>\n",
       "      <td>Completion rate for children of primary school...</td>\n",
       "      <td>Male</td>\n",
       "      <td>70.300003</td>\n",
       "      <td>132.0</td>\n",
       "      <td>NaN</td>\n",
       "      <td>Low income</td>\n",
       "    </tr>\n",
       "  </tbody>\n",
       "</table>\n",
       "</div>"
      ],
      "text/plain": [
       "                                    Country  \\\n",
       "268                                    Cuba   \n",
       "269                                    Cuba   \n",
       "758   Democratic People's Republic of Korea   \n",
       "759   Democratic People's Republic of Korea   \n",
       "944                            Turkmenistan   \n",
       "945                            Turkmenistan   \n",
       "1064                                  Yemen   \n",
       "1065                                  Yemen   \n",
       "\n",
       "                                              Indicator  Gender  Percentage  \\\n",
       "268   Completion rate for children of primary school...  Female   99.840607   \n",
       "269   Completion rate for children of primary school...    Male   99.500000   \n",
       "758   Completion rate for children of primary school...  Female  100.000000   \n",
       "759   Completion rate for children of primary school...    Male  100.000000   \n",
       "944   Completion rate for children of primary school...  Female  100.000000   \n",
       "945   Completion rate for children of primary school...    Male  100.000000   \n",
       "1064  Completion rate for children of primary school...  Female   54.799999   \n",
       "1065  Completion rate for children of primary school...    Male   70.300003   \n",
       "\n",
       "      Happiness_Rank  GDP_PerCapita         Income_Group  \n",
       "268              NaN            NaN  Upper middle income  \n",
       "269              NaN            NaN  Upper middle income  \n",
       "758             59.0            NaN           Low income  \n",
       "759             59.0            NaN           Low income  \n",
       "944             78.0            NaN  Upper middle income  \n",
       "945             78.0            NaN  Upper middle income  \n",
       "1064           132.0            NaN           Low income  \n",
       "1065           132.0            NaN           Low income  "
      ]
     },
     "execution_count": 9,
     "metadata": {},
     "output_type": "execute_result"
    }
   ],
   "source": [
    "df_GDPnan = df_prim_comp[df_prim_comp['GDP_PerCapita'].isnull()==True]\n",
    "df_GDPnan"
   ]
  },
  {
   "cell_type": "markdown",
   "id": "07228e0c",
   "metadata": {},
   "source": [
    "4 countries missing GDP PerCapita. Propose to drop these countries since the regression can't run with NaN values."
   ]
  },
  {
   "cell_type": "code",
   "execution_count": 10,
   "id": "d906582a",
   "metadata": {
    "scrolled": false
   },
   "outputs": [
    {
     "data": {
      "text/plain": [
       "Country            0\n",
       "Indicator          0\n",
       "Gender             0\n",
       "Percentage         0\n",
       "Happiness_Rank    38\n",
       "GDP_PerCapita      0\n",
       "Income_Group       0\n",
       "dtype: int64"
      ]
     },
     "execution_count": 10,
     "metadata": {},
     "output_type": "execute_result"
    }
   ],
   "source": [
    "# Dropping countries with Nan GDP values\n",
    "df_prim_comp = df_prim_comp[~df_prim_comp['GDP_PerCapita'].isnull()==True]\n",
    "df_prim_comp.isnull().sum()"
   ]
  },
  {
   "cell_type": "code",
   "execution_count": 11,
   "id": "4c629fc7",
   "metadata": {},
   "outputs": [],
   "source": [
    "# Creating subset data for Primary level Completion rate for Male & Female\n",
    "df_prim_comp_M = df_prim_comp.loc[df['Gender']=='Male']\n",
    "df_prim_comp_F = df_prim_comp.loc[df['Gender']=='Female']"
   ]
  },
  {
   "cell_type": "code",
   "execution_count": 12,
   "id": "cfa02f9a",
   "metadata": {},
   "outputs": [
    {
     "data": {
      "text/plain": [
       "<AxesSubplot:xlabel='GDP_PerCapita', ylabel='Count'>"
      ]
     },
     "execution_count": 12,
     "metadata": {},
     "output_type": "execute_result"
    },
    {
     "data": {
      "image/png": "[encoded data removed]",
      "text/plain": [
       "<Figure size 432x288 with 1 Axes>"
      ]
     },
     "metadata": {
      "needs_background": "light"
     },
     "output_type": "display_data"
    }
   ],
   "source": [
    "# Check for extreme value\n",
    "sns.histplot(df_prim_comp_M['GDP_PerCapita'], bins = 20, kde = True)"
   ]
  },
  {
   "cell_type": "code",
   "execution_count": 13,
   "id": "10580dab",
   "metadata": {},
   "outputs": [
    {
     "data": {
      "text/plain": [
       "4564.640449204855"
      ]
     },
     "execution_count": 13,
     "metadata": {},
     "output_type": "execute_result"
    }
   ],
   "source": [
    "# Check for stats\n",
    "df_prim_comp_M['GDP_PerCapita'].mean()"
   ]
  },
  {
   "cell_type": "code",
   "execution_count": 14,
   "id": "4dae7103",
   "metadata": {},
   "outputs": [
    {
     "data": {
      "text/plain": [
       "3690.627878"
      ]
     },
     "execution_count": 14,
     "metadata": {},
     "output_type": "execute_result"
    }
   ],
   "source": [
    "df_prim_comp_M['GDP_PerCapita'].median()"
   ]
  },
  {
   "cell_type": "code",
   "execution_count": 15,
   "id": "d6416711",
   "metadata": {},
   "outputs": [
    {
     "data": {
      "text/plain": [
       "20908.5827"
      ]
     },
     "execution_count": 15,
     "metadata": {},
     "output_type": "execute_result"
    }
   ],
   "source": [
    "df_prim_comp_M['GDP_PerCapita'].max()"
   ]
  },
  {
   "cell_type": "code",
   "execution_count": 16,
   "id": "c58ab055",
   "metadata": {},
   "outputs": [
    {
     "data": {
      "text/plain": [
       "<AxesSubplot:xlabel='GDP_PerCapita', ylabel='Count'>"
      ]
     },
     "execution_count": 16,
     "metadata": {},
     "output_type": "execute_result"
    },
    {
     "data": {
      "image/png": "[encoded data removed]",
      "text/plain": [
       "<Figure size 432x288 with 1 Axes>"
      ]
     },
     "metadata": {
      "needs_background": "light"
     },
     "output_type": "display_data"
    }
   ],
   "source": [
    "# Check for extreme value\n",
    "sns.histplot(df_prim_comp_F['GDP_PerCapita'], bins = 20, kde = True)"
   ]
  },
  {
   "cell_type": "code",
   "execution_count": 17,
   "id": "85bafd94",
   "metadata": {},
   "outputs": [
    {
     "data": {
      "text/plain": [
       "4564.640449204855"
      ]
     },
     "execution_count": 17,
     "metadata": {},
     "output_type": "execute_result"
    }
   ],
   "source": [
    "# Check for stats\n",
    "df_prim_comp_F['GDP_PerCapita'].mean()"
   ]
  },
  {
   "cell_type": "code",
   "execution_count": 18,
   "id": "9fa071fe",
   "metadata": {},
   "outputs": [
    {
     "data": {
      "text/plain": [
       "3690.627878"
      ]
     },
     "execution_count": 18,
     "metadata": {},
     "output_type": "execute_result"
    }
   ],
   "source": [
    "df_prim_comp_F['GDP_PerCapita'].median()"
   ]
  },
  {
   "cell_type": "code",
   "execution_count": 19,
   "id": "1f22447c",
   "metadata": {
    "scrolled": false
   },
   "outputs": [
    {
     "data": {
      "text/html": [
       "<div>\n",
       "<style scoped>\n",
       "    .dataframe tbody tr th:only-of-type {\n",
       "        vertical-align: middle;\n",
       "    }\n",
       "\n",
       "    .dataframe tbody tr th {\n",
       "        vertical-align: top;\n",
       "    }\n",
       "\n",
       "    .dataframe thead th {\n",
       "        text-align: right;\n",
       "    }\n",
       "</style>\n",
       "<table border=\"1\" class=\"dataframe\">\n",
       "  <thead>\n",
       "    <tr style=\"text-align: right;\">\n",
       "      <th></th>\n",
       "      <th>Country</th>\n",
       "      <th>Indicator</th>\n",
       "      <th>Gender</th>\n",
       "      <th>Percentage</th>\n",
       "      <th>Happiness_Rank</th>\n",
       "      <th>GDP_PerCapita</th>\n",
       "      <th>Income_Group</th>\n",
       "    </tr>\n",
       "  </thead>\n",
       "  <tbody>\n",
       "    <tr>\n",
       "      <th>2</th>\n",
       "      <td>Afghanistan</td>\n",
       "      <td>Completion rate for youth of upper secondary e...</td>\n",
       "      <td>Female</td>\n",
       "      <td>14.365360</td>\n",
       "      <td>146.0</td>\n",
       "      <td>368.754614</td>\n",
       "      <td>Low income</td>\n",
       "    </tr>\n",
       "    <tr>\n",
       "      <th>3</th>\n",
       "      <td>Afghanistan</td>\n",
       "      <td>Completion rate for youth of upper secondary e...</td>\n",
       "      <td>Male</td>\n",
       "      <td>32.315559</td>\n",
       "      <td>146.0</td>\n",
       "      <td>368.754614</td>\n",
       "      <td>Low income</td>\n",
       "    </tr>\n",
       "    <tr>\n",
       "      <th>10</th>\n",
       "      <td>Angola</td>\n",
       "      <td>Completion rate for youth of upper secondary e...</td>\n",
       "      <td>Female</td>\n",
       "      <td>15.210190</td>\n",
       "      <td>NaN</td>\n",
       "      <td>1953.533757</td>\n",
       "      <td>Lower middle income</td>\n",
       "    </tr>\n",
       "    <tr>\n",
       "      <th>11</th>\n",
       "      <td>Angola</td>\n",
       "      <td>Completion rate for youth of upper secondary e...</td>\n",
       "      <td>Male</td>\n",
       "      <td>23.698139</td>\n",
       "      <td>NaN</td>\n",
       "      <td>1953.533757</td>\n",
       "      <td>Lower middle income</td>\n",
       "    </tr>\n",
       "    <tr>\n",
       "      <th>16</th>\n",
       "      <td>Albania</td>\n",
       "      <td>Completion rate for youth of upper secondary e...</td>\n",
       "      <td>Female</td>\n",
       "      <td>79.857063</td>\n",
       "      <td>90.0</td>\n",
       "      <td>6492.872012</td>\n",
       "      <td>Upper middle income</td>\n",
       "    </tr>\n",
       "    <tr>\n",
       "      <th>...</th>\n",
       "      <td>...</td>\n",
       "      <td>...</td>\n",
       "      <td>...</td>\n",
       "      <td>...</td>\n",
       "      <td>...</td>\n",
       "      <td>...</td>\n",
       "      <td>...</td>\n",
       "    </tr>\n",
       "    <tr>\n",
       "      <th>1091</th>\n",
       "      <td>Zambia</td>\n",
       "      <td>Completion rate for youth of upper secondary e...</td>\n",
       "      <td>Male</td>\n",
       "      <td>33.276039</td>\n",
       "      <td>137.0</td>\n",
       "      <td>1137.343633</td>\n",
       "      <td>Low income</td>\n",
       "    </tr>\n",
       "    <tr>\n",
       "      <th>1098</th>\n",
       "      <td>Zimbabwe</td>\n",
       "      <td>Completion rate for youth of upper secondary e...</td>\n",
       "      <td>Female</td>\n",
       "      <td>13.600000</td>\n",
       "      <td>144.0</td>\n",
       "      <td>1773.920411</td>\n",
       "      <td>Lower middle income</td>\n",
       "    </tr>\n",
       "    <tr>\n",
       "      <th>1099</th>\n",
       "      <td>Zimbabwe</td>\n",
       "      <td>Completion rate for youth of upper secondary e...</td>\n",
       "      <td>Male</td>\n",
       "      <td>17.200001</td>\n",
       "      <td>144.0</td>\n",
       "      <td>1773.920411</td>\n",
       "      <td>Lower middle income</td>\n",
       "    </tr>\n",
       "    <tr>\n",
       "      <th>1108</th>\n",
       "      <td>Kosovo</td>\n",
       "      <td>Completion rate for youth of upper secondary e...</td>\n",
       "      <td>Female</td>\n",
       "      <td>86.600000</td>\n",
       "      <td>32.0</td>\n",
       "      <td>5269.783901</td>\n",
       "      <td>Upper middle income</td>\n",
       "    </tr>\n",
       "    <tr>\n",
       "      <th>1109</th>\n",
       "      <td>Kosovo</td>\n",
       "      <td>Completion rate for youth of upper secondary e...</td>\n",
       "      <td>Male</td>\n",
       "      <td>87.900000</td>\n",
       "      <td>32.0</td>\n",
       "      <td>5269.783901</td>\n",
       "      <td>Upper middle income</td>\n",
       "    </tr>\n",
       "  </tbody>\n",
       "</table>\n",
       "<p>214 rows × 7 columns</p>\n",
       "</div>"
      ],
      "text/plain": [
       "          Country                                          Indicator  Gender  \\\n",
       "2     Afghanistan  Completion rate for youth of upper secondary e...  Female   \n",
       "3     Afghanistan  Completion rate for youth of upper secondary e...    Male   \n",
       "10         Angola  Completion rate for youth of upper secondary e...  Female   \n",
       "11         Angola  Completion rate for youth of upper secondary e...    Male   \n",
       "16        Albania  Completion rate for youth of upper secondary e...  Female   \n",
       "...           ...                                                ...     ...   \n",
       "1091       Zambia  Completion rate for youth of upper secondary e...    Male   \n",
       "1098     Zimbabwe  Completion rate for youth of upper secondary e...  Female   \n",
       "1099     Zimbabwe  Completion rate for youth of upper secondary e...    Male   \n",
       "1108       Kosovo  Completion rate for youth of upper secondary e...  Female   \n",
       "1109       Kosovo  Completion rate for youth of upper secondary e...    Male   \n",
       "\n",
       "      Percentage  Happiness_Rank  GDP_PerCapita         Income_Group  \n",
       "2      14.365360           146.0     368.754614           Low income  \n",
       "3      32.315559           146.0     368.754614           Low income  \n",
       "10     15.210190             NaN    1953.533757  Lower middle income  \n",
       "11     23.698139             NaN    1953.533757  Lower middle income  \n",
       "16     79.857063            90.0    6492.872012  Upper middle income  \n",
       "...          ...             ...            ...                  ...  \n",
       "1091   33.276039           137.0    1137.343633           Low income  \n",
       "1098   13.600000           144.0    1773.920411  Lower middle income  \n",
       "1099   17.200001           144.0    1773.920411  Lower middle income  \n",
       "1108   86.600000            32.0    5269.783901  Upper middle income  \n",
       "1109   87.900000            32.0    5269.783901  Upper middle income  \n",
       "\n",
       "[214 rows x 7 columns]"
      ]
     },
     "execution_count": 19,
     "metadata": {},
     "output_type": "execute_result"
    }
   ],
   "source": [
    "# Creating subset for upper secondary level completion rates \n",
    "df_upsec_comp = df[df['Indicator']=='Completion rate for youth of upper secondary education school age']\n",
    "df_upsec_comp"
   ]
  },
  {
   "cell_type": "code",
   "execution_count": 20,
   "id": "10ec9c89",
   "metadata": {},
   "outputs": [
    {
     "data": {
      "text/plain": [
       "Country            0\n",
       "Indicator          0\n",
       "Gender             0\n",
       "Percentage         0\n",
       "Happiness_Rank    40\n",
       "GDP_PerCapita      8\n",
       "Income_Group       0\n",
       "dtype: int64"
      ]
     },
     "execution_count": 20,
     "metadata": {},
     "output_type": "execute_result"
    }
   ],
   "source": [
    "#Check for missing values\n",
    "df_upsec_comp.isnull().sum()"
   ]
  },
  {
   "cell_type": "code",
   "execution_count": 21,
   "id": "71deab93",
   "metadata": {},
   "outputs": [
    {
     "data": {
      "text/html": [
       "<div>\n",
       "<style scoped>\n",
       "    .dataframe tbody tr th:only-of-type {\n",
       "        vertical-align: middle;\n",
       "    }\n",
       "\n",
       "    .dataframe tbody tr th {\n",
       "        vertical-align: top;\n",
       "    }\n",
       "\n",
       "    .dataframe thead th {\n",
       "        text-align: right;\n",
       "    }\n",
       "</style>\n",
       "<table border=\"1\" class=\"dataframe\">\n",
       "  <thead>\n",
       "    <tr style=\"text-align: right;\">\n",
       "      <th></th>\n",
       "      <th>Country</th>\n",
       "      <th>Indicator</th>\n",
       "      <th>Gender</th>\n",
       "      <th>Percentage</th>\n",
       "      <th>Happiness_Rank</th>\n",
       "      <th>GDP_PerCapita</th>\n",
       "      <th>Income_Group</th>\n",
       "    </tr>\n",
       "  </thead>\n",
       "  <tbody>\n",
       "    <tr>\n",
       "      <th>270</th>\n",
       "      <td>Cuba</td>\n",
       "      <td>Completion rate for youth of upper secondary e...</td>\n",
       "      <td>Female</td>\n",
       "      <td>63.468102</td>\n",
       "      <td>NaN</td>\n",
       "      <td>NaN</td>\n",
       "      <td>Upper middle income</td>\n",
       "    </tr>\n",
       "    <tr>\n",
       "      <th>271</th>\n",
       "      <td>Cuba</td>\n",
       "      <td>Completion rate for youth of upper secondary e...</td>\n",
       "      <td>Male</td>\n",
       "      <td>54.493649</td>\n",
       "      <td>NaN</td>\n",
       "      <td>NaN</td>\n",
       "      <td>Upper middle income</td>\n",
       "    </tr>\n",
       "    <tr>\n",
       "      <th>760</th>\n",
       "      <td>Democratic People's Republic of Korea</td>\n",
       "      <td>Completion rate for youth of upper secondary e...</td>\n",
       "      <td>Female</td>\n",
       "      <td>100.000000</td>\n",
       "      <td>59.0</td>\n",
       "      <td>NaN</td>\n",
       "      <td>Low income</td>\n",
       "    </tr>\n",
       "    <tr>\n",
       "      <th>761</th>\n",
       "      <td>Democratic People's Republic of Korea</td>\n",
       "      <td>Completion rate for youth of upper secondary e...</td>\n",
       "      <td>Male</td>\n",
       "      <td>99.699997</td>\n",
       "      <td>59.0</td>\n",
       "      <td>NaN</td>\n",
       "      <td>Low income</td>\n",
       "    </tr>\n",
       "    <tr>\n",
       "      <th>946</th>\n",
       "      <td>Turkmenistan</td>\n",
       "      <td>Completion rate for youth of upper secondary e...</td>\n",
       "      <td>Female</td>\n",
       "      <td>97.224037</td>\n",
       "      <td>78.0</td>\n",
       "      <td>NaN</td>\n",
       "      <td>Upper middle income</td>\n",
       "    </tr>\n",
       "    <tr>\n",
       "      <th>947</th>\n",
       "      <td>Turkmenistan</td>\n",
       "      <td>Completion rate for youth of upper secondary e...</td>\n",
       "      <td>Male</td>\n",
       "      <td>96.631203</td>\n",
       "      <td>78.0</td>\n",
       "      <td>NaN</td>\n",
       "      <td>Upper middle income</td>\n",
       "    </tr>\n",
       "    <tr>\n",
       "      <th>1066</th>\n",
       "      <td>Yemen</td>\n",
       "      <td>Completion rate for youth of upper secondary e...</td>\n",
       "      <td>Female</td>\n",
       "      <td>23.400000</td>\n",
       "      <td>132.0</td>\n",
       "      <td>NaN</td>\n",
       "      <td>Low income</td>\n",
       "    </tr>\n",
       "    <tr>\n",
       "      <th>1067</th>\n",
       "      <td>Yemen</td>\n",
       "      <td>Completion rate for youth of upper secondary e...</td>\n",
       "      <td>Male</td>\n",
       "      <td>36.799999</td>\n",
       "      <td>132.0</td>\n",
       "      <td>NaN</td>\n",
       "      <td>Low income</td>\n",
       "    </tr>\n",
       "  </tbody>\n",
       "</table>\n",
       "</div>"
      ],
      "text/plain": [
       "                                    Country  \\\n",
       "270                                    Cuba   \n",
       "271                                    Cuba   \n",
       "760   Democratic People's Republic of Korea   \n",
       "761   Democratic People's Republic of Korea   \n",
       "946                            Turkmenistan   \n",
       "947                            Turkmenistan   \n",
       "1066                                  Yemen   \n",
       "1067                                  Yemen   \n",
       "\n",
       "                                              Indicator  Gender  Percentage  \\\n",
       "270   Completion rate for youth of upper secondary e...  Female   63.468102   \n",
       "271   Completion rate for youth of upper secondary e...    Male   54.493649   \n",
       "760   Completion rate for youth of upper secondary e...  Female  100.000000   \n",
       "761   Completion rate for youth of upper secondary e...    Male   99.699997   \n",
       "946   Completion rate for youth of upper secondary e...  Female   97.224037   \n",
       "947   Completion rate for youth of upper secondary e...    Male   96.631203   \n",
       "1066  Completion rate for youth of upper secondary e...  Female   23.400000   \n",
       "1067  Completion rate for youth of upper secondary e...    Male   36.799999   \n",
       "\n",
       "      Happiness_Rank  GDP_PerCapita         Income_Group  \n",
       "270              NaN            NaN  Upper middle income  \n",
       "271              NaN            NaN  Upper middle income  \n",
       "760             59.0            NaN           Low income  \n",
       "761             59.0            NaN           Low income  \n",
       "946             78.0            NaN  Upper middle income  \n",
       "947             78.0            NaN  Upper middle income  \n",
       "1066           132.0            NaN           Low income  \n",
       "1067           132.0            NaN           Low income  "
      ]
     },
     "execution_count": 21,
     "metadata": {},
     "output_type": "execute_result"
    }
   ],
   "source": [
    "df_GDPnan2 = df_upsec_comp[df_upsec_comp['GDP_PerCapita'].isnull()==True]\n",
    "df_GDPnan2"
   ]
  },
  {
   "cell_type": "code",
   "execution_count": 22,
   "id": "6cbf276d",
   "metadata": {},
   "outputs": [
    {
     "data": {
      "text/plain": [
       "Country            0\n",
       "Indicator          0\n",
       "Gender             0\n",
       "Percentage         0\n",
       "Happiness_Rank    38\n",
       "GDP_PerCapita      0\n",
       "Income_Group       0\n",
       "dtype: int64"
      ]
     },
     "execution_count": 22,
     "metadata": {},
     "output_type": "execute_result"
    }
   ],
   "source": [
    "# Same as above. Dropping countries with Nan GDP values\n",
    "df_upsec_comp = df_upsec_comp[~df_upsec_comp['GDP_PerCapita'].isnull()==True]\n",
    "df_upsec_comp.isnull().sum() # recheck"
   ]
  },
  {
   "cell_type": "code",
   "execution_count": 23,
   "id": "a5d9e580",
   "metadata": {},
   "outputs": [],
   "source": [
    "# Creating subset data for uppersecondary level Completion rate for Male & Female\n",
    "df_upsec_comp_M = df_upsec_comp.loc[df['Gender']=='Male']\n",
    "df_upsec_comp_F = df_upsec_comp.loc[df['Gender']=='Female']"
   ]
  },
  {
   "cell_type": "code",
   "execution_count": 24,
   "id": "ce454686",
   "metadata": {},
   "outputs": [
    {
     "data": {
      "text/plain": [
       "<AxesSubplot:xlabel='GDP_PerCapita', ylabel='Count'>"
      ]
     },
     "execution_count": 24,
     "metadata": {},
     "output_type": "execute_result"
    },
    {
     "data": {
      "image/png": "[encoded data removed]",
      "text/plain": [
       "<Figure size 432x288 with 1 Axes>"
      ]
     },
     "metadata": {
      "needs_background": "light"
     },
     "output_type": "display_data"
    }
   ],
   "source": [
    "# Check for extreme value\n",
    "sns.histplot(df_upsec_comp_M['GDP_PerCapita'], bins = 20, kde = True)"
   ]
  },
  {
   "cell_type": "code",
   "execution_count": 25,
   "id": "77323039",
   "metadata": {},
   "outputs": [
    {
     "data": {
      "text/plain": [
       "4564.640449204855"
      ]
     },
     "execution_count": 25,
     "metadata": {},
     "output_type": "execute_result"
    }
   ],
   "source": [
    "# Check for stats uppersecondary completion rate\n",
    "df_upsec_comp_M['GDP_PerCapita'].mean()"
   ]
  },
  {
   "cell_type": "code",
   "execution_count": 26,
   "id": "92ea5693",
   "metadata": {},
   "outputs": [
    {
     "data": {
      "text/plain": [
       "3690.627878"
      ]
     },
     "execution_count": 26,
     "metadata": {},
     "output_type": "execute_result"
    }
   ],
   "source": [
    "df_upsec_comp_M['GDP_PerCapita'].median()"
   ]
  },
  {
   "cell_type": "markdown",
   "id": "6aa09fcf",
   "metadata": {},
   "source": [
    "# 3. Visual exploration"
   ]
  },
  {
   "cell_type": "code",
   "execution_count": 27,
   "id": "bf16cc39",
   "metadata": {},
   "outputs": [
    {
     "data": {
      "image/png": "[encoded data removed]",
      "text/plain": [
       "<Figure size 432x288 with 1 Axes>"
      ]
     },
     "metadata": {
      "needs_background": "light"
     },
     "output_type": "display_data"
    }
   ],
   "source": [
    "# Create a scatterplot using matplotlib to see visual relationship for Primary Level Male\n",
    "\n",
    "df_prim_comp_M.plot(x = 'Percentage', y='GDP_PerCapita', style='o') # o for scatterplot.\n",
    "plt.title('Percentage Male Primary Level Completion vs GDP PerCapita')  \n",
    "plt.xlabel('Percentage Primary Level Completion')  \n",
    "plt.ylabel('$ GDP PerCapita')  \n",
    "plt.show()"
   ]
  },
  {
   "cell_type": "code",
   "execution_count": 28,
   "id": "1112c974",
   "metadata": {},
   "outputs": [
    {
     "data": {
      "image/png": "[encoded data removed]",
      "text/plain": [
       "<Figure size 432x288 with 1 Axes>"
      ]
     },
     "metadata": {
      "needs_background": "light"
     },
     "output_type": "display_data"
    }
   ],
   "source": [
    "# Create a scatterplot using matplotlib to see visual relationship for UpperSecondary Level Male\n",
    "\n",
    "df_upsec_comp_M.plot(x = 'Percentage', y='GDP_PerCapita', style='o') # o for scatterplot.\n",
    "plt.title('Percentage Male Upper Secondary Level Completion vs GDP PerCapita')  \n",
    "plt.xlabel('Percentage Upper Secondary Level Completion')  \n",
    "plt.ylabel('$ GDP PerCapita')  \n",
    "plt.show()"
   ]
  },
  {
   "cell_type": "code",
   "execution_count": 29,
   "id": "a8146ae8",
   "metadata": {},
   "outputs": [
    {
     "data": {
      "image/png": "[encoded data removed]",
      "text/plain": [
       "<Figure size 432x288 with 1 Axes>"
      ]
     },
     "metadata": {
      "needs_background": "light"
     },
     "output_type": "display_data"
    }
   ],
   "source": [
    "# Create a scatterplot using matplotlib to see visual relationship for Primary Level Female\n",
    "\n",
    "df_prim_comp_F.plot(x = 'Percentage', y='GDP_PerCapita', style='o',color = 'hotpink') # o for scatterplot.\n",
    "plt.title('Percentage Female Primary Level Completion vs GDP PerCapita')  \n",
    "plt.xlabel('Percentage Primary Level Completion')  \n",
    "plt.ylabel('$ GDP PerCapita')  \n",
    "plt.show()"
   ]
  },
  {
   "cell_type": "code",
   "execution_count": 30,
   "id": "62f283cd",
   "metadata": {},
   "outputs": [
    {
     "data": {
      "image/png": "[encoded data removed]",
      "text/plain": [
       "<Figure size 432x288 with 1 Axes>"
      ]
     },
     "metadata": {
      "needs_background": "light"
     },
     "output_type": "display_data"
    }
   ],
   "source": [
    "# Create a scatterplot using matplotlib to see visual relationship for Upper Secondary Level Female\n",
    "\n",
    "df_upsec_comp_F.plot(x = 'Percentage', y='GDP_PerCapita', style='o',color = 'hotpink') # o for scatterplot.\n",
    "plt.title('Percentage Female Upper Secondary Level Completion vs GDP PerCapita')  \n",
    "plt.xlabel('Percentage Upper Secondary Level Completion')  \n",
    "plt.ylabel('$ GDP PerCapita')  \n",
    "plt.show()"
   ]
  },
  {
   "cell_type": "code",
   "execution_count": 31,
   "id": "0e4a15ce",
   "metadata": {},
   "outputs": [
    {
     "data": {
      "image/png": "[encoded data removed]",
      "text/plain": [
       "<Figure size 432x288 with 1 Axes>"
      ]
     },
     "metadata": {
      "needs_background": "light"
     },
     "output_type": "display_data"
    }
   ],
   "source": [
    "# Create a scatterplot using matplotlib to see visual relationship for Upper Secondary Level Female\n",
    "\n",
    "df_upsec_comp_F.plot(x = 'Percentage', y='Happiness_Rank', style='o',color = 'hotpink') # o for scatterplot.\n",
    "plt.title('Percentage Female Upper Secondary Level Completion vs GDP PerCapita')  \n",
    "plt.xlabel('Percentage Upper Secondary Level Completion')  \n",
    "plt.ylabel('Happiness Rank')  \n",
    "plt.show()"
   ]
  },
  {
   "cell_type": "code",
   "execution_count": 32,
   "id": "7d34da62",
   "metadata": {
    "scrolled": true
   },
   "outputs": [
    {
     "data": {
      "image/png": "[encoded data removed]",
      "text/plain": [
       "<Figure size 432x288 with 1 Axes>"
      ]
     },
     "metadata": {
      "needs_background": "light"
     },
     "output_type": "display_data"
    }
   ],
   "source": [
    "# Create a scatterplot using matplotlib to see visual relationship for GDP Per Capita and Happiness Rank\n",
    "\n",
    "df_upsec_comp_M.plot(x = 'GDP_PerCapita', y='Happiness_Rank', style='o',color = 'green') # o for scatterplot.\n",
    "plt.title('Happiness Rank vs GDP PerCapita')  \n",
    "plt.xlabel('GDP Per Capita')  \n",
    "plt.ylabel('Happiness Rank')  \n",
    "plt.show()"
   ]
  },
  {
   "cell_type": "markdown",
   "id": "b3b8df78",
   "metadata": {},
   "source": [
    "Hypothesis:\n",
    "1. Completion of Upper Secondary level has more correlation on the GDP compared to Primary level completion\n",
    "2. Completion of Female Upper Secondary level correlates more to the GDP compared to male"
   ]
  },
  {
   "cell_type": "markdown",
   "id": "1733e7b4",
   "metadata": {},
   "source": [
    "# 4. Running Regression"
   ]
  },
  {
   "cell_type": "code",
   "execution_count": 33,
   "id": "fa5c5782",
   "metadata": {},
   "outputs": [],
   "source": [
    "# Reshaping the variables into NumPy arrays\n",
    "X = df_prim_comp_M['Percentage'].values.reshape(-1,1)\n",
    "y = df_prim_comp_M['GDP_PerCapita'].values.reshape(-1,1)"
   ]
  },
  {
   "cell_type": "code",
   "execution_count": 34,
   "id": "2a240194",
   "metadata": {},
   "outputs": [],
   "source": [
    "# Splitting data into a training set and a test set.\n",
    "X_train, X_test, y_train, y_test = train_test_split(X, y, test_size=0.3, random_state=0)"
   ]
  },
  {
   "cell_type": "code",
   "execution_count": 35,
   "id": "25058dd3",
   "metadata": {},
   "outputs": [],
   "source": [
    "# Create a regression object.\n",
    "reg_prim_comp_M = LinearRegression() "
   ]
  },
  {
   "cell_type": "code",
   "execution_count": 36,
   "id": "b8a602ad",
   "metadata": {},
   "outputs": [
    {
     "data": {
      "text/html": [
       "<style>#sk-container-id-1 {color: black;background-color: white;}#sk-container-id-1 pre{padding: 0;}#sk-container-id-1 div.sk-toggleable {background-color: white;}#sk-container-id-1 label.sk-toggleable__label {cursor: pointer;display: block;width: 100%;margin-bottom: 0;padding: 0.3em;box-sizing: border-box;text-align: center;}#sk-container-id-1 label.sk-toggleable__label-arrow:before {content: \"▸\";float: left;margin-right: 0.25em;color: #696969;}#sk-container-id-1 label.sk-toggleable__label-arrow:hover:before {color: black;}#sk-container-id-1 div.sk-estimator:hover label.sk-toggleable__label-arrow:before {color: black;}#sk-container-id-1 div.sk-toggleable__content {max-height: 0;max-width: 0;overflow: hidden;text-align: left;background-color: #f0f8ff;}#sk-container-id-1 div.sk-toggleable__content pre {margin: 0.2em;color: black;border-radius: 0.25em;background-color: #f0f8ff;}#sk-container-id-1 input.sk-toggleable__control:checked~div.sk-toggleable__content {max-height: 200px;max-width: 100%;overflow: auto;}#sk-container-id-1 input.sk-toggleable__control:checked~label.sk-toggleable__label-arrow:before {content: \"▾\";}#sk-container-id-1 div.sk-estimator input.sk-toggleable__control:checked~label.sk-toggleable__label {background-color: #d4ebff;}#sk-container-id-1 div.sk-label input.sk-toggleable__control:checked~label.sk-toggleable__label {background-color: #d4ebff;}#sk-container-id-1 input.sk-hidden--visually {border: 0;clip: rect(1px 1px 1px 1px);clip: rect(1px, 1px, 1px, 1px);height: 1px;margin: -1px;overflow: hidden;padding: 0;position: absolute;width: 1px;}#sk-container-id-1 div.sk-estimator {font-family: monospace;background-color: #f0f8ff;border: 1px dotted black;border-radius: 0.25em;box-sizing: border-box;margin-bottom: 0.5em;}#sk-container-id-1 div.sk-estimator:hover {background-color: #d4ebff;}#sk-container-id-1 div.sk-parallel-item::after {content: \"\";width: 100%;border-bottom: 1px solid gray;flex-grow: 1;}#sk-container-id-1 div.sk-label:hover label.sk-toggleable__label {background-color: #d4ebff;}#sk-container-id-1 div.sk-serial::before {content: \"\";position: absolute;border-left: 1px solid gray;box-sizing: border-box;top: 0;bottom: 0;left: 50%;z-index: 0;}#sk-container-id-1 div.sk-serial {display: flex;flex-direction: column;align-items: center;background-color: white;padding-right: 0.2em;padding-left: 0.2em;position: relative;}#sk-container-id-1 div.sk-item {position: relative;z-index: 1;}#sk-container-id-1 div.sk-parallel {display: flex;align-items: stretch;justify-content: center;background-color: white;position: relative;}#sk-container-id-1 div.sk-item::before, #sk-container-id-1 div.sk-parallel-item::before {content: \"\";position: absolute;border-left: 1px solid gray;box-sizing: border-box;top: 0;bottom: 0;left: 50%;z-index: -1;}#sk-container-id-1 div.sk-parallel-item {display: flex;flex-direction: column;z-index: 1;position: relative;background-color: white;}#sk-container-id-1 div.sk-parallel-item:first-child::after {align-self: flex-end;width: 50%;}#sk-container-id-1 div.sk-parallel-item:last-child::after {align-self: flex-start;width: 50%;}#sk-container-id-1 div.sk-parallel-item:only-child::after {width: 0;}#sk-container-id-1 div.sk-dashed-wrapped {border: 1px dashed gray;margin: 0 0.4em 0.5em 0.4em;box-sizing: border-box;padding-bottom: 0.4em;background-color: white;}#sk-container-id-1 div.sk-label label {font-family: monospace;font-weight: bold;display: inline-block;line-height: 1.2em;}#sk-container-id-1 div.sk-label-container {text-align: center;}#sk-container-id-1 div.sk-container {/* jupyter's `normalize.less` sets `[hidden] { display: none; }` but bootstrap.min.css set `[hidden] { display: none !important; }` so we also need the `!important` here to be able to override the default hidden behavior on the sphinx rendered scikit-learn.org. See: https://github.com/scikit-learn/scikit-learn/issues/21755 */display: inline-block !important;position: relative;}#sk-container-id-1 div.sk-text-repr-fallback {display: none;}</style><div id=\"sk-container-id-1\" class=\"sk-top-container\"><div class=\"sk-text-repr-fallback\"><pre>LinearRegression()</pre><b>In a Jupyter environment, please rerun this cell to show the HTML representation or trust the notebook. <br />On GitHub, the HTML representation is unable to render, please try loading this page with nbviewer.org.</b></div><div class=\"sk-container\" hidden><div class=\"sk-item\"><div class=\"sk-estimator sk-toggleable\"><input class=\"sk-toggleable__control sk-hidden--visually\" id=\"sk-estimator-id-1\" type=\"checkbox\" checked><label for=\"sk-estimator-id-1\" class=\"sk-toggleable__label sk-toggleable__label-arrow\">LinearRegression</label><div class=\"sk-toggleable__content\"><pre>LinearRegression()</pre></div></div></div></div></div>"
      ],
      "text/plain": [
       "LinearRegression()"
      ]
     },
     "execution_count": 36,
     "metadata": {},
     "output_type": "execute_result"
    }
   ],
   "source": [
    "# Fitting regression into training set\n",
    "reg_prim_comp_M.fit(X_train, y_train)"
   ]
  },
  {
   "cell_type": "code",
   "execution_count": 37,
   "id": "fa037f0c",
   "metadata": {},
   "outputs": [],
   "source": [
    "# Predict the values of y using X on the test set\n",
    "y_predicted = reg_prim_comp_M.predict(X_test)"
   ]
  },
  {
   "cell_type": "code",
   "execution_count": 38,
   "id": "5316120c",
   "metadata": {},
   "outputs": [
    {
     "data": {
      "image/png": "[encoded data removed]",
      "text/plain": [
       "<Figure size 432x288 with 1 Axes>"
      ]
     },
     "metadata": {
      "needs_background": "light"
     },
     "output_type": "display_data"
    }
   ],
   "source": [
    "# Create a plot that shows the regression line from the model on the test set.\n",
    "\n",
    "plot_test = plt\n",
    "plot_test.scatter(X_test, y_test, color='gray', s = 15)\n",
    "plot_test.plot(X_test, y_predicted, color='red', linewidth =3)\n",
    "plot_test.title('Male Primary Level Completion vs GDP Per Capita (Test set)')\n",
    "plot_test.xlabel('Primary Level Completion')\n",
    "plot_test.ylabel('$ GDP Per Capita')\n",
    "plot_test.show()"
   ]
  },
  {
   "cell_type": "code",
   "execution_count": 39,
   "id": "b0e7b996",
   "metadata": {},
   "outputs": [],
   "source": [
    "# Calculating summary statistics.\n",
    "rmse = mean_squared_error(y_test, y_predicted) \n",
    "r2 = r2_score(y_test, y_predicted) "
   ]
  },
  {
   "cell_type": "code",
   "execution_count": 40,
   "id": "19992362",
   "metadata": {},
   "outputs": [
    {
     "name": "stdout",
     "output_type": "stream",
     "text": [
      "Slope: [[110.39518125]]\n",
      "Mean squared error:  18064760.103540972\n",
      "R2 score:  0.22357194953071402\n"
     ]
    }
   ],
   "source": [
    "# Print the model summary statistics. \n",
    "print('Slope:' ,reg_prim_comp_M.coef_)\n",
    "print('Mean squared error: ', rmse)\n",
    "print('R2 score: ', r2)"
   ]
  },
  {
   "cell_type": "code",
   "execution_count": 41,
   "id": "b22e8379",
   "metadata": {},
   "outputs": [
    {
     "data": {
      "text/html": [
       "<div>\n",
       "<style scoped>\n",
       "    .dataframe tbody tr th:only-of-type {\n",
       "        vertical-align: middle;\n",
       "    }\n",
       "\n",
       "    .dataframe tbody tr th {\n",
       "        vertical-align: top;\n",
       "    }\n",
       "\n",
       "    .dataframe thead th {\n",
       "        text-align: right;\n",
       "    }\n",
       "</style>\n",
       "<table border=\"1\" class=\"dataframe\">\n",
       "  <thead>\n",
       "    <tr style=\"text-align: right;\">\n",
       "      <th></th>\n",
       "      <th>Actual</th>\n",
       "      <th>Predicted</th>\n",
       "    </tr>\n",
       "  </thead>\n",
       "  <tbody>\n",
       "    <tr>\n",
       "      <th>0</th>\n",
       "      <td>3690.627878</td>\n",
       "      <td>5623.997571</td>\n",
       "    </tr>\n",
       "    <tr>\n",
       "      <th>1</th>\n",
       "      <td>9465.703999</td>\n",
       "      <td>5783.523687</td>\n",
       "    </tr>\n",
       "    <tr>\n",
       "      <th>2</th>\n",
       "      <td>6492.872012</td>\n",
       "      <td>5743.399785</td>\n",
       "    </tr>\n",
       "    <tr>\n",
       "      <th>3</th>\n",
       "      <td>9414.226231</td>\n",
       "      <td>6300.237164</td>\n",
       "    </tr>\n",
       "    <tr>\n",
       "      <th>4</th>\n",
       "      <td>3460.530963</td>\n",
       "      <td>5123.529407</td>\n",
       "    </tr>\n",
       "    <tr>\n",
       "      <th>5</th>\n",
       "      <td>1636.893209</td>\n",
       "      <td>173.079730</td>\n",
       "    </tr>\n",
       "    <tr>\n",
       "      <th>6</th>\n",
       "      <td>16265.095980</td>\n",
       "      <td>5912.556114</td>\n",
       "    </tr>\n",
       "    <tr>\n",
       "      <th>7</th>\n",
       "      <td>2065.749068</td>\n",
       "      <td>3131.895793</td>\n",
       "    </tr>\n",
       "    <tr>\n",
       "      <th>8</th>\n",
       "      <td>10045.680500</td>\n",
       "      <td>6112.565687</td>\n",
       "    </tr>\n",
       "    <tr>\n",
       "      <th>9</th>\n",
       "      <td>1606.462514</td>\n",
       "      <td>5520.366524</td>\n",
       "    </tr>\n",
       "    <tr>\n",
       "      <th>10</th>\n",
       "      <td>5230.661733</td>\n",
       "      <td>6247.474560</td>\n",
       "    </tr>\n",
       "    <tr>\n",
       "      <th>11</th>\n",
       "      <td>4835.571777</td>\n",
       "      <td>6388.553640</td>\n",
       "    </tr>\n",
       "    <tr>\n",
       "      <th>12</th>\n",
       "      <td>3857.318464</td>\n",
       "      <td>5973.869266</td>\n",
       "    </tr>\n",
       "    <tr>\n",
       "      <th>13</th>\n",
       "      <td>17225.462300</td>\n",
       "      <td>6245.039573</td>\n",
       "    </tr>\n",
       "    <tr>\n",
       "      <th>14</th>\n",
       "      <td>2457.924880</td>\n",
       "      <td>3772.188176</td>\n",
       "    </tr>\n",
       "    <tr>\n",
       "      <th>15</th>\n",
       "      <td>8635.325694</td>\n",
       "      <td>2623.498716</td>\n",
       "    </tr>\n",
       "    <tr>\n",
       "      <th>16</th>\n",
       "      <td>6104.136709</td>\n",
       "      <td>5439.155302</td>\n",
       "    </tr>\n",
       "    <tr>\n",
       "      <th>17</th>\n",
       "      <td>12472.443730</td>\n",
       "      <td>6136.303632</td>\n",
       "    </tr>\n",
       "    <tr>\n",
       "      <th>18</th>\n",
       "      <td>1189.175999</td>\n",
       "      <td>1065.678974</td>\n",
       "    </tr>\n",
       "    <tr>\n",
       "      <th>19</th>\n",
       "      <td>7143.310548</td>\n",
       "      <td>6300.237164</td>\n",
       "    </tr>\n",
       "    <tr>\n",
       "      <th>20</th>\n",
       "      <td>4103.258966</td>\n",
       "      <td>5951.762741</td>\n",
       "    </tr>\n",
       "    <tr>\n",
       "      <th>21</th>\n",
       "      <td>751.821350</td>\n",
       "      <td>2607.740246</td>\n",
       "    </tr>\n",
       "    <tr>\n",
       "      <th>22</th>\n",
       "      <td>10636.120200</td>\n",
       "      <td>5910.202930</td>\n",
       "    </tr>\n",
       "    <tr>\n",
       "      <th>23</th>\n",
       "      <td>3663.969055</td>\n",
       "      <td>6326.445422</td>\n",
       "    </tr>\n",
       "    <tr>\n",
       "      <th>24</th>\n",
       "      <td>973.206129</td>\n",
       "      <td>4515.381452</td>\n",
       "    </tr>\n",
       "    <tr>\n",
       "      <th>25</th>\n",
       "      <td>822.347989</td>\n",
       "      <td>636.964918</td>\n",
       "    </tr>\n",
       "    <tr>\n",
       "      <th>26</th>\n",
       "      <td>1319.154995</td>\n",
       "      <td>980.953874</td>\n",
       "    </tr>\n",
       "    <tr>\n",
       "      <th>27</th>\n",
       "      <td>2081.799855</td>\n",
       "      <td>3805.306178</td>\n",
       "    </tr>\n",
       "    <tr>\n",
       "      <th>28</th>\n",
       "      <td>17313.188350</td>\n",
       "      <td>5988.474659</td>\n",
       "    </tr>\n",
       "    <tr>\n",
       "      <th>29</th>\n",
       "      <td>4551.184661</td>\n",
       "      <td>4655.349626</td>\n",
       "    </tr>\n",
       "  </tbody>\n",
       "</table>\n",
       "</div>"
      ],
      "text/plain": [
       "          Actual    Predicted\n",
       "0    3690.627878  5623.997571\n",
       "1    9465.703999  5783.523687\n",
       "2    6492.872012  5743.399785\n",
       "3    9414.226231  6300.237164\n",
       "4    3460.530963  5123.529407\n",
       "5    1636.893209   173.079730\n",
       "6   16265.095980  5912.556114\n",
       "7    2065.749068  3131.895793\n",
       "8   10045.680500  6112.565687\n",
       "9    1606.462514  5520.366524\n",
       "10   5230.661733  6247.474560\n",
       "11   4835.571777  6388.553640\n",
       "12   3857.318464  5973.869266\n",
       "13  17225.462300  6245.039573\n",
       "14   2457.924880  3772.188176\n",
       "15   8635.325694  2623.498716\n",
       "16   6104.136709  5439.155302\n",
       "17  12472.443730  6136.303632\n",
       "18   1189.175999  1065.678974\n",
       "19   7143.310548  6300.237164\n",
       "20   4103.258966  5951.762741\n",
       "21    751.821350  2607.740246\n",
       "22  10636.120200  5910.202930\n",
       "23   3663.969055  6326.445422\n",
       "24    973.206129  4515.381452\n",
       "25    822.347989   636.964918\n",
       "26   1319.154995   980.953874\n",
       "27   2081.799855  3805.306178\n",
       "28  17313.188350  5988.474659\n",
       "29   4551.184661  4655.349626"
      ]
     },
     "execution_count": 41,
     "metadata": {},
     "output_type": "execute_result"
    }
   ],
   "source": [
    "# Create a dataframe comparing the actual and predicted values of y.\n",
    "data = pd.DataFrame({'Actual': y_test.flatten(), 'Predicted': y_predicted.flatten()})\n",
    "data.head(30)"
   ]
  },
  {
   "cell_type": "markdown",
   "id": "b414d9f2",
   "metadata": {},
   "source": [
    "##### Comparing with upper secondary"
   ]
  },
  {
   "cell_type": "code",
   "execution_count": 42,
   "id": "b715d687",
   "metadata": {},
   "outputs": [],
   "source": [
    "# Reshaping the variables into NumPy arrays\n",
    "X = df_upsec_comp_M['Percentage'].values.reshape(-1,1)\n",
    "y = df_upsec_comp_M['GDP_PerCapita'].values.reshape(-1,1)"
   ]
  },
  {
   "cell_type": "code",
   "execution_count": 43,
   "id": "0a645358",
   "metadata": {},
   "outputs": [],
   "source": [
    "# Splitting data into a training set and a test set.\n",
    "X_train, X_test, y_train, y_test = train_test_split(X, y, test_size=0.3, random_state=0)"
   ]
  },
  {
   "cell_type": "code",
   "execution_count": 44,
   "id": "68671741",
   "metadata": {},
   "outputs": [],
   "source": [
    "# Create a regression object.\n",
    "reg_upsec_comp_M = LinearRegression() "
   ]
  },
  {
   "cell_type": "code",
   "execution_count": 45,
   "id": "3298a436",
   "metadata": {},
   "outputs": [
    {
     "data": {
      "text/html": [
       "<style>#sk-container-id-2 {color: black;background-color: white;}#sk-container-id-2 pre{padding: 0;}#sk-container-id-2 div.sk-toggleable {background-color: white;}#sk-container-id-2 label.sk-toggleable__label {cursor: pointer;display: block;width: 100%;margin-bottom: 0;padding: 0.3em;box-sizing: border-box;text-align: center;}#sk-container-id-2 label.sk-toggleable__label-arrow:before {content: \"▸\";float: left;margin-right: 0.25em;color: #696969;}#sk-container-id-2 label.sk-toggleable__label-arrow:hover:before {color: black;}#sk-container-id-2 div.sk-estimator:hover label.sk-toggleable__label-arrow:before {color: black;}#sk-container-id-2 div.sk-toggleable__content {max-height: 0;max-width: 0;overflow: hidden;text-align: left;background-color: #f0f8ff;}#sk-container-id-2 div.sk-toggleable__content pre {margin: 0.2em;color: black;border-radius: 0.25em;background-color: #f0f8ff;}#sk-container-id-2 input.sk-toggleable__control:checked~div.sk-toggleable__content {max-height: 200px;max-width: 100%;overflow: auto;}#sk-container-id-2 input.sk-toggleable__control:checked~label.sk-toggleable__label-arrow:before {content: \"▾\";}#sk-container-id-2 div.sk-estimator input.sk-toggleable__control:checked~label.sk-toggleable__label {background-color: #d4ebff;}#sk-container-id-2 div.sk-label input.sk-toggleable__control:checked~label.sk-toggleable__label {background-color: #d4ebff;}#sk-container-id-2 input.sk-hidden--visually {border: 0;clip: rect(1px 1px 1px 1px);clip: rect(1px, 1px, 1px, 1px);height: 1px;margin: -1px;overflow: hidden;padding: 0;position: absolute;width: 1px;}#sk-container-id-2 div.sk-estimator {font-family: monospace;background-color: #f0f8ff;border: 1px dotted black;border-radius: 0.25em;box-sizing: border-box;margin-bottom: 0.5em;}#sk-container-id-2 div.sk-estimator:hover {background-color: #d4ebff;}#sk-container-id-2 div.sk-parallel-item::after {content: \"\";width: 100%;border-bottom: 1px solid gray;flex-grow: 1;}#sk-container-id-2 div.sk-label:hover label.sk-toggleable__label {background-color: #d4ebff;}#sk-container-id-2 div.sk-serial::before {content: \"\";position: absolute;border-left: 1px solid gray;box-sizing: border-box;top: 0;bottom: 0;left: 50%;z-index: 0;}#sk-container-id-2 div.sk-serial {display: flex;flex-direction: column;align-items: center;background-color: white;padding-right: 0.2em;padding-left: 0.2em;position: relative;}#sk-container-id-2 div.sk-item {position: relative;z-index: 1;}#sk-container-id-2 div.sk-parallel {display: flex;align-items: stretch;justify-content: center;background-color: white;position: relative;}#sk-container-id-2 div.sk-item::before, #sk-container-id-2 div.sk-parallel-item::before {content: \"\";position: absolute;border-left: 1px solid gray;box-sizing: border-box;top: 0;bottom: 0;left: 50%;z-index: -1;}#sk-container-id-2 div.sk-parallel-item {display: flex;flex-direction: column;z-index: 1;position: relative;background-color: white;}#sk-container-id-2 div.sk-parallel-item:first-child::after {align-self: flex-end;width: 50%;}#sk-container-id-2 div.sk-parallel-item:last-child::after {align-self: flex-start;width: 50%;}#sk-container-id-2 div.sk-parallel-item:only-child::after {width: 0;}#sk-container-id-2 div.sk-dashed-wrapped {border: 1px dashed gray;margin: 0 0.4em 0.5em 0.4em;box-sizing: border-box;padding-bottom: 0.4em;background-color: white;}#sk-container-id-2 div.sk-label label {font-family: monospace;font-weight: bold;display: inline-block;line-height: 1.2em;}#sk-container-id-2 div.sk-label-container {text-align: center;}#sk-container-id-2 div.sk-container {/* jupyter's `normalize.less` sets `[hidden] { display: none; }` but bootstrap.min.css set `[hidden] { display: none !important; }` so we also need the `!important` here to be able to override the default hidden behavior on the sphinx rendered scikit-learn.org. See: https://github.com/scikit-learn/scikit-learn/issues/21755 */display: inline-block !important;position: relative;}#sk-container-id-2 div.sk-text-repr-fallback {display: none;}</style><div id=\"sk-container-id-2\" class=\"sk-top-container\"><div class=\"sk-text-repr-fallback\"><pre>LinearRegression()</pre><b>In a Jupyter environment, please rerun this cell to show the HTML representation or trust the notebook. <br />On GitHub, the HTML representation is unable to render, please try loading this page with nbviewer.org.</b></div><div class=\"sk-container\" hidden><div class=\"sk-item\"><div class=\"sk-estimator sk-toggleable\"><input class=\"sk-toggleable__control sk-hidden--visually\" id=\"sk-estimator-id-2\" type=\"checkbox\" checked><label for=\"sk-estimator-id-2\" class=\"sk-toggleable__label sk-toggleable__label-arrow\">LinearRegression</label><div class=\"sk-toggleable__content\"><pre>LinearRegression()</pre></div></div></div></div></div>"
      ],
      "text/plain": [
       "LinearRegression()"
      ]
     },
     "execution_count": 45,
     "metadata": {},
     "output_type": "execute_result"
    }
   ],
   "source": [
    "# Fitting regression into training set\n",
    "reg_upsec_comp_M.fit(X_train, y_train)"
   ]
  },
  {
   "cell_type": "code",
   "execution_count": 46,
   "id": "b3ea3d5f",
   "metadata": {},
   "outputs": [],
   "source": [
    "# Predict the values of y using X.\n",
    "y_predicted = reg_upsec_comp_M.predict(X_test)"
   ]
  },
  {
   "cell_type": "code",
   "execution_count": 47,
   "id": "9ac10f6e",
   "metadata": {
    "scrolled": true
   },
   "outputs": [
    {
     "data": {
      "image/png": "[encoded data removed]",
      "text/plain": [
       "<Figure size 432x288 with 1 Axes>"
      ]
     },
     "metadata": {
      "needs_background": "light"
     },
     "output_type": "display_data"
    }
   ],
   "source": [
    "# Create a plot that shows the regression line from the model on the test set.\n",
    "\n",
    "plot_test = plt\n",
    "plot_test.scatter(X_test, y_test, color='gray', s = 15)\n",
    "plot_test.plot(X_test, y_predicted, color='red', linewidth =3)\n",
    "plot_test.title('Male Upper Secondary Level Completion vs GDP Per Capita (Test set)')\n",
    "plot_test.xlabel('Upper Secondary Level Completion')\n",
    "plot_test.ylabel('$ GDP Per Capita')\n",
    "plot_test.show()"
   ]
  },
  {
   "cell_type": "code",
   "execution_count": 48,
   "id": "3a4c1dd9",
   "metadata": {},
   "outputs": [],
   "source": [
    "# Calculating summary statistics.\n",
    "rmse = mean_squared_error(y_test, y_predicted) \n",
    "r2 = r2_score(y_test, y_predicted) "
   ]
  },
  {
   "cell_type": "code",
   "execution_count": 49,
   "id": "542b875b",
   "metadata": {},
   "outputs": [
    {
     "name": "stdout",
     "output_type": "stream",
     "text": [
      "Slope: [[97.53474554]]\n",
      "Mean squared error:  17424472.082710877\n",
      "R2 score:  0.25109169387841224\n"
     ]
    }
   ],
   "source": [
    "# Print the model summary statistics. \n",
    "print('Slope:' ,reg_upsec_comp_M.coef_)\n",
    "print('Mean squared error: ', rmse)\n",
    "print('R2 score: ', r2)"
   ]
  },
  {
   "cell_type": "code",
   "execution_count": 50,
   "id": "e0909e1f",
   "metadata": {
    "scrolled": true
   },
   "outputs": [
    {
     "data": {
      "text/html": [
       "<div>\n",
       "<style scoped>\n",
       "    .dataframe tbody tr th:only-of-type {\n",
       "        vertical-align: middle;\n",
       "    }\n",
       "\n",
       "    .dataframe tbody tr th {\n",
       "        vertical-align: top;\n",
       "    }\n",
       "\n",
       "    .dataframe thead th {\n",
       "        text-align: right;\n",
       "    }\n",
       "</style>\n",
       "<table border=\"1\" class=\"dataframe\">\n",
       "  <thead>\n",
       "    <tr style=\"text-align: right;\">\n",
       "      <th></th>\n",
       "      <th>Actual</th>\n",
       "      <th>Predicted</th>\n",
       "    </tr>\n",
       "  </thead>\n",
       "  <tbody>\n",
       "    <tr>\n",
       "      <th>0</th>\n",
       "      <td>3690.627878</td>\n",
       "      <td>3277.582121</td>\n",
       "    </tr>\n",
       "    <tr>\n",
       "      <th>1</th>\n",
       "      <td>9465.703999</td>\n",
       "      <td>7950.145819</td>\n",
       "    </tr>\n",
       "    <tr>\n",
       "      <th>2</th>\n",
       "      <td>6492.872012</td>\n",
       "      <td>7334.658659</td>\n",
       "    </tr>\n",
       "    <tr>\n",
       "      <th>3</th>\n",
       "      <td>9414.226231</td>\n",
       "      <td>6688.314530</td>\n",
       "    </tr>\n",
       "    <tr>\n",
       "      <th>4</th>\n",
       "      <td>3460.530963</td>\n",
       "      <td>7131.385131</td>\n",
       "    </tr>\n",
       "    <tr>\n",
       "      <th>5</th>\n",
       "      <td>1636.893209</td>\n",
       "      <td>998.991099</td>\n",
       "    </tr>\n",
       "    <tr>\n",
       "      <th>6</th>\n",
       "      <td>16265.095980</td>\n",
       "      <td>8001.981245</td>\n",
       "    </tr>\n",
       "    <tr>\n",
       "      <th>7</th>\n",
       "      <td>2065.749068</td>\n",
       "      <td>5459.376931</td>\n",
       "    </tr>\n",
       "    <tr>\n",
       "      <th>8</th>\n",
       "      <td>10045.680500</td>\n",
       "      <td>5352.088906</td>\n",
       "    </tr>\n",
       "    <tr>\n",
       "      <th>9</th>\n",
       "      <td>1606.462514</td>\n",
       "      <td>1135.926956</td>\n",
       "    </tr>\n",
       "    <tr>\n",
       "      <th>10</th>\n",
       "      <td>5230.661733</td>\n",
       "      <td>6014.007189</td>\n",
       "    </tr>\n",
       "    <tr>\n",
       "      <th>11</th>\n",
       "      <td>4835.571777</td>\n",
       "      <td>9351.013473</td>\n",
       "    </tr>\n",
       "    <tr>\n",
       "      <th>12</th>\n",
       "      <td>3857.318464</td>\n",
       "      <td>4557.980515</td>\n",
       "    </tr>\n",
       "    <tr>\n",
       "      <th>13</th>\n",
       "      <td>17225.462300</td>\n",
       "      <td>8795.064936</td>\n",
       "    </tr>\n",
       "    <tr>\n",
       "      <th>14</th>\n",
       "      <td>2457.924880</td>\n",
       "      <td>2972.240920</td>\n",
       "    </tr>\n",
       "    <tr>\n",
       "      <th>15</th>\n",
       "      <td>8635.325694</td>\n",
       "      <td>1235.799609</td>\n",
       "    </tr>\n",
       "    <tr>\n",
       "      <th>16</th>\n",
       "      <td>6104.136709</td>\n",
       "      <td>6648.842121</td>\n",
       "    </tr>\n",
       "    <tr>\n",
       "      <th>17</th>\n",
       "      <td>12472.443730</td>\n",
       "      <td>5344.090959</td>\n",
       "    </tr>\n",
       "    <tr>\n",
       "      <th>18</th>\n",
       "      <td>1189.175999</td>\n",
       "      <td>2047.818306</td>\n",
       "    </tr>\n",
       "    <tr>\n",
       "      <th>19</th>\n",
       "      <td>7143.310548</td>\n",
       "      <td>8902.353741</td>\n",
       "    </tr>\n",
       "    <tr>\n",
       "      <th>20</th>\n",
       "      <td>4103.258966</td>\n",
       "      <td>4658.542739</td>\n",
       "    </tr>\n",
       "    <tr>\n",
       "      <th>21</th>\n",
       "      <td>751.821350</td>\n",
       "      <td>3133.195683</td>\n",
       "    </tr>\n",
       "    <tr>\n",
       "      <th>22</th>\n",
       "      <td>10636.120200</td>\n",
       "      <td>5197.077813</td>\n",
       "    </tr>\n",
       "    <tr>\n",
       "      <th>23</th>\n",
       "      <td>3663.969055</td>\n",
       "      <td>4895.142134</td>\n",
       "    </tr>\n",
       "    <tr>\n",
       "      <th>24</th>\n",
       "      <td>973.206129</td>\n",
       "      <td>2941.204291</td>\n",
       "    </tr>\n",
       "    <tr>\n",
       "      <th>25</th>\n",
       "      <td>822.347989</td>\n",
       "      <td>1762.810075</td>\n",
       "    </tr>\n",
       "    <tr>\n",
       "      <th>26</th>\n",
       "      <td>1319.154995</td>\n",
       "      <td>1076.183023</td>\n",
       "    </tr>\n",
       "    <tr>\n",
       "      <th>27</th>\n",
       "      <td>2081.799855</td>\n",
       "      <td>4181.671960</td>\n",
       "    </tr>\n",
       "    <tr>\n",
       "      <th>28</th>\n",
       "      <td>17313.188350</td>\n",
       "      <td>4575.040025</td>\n",
       "    </tr>\n",
       "    <tr>\n",
       "      <th>29</th>\n",
       "      <td>4551.184661</td>\n",
       "      <td>3167.310411</td>\n",
       "    </tr>\n",
       "  </tbody>\n",
       "</table>\n",
       "</div>"
      ],
      "text/plain": [
       "          Actual    Predicted\n",
       "0    3690.627878  3277.582121\n",
       "1    9465.703999  7950.145819\n",
       "2    6492.872012  7334.658659\n",
       "3    9414.226231  6688.314530\n",
       "4    3460.530963  7131.385131\n",
       "5    1636.893209   998.991099\n",
       "6   16265.095980  8001.981245\n",
       "7    2065.749068  5459.376931\n",
       "8   10045.680500  5352.088906\n",
       "9    1606.462514  1135.926956\n",
       "10   5230.661733  6014.007189\n",
       "11   4835.571777  9351.013473\n",
       "12   3857.318464  4557.980515\n",
       "13  17225.462300  8795.064936\n",
       "14   2457.924880  2972.240920\n",
       "15   8635.325694  1235.799609\n",
       "16   6104.136709  6648.842121\n",
       "17  12472.443730  5344.090959\n",
       "18   1189.175999  2047.818306\n",
       "19   7143.310548  8902.353741\n",
       "20   4103.258966  4658.542739\n",
       "21    751.821350  3133.195683\n",
       "22  10636.120200  5197.077813\n",
       "23   3663.969055  4895.142134\n",
       "24    973.206129  2941.204291\n",
       "25    822.347989  1762.810075\n",
       "26   1319.154995  1076.183023\n",
       "27   2081.799855  4181.671960\n",
       "28  17313.188350  4575.040025\n",
       "29   4551.184661  3167.310411"
      ]
     },
     "execution_count": 50,
     "metadata": {},
     "output_type": "execute_result"
    }
   ],
   "source": [
    "# Create a dataframe comparing the actual and predicted values of y.\n",
    "data = pd.DataFrame({'Actual': y_test.flatten(), 'Predicted': y_predicted.flatten()})\n",
    "data.head(30)"
   ]
  },
  {
   "cell_type": "markdown",
   "id": "f4922954",
   "metadata": {},
   "source": [
    "Comparing the correlation between Male Primary and Upper Secondary level with the GDP, both of these have very low correlation with the GDP due to the many 'outliers'. However, the r2 score for the upper Secondary level is slightly higher than the primary level, hence moving forward, we will use this to compare against the female upper secondary completion rate later on."
   ]
  },
  {
   "cell_type": "markdown",
   "id": "e147de82",
   "metadata": {},
   "source": [
    "##### Comparing the upper secondary Male completion with the training set. Checking the model"
   ]
  },
  {
   "cell_type": "code",
   "execution_count": 51,
   "id": "75a94fc1",
   "metadata": {},
   "outputs": [],
   "source": [
    "# Predict on training set\n",
    "y_predicted_train = reg_upsec_comp_M.predict(X_train) "
   ]
  },
  {
   "cell_type": "code",
   "execution_count": 52,
   "id": "574f6680",
   "metadata": {},
   "outputs": [],
   "source": [
    "rmse = mean_squared_error(y_train, y_predicted_train)\n",
    "r2 = r2_score(y_train, y_predicted_train)"
   ]
  },
  {
   "cell_type": "code",
   "execution_count": 53,
   "id": "0477ae01",
   "metadata": {},
   "outputs": [
    {
     "name": "stdout",
     "output_type": "stream",
     "text": [
      "Slope: [[97.53474554]]\n",
      "Mean squared error:  7711990.31313427\n",
      "R2 score:  0.44430094991177094\n"
     ]
    }
   ],
   "source": [
    "print('Slope:' ,reg_upsec_comp_M.coef_)\n",
    "print('Mean squared error: ', rmse)\n",
    "print('R2 score: ', r2)"
   ]
  },
  {
   "cell_type": "code",
   "execution_count": 54,
   "id": "1239a9f4",
   "metadata": {},
   "outputs": [
    {
     "data": {
      "image/png": "[encoded data removed]",
      "text/plain": [
       "<Figure size 432x288 with 1 Axes>"
      ]
     },
     "metadata": {
      "needs_background": "light"
     },
     "output_type": "display_data"
    }
   ],
   "source": [
    "# Visualizing the training set results.\n",
    "plot_test = plt\n",
    "plot_test.scatter(X_train, y_train, color='green', s = 15)\n",
    "plot_test.plot(X_train, y_predicted_train, color='red', linewidth =3)\n",
    "plot_test.title('Male Upper Secondary Level Completion vs GDP Per Capita (Train set)')\n",
    "plot_test.xlabel('Upper Secondary Level Completion')\n",
    "plot_test.ylabel('$ GDP Per Capita')\n",
    "plot_test.show()"
   ]
  },
  {
   "cell_type": "markdown",
   "id": "ce732ff8",
   "metadata": {},
   "source": [
    "The results on this training set shows a better r2 score (0.25 test vs 0.44 train), which means our model may slightly be overfitting. But in any ways, the correlation is still very low."
   ]
  },
  {
   "cell_type": "markdown",
   "id": "63475488",
   "metadata": {},
   "source": [
    "##### Running Regression on Female Upper secondary completion rate"
   ]
  },
  {
   "cell_type": "code",
   "execution_count": 55,
   "id": "04622e78",
   "metadata": {},
   "outputs": [],
   "source": [
    "# Reshaping the variables into NumPy arrays\n",
    "X = df_upsec_comp_F['Percentage'].values.reshape(-1,1)\n",
    "y = df_upsec_comp_F['GDP_PerCapita'].values.reshape(-1,1)"
   ]
  },
  {
   "cell_type": "code",
   "execution_count": 56,
   "id": "7f535d03",
   "metadata": {},
   "outputs": [],
   "source": [
    "# Splitting data into a training set and a test set.\n",
    "X_train, X_test, y_train, y_test = train_test_split(X, y, test_size=0.3, random_state=0)"
   ]
  },
  {
   "cell_type": "code",
   "execution_count": 57,
   "id": "c55beaeb",
   "metadata": {},
   "outputs": [],
   "source": [
    "# Create a regression object\n",
    "reg_upsec_comp_F = LinearRegression() "
   ]
  },
  {
   "cell_type": "code",
   "execution_count": 58,
   "id": "04c570f3",
   "metadata": {},
   "outputs": [
    {
     "data": {
      "text/html": [
       "<style>#sk-container-id-3 {color: black;background-color: white;}#sk-container-id-3 pre{padding: 0;}#sk-container-id-3 div.sk-toggleable {background-color: white;}#sk-container-id-3 label.sk-toggleable__label {cursor: pointer;display: block;width: 100%;margin-bottom: 0;padding: 0.3em;box-sizing: border-box;text-align: center;}#sk-container-id-3 label.sk-toggleable__label-arrow:before {content: \"▸\";float: left;margin-right: 0.25em;color: #696969;}#sk-container-id-3 label.sk-toggleable__label-arrow:hover:before {color: black;}#sk-container-id-3 div.sk-estimator:hover label.sk-toggleable__label-arrow:before {color: black;}#sk-container-id-3 div.sk-toggleable__content {max-height: 0;max-width: 0;overflow: hidden;text-align: left;background-color: #f0f8ff;}#sk-container-id-3 div.sk-toggleable__content pre {margin: 0.2em;color: black;border-radius: 0.25em;background-color: #f0f8ff;}#sk-container-id-3 input.sk-toggleable__control:checked~div.sk-toggleable__content {max-height: 200px;max-width: 100%;overflow: auto;}#sk-container-id-3 input.sk-toggleable__control:checked~label.sk-toggleable__label-arrow:before {content: \"▾\";}#sk-container-id-3 div.sk-estimator input.sk-toggleable__control:checked~label.sk-toggleable__label {background-color: #d4ebff;}#sk-container-id-3 div.sk-label input.sk-toggleable__control:checked~label.sk-toggleable__label {background-color: #d4ebff;}#sk-container-id-3 input.sk-hidden--visually {border: 0;clip: rect(1px 1px 1px 1px);clip: rect(1px, 1px, 1px, 1px);height: 1px;margin: -1px;overflow: hidden;padding: 0;position: absolute;width: 1px;}#sk-container-id-3 div.sk-estimator {font-family: monospace;background-color: #f0f8ff;border: 1px dotted black;border-radius: 0.25em;box-sizing: border-box;margin-bottom: 0.5em;}#sk-container-id-3 div.sk-estimator:hover {background-color: #d4ebff;}#sk-container-id-3 div.sk-parallel-item::after {content: \"\";width: 100%;border-bottom: 1px solid gray;flex-grow: 1;}#sk-container-id-3 div.sk-label:hover label.sk-toggleable__label {background-color: #d4ebff;}#sk-container-id-3 div.sk-serial::before {content: \"\";position: absolute;border-left: 1px solid gray;box-sizing: border-box;top: 0;bottom: 0;left: 50%;z-index: 0;}#sk-container-id-3 div.sk-serial {display: flex;flex-direction: column;align-items: center;background-color: white;padding-right: 0.2em;padding-left: 0.2em;position: relative;}#sk-container-id-3 div.sk-item {position: relative;z-index: 1;}#sk-container-id-3 div.sk-parallel {display: flex;align-items: stretch;justify-content: center;background-color: white;position: relative;}#sk-container-id-3 div.sk-item::before, #sk-container-id-3 div.sk-parallel-item::before {content: \"\";position: absolute;border-left: 1px solid gray;box-sizing: border-box;top: 0;bottom: 0;left: 50%;z-index: -1;}#sk-container-id-3 div.sk-parallel-item {display: flex;flex-direction: column;z-index: 1;position: relative;background-color: white;}#sk-container-id-3 div.sk-parallel-item:first-child::after {align-self: flex-end;width: 50%;}#sk-container-id-3 div.sk-parallel-item:last-child::after {align-self: flex-start;width: 50%;}#sk-container-id-3 div.sk-parallel-item:only-child::after {width: 0;}#sk-container-id-3 div.sk-dashed-wrapped {border: 1px dashed gray;margin: 0 0.4em 0.5em 0.4em;box-sizing: border-box;padding-bottom: 0.4em;background-color: white;}#sk-container-id-3 div.sk-label label {font-family: monospace;font-weight: bold;display: inline-block;line-height: 1.2em;}#sk-container-id-3 div.sk-label-container {text-align: center;}#sk-container-id-3 div.sk-container {/* jupyter's `normalize.less` sets `[hidden] { display: none; }` but bootstrap.min.css set `[hidden] { display: none !important; }` so we also need the `!important` here to be able to override the default hidden behavior on the sphinx rendered scikit-learn.org. See: https://github.com/scikit-learn/scikit-learn/issues/21755 */display: inline-block !important;position: relative;}#sk-container-id-3 div.sk-text-repr-fallback {display: none;}</style><div id=\"sk-container-id-3\" class=\"sk-top-container\"><div class=\"sk-text-repr-fallback\"><pre>LinearRegression()</pre><b>In a Jupyter environment, please rerun this cell to show the HTML representation or trust the notebook. <br />On GitHub, the HTML representation is unable to render, please try loading this page with nbviewer.org.</b></div><div class=\"sk-container\" hidden><div class=\"sk-item\"><div class=\"sk-estimator sk-toggleable\"><input class=\"sk-toggleable__control sk-hidden--visually\" id=\"sk-estimator-id-3\" type=\"checkbox\" checked><label for=\"sk-estimator-id-3\" class=\"sk-toggleable__label sk-toggleable__label-arrow\">LinearRegression</label><div class=\"sk-toggleable__content\"><pre>LinearRegression()</pre></div></div></div></div></div>"
      ],
      "text/plain": [
       "LinearRegression()"
      ]
     },
     "execution_count": 58,
     "metadata": {},
     "output_type": "execute_result"
    }
   ],
   "source": [
    "# Fitting regression into training set. This i where you train the model\n",
    "reg_upsec_comp_F.fit(X_train, y_train)"
   ]
  },
  {
   "cell_type": "code",
   "execution_count": 59,
   "id": "7c7a27d0",
   "metadata": {},
   "outputs": [],
   "source": [
    "# Predict the values of y using X. This will be compared against the actual Y in Y test.\n",
    "y_predicted = reg_upsec_comp_F.predict(X_test)"
   ]
  },
  {
   "cell_type": "code",
   "execution_count": 60,
   "id": "34f4d0dc",
   "metadata": {},
   "outputs": [
    {
     "data": {
      "image/png": "[encoded data removed]",
      "text/plain": [
       "<Figure size 432x288 with 1 Axes>"
      ]
     },
     "metadata": {
      "needs_background": "light"
     },
     "output_type": "display_data"
    }
   ],
   "source": [
    "# Create a plot that shows the regression line from the model on the test set.\n",
    "\n",
    "plot_test = plt\n",
    "plot_test.scatter(X_test, y_test, color='pink', s = 15)\n",
    "plot_test.plot(X_test, y_predicted, color='red', linewidth =3)\n",
    "plot_test.title('Female Upper Secondary Level Completion vs GDP Per Capita (Test set)')\n",
    "plot_test.xlabel('Upper Secondary Level Completion')\n",
    "plot_test.ylabel('$ GDP Per Capita')\n",
    "plot_test.show()"
   ]
  },
  {
   "cell_type": "code",
   "execution_count": 61,
   "id": "2cf18643",
   "metadata": {
    "scrolled": true
   },
   "outputs": [
    {
     "name": "stdout",
     "output_type": "stream",
     "text": [
      "Slope: [[98.11816239]]\n",
      "Mean squared error:  7711990.31313427\n",
      "R2 score:  0.44430094991177094\n"
     ]
    }
   ],
   "source": [
    "# Print the model summary statistics. \n",
    "print('Slope:' ,reg_upsec_comp_F.coef_)\n",
    "print('Mean squared error: ', rmse)\n",
    "print('R2 score: ', r2)"
   ]
  },
  {
   "cell_type": "code",
   "execution_count": 62,
   "id": "e1e3910d",
   "metadata": {
    "scrolled": true
   },
   "outputs": [
    {
     "data": {
      "text/html": [
       "<div>\n",
       "<style scoped>\n",
       "    .dataframe tbody tr th:only-of-type {\n",
       "        vertical-align: middle;\n",
       "    }\n",
       "\n",
       "    .dataframe tbody tr th {\n",
       "        vertical-align: top;\n",
       "    }\n",
       "\n",
       "    .dataframe thead th {\n",
       "        text-align: right;\n",
       "    }\n",
       "</style>\n",
       "<table border=\"1\" class=\"dataframe\">\n",
       "  <thead>\n",
       "    <tr style=\"text-align: right;\">\n",
       "      <th></th>\n",
       "      <th>Actual</th>\n",
       "      <th>Predicted</th>\n",
       "    </tr>\n",
       "  </thead>\n",
       "  <tbody>\n",
       "    <tr>\n",
       "      <th>0</th>\n",
       "      <td>3690.627878</td>\n",
       "      <td>5593.102125</td>\n",
       "    </tr>\n",
       "    <tr>\n",
       "      <th>1</th>\n",
       "      <td>9465.703999</td>\n",
       "      <td>8610.451871</td>\n",
       "    </tr>\n",
       "    <tr>\n",
       "      <th>2</th>\n",
       "      <td>6492.872012</td>\n",
       "      <td>7623.423091</td>\n",
       "    </tr>\n",
       "    <tr>\n",
       "      <th>3</th>\n",
       "      <td>9414.226231</td>\n",
       "      <td>8589.193688</td>\n",
       "    </tr>\n",
       "    <tr>\n",
       "      <th>4</th>\n",
       "      <td>3460.530963</td>\n",
       "      <td>7957.694991</td>\n",
       "    </tr>\n",
       "    <tr>\n",
       "      <th>5</th>\n",
       "      <td>1636.893209</td>\n",
       "      <td>743.625931</td>\n",
       "    </tr>\n",
       "    <tr>\n",
       "      <th>6</th>\n",
       "      <td>16265.095980</td>\n",
       "      <td>8430.280924</td>\n",
       "    </tr>\n",
       "    <tr>\n",
       "      <th>7</th>\n",
       "      <td>2065.749068</td>\n",
       "      <td>4056.134880</td>\n",
       "    </tr>\n",
       "    <tr>\n",
       "      <th>8</th>\n",
       "      <td>10045.680500</td>\n",
       "      <td>5714.332021</td>\n",
       "    </tr>\n",
       "    <tr>\n",
       "      <th>9</th>\n",
       "      <td>1606.462514</td>\n",
       "      <td>1785.355733</td>\n",
       "    </tr>\n",
       "    <tr>\n",
       "      <th>10</th>\n",
       "      <td>5230.661733</td>\n",
       "      <td>6765.256721</td>\n",
       "    </tr>\n",
       "    <tr>\n",
       "      <th>11</th>\n",
       "      <td>4835.571777</td>\n",
       "      <td>9285.833230</td>\n",
       "    </tr>\n",
       "    <tr>\n",
       "      <th>12</th>\n",
       "      <td>3857.318464</td>\n",
       "      <td>6224.846314</td>\n",
       "    </tr>\n",
       "    <tr>\n",
       "      <th>13</th>\n",
       "      <td>17225.462300</td>\n",
       "      <td>9295.644948</td>\n",
       "    </tr>\n",
       "    <tr>\n",
       "      <th>14</th>\n",
       "      <td>2457.924880</td>\n",
       "      <td>2466.620551</td>\n",
       "    </tr>\n",
       "    <tr>\n",
       "      <th>15</th>\n",
       "      <td>8635.325694</td>\n",
       "      <td>1140.531117</td>\n",
       "    </tr>\n",
       "    <tr>\n",
       "      <th>16</th>\n",
       "      <td>6104.136709</td>\n",
       "      <td>7464.413779</td>\n",
       "    </tr>\n",
       "    <tr>\n",
       "      <th>17</th>\n",
       "      <td>12472.443730</td>\n",
       "      <td>5715.000794</td>\n",
       "    </tr>\n",
       "    <tr>\n",
       "      <th>18</th>\n",
       "      <td>1189.175999</td>\n",
       "      <td>1018.896975</td>\n",
       "    </tr>\n",
       "    <tr>\n",
       "      <th>19</th>\n",
       "      <td>7143.310548</td>\n",
       "      <td>8814.865756</td>\n",
       "    </tr>\n",
       "  </tbody>\n",
       "</table>\n",
       "</div>"
      ],
      "text/plain": [
       "          Actual    Predicted\n",
       "0    3690.627878  5593.102125\n",
       "1    9465.703999  8610.451871\n",
       "2    6492.872012  7623.423091\n",
       "3    9414.226231  8589.193688\n",
       "4    3460.530963  7957.694991\n",
       "5    1636.893209   743.625931\n",
       "6   16265.095980  8430.280924\n",
       "7    2065.749068  4056.134880\n",
       "8   10045.680500  5714.332021\n",
       "9    1606.462514  1785.355733\n",
       "10   5230.661733  6765.256721\n",
       "11   4835.571777  9285.833230\n",
       "12   3857.318464  6224.846314\n",
       "13  17225.462300  9295.644948\n",
       "14   2457.924880  2466.620551\n",
       "15   8635.325694  1140.531117\n",
       "16   6104.136709  7464.413779\n",
       "17  12472.443730  5715.000794\n",
       "18   1189.175999  1018.896975\n",
       "19   7143.310548  8814.865756"
      ]
     },
     "execution_count": 62,
     "metadata": {},
     "output_type": "execute_result"
    }
   ],
   "source": [
    "# Create a dataframe comparing the actual and predicted values of y.\n",
    "\n",
    "data = pd.DataFrame({'Actual': y_test.flatten(), 'Predicted': y_predicted.flatten()})\n",
    "data.head(20)"
   ]
  },
  {
   "cell_type": "markdown",
   "id": "36f7968f",
   "metadata": {},
   "source": [
    "The r2 score for Female at upper secondary is higher(0.44) compared to male upper secondary (0.25). This means that the female has a slightly stronger correlation to the GDP than the male, although r2 score of 0.44 is still weak."
   ]
  },
  {
   "cell_type": "markdown",
   "id": "ab1e1c4a",
   "metadata": {},
   "source": [
    "##### Testing the model on the training data itself to check for model's performance"
   ]
  },
  {
   "cell_type": "code",
   "execution_count": 63,
   "id": "771fb6a0",
   "metadata": {},
   "outputs": [],
   "source": [
    "# Predict on training set\n",
    "y_predicted_train = reg_upsec_comp_F.predict(X_train) "
   ]
  },
  {
   "cell_type": "code",
   "execution_count": 64,
   "id": "8fb7f593",
   "metadata": {},
   "outputs": [],
   "source": [
    "rmse = mean_squared_error(y_train, y_predicted_train)\n",
    "r2 = r2_score(y_train, y_predicted_train)"
   ]
  },
  {
   "cell_type": "code",
   "execution_count": 65,
   "id": "ad4daab4",
   "metadata": {},
   "outputs": [
    {
     "name": "stdout",
     "output_type": "stream",
     "text": [
      "Slope: [[97.53474554]]\n",
      "Mean squared error:  6665966.339487004\n",
      "R2 score:  0.519673779093796\n"
     ]
    }
   ],
   "source": [
    "print('Slope:' ,reg_upsec_comp_M.coef_)\n",
    "print('Mean squared error: ', rmse)\n",
    "print('R2 score: ', r2)"
   ]
  },
  {
   "cell_type": "markdown",
   "id": "6f8b2cde",
   "metadata": {},
   "source": [
    "R2 score is only slightly better on the training set. We will not remove any outliers because these are actual country data and many other untested factors contribute to its point on the plot."
   ]
  },
  {
   "cell_type": "markdown",
   "id": "76c57f1d",
   "metadata": {},
   "source": [
    "#### Running Regression on Female Primary Completion"
   ]
  },
  {
   "cell_type": "code",
   "execution_count": 66,
   "id": "264bdf73",
   "metadata": {},
   "outputs": [],
   "source": [
    "# Reshaping the variables into NumPy arrays\n",
    "X = df_prim_comp_F['Percentage'].values.reshape(-1,1)\n",
    "y = df_prim_comp_F['GDP_PerCapita'].values.reshape(-1,1)"
   ]
  },
  {
   "cell_type": "code",
   "execution_count": 67,
   "id": "9839128b",
   "metadata": {},
   "outputs": [],
   "source": [
    "# Splitting data into a training set and a test set.\n",
    "X_train, X_test, y_train, y_test = train_test_split(X, y, test_size=0.3, random_state=0)"
   ]
  },
  {
   "cell_type": "code",
   "execution_count": 68,
   "id": "751db7e8",
   "metadata": {},
   "outputs": [],
   "source": [
    "# Create a regression object\n",
    "reg_prim_comp_F = LinearRegression() "
   ]
  },
  {
   "cell_type": "code",
   "execution_count": 69,
   "id": "4ea7684f",
   "metadata": {},
   "outputs": [
    {
     "data": {
      "text/html": [
       "<style>#sk-container-id-4 {color: black;background-color: white;}#sk-container-id-4 pre{padding: 0;}#sk-container-id-4 div.sk-toggleable {background-color: white;}#sk-container-id-4 label.sk-toggleable__label {cursor: pointer;display: block;width: 100%;margin-bottom: 0;padding: 0.3em;box-sizing: border-box;text-align: center;}#sk-container-id-4 label.sk-toggleable__label-arrow:before {content: \"▸\";float: left;margin-right: 0.25em;color: #696969;}#sk-container-id-4 label.sk-toggleable__label-arrow:hover:before {color: black;}#sk-container-id-4 div.sk-estimator:hover label.sk-toggleable__label-arrow:before {color: black;}#sk-container-id-4 div.sk-toggleable__content {max-height: 0;max-width: 0;overflow: hidden;text-align: left;background-color: #f0f8ff;}#sk-container-id-4 div.sk-toggleable__content pre {margin: 0.2em;color: black;border-radius: 0.25em;background-color: #f0f8ff;}#sk-container-id-4 input.sk-toggleable__control:checked~div.sk-toggleable__content {max-height: 200px;max-width: 100%;overflow: auto;}#sk-container-id-4 input.sk-toggleable__control:checked~label.sk-toggleable__label-arrow:before {content: \"▾\";}#sk-container-id-4 div.sk-estimator input.sk-toggleable__control:checked~label.sk-toggleable__label {background-color: #d4ebff;}#sk-container-id-4 div.sk-label input.sk-toggleable__control:checked~label.sk-toggleable__label {background-color: #d4ebff;}#sk-container-id-4 input.sk-hidden--visually {border: 0;clip: rect(1px 1px 1px 1px);clip: rect(1px, 1px, 1px, 1px);height: 1px;margin: -1px;overflow: hidden;padding: 0;position: absolute;width: 1px;}#sk-container-id-4 div.sk-estimator {font-family: monospace;background-color: #f0f8ff;border: 1px dotted black;border-radius: 0.25em;box-sizing: border-box;margin-bottom: 0.5em;}#sk-container-id-4 div.sk-estimator:hover {background-color: #d4ebff;}#sk-container-id-4 div.sk-parallel-item::after {content: \"\";width: 100%;border-bottom: 1px solid gray;flex-grow: 1;}#sk-container-id-4 div.sk-label:hover label.sk-toggleable__label {background-color: #d4ebff;}#sk-container-id-4 div.sk-serial::before {content: \"\";position: absolute;border-left: 1px solid gray;box-sizing: border-box;top: 0;bottom: 0;left: 50%;z-index: 0;}#sk-container-id-4 div.sk-serial {display: flex;flex-direction: column;align-items: center;background-color: white;padding-right: 0.2em;padding-left: 0.2em;position: relative;}#sk-container-id-4 div.sk-item {position: relative;z-index: 1;}#sk-container-id-4 div.sk-parallel {display: flex;align-items: stretch;justify-content: center;background-color: white;position: relative;}#sk-container-id-4 div.sk-item::before, #sk-container-id-4 div.sk-parallel-item::before {content: \"\";position: absolute;border-left: 1px solid gray;box-sizing: border-box;top: 0;bottom: 0;left: 50%;z-index: -1;}#sk-container-id-4 div.sk-parallel-item {display: flex;flex-direction: column;z-index: 1;position: relative;background-color: white;}#sk-container-id-4 div.sk-parallel-item:first-child::after {align-self: flex-end;width: 50%;}#sk-container-id-4 div.sk-parallel-item:last-child::after {align-self: flex-start;width: 50%;}#sk-container-id-4 div.sk-parallel-item:only-child::after {width: 0;}#sk-container-id-4 div.sk-dashed-wrapped {border: 1px dashed gray;margin: 0 0.4em 0.5em 0.4em;box-sizing: border-box;padding-bottom: 0.4em;background-color: white;}#sk-container-id-4 div.sk-label label {font-family: monospace;font-weight: bold;display: inline-block;line-height: 1.2em;}#sk-container-id-4 div.sk-label-container {text-align: center;}#sk-container-id-4 div.sk-container {/* jupyter's `normalize.less` sets `[hidden] { display: none; }` but bootstrap.min.css set `[hidden] { display: none !important; }` so we also need the `!important` here to be able to override the default hidden behavior on the sphinx rendered scikit-learn.org. See: https://github.com/scikit-learn/scikit-learn/issues/21755 */display: inline-block !important;position: relative;}#sk-container-id-4 div.sk-text-repr-fallback {display: none;}</style><div id=\"sk-container-id-4\" class=\"sk-top-container\"><div class=\"sk-text-repr-fallback\"><pre>LinearRegression()</pre><b>In a Jupyter environment, please rerun this cell to show the HTML representation or trust the notebook. <br />On GitHub, the HTML representation is unable to render, please try loading this page with nbviewer.org.</b></div><div class=\"sk-container\" hidden><div class=\"sk-item\"><div class=\"sk-estimator sk-toggleable\"><input class=\"sk-toggleable__control sk-hidden--visually\" id=\"sk-estimator-id-4\" type=\"checkbox\" checked><label for=\"sk-estimator-id-4\" class=\"sk-toggleable__label sk-toggleable__label-arrow\">LinearRegression</label><div class=\"sk-toggleable__content\"><pre>LinearRegression()</pre></div></div></div></div></div>"
      ],
      "text/plain": [
       "LinearRegression()"
      ]
     },
     "execution_count": 69,
     "metadata": {},
     "output_type": "execute_result"
    }
   ],
   "source": [
    "# Fitting regression into training set. This i where you train the model\n",
    "reg_prim_comp_F.fit(X_train, y_train)"
   ]
  },
  {
   "cell_type": "code",
   "execution_count": 70,
   "id": "6e54b4f3",
   "metadata": {},
   "outputs": [],
   "source": [
    "# Predict the values of y using X. This will be compared against the actual Y in Y test.\n",
    "y_predicted = reg_prim_comp_F.predict(X_test)"
   ]
  },
  {
   "cell_type": "code",
   "execution_count": 71,
   "id": "2abb63f6",
   "metadata": {},
   "outputs": [
    {
     "data": {
      "image/png": "[encoded data removed]",
      "text/plain": [
       "<Figure size 432x288 with 1 Axes>"
      ]
     },
     "metadata": {
      "needs_background": "light"
     },
     "output_type": "display_data"
    }
   ],
   "source": [
    "# Create a plot that shows the regression line from the model on the test set.\n",
    "\n",
    "plot_test = plt\n",
    "plot_test.scatter(X_test, y_test, color='pink', s = 15)\n",
    "plot_test.plot(X_test, y_predicted, color='red', linewidth =3)\n",
    "plot_test.title('Female Primary Level Completion vs GDP Per Capita (Test set)')\n",
    "plot_test.xlabel('Primary Level Completion')\n",
    "plot_test.ylabel('$ GDP Per Capita')\n",
    "plot_test.show()"
   ]
  },
  {
   "cell_type": "code",
   "execution_count": 72,
   "id": "1dff2f07",
   "metadata": {},
   "outputs": [
    {
     "name": "stdout",
     "output_type": "stream",
     "text": [
      "Slope: [[96.93467172]]\n",
      "Mean squared error:  6665966.339487004\n",
      "R2 score:  0.519673779093796\n"
     ]
    }
   ],
   "source": [
    "print('Slope:' ,reg_prim_comp_F.coef_)\n",
    "print('Mean squared error: ', rmse)\n",
    "print('R2 score: ', r2)"
   ]
  },
  {
   "cell_type": "markdown",
   "id": "b1b75c65",
   "metadata": {},
   "source": [
    "The correlation with GDP for primary level female completion is even higher than female upper secondary completion"
   ]
  },
  {
   "cell_type": "markdown",
   "id": "01161d43",
   "metadata": {},
   "source": [
    "# 5. Discussion"
   ]
  },
  {
   "cell_type": "markdown",
   "id": "6513ca69",
   "metadata": {},
   "source": [
    "Referring back to the hypothesis outlined earlier in the document:\n",
    "1. Completion of Upper Secondary level has more correlation on the GDP compared to Primary level completion\n",
    "2. Completion of Female Upper Secondary level correlates more to the GDP compared to male\n",
    "\n",
    "Some of the analysis run above gave some insights to thise hypothesis.\n",
    "1. For males, upper secondary level has a slightly higher correlation to the GDP compared to primary level (r2 = 0.22 vs 0.25)\n",
    "2. At Upper secondary level, the completion rate for female has a higher r2 score compared to male (0.44 vs 0.25)\n",
    "In both of these cases, the correlation is still very weak. Education completion may be a small factor contributing to GDP_PerCapita"
   ]
  },
  {
   "cell_type": "markdown",
   "id": "fd4e7810",
   "metadata": {},
   "source": [
    "## 6. Additional Check on Education Completion & Happiness Level"
   ]
  },
  {
   "cell_type": "code",
   "execution_count": 73,
   "id": "3f2f3a19",
   "metadata": {
    "scrolled": true
   },
   "outputs": [
    {
     "data": {
      "text/plain": [
       "Country            0\n",
       "Indicator          0\n",
       "Gender             0\n",
       "Percentage         0\n",
       "Happiness_Rank    38\n",
       "GDP_PerCapita      0\n",
       "Income_Group       0\n",
       "dtype: int64"
      ]
     },
     "execution_count": 73,
     "metadata": {},
     "output_type": "execute_result"
    }
   ],
   "source": [
    "#Check for missing values\n",
    "df_upsec_comp.isnull().sum()"
   ]
  },
  {
   "cell_type": "code",
   "execution_count": 74,
   "id": "71842b76",
   "metadata": {
    "scrolled": true
   },
   "outputs": [
    {
     "data": {
      "text/html": [
       "<div>\n",
       "<style scoped>\n",
       "    .dataframe tbody tr th:only-of-type {\n",
       "        vertical-align: middle;\n",
       "    }\n",
       "\n",
       "    .dataframe tbody tr th {\n",
       "        vertical-align: top;\n",
       "    }\n",
       "\n",
       "    .dataframe thead th {\n",
       "        text-align: right;\n",
       "    }\n",
       "</style>\n",
       "<table border=\"1\" class=\"dataframe\">\n",
       "  <thead>\n",
       "    <tr style=\"text-align: right;\">\n",
       "      <th></th>\n",
       "      <th>Country</th>\n",
       "      <th>Indicator</th>\n",
       "      <th>Gender</th>\n",
       "      <th>Percentage</th>\n",
       "      <th>Happiness_Rank</th>\n",
       "      <th>GDP_PerCapita</th>\n",
       "      <th>Income_Group</th>\n",
       "    </tr>\n",
       "  </thead>\n",
       "  <tbody>\n",
       "    <tr>\n",
       "      <th>10</th>\n",
       "      <td>Angola</td>\n",
       "      <td>Completion rate for youth of upper secondary e...</td>\n",
       "      <td>Female</td>\n",
       "      <td>15.210190</td>\n",
       "      <td>NaN</td>\n",
       "      <td>1953.533757</td>\n",
       "      <td>Lower middle income</td>\n",
       "    </tr>\n",
       "    <tr>\n",
       "      <th>11</th>\n",
       "      <td>Angola</td>\n",
       "      <td>Completion rate for youth of upper secondary e...</td>\n",
       "      <td>Male</td>\n",
       "      <td>23.698139</td>\n",
       "      <td>NaN</td>\n",
       "      <td>1953.533757</td>\n",
       "      <td>Lower middle income</td>\n",
       "    </tr>\n",
       "    <tr>\n",
       "      <th>50</th>\n",
       "      <td>Burundi</td>\n",
       "      <td>Completion rate for youth of upper secondary e...</td>\n",
       "      <td>Female</td>\n",
       "      <td>3.400000</td>\n",
       "      <td>NaN</td>\n",
       "      <td>221.477676</td>\n",
       "      <td>Low income</td>\n",
       "    </tr>\n",
       "    <tr>\n",
       "      <th>51</th>\n",
       "      <td>Burundi</td>\n",
       "      <td>Completion rate for youth of upper secondary e...</td>\n",
       "      <td>Male</td>\n",
       "      <td>3.600000</td>\n",
       "      <td>NaN</td>\n",
       "      <td>221.477676</td>\n",
       "      <td>Low income</td>\n",
       "    </tr>\n",
       "    <tr>\n",
       "      <th>108</th>\n",
       "      <td>Belize</td>\n",
       "      <td>Completion rate for youth of upper secondary e...</td>\n",
       "      <td>Female</td>\n",
       "      <td>50.700001</td>\n",
       "      <td>NaN</td>\n",
       "      <td>6228.267309</td>\n",
       "      <td>Upper middle income</td>\n",
       "    </tr>\n",
       "    <tr>\n",
       "      <th>109</th>\n",
       "      <td>Belize</td>\n",
       "      <td>Completion rate for youth of upper secondary e...</td>\n",
       "      <td>Male</td>\n",
       "      <td>47.500000</td>\n",
       "      <td>NaN</td>\n",
       "      <td>6228.267309</td>\n",
       "      <td>Upper middle income</td>\n",
       "    </tr>\n",
       "    <tr>\n",
       "      <th>144</th>\n",
       "      <td>Barbados</td>\n",
       "      <td>Completion rate for youth of upper secondary e...</td>\n",
       "      <td>Female</td>\n",
       "      <td>96.900002</td>\n",
       "      <td>NaN</td>\n",
       "      <td>17225.462300</td>\n",
       "      <td>High income</td>\n",
       "    </tr>\n",
       "    <tr>\n",
       "      <th>145</th>\n",
       "      <td>Barbados</td>\n",
       "      <td>Completion rate for youth of upper secondary e...</td>\n",
       "      <td>Male</td>\n",
       "      <td>91.199997</td>\n",
       "      <td>NaN</td>\n",
       "      <td>17225.462300</td>\n",
       "      <td>High income</td>\n",
       "    </tr>\n",
       "    <tr>\n",
       "      <th>168</th>\n",
       "      <td>Central African Republic</td>\n",
       "      <td>Completion rate for youth of upper secondary e...</td>\n",
       "      <td>Female</td>\n",
       "      <td>5.165232</td>\n",
       "      <td>NaN</td>\n",
       "      <td>461.137490</td>\n",
       "      <td>Low income</td>\n",
       "    </tr>\n",
       "    <tr>\n",
       "      <th>169</th>\n",
       "      <td>Central African Republic</td>\n",
       "      <td>Completion rate for youth of upper secondary e...</td>\n",
       "      <td>Male</td>\n",
       "      <td>7.547066</td>\n",
       "      <td>NaN</td>\n",
       "      <td>461.137490</td>\n",
       "      <td>Low income</td>\n",
       "    </tr>\n",
       "    <tr>\n",
       "      <th>220</th>\n",
       "      <td>Democratic Republic of the Congo</td>\n",
       "      <td>Completion rate for youth of upper secondary e...</td>\n",
       "      <td>Female</td>\n",
       "      <td>26.741030</td>\n",
       "      <td>NaN</td>\n",
       "      <td>577.209215</td>\n",
       "      <td>Low income</td>\n",
       "    </tr>\n",
       "    <tr>\n",
       "      <th>221</th>\n",
       "      <td>Democratic Republic of the Congo</td>\n",
       "      <td>Completion rate for youth of upper secondary e...</td>\n",
       "      <td>Male</td>\n",
       "      <td>36.384041</td>\n",
       "      <td>NaN</td>\n",
       "      <td>577.209215</td>\n",
       "      <td>Low income</td>\n",
       "    </tr>\n",
       "    <tr>\n",
       "      <th>392</th>\n",
       "      <td>Guinea-Bissau</td>\n",
       "      <td>Completion rate for youth of upper secondary e...</td>\n",
       "      <td>Female</td>\n",
       "      <td>8.103095</td>\n",
       "      <td>NaN</td>\n",
       "      <td>795.118569</td>\n",
       "      <td>Low income</td>\n",
       "    </tr>\n",
       "    <tr>\n",
       "      <th>393</th>\n",
       "      <td>Guinea-Bissau</td>\n",
       "      <td>Completion rate for youth of upper secondary e...</td>\n",
       "      <td>Male</td>\n",
       "      <td>13.712680</td>\n",
       "      <td>NaN</td>\n",
       "      <td>795.118569</td>\n",
       "      <td>Low income</td>\n",
       "    </tr>\n",
       "    <tr>\n",
       "      <th>410</th>\n",
       "      <td>Guyana</td>\n",
       "      <td>Completion rate for youth of upper secondary e...</td>\n",
       "      <td>Female</td>\n",
       "      <td>67.787537</td>\n",
       "      <td>NaN</td>\n",
       "      <td>9998.544311</td>\n",
       "      <td>Upper middle income</td>\n",
       "    </tr>\n",
       "    <tr>\n",
       "      <th>411</th>\n",
       "      <td>Guyana</td>\n",
       "      <td>Completion rate for youth of upper secondary e...</td>\n",
       "      <td>Male</td>\n",
       "      <td>53.666962</td>\n",
       "      <td>NaN</td>\n",
       "      <td>9998.544311</td>\n",
       "      <td>Upper middle income</td>\n",
       "    </tr>\n",
       "    <tr>\n",
       "      <th>428</th>\n",
       "      <td>Haiti</td>\n",
       "      <td>Completion rate for youth of upper secondary e...</td>\n",
       "      <td>Female</td>\n",
       "      <td>16.480619</td>\n",
       "      <td>NaN</td>\n",
       "      <td>1829.593044</td>\n",
       "      <td>Lower middle income</td>\n",
       "    </tr>\n",
       "    <tr>\n",
       "      <th>429</th>\n",
       "      <td>Haiti</td>\n",
       "      <td>Completion rate for youth of upper secondary e...</td>\n",
       "      <td>Male</td>\n",
       "      <td>17.085310</td>\n",
       "      <td>NaN</td>\n",
       "      <td>1829.593044</td>\n",
       "      <td>Lower middle income</td>\n",
       "    </tr>\n",
       "    <tr>\n",
       "      <th>512</th>\n",
       "      <td>Kiribati</td>\n",
       "      <td>Completion rate for youth of upper secondary e...</td>\n",
       "      <td>Female</td>\n",
       "      <td>20.356689</td>\n",
       "      <td>NaN</td>\n",
       "      <td>1606.462514</td>\n",
       "      <td>Lower middle income</td>\n",
       "    </tr>\n",
       "    <tr>\n",
       "      <th>513</th>\n",
       "      <td>Kiribati</td>\n",
       "      <td>Completion rate for youth of upper secondary e...</td>\n",
       "      <td>Male</td>\n",
       "      <td>12.672720</td>\n",
       "      <td>NaN</td>\n",
       "      <td>1606.462514</td>\n",
       "      <td>Lower middle income</td>\n",
       "    </tr>\n",
       "    <tr>\n",
       "      <th>542</th>\n",
       "      <td>Saint Lucia</td>\n",
       "      <td>Completion rate for youth of upper secondary e...</td>\n",
       "      <td>Female</td>\n",
       "      <td>89.699997</td>\n",
       "      <td>NaN</td>\n",
       "      <td>9414.226231</td>\n",
       "      <td>Upper middle income</td>\n",
       "    </tr>\n",
       "    <tr>\n",
       "      <th>543</th>\n",
       "      <td>Saint Lucia</td>\n",
       "      <td>Completion rate for youth of upper secondary e...</td>\n",
       "      <td>Male</td>\n",
       "      <td>69.599998</td>\n",
       "      <td>NaN</td>\n",
       "      <td>9414.226231</td>\n",
       "      <td>Upper middle income</td>\n",
       "    </tr>\n",
       "    <tr>\n",
       "      <th>798</th>\n",
       "      <td>Sudan</td>\n",
       "      <td>Completion rate for youth of upper secondary e...</td>\n",
       "      <td>Female</td>\n",
       "      <td>28.143700</td>\n",
       "      <td>NaN</td>\n",
       "      <td>751.821350</td>\n",
       "      <td>Low income</td>\n",
       "    </tr>\n",
       "    <tr>\n",
       "      <th>799</th>\n",
       "      <td>Sudan</td>\n",
       "      <td>Completion rate for youth of upper secondary e...</td>\n",
       "      <td>Male</td>\n",
       "      <td>33.150230</td>\n",
       "      <td>NaN</td>\n",
       "      <td>751.821350</td>\n",
       "      <td>Low income</td>\n",
       "    </tr>\n",
       "    <tr>\n",
       "      <th>856</th>\n",
       "      <td>Sao Tome and Principe</td>\n",
       "      <td>Completion rate for youth of upper secondary e...</td>\n",
       "      <td>Female</td>\n",
       "      <td>30.680140</td>\n",
       "      <td>NaN</td>\n",
       "      <td>2360.543554</td>\n",
       "      <td>Lower middle income</td>\n",
       "    </tr>\n",
       "    <tr>\n",
       "      <th>857</th>\n",
       "      <td>Sao Tome and Principe</td>\n",
       "      <td>Completion rate for youth of upper secondary e...</td>\n",
       "      <td>Male</td>\n",
       "      <td>26.436750</td>\n",
       "      <td>NaN</td>\n",
       "      <td>2360.543554</td>\n",
       "      <td>Lower middle income</td>\n",
       "    </tr>\n",
       "    <tr>\n",
       "      <th>868</th>\n",
       "      <td>Suriname</td>\n",
       "      <td>Completion rate for youth of upper secondary e...</td>\n",
       "      <td>Female</td>\n",
       "      <td>26.467779</td>\n",
       "      <td>NaN</td>\n",
       "      <td>4869.134226</td>\n",
       "      <td>Upper middle income</td>\n",
       "    </tr>\n",
       "    <tr>\n",
       "      <th>869</th>\n",
       "      <td>Suriname</td>\n",
       "      <td>Completion rate for youth of upper secondary e...</td>\n",
       "      <td>Male</td>\n",
       "      <td>18.206461</td>\n",
       "      <td>NaN</td>\n",
       "      <td>4869.134226</td>\n",
       "      <td>Upper middle income</td>\n",
       "    </tr>\n",
       "    <tr>\n",
       "      <th>892</th>\n",
       "      <td>Turks and Caicos Islands</td>\n",
       "      <td>Completion rate for youth of upper secondary e...</td>\n",
       "      <td>Female</td>\n",
       "      <td>95.886620</td>\n",
       "      <td>NaN</td>\n",
       "      <td>20908.582700</td>\n",
       "      <td>High income</td>\n",
       "    </tr>\n",
       "    <tr>\n",
       "      <th>893</th>\n",
       "      <td>Turks and Caicos Islands</td>\n",
       "      <td>Completion rate for youth of upper secondary e...</td>\n",
       "      <td>Male</td>\n",
       "      <td>99.628960</td>\n",
       "      <td>NaN</td>\n",
       "      <td>20908.582700</td>\n",
       "      <td>High income</td>\n",
       "    </tr>\n",
       "    <tr>\n",
       "      <th>952</th>\n",
       "      <td>Timor-Leste</td>\n",
       "      <td>Completion rate for youth of upper secondary e...</td>\n",
       "      <td>Female</td>\n",
       "      <td>54.656509</td>\n",
       "      <td>NaN</td>\n",
       "      <td>2741.393931</td>\n",
       "      <td>Lower middle income</td>\n",
       "    </tr>\n",
       "    <tr>\n",
       "      <th>953</th>\n",
       "      <td>Timor-Leste</td>\n",
       "      <td>Completion rate for youth of upper secondary e...</td>\n",
       "      <td>Male</td>\n",
       "      <td>49.078838</td>\n",
       "      <td>NaN</td>\n",
       "      <td>2741.393931</td>\n",
       "      <td>Lower middle income</td>\n",
       "    </tr>\n",
       "    <tr>\n",
       "      <th>964</th>\n",
       "      <td>Tonga</td>\n",
       "      <td>Completion rate for youth of upper secondary e...</td>\n",
       "      <td>Female</td>\n",
       "      <td>56.312710</td>\n",
       "      <td>NaN</td>\n",
       "      <td>4426.000637</td>\n",
       "      <td>Upper middle income</td>\n",
       "    </tr>\n",
       "    <tr>\n",
       "      <th>965</th>\n",
       "      <td>Tonga</td>\n",
       "      <td>Completion rate for youth of upper secondary e...</td>\n",
       "      <td>Male</td>\n",
       "      <td>45.182400</td>\n",
       "      <td>NaN</td>\n",
       "      <td>4426.000637</td>\n",
       "      <td>Upper middle income</td>\n",
       "    </tr>\n",
       "    <tr>\n",
       "      <th>992</th>\n",
       "      <td>Tuvalu</td>\n",
       "      <td>Completion rate for youth of upper secondary e...</td>\n",
       "      <td>Female</td>\n",
       "      <td>60.479000</td>\n",
       "      <td>NaN</td>\n",
       "      <td>5632.002993</td>\n",
       "      <td>Upper middle income</td>\n",
       "    </tr>\n",
       "    <tr>\n",
       "      <th>993</th>\n",
       "      <td>Tuvalu</td>\n",
       "      <td>Completion rate for youth of upper secondary e...</td>\n",
       "      <td>Male</td>\n",
       "      <td>45.387081</td>\n",
       "      <td>NaN</td>\n",
       "      <td>5632.002993</td>\n",
       "      <td>Upper middle income</td>\n",
       "    </tr>\n",
       "    <tr>\n",
       "      <th>1058</th>\n",
       "      <td>Samoa</td>\n",
       "      <td>Completion rate for youth of upper secondary e...</td>\n",
       "      <td>Female</td>\n",
       "      <td>65.603058</td>\n",
       "      <td>NaN</td>\n",
       "      <td>3857.318464</td>\n",
       "      <td>Lower middle income</td>\n",
       "    </tr>\n",
       "    <tr>\n",
       "      <th>1059</th>\n",
       "      <td>Samoa</td>\n",
       "      <td>Completion rate for youth of upper secondary e...</td>\n",
       "      <td>Male</td>\n",
       "      <td>47.758202</td>\n",
       "      <td>NaN</td>\n",
       "      <td>3857.318464</td>\n",
       "      <td>Lower middle income</td>\n",
       "    </tr>\n",
       "  </tbody>\n",
       "</table>\n",
       "</div>"
      ],
      "text/plain": [
       "                               Country  \\\n",
       "10                              Angola   \n",
       "11                              Angola   \n",
       "50                             Burundi   \n",
       "51                             Burundi   \n",
       "108                             Belize   \n",
       "109                             Belize   \n",
       "144                           Barbados   \n",
       "145                           Barbados   \n",
       "168           Central African Republic   \n",
       "169           Central African Republic   \n",
       "220   Democratic Republic of the Congo   \n",
       "221   Democratic Republic of the Congo   \n",
       "392                      Guinea-Bissau   \n",
       "393                      Guinea-Bissau   \n",
       "410                             Guyana   \n",
       "411                             Guyana   \n",
       "428                              Haiti   \n",
       "429                              Haiti   \n",
       "512                           Kiribati   \n",
       "513                           Kiribati   \n",
       "542                        Saint Lucia   \n",
       "543                        Saint Lucia   \n",
       "798                              Sudan   \n",
       "799                              Sudan   \n",
       "856              Sao Tome and Principe   \n",
       "857              Sao Tome and Principe   \n",
       "868                           Suriname   \n",
       "869                           Suriname   \n",
       "892           Turks and Caicos Islands   \n",
       "893           Turks and Caicos Islands   \n",
       "952                        Timor-Leste   \n",
       "953                        Timor-Leste   \n",
       "964                              Tonga   \n",
       "965                              Tonga   \n",
       "992                             Tuvalu   \n",
       "993                             Tuvalu   \n",
       "1058                             Samoa   \n",
       "1059                             Samoa   \n",
       "\n",
       "                                              Indicator  Gender  Percentage  \\\n",
       "10    Completion rate for youth of upper secondary e...  Female   15.210190   \n",
       "11    Completion rate for youth of upper secondary e...    Male   23.698139   \n",
       "50    Completion rate for youth of upper secondary e...  Female    3.400000   \n",
       "51    Completion rate for youth of upper secondary e...    Male    3.600000   \n",
       "108   Completion rate for youth of upper secondary e...  Female   50.700001   \n",
       "109   Completion rate for youth of upper secondary e...    Male   47.500000   \n",
       "144   Completion rate for youth of upper secondary e...  Female   96.900002   \n",
       "145   Completion rate for youth of upper secondary e...    Male   91.199997   \n",
       "168   Completion rate for youth of upper secondary e...  Female    5.165232   \n",
       "169   Completion rate for youth of upper secondary e...    Male    7.547066   \n",
       "220   Completion rate for youth of upper secondary e...  Female   26.741030   \n",
       "221   Completion rate for youth of upper secondary e...    Male   36.384041   \n",
       "392   Completion rate for youth of upper secondary e...  Female    8.103095   \n",
       "393   Completion rate for youth of upper secondary e...    Male   13.712680   \n",
       "410   Completion rate for youth of upper secondary e...  Female   67.787537   \n",
       "411   Completion rate for youth of upper secondary e...    Male   53.666962   \n",
       "428   Completion rate for youth of upper secondary e...  Female   16.480619   \n",
       "429   Completion rate for youth of upper secondary e...    Male   17.085310   \n",
       "512   Completion rate for youth of upper secondary e...  Female   20.356689   \n",
       "513   Completion rate for youth of upper secondary e...    Male   12.672720   \n",
       "542   Completion rate for youth of upper secondary e...  Female   89.699997   \n",
       "543   Completion rate for youth of upper secondary e...    Male   69.599998   \n",
       "798   Completion rate for youth of upper secondary e...  Female   28.143700   \n",
       "799   Completion rate for youth of upper secondary e...    Male   33.150230   \n",
       "856   Completion rate for youth of upper secondary e...  Female   30.680140   \n",
       "857   Completion rate for youth of upper secondary e...    Male   26.436750   \n",
       "868   Completion rate for youth of upper secondary e...  Female   26.467779   \n",
       "869   Completion rate for youth of upper secondary e...    Male   18.206461   \n",
       "892   Completion rate for youth of upper secondary e...  Female   95.886620   \n",
       "893   Completion rate for youth of upper secondary e...    Male   99.628960   \n",
       "952   Completion rate for youth of upper secondary e...  Female   54.656509   \n",
       "953   Completion rate for youth of upper secondary e...    Male   49.078838   \n",
       "964   Completion rate for youth of upper secondary e...  Female   56.312710   \n",
       "965   Completion rate for youth of upper secondary e...    Male   45.182400   \n",
       "992   Completion rate for youth of upper secondary e...  Female   60.479000   \n",
       "993   Completion rate for youth of upper secondary e...    Male   45.387081   \n",
       "1058  Completion rate for youth of upper secondary e...  Female   65.603058   \n",
       "1059  Completion rate for youth of upper secondary e...    Male   47.758202   \n",
       "\n",
       "      Happiness_Rank  GDP_PerCapita         Income_Group  \n",
       "10               NaN    1953.533757  Lower middle income  \n",
       "11               NaN    1953.533757  Lower middle income  \n",
       "50               NaN     221.477676           Low income  \n",
       "51               NaN     221.477676           Low income  \n",
       "108              NaN    6228.267309  Upper middle income  \n",
       "109              NaN    6228.267309  Upper middle income  \n",
       "144              NaN   17225.462300          High income  \n",
       "145              NaN   17225.462300          High income  \n",
       "168              NaN     461.137490           Low income  \n",
       "169              NaN     461.137490           Low income  \n",
       "220              NaN     577.209215           Low income  \n",
       "221              NaN     577.209215           Low income  \n",
       "392              NaN     795.118569           Low income  \n",
       "393              NaN     795.118569           Low income  \n",
       "410              NaN    9998.544311  Upper middle income  \n",
       "411              NaN    9998.544311  Upper middle income  \n",
       "428              NaN    1829.593044  Lower middle income  \n",
       "429              NaN    1829.593044  Lower middle income  \n",
       "512              NaN    1606.462514  Lower middle income  \n",
       "513              NaN    1606.462514  Lower middle income  \n",
       "542              NaN    9414.226231  Upper middle income  \n",
       "543              NaN    9414.226231  Upper middle income  \n",
       "798              NaN     751.821350           Low income  \n",
       "799              NaN     751.821350           Low income  \n",
       "856              NaN    2360.543554  Lower middle income  \n",
       "857              NaN    2360.543554  Lower middle income  \n",
       "868              NaN    4869.134226  Upper middle income  \n",
       "869              NaN    4869.134226  Upper middle income  \n",
       "892              NaN   20908.582700          High income  \n",
       "893              NaN   20908.582700          High income  \n",
       "952              NaN    2741.393931  Lower middle income  \n",
       "953              NaN    2741.393931  Lower middle income  \n",
       "964              NaN    4426.000637  Upper middle income  \n",
       "965              NaN    4426.000637  Upper middle income  \n",
       "992              NaN    5632.002993  Upper middle income  \n",
       "993              NaN    5632.002993  Upper middle income  \n",
       "1058             NaN    3857.318464  Lower middle income  \n",
       "1059             NaN    3857.318464  Lower middle income  "
      ]
     },
     "execution_count": 74,
     "metadata": {},
     "output_type": "execute_result"
    }
   ],
   "source": [
    "df_HapNan = df_upsec_comp[df_upsec_comp['Happiness_Rank'].isnull()==True]\n",
    "df_HapNan"
   ]
  },
  {
   "cell_type": "code",
   "execution_count": 75,
   "id": "8164146e",
   "metadata": {},
   "outputs": [
    {
     "data": {
      "text/plain": [
       "Country           0\n",
       "Indicator         0\n",
       "Gender            0\n",
       "Percentage        0\n",
       "Happiness_Rank    0\n",
       "GDP_PerCapita     0\n",
       "Income_Group      0\n",
       "dtype: int64"
      ]
     },
     "execution_count": 75,
     "metadata": {},
     "output_type": "execute_result"
    }
   ],
   "source": [
    "# Dropping the countries with Nan values in Happiness Rank\n",
    "df_upsec_comp = df_upsec_comp[~df_upsec_comp['Happiness_Rank'].isnull()==True]\n",
    "df_upsec_comp.isnull().sum()"
   ]
  },
  {
   "cell_type": "code",
   "execution_count": 76,
   "id": "2a7c518f",
   "metadata": {},
   "outputs": [],
   "source": [
    "# Creating subset data for Primary level Completion rate for Male & Female\n",
    "df_upsec_comp_M = df_upsec_comp.loc[df['Gender']=='Male']\n",
    "df_upsec_comp_F = df_upsec_comp.loc[df['Gender']=='Female']"
   ]
  },
  {
   "cell_type": "code",
   "execution_count": 77,
   "id": "f5f147a0",
   "metadata": {},
   "outputs": [],
   "source": [
    "# Reshaping the variables into NumPy arrays\n",
    "X = df_upsec_comp_F['Percentage'].values.reshape(-1,1)\n",
    "y = df_upsec_comp_F['Happiness_Rank'].values.reshape(-1,1)"
   ]
  },
  {
   "cell_type": "code",
   "execution_count": 78,
   "id": "c7f3aac9",
   "metadata": {},
   "outputs": [],
   "source": [
    "# Splitting data into a training set and a test set.\n",
    "X_train, X_test, y_train, y_test = train_test_split(X, y, test_size=0.3, random_state=0)"
   ]
  },
  {
   "cell_type": "code",
   "execution_count": 79,
   "id": "a15effb0",
   "metadata": {},
   "outputs": [],
   "source": [
    "# Create a regression object\n",
    "reg_upsec_comp_F = LinearRegression() "
   ]
  },
  {
   "cell_type": "code",
   "execution_count": 80,
   "id": "af5baf60",
   "metadata": {},
   "outputs": [
    {
     "data": {
      "text/html": [
       "<style>#sk-container-id-5 {color: black;background-color: white;}#sk-container-id-5 pre{padding: 0;}#sk-container-id-5 div.sk-toggleable {background-color: white;}#sk-container-id-5 label.sk-toggleable__label {cursor: pointer;display: block;width: 100%;margin-bottom: 0;padding: 0.3em;box-sizing: border-box;text-align: center;}#sk-container-id-5 label.sk-toggleable__label-arrow:before {content: \"▸\";float: left;margin-right: 0.25em;color: #696969;}#sk-container-id-5 label.sk-toggleable__label-arrow:hover:before {color: black;}#sk-container-id-5 div.sk-estimator:hover label.sk-toggleable__label-arrow:before {color: black;}#sk-container-id-5 div.sk-toggleable__content {max-height: 0;max-width: 0;overflow: hidden;text-align: left;background-color: #f0f8ff;}#sk-container-id-5 div.sk-toggleable__content pre {margin: 0.2em;color: black;border-radius: 0.25em;background-color: #f0f8ff;}#sk-container-id-5 input.sk-toggleable__control:checked~div.sk-toggleable__content {max-height: 200px;max-width: 100%;overflow: auto;}#sk-container-id-5 input.sk-toggleable__control:checked~label.sk-toggleable__label-arrow:before {content: \"▾\";}#sk-container-id-5 div.sk-estimator input.sk-toggleable__control:checked~label.sk-toggleable__label {background-color: #d4ebff;}#sk-container-id-5 div.sk-label input.sk-toggleable__control:checked~label.sk-toggleable__label {background-color: #d4ebff;}#sk-container-id-5 input.sk-hidden--visually {border: 0;clip: rect(1px 1px 1px 1px);clip: rect(1px, 1px, 1px, 1px);height: 1px;margin: -1px;overflow: hidden;padding: 0;position: absolute;width: 1px;}#sk-container-id-5 div.sk-estimator {font-family: monospace;background-color: #f0f8ff;border: 1px dotted black;border-radius: 0.25em;box-sizing: border-box;margin-bottom: 0.5em;}#sk-container-id-5 div.sk-estimator:hover {background-color: #d4ebff;}#sk-container-id-5 div.sk-parallel-item::after {content: \"\";width: 100%;border-bottom: 1px solid gray;flex-grow: 1;}#sk-container-id-5 div.sk-label:hover label.sk-toggleable__label {background-color: #d4ebff;}#sk-container-id-5 div.sk-serial::before {content: \"\";position: absolute;border-left: 1px solid gray;box-sizing: border-box;top: 0;bottom: 0;left: 50%;z-index: 0;}#sk-container-id-5 div.sk-serial {display: flex;flex-direction: column;align-items: center;background-color: white;padding-right: 0.2em;padding-left: 0.2em;position: relative;}#sk-container-id-5 div.sk-item {position: relative;z-index: 1;}#sk-container-id-5 div.sk-parallel {display: flex;align-items: stretch;justify-content: center;background-color: white;position: relative;}#sk-container-id-5 div.sk-item::before, #sk-container-id-5 div.sk-parallel-item::before {content: \"\";position: absolute;border-left: 1px solid gray;box-sizing: border-box;top: 0;bottom: 0;left: 50%;z-index: -1;}#sk-container-id-5 div.sk-parallel-item {display: flex;flex-direction: column;z-index: 1;position: relative;background-color: white;}#sk-container-id-5 div.sk-parallel-item:first-child::after {align-self: flex-end;width: 50%;}#sk-container-id-5 div.sk-parallel-item:last-child::after {align-self: flex-start;width: 50%;}#sk-container-id-5 div.sk-parallel-item:only-child::after {width: 0;}#sk-container-id-5 div.sk-dashed-wrapped {border: 1px dashed gray;margin: 0 0.4em 0.5em 0.4em;box-sizing: border-box;padding-bottom: 0.4em;background-color: white;}#sk-container-id-5 div.sk-label label {font-family: monospace;font-weight: bold;display: inline-block;line-height: 1.2em;}#sk-container-id-5 div.sk-label-container {text-align: center;}#sk-container-id-5 div.sk-container {/* jupyter's `normalize.less` sets `[hidden] { display: none; }` but bootstrap.min.css set `[hidden] { display: none !important; }` so we also need the `!important` here to be able to override the default hidden behavior on the sphinx rendered scikit-learn.org. See: https://github.com/scikit-learn/scikit-learn/issues/21755 */display: inline-block !important;position: relative;}#sk-container-id-5 div.sk-text-repr-fallback {display: none;}</style><div id=\"sk-container-id-5\" class=\"sk-top-container\"><div class=\"sk-text-repr-fallback\"><pre>LinearRegression()</pre><b>In a Jupyter environment, please rerun this cell to show the HTML representation or trust the notebook. <br />On GitHub, the HTML representation is unable to render, please try loading this page with nbviewer.org.</b></div><div class=\"sk-container\" hidden><div class=\"sk-item\"><div class=\"sk-estimator sk-toggleable\"><input class=\"sk-toggleable__control sk-hidden--visually\" id=\"sk-estimator-id-5\" type=\"checkbox\" checked><label for=\"sk-estimator-id-5\" class=\"sk-toggleable__label sk-toggleable__label-arrow\">LinearRegression</label><div class=\"sk-toggleable__content\"><pre>LinearRegression()</pre></div></div></div></div></div>"
      ],
      "text/plain": [
       "LinearRegression()"
      ]
     },
     "execution_count": 80,
     "metadata": {},
     "output_type": "execute_result"
    }
   ],
   "source": [
    "# Fitting regression into training set. This i where you train the model\n",
    "reg_upsec_comp_F.fit(X_train, y_train)"
   ]
  },
  {
   "cell_type": "code",
   "execution_count": 81,
   "id": "5e324470",
   "metadata": {},
   "outputs": [],
   "source": [
    "# Predict the values of y using X. This will be compared against the actual Y in Y test.\n",
    "y_predicted = reg_upsec_comp_F.predict(X_test)"
   ]
  },
  {
   "cell_type": "code",
   "execution_count": 82,
   "id": "a4b20407",
   "metadata": {},
   "outputs": [
    {
     "data": {
      "image/png": "[encoded data removed]",
      "text/plain": [
       "<Figure size 432x288 with 1 Axes>"
      ]
     },
     "metadata": {
      "needs_background": "light"
     },
     "output_type": "display_data"
    }
   ],
   "source": [
    "# Create a plot that shows the regression line from the model on the test set.\n",
    "plot_test = plt\n",
    "plot_test.scatter(X_test, y_test, color='pink', s = 15)\n",
    "plot_test.plot(X_test, y_predicted, color='red', linewidth =3)\n",
    "plot_test.title('Female Upper Secondary Level Completion vs Happiness Rank (Test set)')\n",
    "plot_test.xlabel('Upper Secondary Level Completion')\n",
    "plot_test.ylabel('Happiness Rank')\n",
    "plot_test.show()"
   ]
  },
  {
   "cell_type": "code",
   "execution_count": 83,
   "id": "8acec76c",
   "metadata": {},
   "outputs": [
    {
     "name": "stdout",
     "output_type": "stream",
     "text": [
      "Slope: [[-0.73674071]]\n",
      "Mean squared error:  6665966.339487004\n",
      "R2 score:  0.519673779093796\n"
     ]
    }
   ],
   "source": [
    "# Print the model summary statistics. \n",
    "print('Slope:' ,reg_upsec_comp_F.coef_)\n",
    "print('Mean squared error: ', rmse)\n",
    "print('R2 score: ', r2)"
   ]
  },
  {
   "cell_type": "markdown",
   "id": "b451365d",
   "metadata": {},
   "source": [
    "The female completion rate at secondary level has a higher correlation to the happiness rank than the GDP."
   ]
  },
  {
   "cell_type": "markdown",
   "id": "7d3aa5ba",
   "metadata": {},
   "source": [
    "#### Testing Female Primary completion rate and happiness rank"
   ]
  },
  {
   "cell_type": "code",
   "execution_count": 84,
   "id": "1e3b4fce",
   "metadata": {},
   "outputs": [
    {
     "data": {
      "text/html": [
       "<div>\n",
       "<style scoped>\n",
       "    .dataframe tbody tr th:only-of-type {\n",
       "        vertical-align: middle;\n",
       "    }\n",
       "\n",
       "    .dataframe tbody tr th {\n",
       "        vertical-align: top;\n",
       "    }\n",
       "\n",
       "    .dataframe thead th {\n",
       "        text-align: right;\n",
       "    }\n",
       "</style>\n",
       "<table border=\"1\" class=\"dataframe\">\n",
       "  <thead>\n",
       "    <tr style=\"text-align: right;\">\n",
       "      <th></th>\n",
       "      <th>Country</th>\n",
       "      <th>Indicator</th>\n",
       "      <th>Gender</th>\n",
       "      <th>Percentage</th>\n",
       "      <th>Happiness_Rank</th>\n",
       "      <th>GDP_PerCapita</th>\n",
       "      <th>Income_Group</th>\n",
       "    </tr>\n",
       "  </thead>\n",
       "  <tbody>\n",
       "    <tr>\n",
       "      <th>8</th>\n",
       "      <td>Angola</td>\n",
       "      <td>Completion rate for children of primary school...</td>\n",
       "      <td>Female</td>\n",
       "      <td>56.631340</td>\n",
       "      <td>NaN</td>\n",
       "      <td>1953.533757</td>\n",
       "      <td>Lower middle income</td>\n",
       "    </tr>\n",
       "    <tr>\n",
       "      <th>9</th>\n",
       "      <td>Angola</td>\n",
       "      <td>Completion rate for children of primary school...</td>\n",
       "      <td>Male</td>\n",
       "      <td>63.278900</td>\n",
       "      <td>NaN</td>\n",
       "      <td>1953.533757</td>\n",
       "      <td>Lower middle income</td>\n",
       "    </tr>\n",
       "    <tr>\n",
       "      <th>48</th>\n",
       "      <td>Burundi</td>\n",
       "      <td>Completion rate for children of primary school...</td>\n",
       "      <td>Female</td>\n",
       "      <td>54.099998</td>\n",
       "      <td>NaN</td>\n",
       "      <td>221.477676</td>\n",
       "      <td>Low income</td>\n",
       "    </tr>\n",
       "    <tr>\n",
       "      <th>49</th>\n",
       "      <td>Burundi</td>\n",
       "      <td>Completion rate for children of primary school...</td>\n",
       "      <td>Male</td>\n",
       "      <td>46.000000</td>\n",
       "      <td>NaN</td>\n",
       "      <td>221.477676</td>\n",
       "      <td>Low income</td>\n",
       "    </tr>\n",
       "    <tr>\n",
       "      <th>106</th>\n",
       "      <td>Belize</td>\n",
       "      <td>Completion rate for children of primary school...</td>\n",
       "      <td>Female</td>\n",
       "      <td>96.000000</td>\n",
       "      <td>NaN</td>\n",
       "      <td>6228.267309</td>\n",
       "      <td>Upper middle income</td>\n",
       "    </tr>\n",
       "    <tr>\n",
       "      <th>107</th>\n",
       "      <td>Belize</td>\n",
       "      <td>Completion rate for children of primary school...</td>\n",
       "      <td>Male</td>\n",
       "      <td>94.800003</td>\n",
       "      <td>NaN</td>\n",
       "      <td>6228.267309</td>\n",
       "      <td>Upper middle income</td>\n",
       "    </tr>\n",
       "    <tr>\n",
       "      <th>142</th>\n",
       "      <td>Barbados</td>\n",
       "      <td>Completion rate for children of primary school...</td>\n",
       "      <td>Female</td>\n",
       "      <td>99.199997</td>\n",
       "      <td>NaN</td>\n",
       "      <td>17225.462300</td>\n",
       "      <td>High income</td>\n",
       "    </tr>\n",
       "    <tr>\n",
       "      <th>143</th>\n",
       "      <td>Barbados</td>\n",
       "      <td>Completion rate for children of primary school...</td>\n",
       "      <td>Male</td>\n",
       "      <td>98.699997</td>\n",
       "      <td>NaN</td>\n",
       "      <td>17225.462300</td>\n",
       "      <td>High income</td>\n",
       "    </tr>\n",
       "    <tr>\n",
       "      <th>166</th>\n",
       "      <td>Central African Republic</td>\n",
       "      <td>Completion rate for children of primary school...</td>\n",
       "      <td>Female</td>\n",
       "      <td>23.639120</td>\n",
       "      <td>NaN</td>\n",
       "      <td>461.137490</td>\n",
       "      <td>Low income</td>\n",
       "    </tr>\n",
       "    <tr>\n",
       "      <th>167</th>\n",
       "      <td>Central African Republic</td>\n",
       "      <td>Completion rate for children of primary school...</td>\n",
       "      <td>Male</td>\n",
       "      <td>29.803450</td>\n",
       "      <td>NaN</td>\n",
       "      <td>461.137490</td>\n",
       "      <td>Low income</td>\n",
       "    </tr>\n",
       "    <tr>\n",
       "      <th>218</th>\n",
       "      <td>Democratic Republic of the Congo</td>\n",
       "      <td>Completion rate for children of primary school...</td>\n",
       "      <td>Female</td>\n",
       "      <td>66.262306</td>\n",
       "      <td>NaN</td>\n",
       "      <td>577.209215</td>\n",
       "      <td>Low income</td>\n",
       "    </tr>\n",
       "    <tr>\n",
       "      <th>219</th>\n",
       "      <td>Democratic Republic of the Congo</td>\n",
       "      <td>Completion rate for children of primary school...</td>\n",
       "      <td>Male</td>\n",
       "      <td>67.099716</td>\n",
       "      <td>NaN</td>\n",
       "      <td>577.209215</td>\n",
       "      <td>Low income</td>\n",
       "    </tr>\n",
       "    <tr>\n",
       "      <th>390</th>\n",
       "      <td>Guinea-Bissau</td>\n",
       "      <td>Completion rate for children of primary school...</td>\n",
       "      <td>Female</td>\n",
       "      <td>25.063000</td>\n",
       "      <td>NaN</td>\n",
       "      <td>795.118569</td>\n",
       "      <td>Low income</td>\n",
       "    </tr>\n",
       "    <tr>\n",
       "      <th>391</th>\n",
       "      <td>Guinea-Bissau</td>\n",
       "      <td>Completion rate for children of primary school...</td>\n",
       "      <td>Male</td>\n",
       "      <td>29.224979</td>\n",
       "      <td>NaN</td>\n",
       "      <td>795.118569</td>\n",
       "      <td>Low income</td>\n",
       "    </tr>\n",
       "    <tr>\n",
       "      <th>408</th>\n",
       "      <td>Guyana</td>\n",
       "      <td>Completion rate for children of primary school...</td>\n",
       "      <td>Female</td>\n",
       "      <td>98.698563</td>\n",
       "      <td>NaN</td>\n",
       "      <td>9998.544311</td>\n",
       "      <td>Upper middle income</td>\n",
       "    </tr>\n",
       "    <tr>\n",
       "      <th>409</th>\n",
       "      <td>Guyana</td>\n",
       "      <td>Completion rate for children of primary school...</td>\n",
       "      <td>Male</td>\n",
       "      <td>96.152771</td>\n",
       "      <td>NaN</td>\n",
       "      <td>9998.544311</td>\n",
       "      <td>Upper middle income</td>\n",
       "    </tr>\n",
       "    <tr>\n",
       "      <th>426</th>\n",
       "      <td>Haiti</td>\n",
       "      <td>Completion rate for children of primary school...</td>\n",
       "      <td>Female</td>\n",
       "      <td>58.396599</td>\n",
       "      <td>NaN</td>\n",
       "      <td>1829.593044</td>\n",
       "      <td>Lower middle income</td>\n",
       "    </tr>\n",
       "    <tr>\n",
       "      <th>427</th>\n",
       "      <td>Haiti</td>\n",
       "      <td>Completion rate for children of primary school...</td>\n",
       "      <td>Male</td>\n",
       "      <td>48.747589</td>\n",
       "      <td>NaN</td>\n",
       "      <td>1829.593044</td>\n",
       "      <td>Lower middle income</td>\n",
       "    </tr>\n",
       "    <tr>\n",
       "      <th>510</th>\n",
       "      <td>Kiribati</td>\n",
       "      <td>Completion rate for children of primary school...</td>\n",
       "      <td>Female</td>\n",
       "      <td>96.451591</td>\n",
       "      <td>NaN</td>\n",
       "      <td>1606.462514</td>\n",
       "      <td>Lower middle income</td>\n",
       "    </tr>\n",
       "    <tr>\n",
       "      <th>511</th>\n",
       "      <td>Kiribati</td>\n",
       "      <td>Completion rate for children of primary school...</td>\n",
       "      <td>Male</td>\n",
       "      <td>92.135643</td>\n",
       "      <td>NaN</td>\n",
       "      <td>1606.462514</td>\n",
       "      <td>Lower middle income</td>\n",
       "    </tr>\n",
       "    <tr>\n",
       "      <th>540</th>\n",
       "      <td>Saint Lucia</td>\n",
       "      <td>Completion rate for children of primary school...</td>\n",
       "      <td>Female</td>\n",
       "      <td>99.000000</td>\n",
       "      <td>NaN</td>\n",
       "      <td>9414.226231</td>\n",
       "      <td>Upper middle income</td>\n",
       "    </tr>\n",
       "    <tr>\n",
       "      <th>541</th>\n",
       "      <td>Saint Lucia</td>\n",
       "      <td>Completion rate for children of primary school...</td>\n",
       "      <td>Male</td>\n",
       "      <td>99.199997</td>\n",
       "      <td>NaN</td>\n",
       "      <td>9414.226231</td>\n",
       "      <td>Upper middle income</td>\n",
       "    </tr>\n",
       "    <tr>\n",
       "      <th>796</th>\n",
       "      <td>Sudan</td>\n",
       "      <td>Completion rate for children of primary school...</td>\n",
       "      <td>Female</td>\n",
       "      <td>63.834949</td>\n",
       "      <td>NaN</td>\n",
       "      <td>751.821350</td>\n",
       "      <td>Low income</td>\n",
       "    </tr>\n",
       "    <tr>\n",
       "      <th>797</th>\n",
       "      <td>Sudan</td>\n",
       "      <td>Completion rate for children of primary school...</td>\n",
       "      <td>Male</td>\n",
       "      <td>65.752007</td>\n",
       "      <td>NaN</td>\n",
       "      <td>751.821350</td>\n",
       "      <td>Low income</td>\n",
       "    </tr>\n",
       "    <tr>\n",
       "      <th>854</th>\n",
       "      <td>Sao Tome and Principe</td>\n",
       "      <td>Completion rate for children of primary school...</td>\n",
       "      <td>Female</td>\n",
       "      <td>92.105583</td>\n",
       "      <td>NaN</td>\n",
       "      <td>2360.543554</td>\n",
       "      <td>Lower middle income</td>\n",
       "    </tr>\n",
       "    <tr>\n",
       "      <th>855</th>\n",
       "      <td>Sao Tome and Principe</td>\n",
       "      <td>Completion rate for children of primary school...</td>\n",
       "      <td>Male</td>\n",
       "      <td>82.172188</td>\n",
       "      <td>NaN</td>\n",
       "      <td>2360.543554</td>\n",
       "      <td>Lower middle income</td>\n",
       "    </tr>\n",
       "    <tr>\n",
       "      <th>866</th>\n",
       "      <td>Suriname</td>\n",
       "      <td>Completion rate for children of primary school...</td>\n",
       "      <td>Female</td>\n",
       "      <td>89.929176</td>\n",
       "      <td>NaN</td>\n",
       "      <td>4869.134226</td>\n",
       "      <td>Upper middle income</td>\n",
       "    </tr>\n",
       "    <tr>\n",
       "      <th>867</th>\n",
       "      <td>Suriname</td>\n",
       "      <td>Completion rate for children of primary school...</td>\n",
       "      <td>Male</td>\n",
       "      <td>80.010406</td>\n",
       "      <td>NaN</td>\n",
       "      <td>4869.134226</td>\n",
       "      <td>Upper middle income</td>\n",
       "    </tr>\n",
       "    <tr>\n",
       "      <th>890</th>\n",
       "      <td>Turks and Caicos Islands</td>\n",
       "      <td>Completion rate for children of primary school...</td>\n",
       "      <td>Female</td>\n",
       "      <td>100.000000</td>\n",
       "      <td>NaN</td>\n",
       "      <td>20908.582700</td>\n",
       "      <td>High income</td>\n",
       "    </tr>\n",
       "    <tr>\n",
       "      <th>891</th>\n",
       "      <td>Turks and Caicos Islands</td>\n",
       "      <td>Completion rate for children of primary school...</td>\n",
       "      <td>Male</td>\n",
       "      <td>97.928627</td>\n",
       "      <td>NaN</td>\n",
       "      <td>20908.582700</td>\n",
       "      <td>High income</td>\n",
       "    </tr>\n",
       "    <tr>\n",
       "      <th>950</th>\n",
       "      <td>Timor-Leste</td>\n",
       "      <td>Completion rate for children of primary school...</td>\n",
       "      <td>Female</td>\n",
       "      <td>84.822144</td>\n",
       "      <td>NaN</td>\n",
       "      <td>2741.393931</td>\n",
       "      <td>Lower middle income</td>\n",
       "    </tr>\n",
       "    <tr>\n",
       "      <th>951</th>\n",
       "      <td>Timor-Leste</td>\n",
       "      <td>Completion rate for children of primary school...</td>\n",
       "      <td>Male</td>\n",
       "      <td>76.861488</td>\n",
       "      <td>NaN</td>\n",
       "      <td>2741.393931</td>\n",
       "      <td>Lower middle income</td>\n",
       "    </tr>\n",
       "    <tr>\n",
       "      <th>962</th>\n",
       "      <td>Tonga</td>\n",
       "      <td>Completion rate for children of primary school...</td>\n",
       "      <td>Female</td>\n",
       "      <td>98.640320</td>\n",
       "      <td>NaN</td>\n",
       "      <td>4426.000637</td>\n",
       "      <td>Upper middle income</td>\n",
       "    </tr>\n",
       "    <tr>\n",
       "      <th>963</th>\n",
       "      <td>Tonga</td>\n",
       "      <td>Completion rate for children of primary school...</td>\n",
       "      <td>Male</td>\n",
       "      <td>97.791397</td>\n",
       "      <td>NaN</td>\n",
       "      <td>4426.000637</td>\n",
       "      <td>Upper middle income</td>\n",
       "    </tr>\n",
       "    <tr>\n",
       "      <th>990</th>\n",
       "      <td>Tuvalu</td>\n",
       "      <td>Completion rate for children of primary school...</td>\n",
       "      <td>Female</td>\n",
       "      <td>100.000000</td>\n",
       "      <td>NaN</td>\n",
       "      <td>5632.002993</td>\n",
       "      <td>Upper middle income</td>\n",
       "    </tr>\n",
       "    <tr>\n",
       "      <th>991</th>\n",
       "      <td>Tuvalu</td>\n",
       "      <td>Completion rate for children of primary school...</td>\n",
       "      <td>Male</td>\n",
       "      <td>98.494034</td>\n",
       "      <td>NaN</td>\n",
       "      <td>5632.002993</td>\n",
       "      <td>Upper middle income</td>\n",
       "    </tr>\n",
       "    <tr>\n",
       "      <th>1056</th>\n",
       "      <td>Samoa</td>\n",
       "      <td>Completion rate for children of primary school...</td>\n",
       "      <td>Female</td>\n",
       "      <td>99.214439</td>\n",
       "      <td>NaN</td>\n",
       "      <td>3857.318464</td>\n",
       "      <td>Lower middle income</td>\n",
       "    </tr>\n",
       "    <tr>\n",
       "      <th>1057</th>\n",
       "      <td>Samoa</td>\n",
       "      <td>Completion rate for children of primary school...</td>\n",
       "      <td>Male</td>\n",
       "      <td>96.243637</td>\n",
       "      <td>NaN</td>\n",
       "      <td>3857.318464</td>\n",
       "      <td>Lower middle income</td>\n",
       "    </tr>\n",
       "  </tbody>\n",
       "</table>\n",
       "</div>"
      ],
      "text/plain": [
       "                               Country  \\\n",
       "8                               Angola   \n",
       "9                               Angola   \n",
       "48                             Burundi   \n",
       "49                             Burundi   \n",
       "106                             Belize   \n",
       "107                             Belize   \n",
       "142                           Barbados   \n",
       "143                           Barbados   \n",
       "166           Central African Republic   \n",
       "167           Central African Republic   \n",
       "218   Democratic Republic of the Congo   \n",
       "219   Democratic Republic of the Congo   \n",
       "390                      Guinea-Bissau   \n",
       "391                      Guinea-Bissau   \n",
       "408                             Guyana   \n",
       "409                             Guyana   \n",
       "426                              Haiti   \n",
       "427                              Haiti   \n",
       "510                           Kiribati   \n",
       "511                           Kiribati   \n",
       "540                        Saint Lucia   \n",
       "541                        Saint Lucia   \n",
       "796                              Sudan   \n",
       "797                              Sudan   \n",
       "854              Sao Tome and Principe   \n",
       "855              Sao Tome and Principe   \n",
       "866                           Suriname   \n",
       "867                           Suriname   \n",
       "890           Turks and Caicos Islands   \n",
       "891           Turks and Caicos Islands   \n",
       "950                        Timor-Leste   \n",
       "951                        Timor-Leste   \n",
       "962                              Tonga   \n",
       "963                              Tonga   \n",
       "990                             Tuvalu   \n",
       "991                             Tuvalu   \n",
       "1056                             Samoa   \n",
       "1057                             Samoa   \n",
       "\n",
       "                                              Indicator  Gender  Percentage  \\\n",
       "8     Completion rate for children of primary school...  Female   56.631340   \n",
       "9     Completion rate for children of primary school...    Male   63.278900   \n",
       "48    Completion rate for children of primary school...  Female   54.099998   \n",
       "49    Completion rate for children of primary school...    Male   46.000000   \n",
       "106   Completion rate for children of primary school...  Female   96.000000   \n",
       "107   Completion rate for children of primary school...    Male   94.800003   \n",
       "142   Completion rate for children of primary school...  Female   99.199997   \n",
       "143   Completion rate for children of primary school...    Male   98.699997   \n",
       "166   Completion rate for children of primary school...  Female   23.639120   \n",
       "167   Completion rate for children of primary school...    Male   29.803450   \n",
       "218   Completion rate for children of primary school...  Female   66.262306   \n",
       "219   Completion rate for children of primary school...    Male   67.099716   \n",
       "390   Completion rate for children of primary school...  Female   25.063000   \n",
       "391   Completion rate for children of primary school...    Male   29.224979   \n",
       "408   Completion rate for children of primary school...  Female   98.698563   \n",
       "409   Completion rate for children of primary school...    Male   96.152771   \n",
       "426   Completion rate for children of primary school...  Female   58.396599   \n",
       "427   Completion rate for children of primary school...    Male   48.747589   \n",
       "510   Completion rate for children of primary school...  Female   96.451591   \n",
       "511   Completion rate for children of primary school...    Male   92.135643   \n",
       "540   Completion rate for children of primary school...  Female   99.000000   \n",
       "541   Completion rate for children of primary school...    Male   99.199997   \n",
       "796   Completion rate for children of primary school...  Female   63.834949   \n",
       "797   Completion rate for children of primary school...    Male   65.752007   \n",
       "854   Completion rate for children of primary school...  Female   92.105583   \n",
       "855   Completion rate for children of primary school...    Male   82.172188   \n",
       "866   Completion rate for children of primary school...  Female   89.929176   \n",
       "867   Completion rate for children of primary school...    Male   80.010406   \n",
       "890   Completion rate for children of primary school...  Female  100.000000   \n",
       "891   Completion rate for children of primary school...    Male   97.928627   \n",
       "950   Completion rate for children of primary school...  Female   84.822144   \n",
       "951   Completion rate for children of primary school...    Male   76.861488   \n",
       "962   Completion rate for children of primary school...  Female   98.640320   \n",
       "963   Completion rate for children of primary school...    Male   97.791397   \n",
       "990   Completion rate for children of primary school...  Female  100.000000   \n",
       "991   Completion rate for children of primary school...    Male   98.494034   \n",
       "1056  Completion rate for children of primary school...  Female   99.214439   \n",
       "1057  Completion rate for children of primary school...    Male   96.243637   \n",
       "\n",
       "      Happiness_Rank  GDP_PerCapita         Income_Group  \n",
       "8                NaN    1953.533757  Lower middle income  \n",
       "9                NaN    1953.533757  Lower middle income  \n",
       "48               NaN     221.477676           Low income  \n",
       "49               NaN     221.477676           Low income  \n",
       "106              NaN    6228.267309  Upper middle income  \n",
       "107              NaN    6228.267309  Upper middle income  \n",
       "142              NaN   17225.462300          High income  \n",
       "143              NaN   17225.462300          High income  \n",
       "166              NaN     461.137490           Low income  \n",
       "167              NaN     461.137490           Low income  \n",
       "218              NaN     577.209215           Low income  \n",
       "219              NaN     577.209215           Low income  \n",
       "390              NaN     795.118569           Low income  \n",
       "391              NaN     795.118569           Low income  \n",
       "408              NaN    9998.544311  Upper middle income  \n",
       "409              NaN    9998.544311  Upper middle income  \n",
       "426              NaN    1829.593044  Lower middle income  \n",
       "427              NaN    1829.593044  Lower middle income  \n",
       "510              NaN    1606.462514  Lower middle income  \n",
       "511              NaN    1606.462514  Lower middle income  \n",
       "540              NaN    9414.226231  Upper middle income  \n",
       "541              NaN    9414.226231  Upper middle income  \n",
       "796              NaN     751.821350           Low income  \n",
       "797              NaN     751.821350           Low income  \n",
       "854              NaN    2360.543554  Lower middle income  \n",
       "855              NaN    2360.543554  Lower middle income  \n",
       "866              NaN    4869.134226  Upper middle income  \n",
       "867              NaN    4869.134226  Upper middle income  \n",
       "890              NaN   20908.582700          High income  \n",
       "891              NaN   20908.582700          High income  \n",
       "950              NaN    2741.393931  Lower middle income  \n",
       "951              NaN    2741.393931  Lower middle income  \n",
       "962              NaN    4426.000637  Upper middle income  \n",
       "963              NaN    4426.000637  Upper middle income  \n",
       "990              NaN    5632.002993  Upper middle income  \n",
       "991              NaN    5632.002993  Upper middle income  \n",
       "1056             NaN    3857.318464  Lower middle income  \n",
       "1057             NaN    3857.318464  Lower middle income  "
      ]
     },
     "execution_count": 84,
     "metadata": {},
     "output_type": "execute_result"
    }
   ],
   "source": [
    "# Checking Nan values in Happiness rank primary level\n",
    "df_HapNan2 = df_prim_comp[df_prim_comp['Happiness_Rank'].isnull()==True]\n",
    "df_HapNan2"
   ]
  },
  {
   "cell_type": "code",
   "execution_count": 85,
   "id": "028910ef",
   "metadata": {
    "scrolled": true
   },
   "outputs": [
    {
     "data": {
      "text/plain": [
       "Country           0\n",
       "Indicator         0\n",
       "Gender            0\n",
       "Percentage        0\n",
       "Happiness_Rank    0\n",
       "GDP_PerCapita     0\n",
       "Income_Group      0\n",
       "dtype: int64"
      ]
     },
     "execution_count": 85,
     "metadata": {},
     "output_type": "execute_result"
    }
   ],
   "source": [
    "df_prim_comp = df_prim_comp[~df_prim_comp['Happiness_Rank'].isnull()==True]\n",
    "df_prim_comp.isnull().sum()"
   ]
  },
  {
   "cell_type": "code",
   "execution_count": 86,
   "id": "d5473fce",
   "metadata": {},
   "outputs": [],
   "source": [
    "# Creating subset data for Primary level Completion rate for Female\n",
    "df_prim_comp_F = df_prim_comp.loc[df['Gender']=='Female']"
   ]
  },
  {
   "cell_type": "code",
   "execution_count": 87,
   "id": "1c7b8ccc",
   "metadata": {},
   "outputs": [],
   "source": [
    "# Reshaping the variables into NumPy arrays\n",
    "X = df_prim_comp_F['Percentage'].values.reshape(-1,1)\n",
    "y = df_prim_comp_F['Happiness_Rank'].values.reshape(-1,1)"
   ]
  },
  {
   "cell_type": "code",
   "execution_count": 88,
   "id": "86fc7160",
   "metadata": {},
   "outputs": [],
   "source": [
    "# Splitting data into a training set and a test set.\n",
    "X_train, X_test, y_train, y_test = train_test_split(X, y, test_size=0.3, random_state=0)"
   ]
  },
  {
   "cell_type": "code",
   "execution_count": 89,
   "id": "7fda91b0",
   "metadata": {},
   "outputs": [],
   "source": [
    "# Create a regression object\n",
    "reg_prim_comp_F = LinearRegression() "
   ]
  },
  {
   "cell_type": "code",
   "execution_count": 90,
   "id": "c28332a6",
   "metadata": {},
   "outputs": [
    {
     "data": {
      "text/html": [
       "<style>#sk-container-id-6 {color: black;background-color: white;}#sk-container-id-6 pre{padding: 0;}#sk-container-id-6 div.sk-toggleable {background-color: white;}#sk-container-id-6 label.sk-toggleable__label {cursor: pointer;display: block;width: 100%;margin-bottom: 0;padding: 0.3em;box-sizing: border-box;text-align: center;}#sk-container-id-6 label.sk-toggleable__label-arrow:before {content: \"▸\";float: left;margin-right: 0.25em;color: #696969;}#sk-container-id-6 label.sk-toggleable__label-arrow:hover:before {color: black;}#sk-container-id-6 div.sk-estimator:hover label.sk-toggleable__label-arrow:before {color: black;}#sk-container-id-6 div.sk-toggleable__content {max-height: 0;max-width: 0;overflow: hidden;text-align: left;background-color: #f0f8ff;}#sk-container-id-6 div.sk-toggleable__content pre {margin: 0.2em;color: black;border-radius: 0.25em;background-color: #f0f8ff;}#sk-container-id-6 input.sk-toggleable__control:checked~div.sk-toggleable__content {max-height: 200px;max-width: 100%;overflow: auto;}#sk-container-id-6 input.sk-toggleable__control:checked~label.sk-toggleable__label-arrow:before {content: \"▾\";}#sk-container-id-6 div.sk-estimator input.sk-toggleable__control:checked~label.sk-toggleable__label {background-color: #d4ebff;}#sk-container-id-6 div.sk-label input.sk-toggleable__control:checked~label.sk-toggleable__label {background-color: #d4ebff;}#sk-container-id-6 input.sk-hidden--visually {border: 0;clip: rect(1px 1px 1px 1px);clip: rect(1px, 1px, 1px, 1px);height: 1px;margin: -1px;overflow: hidden;padding: 0;position: absolute;width: 1px;}#sk-container-id-6 div.sk-estimator {font-family: monospace;background-color: #f0f8ff;border: 1px dotted black;border-radius: 0.25em;box-sizing: border-box;margin-bottom: 0.5em;}#sk-container-id-6 div.sk-estimator:hover {background-color: #d4ebff;}#sk-container-id-6 div.sk-parallel-item::after {content: \"\";width: 100%;border-bottom: 1px solid gray;flex-grow: 1;}#sk-container-id-6 div.sk-label:hover label.sk-toggleable__label {background-color: #d4ebff;}#sk-container-id-6 div.sk-serial::before {content: \"\";position: absolute;border-left: 1px solid gray;box-sizing: border-box;top: 0;bottom: 0;left: 50%;z-index: 0;}#sk-container-id-6 div.sk-serial {display: flex;flex-direction: column;align-items: center;background-color: white;padding-right: 0.2em;padding-left: 0.2em;position: relative;}#sk-container-id-6 div.sk-item {position: relative;z-index: 1;}#sk-container-id-6 div.sk-parallel {display: flex;align-items: stretch;justify-content: center;background-color: white;position: relative;}#sk-container-id-6 div.sk-item::before, #sk-container-id-6 div.sk-parallel-item::before {content: \"\";position: absolute;border-left: 1px solid gray;box-sizing: border-box;top: 0;bottom: 0;left: 50%;z-index: -1;}#sk-container-id-6 div.sk-parallel-item {display: flex;flex-direction: column;z-index: 1;position: relative;background-color: white;}#sk-container-id-6 div.sk-parallel-item:first-child::after {align-self: flex-end;width: 50%;}#sk-container-id-6 div.sk-parallel-item:last-child::after {align-self: flex-start;width: 50%;}#sk-container-id-6 div.sk-parallel-item:only-child::after {width: 0;}#sk-container-id-6 div.sk-dashed-wrapped {border: 1px dashed gray;margin: 0 0.4em 0.5em 0.4em;box-sizing: border-box;padding-bottom: 0.4em;background-color: white;}#sk-container-id-6 div.sk-label label {font-family: monospace;font-weight: bold;display: inline-block;line-height: 1.2em;}#sk-container-id-6 div.sk-label-container {text-align: center;}#sk-container-id-6 div.sk-container {/* jupyter's `normalize.less` sets `[hidden] { display: none; }` but bootstrap.min.css set `[hidden] { display: none !important; }` so we also need the `!important` here to be able to override the default hidden behavior on the sphinx rendered scikit-learn.org. See: https://github.com/scikit-learn/scikit-learn/issues/21755 */display: inline-block !important;position: relative;}#sk-container-id-6 div.sk-text-repr-fallback {display: none;}</style><div id=\"sk-container-id-6\" class=\"sk-top-container\"><div class=\"sk-text-repr-fallback\"><pre>LinearRegression()</pre><b>In a Jupyter environment, please rerun this cell to show the HTML representation or trust the notebook. <br />On GitHub, the HTML representation is unable to render, please try loading this page with nbviewer.org.</b></div><div class=\"sk-container\" hidden><div class=\"sk-item\"><div class=\"sk-estimator sk-toggleable\"><input class=\"sk-toggleable__control sk-hidden--visually\" id=\"sk-estimator-id-6\" type=\"checkbox\" checked><label for=\"sk-estimator-id-6\" class=\"sk-toggleable__label sk-toggleable__label-arrow\">LinearRegression</label><div class=\"sk-toggleable__content\"><pre>LinearRegression()</pre></div></div></div></div></div>"
      ],
      "text/plain": [
       "LinearRegression()"
      ]
     },
     "execution_count": 90,
     "metadata": {},
     "output_type": "execute_result"
    }
   ],
   "source": [
    "# Fitting regression into training set. This i where you train the model\n",
    "reg_prim_comp_F.fit(X_train, y_train)"
   ]
  },
  {
   "cell_type": "code",
   "execution_count": 91,
   "id": "40224bda",
   "metadata": {},
   "outputs": [],
   "source": [
    "# Predict the values of y using X. This will be compared against the actual Y in Y test.\n",
    "y_predicted = reg_prim_comp_F.predict(X_test)"
   ]
  },
  {
   "cell_type": "code",
   "execution_count": 92,
   "id": "c5720f13",
   "metadata": {},
   "outputs": [
    {
     "data": {
      "image/png": "[encoded data removed]",
      "text/plain": [
       "<Figure size 432x288 with 1 Axes>"
      ]
     },
     "metadata": {
      "needs_background": "light"
     },
     "output_type": "display_data"
    }
   ],
   "source": [
    "# Create a plot that shows the regression line from the model on the test set.\n",
    "plot_test = plt\n",
    "plot_test.scatter(X_test, y_test, color='pink', s = 15)\n",
    "plot_test.plot(X_test, y_predicted, color='red', linewidth =3)\n",
    "plot_test.title('Female Primary Level Completion vs Happiness Rank (Test set)')\n",
    "plot_test.xlabel('Primary Level Completion')\n",
    "plot_test.ylabel('Happiness Rank')\n",
    "plot_test.show()"
   ]
  },
  {
   "cell_type": "code",
   "execution_count": 93,
   "id": "b85f9510",
   "metadata": {},
   "outputs": [
    {
     "name": "stdout",
     "output_type": "stream",
     "text": [
      "Slope: [[-0.99996316]]\n",
      "Mean squared error:  6665966.339487004\n",
      "R2 score:  0.519673779093796\n"
     ]
    }
   ],
   "source": [
    "# Print the model summary statistics. \n",
    "print('Slope:' ,reg_prim_comp_F.coef_)\n",
    "print('Mean squared error: ', rmse)\n",
    "print('R2 score: ', r2)"
   ]
  },
  {
   "cell_type": "markdown",
   "id": "ed7484b2",
   "metadata": {},
   "source": [
    "Same correlation with Happiness for female at primary and upper secondary level."
   ]
  },
  {
   "cell_type": "markdown",
   "id": "ba2e089e",
   "metadata": {},
   "source": [
    "#### Testing Male uppersec completion with happiness"
   ]
  },
  {
   "cell_type": "code",
   "execution_count": 94,
   "id": "2accda23",
   "metadata": {},
   "outputs": [],
   "source": [
    "# Reshaping the variables into NumPy arrays\n",
    "X = df_upsec_comp_M['Percentage'].values.reshape(-1,1)\n",
    "y = df_upsec_comp_M['Happiness_Rank'].values.reshape(-1,1)"
   ]
  },
  {
   "cell_type": "code",
   "execution_count": 95,
   "id": "fb38c843",
   "metadata": {},
   "outputs": [],
   "source": [
    "# Splitting data into a training set and a test set.\n",
    "X_train, X_test, y_train, y_test = train_test_split(X, y, test_size=0.3, random_state=0)"
   ]
  },
  {
   "cell_type": "code",
   "execution_count": 96,
   "id": "506d1d7a",
   "metadata": {},
   "outputs": [],
   "source": [
    "# Create a regression object\n",
    "reg_upsec_comp_M = LinearRegression() "
   ]
  },
  {
   "cell_type": "code",
   "execution_count": 97,
   "id": "401693c6",
   "metadata": {},
   "outputs": [
    {
     "data": {
      "text/html": [
       "<style>#sk-container-id-7 {color: black;background-color: white;}#sk-container-id-7 pre{padding: 0;}#sk-container-id-7 div.sk-toggleable {background-color: white;}#sk-container-id-7 label.sk-toggleable__label {cursor: pointer;display: block;width: 100%;margin-bottom: 0;padding: 0.3em;box-sizing: border-box;text-align: center;}#sk-container-id-7 label.sk-toggleable__label-arrow:before {content: \"▸\";float: left;margin-right: 0.25em;color: #696969;}#sk-container-id-7 label.sk-toggleable__label-arrow:hover:before {color: black;}#sk-container-id-7 div.sk-estimator:hover label.sk-toggleable__label-arrow:before {color: black;}#sk-container-id-7 div.sk-toggleable__content {max-height: 0;max-width: 0;overflow: hidden;text-align: left;background-color: #f0f8ff;}#sk-container-id-7 div.sk-toggleable__content pre {margin: 0.2em;color: black;border-radius: 0.25em;background-color: #f0f8ff;}#sk-container-id-7 input.sk-toggleable__control:checked~div.sk-toggleable__content {max-height: 200px;max-width: 100%;overflow: auto;}#sk-container-id-7 input.sk-toggleable__control:checked~label.sk-toggleable__label-arrow:before {content: \"▾\";}#sk-container-id-7 div.sk-estimator input.sk-toggleable__control:checked~label.sk-toggleable__label {background-color: #d4ebff;}#sk-container-id-7 div.sk-label input.sk-toggleable__control:checked~label.sk-toggleable__label {background-color: #d4ebff;}#sk-container-id-7 input.sk-hidden--visually {border: 0;clip: rect(1px 1px 1px 1px);clip: rect(1px, 1px, 1px, 1px);height: 1px;margin: -1px;overflow: hidden;padding: 0;position: absolute;width: 1px;}#sk-container-id-7 div.sk-estimator {font-family: monospace;background-color: #f0f8ff;border: 1px dotted black;border-radius: 0.25em;box-sizing: border-box;margin-bottom: 0.5em;}#sk-container-id-7 div.sk-estimator:hover {background-color: #d4ebff;}#sk-container-id-7 div.sk-parallel-item::after {content: \"\";width: 100%;border-bottom: 1px solid gray;flex-grow: 1;}#sk-container-id-7 div.sk-label:hover label.sk-toggleable__label {background-color: #d4ebff;}#sk-container-id-7 div.sk-serial::before {content: \"\";position: absolute;border-left: 1px solid gray;box-sizing: border-box;top: 0;bottom: 0;left: 50%;z-index: 0;}#sk-container-id-7 div.sk-serial {display: flex;flex-direction: column;align-items: center;background-color: white;padding-right: 0.2em;padding-left: 0.2em;position: relative;}#sk-container-id-7 div.sk-item {position: relative;z-index: 1;}#sk-container-id-7 div.sk-parallel {display: flex;align-items: stretch;justify-content: center;background-color: white;position: relative;}#sk-container-id-7 div.sk-item::before, #sk-container-id-7 div.sk-parallel-item::before {content: \"\";position: absolute;border-left: 1px solid gray;box-sizing: border-box;top: 0;bottom: 0;left: 50%;z-index: -1;}#sk-container-id-7 div.sk-parallel-item {display: flex;flex-direction: column;z-index: 1;position: relative;background-color: white;}#sk-container-id-7 div.sk-parallel-item:first-child::after {align-self: flex-end;width: 50%;}#sk-container-id-7 div.sk-parallel-item:last-child::after {align-self: flex-start;width: 50%;}#sk-container-id-7 div.sk-parallel-item:only-child::after {width: 0;}#sk-container-id-7 div.sk-dashed-wrapped {border: 1px dashed gray;margin: 0 0.4em 0.5em 0.4em;box-sizing: border-box;padding-bottom: 0.4em;background-color: white;}#sk-container-id-7 div.sk-label label {font-family: monospace;font-weight: bold;display: inline-block;line-height: 1.2em;}#sk-container-id-7 div.sk-label-container {text-align: center;}#sk-container-id-7 div.sk-container {/* jupyter's `normalize.less` sets `[hidden] { display: none; }` but bootstrap.min.css set `[hidden] { display: none !important; }` so we also need the `!important` here to be able to override the default hidden behavior on the sphinx rendered scikit-learn.org. See: https://github.com/scikit-learn/scikit-learn/issues/21755 */display: inline-block !important;position: relative;}#sk-container-id-7 div.sk-text-repr-fallback {display: none;}</style><div id=\"sk-container-id-7\" class=\"sk-top-container\"><div class=\"sk-text-repr-fallback\"><pre>LinearRegression()</pre><b>In a Jupyter environment, please rerun this cell to show the HTML representation or trust the notebook. <br />On GitHub, the HTML representation is unable to render, please try loading this page with nbviewer.org.</b></div><div class=\"sk-container\" hidden><div class=\"sk-item\"><div class=\"sk-estimator sk-toggleable\"><input class=\"sk-toggleable__control sk-hidden--visually\" id=\"sk-estimator-id-7\" type=\"checkbox\" checked><label for=\"sk-estimator-id-7\" class=\"sk-toggleable__label sk-toggleable__label-arrow\">LinearRegression</label><div class=\"sk-toggleable__content\"><pre>LinearRegression()</pre></div></div></div></div></div>"
      ],
      "text/plain": [
       "LinearRegression()"
      ]
     },
     "execution_count": 97,
     "metadata": {},
     "output_type": "execute_result"
    }
   ],
   "source": [
    "# Fitting regression into training set. This is where you train the model\n",
    "reg_upsec_comp_M.fit(X_train, y_train)"
   ]
  },
  {
   "cell_type": "code",
   "execution_count": 98,
   "id": "bba30ee3",
   "metadata": {},
   "outputs": [],
   "source": [
    "# Predict the values of y using X. This will be compared against the actual Y in Y test.\n",
    "y_predicted = reg_upsec_comp_M.predict(X_test)"
   ]
  },
  {
   "cell_type": "code",
   "execution_count": 99,
   "id": "d5304e3e",
   "metadata": {},
   "outputs": [
    {
     "name": "stdout",
     "output_type": "stream",
     "text": [
      "Slope: [[-0.83092737]]\n",
      "Mean squared error:  6665966.339487004\n",
      "R2 score:  0.519673779093796\n"
     ]
    }
   ],
   "source": [
    "# Print the model summary statistics. \n",
    "print('Slope:' ,reg_upsec_comp_M.coef_)\n",
    "print('Mean squared error: ', rmse)\n",
    "print('R2 score: ', r2)"
   ]
  },
  {
   "cell_type": "markdown",
   "id": "6e80e28a",
   "metadata": {},
   "source": [
    "Male and female upper secondary completion rates have the same correlation to happiness"
   ]
  },
  {
   "cell_type": "markdown",
   "id": "65a6bd69",
   "metadata": {},
   "source": [
    "### 7. Additional: How much of GDP is correlated to Happiness?"
   ]
  },
  {
   "cell_type": "code",
   "execution_count": 101,
   "id": "e04f908c",
   "metadata": {},
   "outputs": [],
   "source": [
    "# Reshaping the variables into NumPy arrays\n",
    "X = df_upsec_comp_F['GDP_PerCapita'].values.reshape(-1,1)\n",
    "y = df_upsec_comp_F['Happiness_Rank'].values.reshape(-1,1)"
   ]
  },
  {
   "cell_type": "code",
   "execution_count": 102,
   "id": "bb859320",
   "metadata": {},
   "outputs": [],
   "source": [
    "# Splitting data into a training set and a test set.\n",
    "X_train, X_test, y_train, y_test = train_test_split(X, y, test_size=0.3, random_state=0)"
   ]
  },
  {
   "cell_type": "code",
   "execution_count": 103,
   "id": "92454a40",
   "metadata": {},
   "outputs": [],
   "source": [
    "# Create a regression object\n",
    "reg_upsec_comp_F = LinearRegression() "
   ]
  },
  {
   "cell_type": "code",
   "execution_count": 104,
   "id": "462b9a1b",
   "metadata": {},
   "outputs": [
    {
     "data": {
      "text/html": [
       "<style>#sk-container-id-8 {color: black;background-color: white;}#sk-container-id-8 pre{padding: 0;}#sk-container-id-8 div.sk-toggleable {background-color: white;}#sk-container-id-8 label.sk-toggleable__label {cursor: pointer;display: block;width: 100%;margin-bottom: 0;padding: 0.3em;box-sizing: border-box;text-align: center;}#sk-container-id-8 label.sk-toggleable__label-arrow:before {content: \"▸\";float: left;margin-right: 0.25em;color: #696969;}#sk-container-id-8 label.sk-toggleable__label-arrow:hover:before {color: black;}#sk-container-id-8 div.sk-estimator:hover label.sk-toggleable__label-arrow:before {color: black;}#sk-container-id-8 div.sk-toggleable__content {max-height: 0;max-width: 0;overflow: hidden;text-align: left;background-color: #f0f8ff;}#sk-container-id-8 div.sk-toggleable__content pre {margin: 0.2em;color: black;border-radius: 0.25em;background-color: #f0f8ff;}#sk-container-id-8 input.sk-toggleable__control:checked~div.sk-toggleable__content {max-height: 200px;max-width: 100%;overflow: auto;}#sk-container-id-8 input.sk-toggleable__control:checked~label.sk-toggleable__label-arrow:before {content: \"▾\";}#sk-container-id-8 div.sk-estimator input.sk-toggleable__control:checked~label.sk-toggleable__label {background-color: #d4ebff;}#sk-container-id-8 div.sk-label input.sk-toggleable__control:checked~label.sk-toggleable__label {background-color: #d4ebff;}#sk-container-id-8 input.sk-hidden--visually {border: 0;clip: rect(1px 1px 1px 1px);clip: rect(1px, 1px, 1px, 1px);height: 1px;margin: -1px;overflow: hidden;padding: 0;position: absolute;width: 1px;}#sk-container-id-8 div.sk-estimator {font-family: monospace;background-color: #f0f8ff;border: 1px dotted black;border-radius: 0.25em;box-sizing: border-box;margin-bottom: 0.5em;}#sk-container-id-8 div.sk-estimator:hover {background-color: #d4ebff;}#sk-container-id-8 div.sk-parallel-item::after {content: \"\";width: 100%;border-bottom: 1px solid gray;flex-grow: 1;}#sk-container-id-8 div.sk-label:hover label.sk-toggleable__label {background-color: #d4ebff;}#sk-container-id-8 div.sk-serial::before {content: \"\";position: absolute;border-left: 1px solid gray;box-sizing: border-box;top: 0;bottom: 0;left: 50%;z-index: 0;}#sk-container-id-8 div.sk-serial {display: flex;flex-direction: column;align-items: center;background-color: white;padding-right: 0.2em;padding-left: 0.2em;position: relative;}#sk-container-id-8 div.sk-item {position: relative;z-index: 1;}#sk-container-id-8 div.sk-parallel {display: flex;align-items: stretch;justify-content: center;background-color: white;position: relative;}#sk-container-id-8 div.sk-item::before, #sk-container-id-8 div.sk-parallel-item::before {content: \"\";position: absolute;border-left: 1px solid gray;box-sizing: border-box;top: 0;bottom: 0;left: 50%;z-index: -1;}#sk-container-id-8 div.sk-parallel-item {display: flex;flex-direction: column;z-index: 1;position: relative;background-color: white;}#sk-container-id-8 div.sk-parallel-item:first-child::after {align-self: flex-end;width: 50%;}#sk-container-id-8 div.sk-parallel-item:last-child::after {align-self: flex-start;width: 50%;}#sk-container-id-8 div.sk-parallel-item:only-child::after {width: 0;}#sk-container-id-8 div.sk-dashed-wrapped {border: 1px dashed gray;margin: 0 0.4em 0.5em 0.4em;box-sizing: border-box;padding-bottom: 0.4em;background-color: white;}#sk-container-id-8 div.sk-label label {font-family: monospace;font-weight: bold;display: inline-block;line-height: 1.2em;}#sk-container-id-8 div.sk-label-container {text-align: center;}#sk-container-id-8 div.sk-container {/* jupyter's `normalize.less` sets `[hidden] { display: none; }` but bootstrap.min.css set `[hidden] { display: none !important; }` so we also need the `!important` here to be able to override the default hidden behavior on the sphinx rendered scikit-learn.org. See: https://github.com/scikit-learn/scikit-learn/issues/21755 */display: inline-block !important;position: relative;}#sk-container-id-8 div.sk-text-repr-fallback {display: none;}</style><div id=\"sk-container-id-8\" class=\"sk-top-container\"><div class=\"sk-text-repr-fallback\"><pre>LinearRegression()</pre><b>In a Jupyter environment, please rerun this cell to show the HTML representation or trust the notebook. <br />On GitHub, the HTML representation is unable to render, please try loading this page with nbviewer.org.</b></div><div class=\"sk-container\" hidden><div class=\"sk-item\"><div class=\"sk-estimator sk-toggleable\"><input class=\"sk-toggleable__control sk-hidden--visually\" id=\"sk-estimator-id-8\" type=\"checkbox\" checked><label for=\"sk-estimator-id-8\" class=\"sk-toggleable__label sk-toggleable__label-arrow\">LinearRegression</label><div class=\"sk-toggleable__content\"><pre>LinearRegression()</pre></div></div></div></div></div>"
      ],
      "text/plain": [
       "LinearRegression()"
      ]
     },
     "execution_count": 104,
     "metadata": {},
     "output_type": "execute_result"
    }
   ],
   "source": [
    "# Fitting regression into training set. This i where you train the model\n",
    "reg_upsec_comp_F.fit(X_train, y_train)"
   ]
  },
  {
   "cell_type": "code",
   "execution_count": 105,
   "id": "1a52c6ea",
   "metadata": {},
   "outputs": [],
   "source": [
    "# Predict the values of y using X. This will be compared against the actual Y in Y test.\n",
    "y_predicted = reg_upsec_comp_F.predict(X_test)"
   ]
  },
  {
   "cell_type": "code",
   "execution_count": 106,
   "id": "de4c672f",
   "metadata": {},
   "outputs": [
    {
     "data": {
      "image/png": "[encoded data removed]",
      "text/plain": [
       "<Figure size 432x288 with 1 Axes>"
      ]
     },
     "metadata": {
      "needs_background": "light"
     },
     "output_type": "display_data"
    }
   ],
   "source": [
    "# Create a plot that shows the regression line from the model on the test set.\n",
    "plot_test = plt\n",
    "plot_test.scatter(X_test, y_test, color='green', s = 15)\n",
    "plot_test.plot(X_test, y_predicted, color='red', linewidth =3)\n",
    "plot_test.title('GDP PerCapita vs Happiness Rank (Test set)')\n",
    "plot_test.xlabel('GDP PerCapita')\n",
    "plot_test.ylabel('Happiness Rank')\n",
    "plot_test.show()"
   ]
  },
  {
   "cell_type": "code",
   "execution_count": 107,
   "id": "8a6eb8c5",
   "metadata": {
    "scrolled": true
   },
   "outputs": [
    {
     "name": "stdout",
     "output_type": "stream",
     "text": [
      "Slope: [[-0.0060946]]\n",
      "Mean squared error:  6665966.339487004\n",
      "R2 score:  0.519673779093796\n"
     ]
    }
   ],
   "source": [
    "# Print the model summary statistics. \n",
    "print('Slope:' ,reg_upsec_comp_F.coef_)\n",
    "print('Mean squared error: ', rmse)\n",
    "print('R2 score: ', r2)"
   ]
  },
  {
   "cell_type": "markdown",
   "id": "7eca60e3",
   "metadata": {},
   "source": [
    "Still not a strong correlation"
   ]
  },
  {
   "cell_type": "code",
   "execution_count": null,
   "id": "1f023e07",
   "metadata": {},
   "outputs": [],
   "source": []
  }
 ],
 "metadata": {
  "kernelspec": {
   "display_name": "Python 3",
   "language": "python",
   "name": "python3"
  },
  "language_info": {
   "codemirror_mode": {
    "name": "ipython",
    "version": 3
   },
   "file_extension": ".py",
   "mimetype": "text/x-python",
   "name": "python",
   "nbconvert_exporter": "python",
   "pygments_lexer": "ipython3",
   "version": "3.9.12"
  }
 },
 "nbformat": 4,
 "nbformat_minor": 5
}
