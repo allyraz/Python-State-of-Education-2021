{
 "cells": [
  {
   "cell_type": "markdown",
   "id": "2338bcff",
   "metadata": {},
   "source": [
    "# 0. Content\n",
    "\n",
    "    1. Import Library & Data\n",
    "    2. Data Prepping\n",
    "    3. Time Series Analysis - Decompose\n",
    "    4. Check for Stationarity - Dicky Fuller\n",
    "    5. Check for Autocorrelation\n",
    "    6. Stationarizing the time series"
   ]
  },
  {
   "cell_type": "markdown",
   "id": "3c3a64d4",
   "metadata": {},
   "source": [
    "# 1. Import Library & Data"
   ]
  },
  {
   "cell_type": "code",
   "execution_count": 1,
   "id": "1a05704d",
   "metadata": {},
   "outputs": [],
   "source": [
    "import pandas as pd\n",
    "import numpy as np\n",
    "import seaborn as sns\n",
    "import matplotlib\n",
    "import matplotlib.pyplot as plt\n",
    "import statsmodels.api as sm # Using .api imports the public access version of statsmodels, which is a library that handles \n",
    "# statistical models.\n",
    "import os\n",
    "import warnings # This is a library that handles warnings.\n",
    "\n",
    "warnings.filterwarnings(\"ignore\") # Disable deprecation warnings that could indicate, for instance, a suspended library or \n",
    "# feature. These are more relevant to developers and very seldom to analysts.\n",
    "\n",
    "plt.style.use('fivethirtyeight') # This is a styling option for how your plots will appear. More examples here:\n",
    "# https://matplotlib.org/3.2.1/tutorials/introductory/customizing.html\n",
    "# https://matplotlib.org/3.1.0/gallery/style_sheets/fivethirtyeight.html"
   ]
  },
  {
   "cell_type": "code",
   "execution_count": 2,
   "id": "71eb6a17",
   "metadata": {},
   "outputs": [],
   "source": [
    "path = r\"C:\\Users\\Azalia\\Documents\\Projects\\Self-Study\\CareerFoundry\\Education Completion Analysis\""
   ]
  },
  {
   "cell_type": "code",
   "execution_count": 3,
   "id": "e973f6ac",
   "metadata": {},
   "outputs": [],
   "source": [
    "#Import time series data\n",
    "df = pd.read_csv(os.path.join(path,'02 Data','Original Data','API_NY.GDP.PCAP.CD_DS2_en_excel_v2_4888889.csv'))"
   ]
  },
  {
   "cell_type": "code",
   "execution_count": 4,
   "id": "be1345f0",
   "metadata": {},
   "outputs": [
    {
     "data": {
      "text/html": [
       "<div>\n",
       "<style scoped>\n",
       "    .dataframe tbody tr th:only-of-type {\n",
       "        vertical-align: middle;\n",
       "    }\n",
       "\n",
       "    .dataframe tbody tr th {\n",
       "        vertical-align: top;\n",
       "    }\n",
       "\n",
       "    .dataframe thead th {\n",
       "        text-align: right;\n",
       "    }\n",
       "</style>\n",
       "<table border=\"1\" class=\"dataframe\">\n",
       "  <thead>\n",
       "    <tr style=\"text-align: right;\">\n",
       "      <th></th>\n",
       "      <th>Data Source</th>\n",
       "      <th>World Development Indicators</th>\n",
       "      <th>Unnamed: 2</th>\n",
       "      <th>Unnamed: 3</th>\n",
       "      <th>Unnamed: 4</th>\n",
       "      <th>Unnamed: 5</th>\n",
       "      <th>Unnamed: 6</th>\n",
       "      <th>Unnamed: 7</th>\n",
       "      <th>Unnamed: 8</th>\n",
       "      <th>Unnamed: 9</th>\n",
       "      <th>...</th>\n",
       "      <th>Unnamed: 56</th>\n",
       "      <th>Unnamed: 57</th>\n",
       "      <th>Unnamed: 58</th>\n",
       "      <th>Unnamed: 59</th>\n",
       "      <th>Unnamed: 60</th>\n",
       "      <th>Unnamed: 61</th>\n",
       "      <th>Unnamed: 62</th>\n",
       "      <th>Unnamed: 63</th>\n",
       "      <th>Unnamed: 64</th>\n",
       "      <th>Unnamed: 65</th>\n",
       "    </tr>\n",
       "  </thead>\n",
       "  <tbody>\n",
       "    <tr>\n",
       "      <th>0</th>\n",
       "      <td>Last Updated Date</td>\n",
       "      <td>12/22/2022</td>\n",
       "      <td>NaN</td>\n",
       "      <td>NaN</td>\n",
       "      <td>NaN</td>\n",
       "      <td>NaN</td>\n",
       "      <td>NaN</td>\n",
       "      <td>NaN</td>\n",
       "      <td>NaN</td>\n",
       "      <td>NaN</td>\n",
       "      <td>...</td>\n",
       "      <td>NaN</td>\n",
       "      <td>NaN</td>\n",
       "      <td>NaN</td>\n",
       "      <td>NaN</td>\n",
       "      <td>NaN</td>\n",
       "      <td>NaN</td>\n",
       "      <td>NaN</td>\n",
       "      <td>NaN</td>\n",
       "      <td>NaN</td>\n",
       "      <td>NaN</td>\n",
       "    </tr>\n",
       "    <tr>\n",
       "      <th>1</th>\n",
       "      <td>NaN</td>\n",
       "      <td>NaN</td>\n",
       "      <td>NaN</td>\n",
       "      <td>NaN</td>\n",
       "      <td>NaN</td>\n",
       "      <td>NaN</td>\n",
       "      <td>NaN</td>\n",
       "      <td>NaN</td>\n",
       "      <td>NaN</td>\n",
       "      <td>NaN</td>\n",
       "      <td>...</td>\n",
       "      <td>NaN</td>\n",
       "      <td>NaN</td>\n",
       "      <td>NaN</td>\n",
       "      <td>NaN</td>\n",
       "      <td>NaN</td>\n",
       "      <td>NaN</td>\n",
       "      <td>NaN</td>\n",
       "      <td>NaN</td>\n",
       "      <td>NaN</td>\n",
       "      <td>NaN</td>\n",
       "    </tr>\n",
       "    <tr>\n",
       "      <th>2</th>\n",
       "      <td>Country Name</td>\n",
       "      <td>Country Code</td>\n",
       "      <td>Indicator Name</td>\n",
       "      <td>Indicator Code</td>\n",
       "      <td>1960.000000</td>\n",
       "      <td>1961.000000</td>\n",
       "      <td>1962.000000</td>\n",
       "      <td>1963.000000</td>\n",
       "      <td>1964.000000</td>\n",
       "      <td>1965.000000</td>\n",
       "      <td>...</td>\n",
       "      <td>2012.000000</td>\n",
       "      <td>2013.000000</td>\n",
       "      <td>2014.00000</td>\n",
       "      <td>2015.000000</td>\n",
       "      <td>2016.000000</td>\n",
       "      <td>2017.000000</td>\n",
       "      <td>2018.000000</td>\n",
       "      <td>2019.000000</td>\n",
       "      <td>2020.00000</td>\n",
       "      <td>2021.000000</td>\n",
       "    </tr>\n",
       "    <tr>\n",
       "      <th>3</th>\n",
       "      <td>Aruba</td>\n",
       "      <td>ABW</td>\n",
       "      <td>GDP per capita (current US$)</td>\n",
       "      <td>NY.GDP.PCAP.CD</td>\n",
       "      <td>NaN</td>\n",
       "      <td>NaN</td>\n",
       "      <td>NaN</td>\n",
       "      <td>NaN</td>\n",
       "      <td>NaN</td>\n",
       "      <td>NaN</td>\n",
       "      <td>...</td>\n",
       "      <td>25609.955720</td>\n",
       "      <td>26515.678080</td>\n",
       "      <td>26942.30798</td>\n",
       "      <td>28421.386490</td>\n",
       "      <td>28451.273740</td>\n",
       "      <td>29326.708060</td>\n",
       "      <td>30220.594520</td>\n",
       "      <td>31650.760540</td>\n",
       "      <td>24487.86356</td>\n",
       "      <td>29342.100860</td>\n",
       "    </tr>\n",
       "    <tr>\n",
       "      <th>4</th>\n",
       "      <td>Africa Eastern and Southern</td>\n",
       "      <td>AFE</td>\n",
       "      <td>GDP per capita (current US$)</td>\n",
       "      <td>NY.GDP.PCAP.CD</td>\n",
       "      <td>162.907576</td>\n",
       "      <td>162.546236</td>\n",
       "      <td>171.996697</td>\n",
       "      <td>199.182564</td>\n",
       "      <td>179.381788</td>\n",
       "      <td>198.223726</td>\n",
       "      <td>...</td>\n",
       "      <td>1760.216229</td>\n",
       "      <td>1731.795976</td>\n",
       "      <td>1719.80919</td>\n",
       "      <td>1540.850354</td>\n",
       "      <td>1432.111827</td>\n",
       "      <td>1613.788555</td>\n",
       "      <td>1550.180567</td>\n",
       "      <td>1500.229274</td>\n",
       "      <td>1353.76916</td>\n",
       "      <td>1537.336021</td>\n",
       "    </tr>\n",
       "  </tbody>\n",
       "</table>\n",
       "<p>5 rows × 66 columns</p>\n",
       "</div>"
      ],
      "text/plain": [
       "                   Data Source World Development Indicators  \\\n",
       "0            Last Updated Date                   12/22/2022   \n",
       "1                          NaN                          NaN   \n",
       "2                 Country Name                 Country Code   \n",
       "3                        Aruba                          ABW   \n",
       "4  Africa Eastern and Southern                          AFE   \n",
       "\n",
       "                     Unnamed: 2      Unnamed: 3   Unnamed: 4   Unnamed: 5  \\\n",
       "0                           NaN             NaN          NaN          NaN   \n",
       "1                           NaN             NaN          NaN          NaN   \n",
       "2                Indicator Name  Indicator Code  1960.000000  1961.000000   \n",
       "3  GDP per capita (current US$)  NY.GDP.PCAP.CD          NaN          NaN   \n",
       "4  GDP per capita (current US$)  NY.GDP.PCAP.CD   162.907576   162.546236   \n",
       "\n",
       "    Unnamed: 6   Unnamed: 7   Unnamed: 8   Unnamed: 9  ...   Unnamed: 56  \\\n",
       "0          NaN          NaN          NaN          NaN  ...           NaN   \n",
       "1          NaN          NaN          NaN          NaN  ...           NaN   \n",
       "2  1962.000000  1963.000000  1964.000000  1965.000000  ...   2012.000000   \n",
       "3          NaN          NaN          NaN          NaN  ...  25609.955720   \n",
       "4   171.996697   199.182564   179.381788   198.223726  ...   1760.216229   \n",
       "\n",
       "    Unnamed: 57  Unnamed: 58   Unnamed: 59   Unnamed: 60   Unnamed: 61  \\\n",
       "0           NaN          NaN           NaN           NaN           NaN   \n",
       "1           NaN          NaN           NaN           NaN           NaN   \n",
       "2   2013.000000   2014.00000   2015.000000   2016.000000   2017.000000   \n",
       "3  26515.678080  26942.30798  28421.386490  28451.273740  29326.708060   \n",
       "4   1731.795976   1719.80919   1540.850354   1432.111827   1613.788555   \n",
       "\n",
       "    Unnamed: 62   Unnamed: 63  Unnamed: 64   Unnamed: 65  \n",
       "0           NaN           NaN          NaN           NaN  \n",
       "1           NaN           NaN          NaN           NaN  \n",
       "2   2018.000000   2019.000000   2020.00000   2021.000000  \n",
       "3  30220.594520  31650.760540  24487.86356  29342.100860  \n",
       "4   1550.180567   1500.229274   1353.76916   1537.336021  \n",
       "\n",
       "[5 rows x 66 columns]"
      ]
     },
     "execution_count": 4,
     "metadata": {},
     "output_type": "execute_result"
    }
   ],
   "source": [
    "df.head()"
   ]
  },
  {
   "cell_type": "markdown",
   "id": "520633c7",
   "metadata": {},
   "source": [
    "# 2. Data Prepping"
   ]
  },
  {
   "cell_type": "code",
   "execution_count": 5,
   "id": "09161c98",
   "metadata": {},
   "outputs": [
    {
     "data": {
      "text/html": [
       "<div>\n",
       "<style scoped>\n",
       "    .dataframe tbody tr th:only-of-type {\n",
       "        vertical-align: middle;\n",
       "    }\n",
       "\n",
       "    .dataframe tbody tr th {\n",
       "        vertical-align: top;\n",
       "    }\n",
       "\n",
       "    .dataframe thead th {\n",
       "        text-align: right;\n",
       "    }\n",
       "</style>\n",
       "<table border=\"1\" class=\"dataframe\">\n",
       "  <thead>\n",
       "    <tr style=\"text-align: right;\">\n",
       "      <th></th>\n",
       "      <th>Data Source</th>\n",
       "      <th>World Development Indicators</th>\n",
       "      <th>Unnamed: 2</th>\n",
       "      <th>Unnamed: 3</th>\n",
       "      <th>Unnamed: 4</th>\n",
       "      <th>Unnamed: 5</th>\n",
       "      <th>Unnamed: 6</th>\n",
       "      <th>Unnamed: 7</th>\n",
       "      <th>Unnamed: 8</th>\n",
       "      <th>Unnamed: 9</th>\n",
       "      <th>...</th>\n",
       "      <th>Unnamed: 56</th>\n",
       "      <th>Unnamed: 57</th>\n",
       "      <th>Unnamed: 58</th>\n",
       "      <th>Unnamed: 59</th>\n",
       "      <th>Unnamed: 60</th>\n",
       "      <th>Unnamed: 61</th>\n",
       "      <th>Unnamed: 62</th>\n",
       "      <th>Unnamed: 63</th>\n",
       "      <th>Unnamed: 64</th>\n",
       "      <th>Unnamed: 65</th>\n",
       "    </tr>\n",
       "  </thead>\n",
       "  <tbody>\n",
       "    <tr>\n",
       "      <th>2</th>\n",
       "      <td>Country Name</td>\n",
       "      <td>Country Code</td>\n",
       "      <td>Indicator Name</td>\n",
       "      <td>Indicator Code</td>\n",
       "      <td>1960.000000</td>\n",
       "      <td>1961.000000</td>\n",
       "      <td>1962.000000</td>\n",
       "      <td>1963.000000</td>\n",
       "      <td>1964.000000</td>\n",
       "      <td>1965.000000</td>\n",
       "      <td>...</td>\n",
       "      <td>2012.000000</td>\n",
       "      <td>2013.000000</td>\n",
       "      <td>2014.000000</td>\n",
       "      <td>2015.000000</td>\n",
       "      <td>2016.000000</td>\n",
       "      <td>2017.000000</td>\n",
       "      <td>2018.000000</td>\n",
       "      <td>2019.000000</td>\n",
       "      <td>2020.000000</td>\n",
       "      <td>2021.000000</td>\n",
       "    </tr>\n",
       "    <tr>\n",
       "      <th>3</th>\n",
       "      <td>Aruba</td>\n",
       "      <td>ABW</td>\n",
       "      <td>GDP per capita (current US$)</td>\n",
       "      <td>NY.GDP.PCAP.CD</td>\n",
       "      <td>NaN</td>\n",
       "      <td>NaN</td>\n",
       "      <td>NaN</td>\n",
       "      <td>NaN</td>\n",
       "      <td>NaN</td>\n",
       "      <td>NaN</td>\n",
       "      <td>...</td>\n",
       "      <td>25609.955720</td>\n",
       "      <td>26515.678080</td>\n",
       "      <td>26942.307980</td>\n",
       "      <td>28421.386490</td>\n",
       "      <td>28451.273740</td>\n",
       "      <td>29326.708060</td>\n",
       "      <td>30220.594520</td>\n",
       "      <td>31650.760540</td>\n",
       "      <td>24487.863560</td>\n",
       "      <td>29342.100860</td>\n",
       "    </tr>\n",
       "    <tr>\n",
       "      <th>4</th>\n",
       "      <td>Africa Eastern and Southern</td>\n",
       "      <td>AFE</td>\n",
       "      <td>GDP per capita (current US$)</td>\n",
       "      <td>NY.GDP.PCAP.CD</td>\n",
       "      <td>162.907576</td>\n",
       "      <td>162.546236</td>\n",
       "      <td>171.996697</td>\n",
       "      <td>199.182564</td>\n",
       "      <td>179.381788</td>\n",
       "      <td>198.223726</td>\n",
       "      <td>...</td>\n",
       "      <td>1760.216229</td>\n",
       "      <td>1731.795976</td>\n",
       "      <td>1719.809190</td>\n",
       "      <td>1540.850354</td>\n",
       "      <td>1432.111827</td>\n",
       "      <td>1613.788555</td>\n",
       "      <td>1550.180567</td>\n",
       "      <td>1500.229274</td>\n",
       "      <td>1353.769160</td>\n",
       "      <td>1537.336021</td>\n",
       "    </tr>\n",
       "    <tr>\n",
       "      <th>5</th>\n",
       "      <td>Afghanistan</td>\n",
       "      <td>AFG</td>\n",
       "      <td>GDP per capita (current US$)</td>\n",
       "      <td>NY.GDP.PCAP.CD</td>\n",
       "      <td>62.369375</td>\n",
       "      <td>62.443703</td>\n",
       "      <td>60.950364</td>\n",
       "      <td>82.021738</td>\n",
       "      <td>85.511073</td>\n",
       "      <td>105.243196</td>\n",
       "      <td>...</td>\n",
       "      <td>663.141053</td>\n",
       "      <td>651.987862</td>\n",
       "      <td>628.146804</td>\n",
       "      <td>592.476537</td>\n",
       "      <td>520.252064</td>\n",
       "      <td>530.149831</td>\n",
       "      <td>502.056771</td>\n",
       "      <td>500.522664</td>\n",
       "      <td>516.866552</td>\n",
       "      <td>368.754614</td>\n",
       "    </tr>\n",
       "    <tr>\n",
       "      <th>6</th>\n",
       "      <td>Africa Western and Central</td>\n",
       "      <td>AFW</td>\n",
       "      <td>GDP per capita (current US$)</td>\n",
       "      <td>NY.GDP.PCAP.CD</td>\n",
       "      <td>106.976475</td>\n",
       "      <td>112.047561</td>\n",
       "      <td>117.730633</td>\n",
       "      <td>122.278715</td>\n",
       "      <td>130.599963</td>\n",
       "      <td>137.186142</td>\n",
       "      <td>...</td>\n",
       "      <td>1953.407033</td>\n",
       "      <td>2149.295219</td>\n",
       "      <td>2243.271464</td>\n",
       "      <td>1876.623483</td>\n",
       "      <td>1645.023767</td>\n",
       "      <td>1585.911930</td>\n",
       "      <td>1731.311792</td>\n",
       "      <td>1749.303317</td>\n",
       "      <td>1683.436391</td>\n",
       "      <td>1757.030626</td>\n",
       "    </tr>\n",
       "    <tr>\n",
       "      <th>...</th>\n",
       "      <td>...</td>\n",
       "      <td>...</td>\n",
       "      <td>...</td>\n",
       "      <td>...</td>\n",
       "      <td>...</td>\n",
       "      <td>...</td>\n",
       "      <td>...</td>\n",
       "      <td>...</td>\n",
       "      <td>...</td>\n",
       "      <td>...</td>\n",
       "      <td>...</td>\n",
       "      <td>...</td>\n",
       "      <td>...</td>\n",
       "      <td>...</td>\n",
       "      <td>...</td>\n",
       "      <td>...</td>\n",
       "      <td>...</td>\n",
       "      <td>...</td>\n",
       "      <td>...</td>\n",
       "      <td>...</td>\n",
       "      <td>...</td>\n",
       "    </tr>\n",
       "    <tr>\n",
       "      <th>264</th>\n",
       "      <td>Kosovo</td>\n",
       "      <td>XKX</td>\n",
       "      <td>GDP per capita (current US$)</td>\n",
       "      <td>NY.GDP.PCAP.CD</td>\n",
       "      <td>NaN</td>\n",
       "      <td>NaN</td>\n",
       "      <td>NaN</td>\n",
       "      <td>NaN</td>\n",
       "      <td>NaN</td>\n",
       "      <td>NaN</td>\n",
       "      <td>...</td>\n",
       "      <td>3410.859780</td>\n",
       "      <td>3704.784221</td>\n",
       "      <td>3902.676013</td>\n",
       "      <td>3520.766449</td>\n",
       "      <td>3759.560246</td>\n",
       "      <td>4009.380987</td>\n",
       "      <td>4384.048892</td>\n",
       "      <td>4416.108358</td>\n",
       "      <td>4310.811183</td>\n",
       "      <td>5269.783901</td>\n",
       "    </tr>\n",
       "    <tr>\n",
       "      <th>265</th>\n",
       "      <td>Yemen, Rep.</td>\n",
       "      <td>YEM</td>\n",
       "      <td>GDP per capita (current US$)</td>\n",
       "      <td>NY.GDP.PCAP.CD</td>\n",
       "      <td>NaN</td>\n",
       "      <td>NaN</td>\n",
       "      <td>NaN</td>\n",
       "      <td>NaN</td>\n",
       "      <td>NaN</td>\n",
       "      <td>NaN</td>\n",
       "      <td>...</td>\n",
       "      <td>1349.990295</td>\n",
       "      <td>1497.747941</td>\n",
       "      <td>1557.601406</td>\n",
       "      <td>1488.416482</td>\n",
       "      <td>1069.817122</td>\n",
       "      <td>893.716573</td>\n",
       "      <td>701.714878</td>\n",
       "      <td>NaN</td>\n",
       "      <td>NaN</td>\n",
       "      <td>NaN</td>\n",
       "    </tr>\n",
       "    <tr>\n",
       "      <th>266</th>\n",
       "      <td>South Africa</td>\n",
       "      <td>ZAF</td>\n",
       "      <td>GDP per capita (current US$)</td>\n",
       "      <td>NY.GDP.PCAP.CD</td>\n",
       "      <td>529.561923</td>\n",
       "      <td>543.042224</td>\n",
       "      <td>560.699395</td>\n",
       "      <td>601.599951</td>\n",
       "      <td>642.688431</td>\n",
       "      <td>681.131112</td>\n",
       "      <td>...</td>\n",
       "      <td>8173.869138</td>\n",
       "      <td>7441.230854</td>\n",
       "      <td>6965.137897</td>\n",
       "      <td>6204.929901</td>\n",
       "      <td>5735.066787</td>\n",
       "      <td>6734.475153</td>\n",
       "      <td>7048.522211</td>\n",
       "      <td>6688.787271</td>\n",
       "      <td>5741.643129</td>\n",
       "      <td>7055.044776</td>\n",
       "    </tr>\n",
       "    <tr>\n",
       "      <th>267</th>\n",
       "      <td>Zambia</td>\n",
       "      <td>ZMB</td>\n",
       "      <td>GDP per capita (current US$)</td>\n",
       "      <td>NY.GDP.PCAP.CD</td>\n",
       "      <td>228.567398</td>\n",
       "      <td>216.274674</td>\n",
       "      <td>208.562685</td>\n",
       "      <td>209.453362</td>\n",
       "      <td>236.941713</td>\n",
       "      <td>296.022427</td>\n",
       "      <td>...</td>\n",
       "      <td>1729.647471</td>\n",
       "      <td>1840.320553</td>\n",
       "      <td>1724.576220</td>\n",
       "      <td>1307.909649</td>\n",
       "      <td>1249.923143</td>\n",
       "      <td>1495.752138</td>\n",
       "      <td>1475.204538</td>\n",
       "      <td>1268.120941</td>\n",
       "      <td>956.831364</td>\n",
       "      <td>1137.343633</td>\n",
       "    </tr>\n",
       "    <tr>\n",
       "      <th>268</th>\n",
       "      <td>Zimbabwe</td>\n",
       "      <td>ZWE</td>\n",
       "      <td>GDP per capita (current US$)</td>\n",
       "      <td>NY.GDP.PCAP.CD</td>\n",
       "      <td>276.643363</td>\n",
       "      <td>279.332656</td>\n",
       "      <td>275.966139</td>\n",
       "      <td>277.532515</td>\n",
       "      <td>282.376856</td>\n",
       "      <td>294.893605</td>\n",
       "      <td>...</td>\n",
       "      <td>1290.193956</td>\n",
       "      <td>1408.367810</td>\n",
       "      <td>1407.034293</td>\n",
       "      <td>1410.329174</td>\n",
       "      <td>1421.787789</td>\n",
       "      <td>1192.107012</td>\n",
       "      <td>2269.177012</td>\n",
       "      <td>1421.868596</td>\n",
       "      <td>1372.696674</td>\n",
       "      <td>1773.920411</td>\n",
       "    </tr>\n",
       "  </tbody>\n",
       "</table>\n",
       "<p>267 rows × 66 columns</p>\n",
       "</div>"
      ],
      "text/plain": [
       "                     Data Source World Development Indicators  \\\n",
       "2                   Country Name                 Country Code   \n",
       "3                          Aruba                          ABW   \n",
       "4    Africa Eastern and Southern                          AFE   \n",
       "5                    Afghanistan                          AFG   \n",
       "6     Africa Western and Central                          AFW   \n",
       "..                           ...                          ...   \n",
       "264                       Kosovo                          XKX   \n",
       "265                  Yemen, Rep.                          YEM   \n",
       "266                 South Africa                          ZAF   \n",
       "267                       Zambia                          ZMB   \n",
       "268                     Zimbabwe                          ZWE   \n",
       "\n",
       "                       Unnamed: 2      Unnamed: 3   Unnamed: 4   Unnamed: 5  \\\n",
       "2                  Indicator Name  Indicator Code  1960.000000  1961.000000   \n",
       "3    GDP per capita (current US$)  NY.GDP.PCAP.CD          NaN          NaN   \n",
       "4    GDP per capita (current US$)  NY.GDP.PCAP.CD   162.907576   162.546236   \n",
       "5    GDP per capita (current US$)  NY.GDP.PCAP.CD    62.369375    62.443703   \n",
       "6    GDP per capita (current US$)  NY.GDP.PCAP.CD   106.976475   112.047561   \n",
       "..                            ...             ...          ...          ...   \n",
       "264  GDP per capita (current US$)  NY.GDP.PCAP.CD          NaN          NaN   \n",
       "265  GDP per capita (current US$)  NY.GDP.PCAP.CD          NaN          NaN   \n",
       "266  GDP per capita (current US$)  NY.GDP.PCAP.CD   529.561923   543.042224   \n",
       "267  GDP per capita (current US$)  NY.GDP.PCAP.CD   228.567398   216.274674   \n",
       "268  GDP per capita (current US$)  NY.GDP.PCAP.CD   276.643363   279.332656   \n",
       "\n",
       "      Unnamed: 6   Unnamed: 7   Unnamed: 8   Unnamed: 9  ...   Unnamed: 56  \\\n",
       "2    1962.000000  1963.000000  1964.000000  1965.000000  ...   2012.000000   \n",
       "3            NaN          NaN          NaN          NaN  ...  25609.955720   \n",
       "4     171.996697   199.182564   179.381788   198.223726  ...   1760.216229   \n",
       "5      60.950364    82.021738    85.511073   105.243196  ...    663.141053   \n",
       "6     117.730633   122.278715   130.599963   137.186142  ...   1953.407033   \n",
       "..           ...          ...          ...          ...  ...           ...   \n",
       "264          NaN          NaN          NaN          NaN  ...   3410.859780   \n",
       "265          NaN          NaN          NaN          NaN  ...   1349.990295   \n",
       "266   560.699395   601.599951   642.688431   681.131112  ...   8173.869138   \n",
       "267   208.562685   209.453362   236.941713   296.022427  ...   1729.647471   \n",
       "268   275.966139   277.532515   282.376856   294.893605  ...   1290.193956   \n",
       "\n",
       "      Unnamed: 57   Unnamed: 58   Unnamed: 59   Unnamed: 60   Unnamed: 61  \\\n",
       "2     2013.000000   2014.000000   2015.000000   2016.000000   2017.000000   \n",
       "3    26515.678080  26942.307980  28421.386490  28451.273740  29326.708060   \n",
       "4     1731.795976   1719.809190   1540.850354   1432.111827   1613.788555   \n",
       "5      651.987862    628.146804    592.476537    520.252064    530.149831   \n",
       "6     2149.295219   2243.271464   1876.623483   1645.023767   1585.911930   \n",
       "..            ...           ...           ...           ...           ...   \n",
       "264   3704.784221   3902.676013   3520.766449   3759.560246   4009.380987   \n",
       "265   1497.747941   1557.601406   1488.416482   1069.817122    893.716573   \n",
       "266   7441.230854   6965.137897   6204.929901   5735.066787   6734.475153   \n",
       "267   1840.320553   1724.576220   1307.909649   1249.923143   1495.752138   \n",
       "268   1408.367810   1407.034293   1410.329174   1421.787789   1192.107012   \n",
       "\n",
       "      Unnamed: 62   Unnamed: 63   Unnamed: 64   Unnamed: 65  \n",
       "2     2018.000000   2019.000000   2020.000000   2021.000000  \n",
       "3    30220.594520  31650.760540  24487.863560  29342.100860  \n",
       "4     1550.180567   1500.229274   1353.769160   1537.336021  \n",
       "5      502.056771    500.522664    516.866552    368.754614  \n",
       "6     1731.311792   1749.303317   1683.436391   1757.030626  \n",
       "..            ...           ...           ...           ...  \n",
       "264   4384.048892   4416.108358   4310.811183   5269.783901  \n",
       "265    701.714878           NaN           NaN           NaN  \n",
       "266   7048.522211   6688.787271   5741.643129   7055.044776  \n",
       "267   1475.204538   1268.120941    956.831364   1137.343633  \n",
       "268   2269.177012   1421.868596   1372.696674   1773.920411  \n",
       "\n",
       "[267 rows x 66 columns]"
      ]
     },
     "execution_count": 5,
     "metadata": {},
     "output_type": "execute_result"
    }
   ],
   "source": [
    "# Remove first 2 rows\n",
    "df = df.iloc[2:]\n",
    "df"
   ]
  },
  {
   "cell_type": "markdown",
   "id": "4654650d",
   "metadata": {},
   "source": [
    "Alternative code to above:\n",
    "df.drop(index=df.index[:2],inplace=True)\n",
    "df.head()"
   ]
  },
  {
   "cell_type": "code",
   "execution_count": 6,
   "id": "25c82a76",
   "metadata": {},
   "outputs": [
    {
     "data": {
      "text/plain": [
       "Data Source                       Country Name\n",
       "World Development Indicators      Country Code\n",
       "Unnamed: 2                      Indicator Name\n",
       "Unnamed: 3                      Indicator Code\n",
       "Unnamed: 4                              1960.0\n",
       "                                     ...      \n",
       "Unnamed: 61                             2017.0\n",
       "Unnamed: 62                             2018.0\n",
       "Unnamed: 63                             2019.0\n",
       "Unnamed: 64                             2020.0\n",
       "Unnamed: 65                             2021.0\n",
       "Name: 2, Length: 66, dtype: object"
      ]
     },
     "execution_count": 6,
     "metadata": {},
     "output_type": "execute_result"
    }
   ],
   "source": [
    "# Make first row as new header\n",
    "new_header = df.iloc[0]\n",
    "new_header"
   ]
  },
  {
   "cell_type": "code",
   "execution_count": 7,
   "id": "c61c74ea",
   "metadata": {
    "scrolled": true
   },
   "outputs": [
    {
     "data": {
      "text/html": [
       "<div>\n",
       "<style scoped>\n",
       "    .dataframe tbody tr th:only-of-type {\n",
       "        vertical-align: middle;\n",
       "    }\n",
       "\n",
       "    .dataframe tbody tr th {\n",
       "        vertical-align: top;\n",
       "    }\n",
       "\n",
       "    .dataframe thead th {\n",
       "        text-align: right;\n",
       "    }\n",
       "</style>\n",
       "<table border=\"1\" class=\"dataframe\">\n",
       "  <thead>\n",
       "    <tr style=\"text-align: right;\">\n",
       "      <th>2</th>\n",
       "      <th>Country Name</th>\n",
       "      <th>Country Code</th>\n",
       "      <th>Indicator Name</th>\n",
       "      <th>Indicator Code</th>\n",
       "      <th>1960.0</th>\n",
       "      <th>1961.0</th>\n",
       "      <th>1962.0</th>\n",
       "      <th>1963.0</th>\n",
       "      <th>1964.0</th>\n",
       "      <th>1965.0</th>\n",
       "      <th>...</th>\n",
       "      <th>2012.0</th>\n",
       "      <th>2013.0</th>\n",
       "      <th>2014.0</th>\n",
       "      <th>2015.0</th>\n",
       "      <th>2016.0</th>\n",
       "      <th>2017.0</th>\n",
       "      <th>2018.0</th>\n",
       "      <th>2019.0</th>\n",
       "      <th>2020.0</th>\n",
       "      <th>2021.0</th>\n",
       "    </tr>\n",
       "  </thead>\n",
       "  <tbody>\n",
       "    <tr>\n",
       "      <th>2</th>\n",
       "      <td>Country Name</td>\n",
       "      <td>Country Code</td>\n",
       "      <td>Indicator Name</td>\n",
       "      <td>Indicator Code</td>\n",
       "      <td>1960.000000</td>\n",
       "      <td>1961.000000</td>\n",
       "      <td>1962.000000</td>\n",
       "      <td>1963.000000</td>\n",
       "      <td>1964.000000</td>\n",
       "      <td>1965.000000</td>\n",
       "      <td>...</td>\n",
       "      <td>2012.000000</td>\n",
       "      <td>2013.000000</td>\n",
       "      <td>2014.000000</td>\n",
       "      <td>2015.000000</td>\n",
       "      <td>2016.000000</td>\n",
       "      <td>2017.000000</td>\n",
       "      <td>2018.000000</td>\n",
       "      <td>2019.000000</td>\n",
       "      <td>2020.000000</td>\n",
       "      <td>2021.000000</td>\n",
       "    </tr>\n",
       "    <tr>\n",
       "      <th>3</th>\n",
       "      <td>Aruba</td>\n",
       "      <td>ABW</td>\n",
       "      <td>GDP per capita (current US$)</td>\n",
       "      <td>NY.GDP.PCAP.CD</td>\n",
       "      <td>NaN</td>\n",
       "      <td>NaN</td>\n",
       "      <td>NaN</td>\n",
       "      <td>NaN</td>\n",
       "      <td>NaN</td>\n",
       "      <td>NaN</td>\n",
       "      <td>...</td>\n",
       "      <td>25609.955720</td>\n",
       "      <td>26515.678080</td>\n",
       "      <td>26942.307980</td>\n",
       "      <td>28421.386490</td>\n",
       "      <td>28451.273740</td>\n",
       "      <td>29326.708060</td>\n",
       "      <td>30220.594520</td>\n",
       "      <td>31650.760540</td>\n",
       "      <td>24487.863560</td>\n",
       "      <td>29342.100860</td>\n",
       "    </tr>\n",
       "    <tr>\n",
       "      <th>4</th>\n",
       "      <td>Africa Eastern and Southern</td>\n",
       "      <td>AFE</td>\n",
       "      <td>GDP per capita (current US$)</td>\n",
       "      <td>NY.GDP.PCAP.CD</td>\n",
       "      <td>162.907576</td>\n",
       "      <td>162.546236</td>\n",
       "      <td>171.996697</td>\n",
       "      <td>199.182564</td>\n",
       "      <td>179.381788</td>\n",
       "      <td>198.223726</td>\n",
       "      <td>...</td>\n",
       "      <td>1760.216229</td>\n",
       "      <td>1731.795976</td>\n",
       "      <td>1719.809190</td>\n",
       "      <td>1540.850354</td>\n",
       "      <td>1432.111827</td>\n",
       "      <td>1613.788555</td>\n",
       "      <td>1550.180567</td>\n",
       "      <td>1500.229274</td>\n",
       "      <td>1353.769160</td>\n",
       "      <td>1537.336021</td>\n",
       "    </tr>\n",
       "    <tr>\n",
       "      <th>5</th>\n",
       "      <td>Afghanistan</td>\n",
       "      <td>AFG</td>\n",
       "      <td>GDP per capita (current US$)</td>\n",
       "      <td>NY.GDP.PCAP.CD</td>\n",
       "      <td>62.369375</td>\n",
       "      <td>62.443703</td>\n",
       "      <td>60.950364</td>\n",
       "      <td>82.021738</td>\n",
       "      <td>85.511073</td>\n",
       "      <td>105.243196</td>\n",
       "      <td>...</td>\n",
       "      <td>663.141053</td>\n",
       "      <td>651.987862</td>\n",
       "      <td>628.146804</td>\n",
       "      <td>592.476537</td>\n",
       "      <td>520.252064</td>\n",
       "      <td>530.149831</td>\n",
       "      <td>502.056771</td>\n",
       "      <td>500.522664</td>\n",
       "      <td>516.866552</td>\n",
       "      <td>368.754614</td>\n",
       "    </tr>\n",
       "    <tr>\n",
       "      <th>6</th>\n",
       "      <td>Africa Western and Central</td>\n",
       "      <td>AFW</td>\n",
       "      <td>GDP per capita (current US$)</td>\n",
       "      <td>NY.GDP.PCAP.CD</td>\n",
       "      <td>106.976475</td>\n",
       "      <td>112.047561</td>\n",
       "      <td>117.730633</td>\n",
       "      <td>122.278715</td>\n",
       "      <td>130.599963</td>\n",
       "      <td>137.186142</td>\n",
       "      <td>...</td>\n",
       "      <td>1953.407033</td>\n",
       "      <td>2149.295219</td>\n",
       "      <td>2243.271464</td>\n",
       "      <td>1876.623483</td>\n",
       "      <td>1645.023767</td>\n",
       "      <td>1585.911930</td>\n",
       "      <td>1731.311792</td>\n",
       "      <td>1749.303317</td>\n",
       "      <td>1683.436391</td>\n",
       "      <td>1757.030626</td>\n",
       "    </tr>\n",
       "  </tbody>\n",
       "</table>\n",
       "<p>5 rows × 66 columns</p>\n",
       "</div>"
      ],
      "text/plain": [
       "2                 Country Name  Country Code                Indicator Name  \\\n",
       "2                 Country Name  Country Code                Indicator Name   \n",
       "3                        Aruba           ABW  GDP per capita (current US$)   \n",
       "4  Africa Eastern and Southern           AFE  GDP per capita (current US$)   \n",
       "5                  Afghanistan           AFG  GDP per capita (current US$)   \n",
       "6   Africa Western and Central           AFW  GDP per capita (current US$)   \n",
       "\n",
       "2  Indicator Code       1960.0       1961.0       1962.0       1963.0  \\\n",
       "2  Indicator Code  1960.000000  1961.000000  1962.000000  1963.000000   \n",
       "3  NY.GDP.PCAP.CD          NaN          NaN          NaN          NaN   \n",
       "4  NY.GDP.PCAP.CD   162.907576   162.546236   171.996697   199.182564   \n",
       "5  NY.GDP.PCAP.CD    62.369375    62.443703    60.950364    82.021738   \n",
       "6  NY.GDP.PCAP.CD   106.976475   112.047561   117.730633   122.278715   \n",
       "\n",
       "2       1964.0       1965.0  ...        2012.0        2013.0        2014.0  \\\n",
       "2  1964.000000  1965.000000  ...   2012.000000   2013.000000   2014.000000   \n",
       "3          NaN          NaN  ...  25609.955720  26515.678080  26942.307980   \n",
       "4   179.381788   198.223726  ...   1760.216229   1731.795976   1719.809190   \n",
       "5    85.511073   105.243196  ...    663.141053    651.987862    628.146804   \n",
       "6   130.599963   137.186142  ...   1953.407033   2149.295219   2243.271464   \n",
       "\n",
       "2        2015.0        2016.0        2017.0        2018.0        2019.0  \\\n",
       "2   2015.000000   2016.000000   2017.000000   2018.000000   2019.000000   \n",
       "3  28421.386490  28451.273740  29326.708060  30220.594520  31650.760540   \n",
       "4   1540.850354   1432.111827   1613.788555   1550.180567   1500.229274   \n",
       "5    592.476537    520.252064    530.149831    502.056771    500.522664   \n",
       "6   1876.623483   1645.023767   1585.911930   1731.311792   1749.303317   \n",
       "\n",
       "2        2020.0        2021.0  \n",
       "2   2020.000000   2021.000000  \n",
       "3  24487.863560  29342.100860  \n",
       "4   1353.769160   1537.336021  \n",
       "5    516.866552    368.754614  \n",
       "6   1683.436391   1757.030626  \n",
       "\n",
       "[5 rows x 66 columns]"
      ]
     },
     "execution_count": 7,
     "metadata": {},
     "output_type": "execute_result"
    }
   ],
   "source": [
    "df.columns = new_header\n",
    "df.head()"
   ]
  },
  {
   "cell_type": "code",
   "execution_count": 8,
   "id": "efaa5374",
   "metadata": {
    "scrolled": true
   },
   "outputs": [
    {
     "data": {
      "text/html": [
       "<div>\n",
       "<style scoped>\n",
       "    .dataframe tbody tr th:only-of-type {\n",
       "        vertical-align: middle;\n",
       "    }\n",
       "\n",
       "    .dataframe tbody tr th {\n",
       "        vertical-align: top;\n",
       "    }\n",
       "\n",
       "    .dataframe thead th {\n",
       "        text-align: right;\n",
       "    }\n",
       "</style>\n",
       "<table border=\"1\" class=\"dataframe\">\n",
       "  <thead>\n",
       "    <tr style=\"text-align: right;\">\n",
       "      <th>2</th>\n",
       "      <th>Country Name</th>\n",
       "      <th>Country Code</th>\n",
       "      <th>Indicator Name</th>\n",
       "      <th>Indicator Code</th>\n",
       "      <th>1960.0</th>\n",
       "      <th>1961.0</th>\n",
       "      <th>1962.0</th>\n",
       "      <th>1963.0</th>\n",
       "      <th>1964.0</th>\n",
       "      <th>1965.0</th>\n",
       "      <th>...</th>\n",
       "      <th>2012.0</th>\n",
       "      <th>2013.0</th>\n",
       "      <th>2014.0</th>\n",
       "      <th>2015.0</th>\n",
       "      <th>2016.0</th>\n",
       "      <th>2017.0</th>\n",
       "      <th>2018.0</th>\n",
       "      <th>2019.0</th>\n",
       "      <th>2020.0</th>\n",
       "      <th>2021.0</th>\n",
       "    </tr>\n",
       "  </thead>\n",
       "  <tbody>\n",
       "    <tr>\n",
       "      <th>232</th>\n",
       "      <td>Chad</td>\n",
       "      <td>TCD</td>\n",
       "      <td>GDP per capita (current US$)</td>\n",
       "      <td>NY.GDP.PCAP.CD</td>\n",
       "      <td>103.537482</td>\n",
       "      <td>108.16465</td>\n",
       "      <td>113.598546</td>\n",
       "      <td>115.804587</td>\n",
       "      <td>119.828081</td>\n",
       "      <td>124.965247</td>\n",
       "      <td>...</td>\n",
       "      <td>969.616215</td>\n",
       "      <td>980.083592</td>\n",
       "      <td>1017.787824</td>\n",
       "      <td>774.4116</td>\n",
       "      <td>691.980095</td>\n",
       "      <td>662.89753</td>\n",
       "      <td>720.265047</td>\n",
       "      <td>701.621217</td>\n",
       "      <td>643.772221</td>\n",
       "      <td>685.690284</td>\n",
       "    </tr>\n",
       "  </tbody>\n",
       "</table>\n",
       "<p>1 rows × 66 columns</p>\n",
       "</div>"
      ],
      "text/plain": [
       "2   Country Name Country Code                Indicator Name  Indicator Code  \\\n",
       "232         Chad          TCD  GDP per capita (current US$)  NY.GDP.PCAP.CD   \n",
       "\n",
       "2        1960.0     1961.0      1962.0      1963.0      1964.0      1965.0  \\\n",
       "232  103.537482  108.16465  113.598546  115.804587  119.828081  124.965247   \n",
       "\n",
       "2    ...      2012.0      2013.0       2014.0    2015.0      2016.0  \\\n",
       "232  ...  969.616215  980.083592  1017.787824  774.4116  691.980095   \n",
       "\n",
       "2       2017.0      2018.0      2019.0      2020.0      2021.0  \n",
       "232  662.89753  720.265047  701.621217  643.772221  685.690284  \n",
       "\n",
       "[1 rows x 66 columns]"
      ]
     },
     "execution_count": 8,
     "metadata": {},
     "output_type": "execute_result"
    }
   ],
   "source": [
    "# For this exercise we will focus on one of the low GDP/ Low income countries - Chad. Locate Chad and delete all other data\n",
    "df_chad = df[df['Country Name']=='Chad']\n",
    "df_chad"
   ]
  },
  {
   "cell_type": "code",
   "execution_count": 9,
   "id": "536061cd",
   "metadata": {},
   "outputs": [
    {
     "data": {
      "text/html": [
       "<div>\n",
       "<style scoped>\n",
       "    .dataframe tbody tr th:only-of-type {\n",
       "        vertical-align: middle;\n",
       "    }\n",
       "\n",
       "    .dataframe tbody tr th {\n",
       "        vertical-align: top;\n",
       "    }\n",
       "\n",
       "    .dataframe thead th {\n",
       "        text-align: right;\n",
       "    }\n",
       "</style>\n",
       "<table border=\"1\" class=\"dataframe\">\n",
       "  <thead>\n",
       "    <tr style=\"text-align: right;\">\n",
       "      <th>2</th>\n",
       "      <th>Country Name</th>\n",
       "      <th>1960.0</th>\n",
       "      <th>1961.0</th>\n",
       "      <th>1962.0</th>\n",
       "      <th>1963.0</th>\n",
       "      <th>1964.0</th>\n",
       "      <th>1965.0</th>\n",
       "      <th>1966.0</th>\n",
       "      <th>1967.0</th>\n",
       "      <th>1968.0</th>\n",
       "      <th>...</th>\n",
       "      <th>2012.0</th>\n",
       "      <th>2013.0</th>\n",
       "      <th>2014.0</th>\n",
       "      <th>2015.0</th>\n",
       "      <th>2016.0</th>\n",
       "      <th>2017.0</th>\n",
       "      <th>2018.0</th>\n",
       "      <th>2019.0</th>\n",
       "      <th>2020.0</th>\n",
       "      <th>2021.0</th>\n",
       "    </tr>\n",
       "  </thead>\n",
       "  <tbody>\n",
       "    <tr>\n",
       "      <th>232</th>\n",
       "      <td>Chad</td>\n",
       "      <td>103.537482</td>\n",
       "      <td>108.16465</td>\n",
       "      <td>113.598546</td>\n",
       "      <td>115.804587</td>\n",
       "      <td>119.828081</td>\n",
       "      <td>124.965247</td>\n",
       "      <td>127.342662</td>\n",
       "      <td>129.945114</td>\n",
       "      <td>128.724044</td>\n",
       "      <td>...</td>\n",
       "      <td>969.616215</td>\n",
       "      <td>980.083592</td>\n",
       "      <td>1017.787824</td>\n",
       "      <td>774.4116</td>\n",
       "      <td>691.980095</td>\n",
       "      <td>662.89753</td>\n",
       "      <td>720.265047</td>\n",
       "      <td>701.621217</td>\n",
       "      <td>643.772221</td>\n",
       "      <td>685.690284</td>\n",
       "    </tr>\n",
       "  </tbody>\n",
       "</table>\n",
       "<p>1 rows × 63 columns</p>\n",
       "</div>"
      ],
      "text/plain": [
       "2   Country Name      1960.0     1961.0      1962.0      1963.0      1964.0  \\\n",
       "232         Chad  103.537482  108.16465  113.598546  115.804587  119.828081   \n",
       "\n",
       "2        1965.0      1966.0      1967.0      1968.0  ...      2012.0  \\\n",
       "232  124.965247  127.342662  129.945114  128.724044  ...  969.616215   \n",
       "\n",
       "2        2013.0       2014.0    2015.0      2016.0     2017.0      2018.0  \\\n",
       "232  980.083592  1017.787824  774.4116  691.980095  662.89753  720.265047   \n",
       "\n",
       "2        2019.0      2020.0      2021.0  \n",
       "232  701.621217  643.772221  685.690284  \n",
       "\n",
       "[1 rows x 63 columns]"
      ]
     },
     "execution_count": 9,
     "metadata": {},
     "output_type": "execute_result"
    }
   ],
   "source": [
    "# Drop unnecessary columns\n",
    "df_chad = df_chad.drop (columns=['Country Code', 'Indicator Name', 'Indicator Code'])\n",
    "df_chad"
   ]
  },
  {
   "cell_type": "code",
   "execution_count": 10,
   "id": "d597aab0",
   "metadata": {
    "scrolled": true
   },
   "outputs": [
    {
     "data": {
      "text/html": [
       "<div>\n",
       "<style scoped>\n",
       "    .dataframe tbody tr th:only-of-type {\n",
       "        vertical-align: middle;\n",
       "    }\n",
       "\n",
       "    .dataframe tbody tr th {\n",
       "        vertical-align: top;\n",
       "    }\n",
       "\n",
       "    .dataframe thead th {\n",
       "        text-align: right;\n",
       "    }\n",
       "</style>\n",
       "<table border=\"1\" class=\"dataframe\">\n",
       "  <thead>\n",
       "    <tr style=\"text-align: right;\">\n",
       "      <th></th>\n",
       "      <th>232</th>\n",
       "    </tr>\n",
       "    <tr>\n",
       "      <th>2</th>\n",
       "      <th></th>\n",
       "    </tr>\n",
       "  </thead>\n",
       "  <tbody>\n",
       "    <tr>\n",
       "      <th>Country Name</th>\n",
       "      <td>Chad</td>\n",
       "    </tr>\n",
       "    <tr>\n",
       "      <th>1960.0</th>\n",
       "      <td>103.537482</td>\n",
       "    </tr>\n",
       "    <tr>\n",
       "      <th>1961.0</th>\n",
       "      <td>108.16465</td>\n",
       "    </tr>\n",
       "    <tr>\n",
       "      <th>1962.0</th>\n",
       "      <td>113.598546</td>\n",
       "    </tr>\n",
       "    <tr>\n",
       "      <th>1963.0</th>\n",
       "      <td>115.804587</td>\n",
       "    </tr>\n",
       "    <tr>\n",
       "      <th>...</th>\n",
       "      <td>...</td>\n",
       "    </tr>\n",
       "    <tr>\n",
       "      <th>2017.0</th>\n",
       "      <td>662.89753</td>\n",
       "    </tr>\n",
       "    <tr>\n",
       "      <th>2018.0</th>\n",
       "      <td>720.265047</td>\n",
       "    </tr>\n",
       "    <tr>\n",
       "      <th>2019.0</th>\n",
       "      <td>701.621217</td>\n",
       "    </tr>\n",
       "    <tr>\n",
       "      <th>2020.0</th>\n",
       "      <td>643.772221</td>\n",
       "    </tr>\n",
       "    <tr>\n",
       "      <th>2021.0</th>\n",
       "      <td>685.690284</td>\n",
       "    </tr>\n",
       "  </tbody>\n",
       "</table>\n",
       "<p>63 rows × 1 columns</p>\n",
       "</div>"
      ],
      "text/plain": [
       "                     232\n",
       "2                       \n",
       "Country Name        Chad\n",
       "1960.0        103.537482\n",
       "1961.0         108.16465\n",
       "1962.0        113.598546\n",
       "1963.0        115.804587\n",
       "...                  ...\n",
       "2017.0         662.89753\n",
       "2018.0        720.265047\n",
       "2019.0        701.621217\n",
       "2020.0        643.772221\n",
       "2021.0        685.690284\n",
       "\n",
       "[63 rows x 1 columns]"
      ]
     },
     "execution_count": 10,
     "metadata": {},
     "output_type": "execute_result"
    }
   ],
   "source": [
    "# Transpose Data\n",
    "df_chadT = df_chad.T\n",
    "df_chadT"
   ]
  },
  {
   "cell_type": "code",
   "execution_count": 11,
   "id": "ce9acc57",
   "metadata": {},
   "outputs": [
    {
     "data": {
      "text/html": [
       "<div>\n",
       "<style scoped>\n",
       "    .dataframe tbody tr th:only-of-type {\n",
       "        vertical-align: middle;\n",
       "    }\n",
       "\n",
       "    .dataframe tbody tr th {\n",
       "        vertical-align: top;\n",
       "    }\n",
       "\n",
       "    .dataframe thead th {\n",
       "        text-align: right;\n",
       "    }\n",
       "</style>\n",
       "<table border=\"1\" class=\"dataframe\">\n",
       "  <thead>\n",
       "    <tr style=\"text-align: right;\">\n",
       "      <th></th>\n",
       "      <th>2</th>\n",
       "      <th>232</th>\n",
       "    </tr>\n",
       "  </thead>\n",
       "  <tbody>\n",
       "    <tr>\n",
       "      <th>0</th>\n",
       "      <td>Country Name</td>\n",
       "      <td>Chad</td>\n",
       "    </tr>\n",
       "    <tr>\n",
       "      <th>1</th>\n",
       "      <td>1960.0</td>\n",
       "      <td>103.537482</td>\n",
       "    </tr>\n",
       "    <tr>\n",
       "      <th>2</th>\n",
       "      <td>1961.0</td>\n",
       "      <td>108.16465</td>\n",
       "    </tr>\n",
       "    <tr>\n",
       "      <th>3</th>\n",
       "      <td>1962.0</td>\n",
       "      <td>113.598546</td>\n",
       "    </tr>\n",
       "    <tr>\n",
       "      <th>4</th>\n",
       "      <td>1963.0</td>\n",
       "      <td>115.804587</td>\n",
       "    </tr>\n",
       "  </tbody>\n",
       "</table>\n",
       "</div>"
      ],
      "text/plain": [
       "            2           232\n",
       "0  Country Name        Chad\n",
       "1        1960.0  103.537482\n",
       "2        1961.0   108.16465\n",
       "3        1962.0  113.598546\n",
       "4        1963.0  115.804587"
      ]
     },
     "execution_count": 11,
     "metadata": {},
     "output_type": "execute_result"
    }
   ],
   "source": [
    "df_chadT.reset_index(inplace=True)\n",
    "df_chadT.head()"
   ]
  },
  {
   "cell_type": "code",
   "execution_count": 12,
   "id": "611f5441",
   "metadata": {},
   "outputs": [
    {
     "data": {
      "text/plain": [
       "2      Country Name\n",
       "232            Chad\n",
       "Name: 0, dtype: object"
      ]
     },
     "execution_count": 12,
     "metadata": {},
     "output_type": "execute_result"
    }
   ],
   "source": [
    "new_header2 = df_chadT.iloc[0]\n",
    "new_header2"
   ]
  },
  {
   "cell_type": "code",
   "execution_count": 13,
   "id": "e56c6b82",
   "metadata": {},
   "outputs": [
    {
     "data": {
      "text/html": [
       "<div>\n",
       "<style scoped>\n",
       "    .dataframe tbody tr th:only-of-type {\n",
       "        vertical-align: middle;\n",
       "    }\n",
       "\n",
       "    .dataframe tbody tr th {\n",
       "        vertical-align: top;\n",
       "    }\n",
       "\n",
       "    .dataframe thead th {\n",
       "        text-align: right;\n",
       "    }\n",
       "</style>\n",
       "<table border=\"1\" class=\"dataframe\">\n",
       "  <thead>\n",
       "    <tr style=\"text-align: right;\">\n",
       "      <th></th>\n",
       "      <th>Country Name</th>\n",
       "      <th>Chad</th>\n",
       "    </tr>\n",
       "  </thead>\n",
       "  <tbody>\n",
       "    <tr>\n",
       "      <th>0</th>\n",
       "      <td>Country Name</td>\n",
       "      <td>Chad</td>\n",
       "    </tr>\n",
       "    <tr>\n",
       "      <th>1</th>\n",
       "      <td>1960.0</td>\n",
       "      <td>103.537482</td>\n",
       "    </tr>\n",
       "    <tr>\n",
       "      <th>2</th>\n",
       "      <td>1961.0</td>\n",
       "      <td>108.16465</td>\n",
       "    </tr>\n",
       "    <tr>\n",
       "      <th>3</th>\n",
       "      <td>1962.0</td>\n",
       "      <td>113.598546</td>\n",
       "    </tr>\n",
       "    <tr>\n",
       "      <th>4</th>\n",
       "      <td>1963.0</td>\n",
       "      <td>115.804587</td>\n",
       "    </tr>\n",
       "  </tbody>\n",
       "</table>\n",
       "</div>"
      ],
      "text/plain": [
       "0  Country Name        Chad\n",
       "0  Country Name        Chad\n",
       "1        1960.0  103.537482\n",
       "2        1961.0   108.16465\n",
       "3        1962.0  113.598546\n",
       "4        1963.0  115.804587"
      ]
     },
     "execution_count": 13,
     "metadata": {},
     "output_type": "execute_result"
    }
   ],
   "source": [
    "df_chadT.columns = new_header2\n",
    "df_chadT.head()"
   ]
  },
  {
   "cell_type": "code",
   "execution_count": 14,
   "id": "18149041",
   "metadata": {},
   "outputs": [
    {
     "data": {
      "text/html": [
       "<div>\n",
       "<style scoped>\n",
       "    .dataframe tbody tr th:only-of-type {\n",
       "        vertical-align: middle;\n",
       "    }\n",
       "\n",
       "    .dataframe tbody tr th {\n",
       "        vertical-align: top;\n",
       "    }\n",
       "\n",
       "    .dataframe thead th {\n",
       "        text-align: right;\n",
       "    }\n",
       "</style>\n",
       "<table border=\"1\" class=\"dataframe\">\n",
       "  <thead>\n",
       "    <tr style=\"text-align: right;\">\n",
       "      <th></th>\n",
       "      <th>Country Name</th>\n",
       "      <th>Chad</th>\n",
       "    </tr>\n",
       "  </thead>\n",
       "  <tbody>\n",
       "    <tr>\n",
       "      <th>1</th>\n",
       "      <td>1960.0</td>\n",
       "      <td>103.537482</td>\n",
       "    </tr>\n",
       "    <tr>\n",
       "      <th>2</th>\n",
       "      <td>1961.0</td>\n",
       "      <td>108.16465</td>\n",
       "    </tr>\n",
       "    <tr>\n",
       "      <th>3</th>\n",
       "      <td>1962.0</td>\n",
       "      <td>113.598546</td>\n",
       "    </tr>\n",
       "    <tr>\n",
       "      <th>4</th>\n",
       "      <td>1963.0</td>\n",
       "      <td>115.804587</td>\n",
       "    </tr>\n",
       "    <tr>\n",
       "      <th>5</th>\n",
       "      <td>1964.0</td>\n",
       "      <td>119.828081</td>\n",
       "    </tr>\n",
       "    <tr>\n",
       "      <th>...</th>\n",
       "      <td>...</td>\n",
       "      <td>...</td>\n",
       "    </tr>\n",
       "    <tr>\n",
       "      <th>58</th>\n",
       "      <td>2017.0</td>\n",
       "      <td>662.89753</td>\n",
       "    </tr>\n",
       "    <tr>\n",
       "      <th>59</th>\n",
       "      <td>2018.0</td>\n",
       "      <td>720.265047</td>\n",
       "    </tr>\n",
       "    <tr>\n",
       "      <th>60</th>\n",
       "      <td>2019.0</td>\n",
       "      <td>701.621217</td>\n",
       "    </tr>\n",
       "    <tr>\n",
       "      <th>61</th>\n",
       "      <td>2020.0</td>\n",
       "      <td>643.772221</td>\n",
       "    </tr>\n",
       "    <tr>\n",
       "      <th>62</th>\n",
       "      <td>2021.0</td>\n",
       "      <td>685.690284</td>\n",
       "    </tr>\n",
       "  </tbody>\n",
       "</table>\n",
       "<p>62 rows × 2 columns</p>\n",
       "</div>"
      ],
      "text/plain": [
       "0  Country Name        Chad\n",
       "1        1960.0  103.537482\n",
       "2        1961.0   108.16465\n",
       "3        1962.0  113.598546\n",
       "4        1963.0  115.804587\n",
       "5        1964.0  119.828081\n",
       "..          ...         ...\n",
       "58       2017.0   662.89753\n",
       "59       2018.0  720.265047\n",
       "60       2019.0  701.621217\n",
       "61       2020.0  643.772221\n",
       "62       2021.0  685.690284\n",
       "\n",
       "[62 rows x 2 columns]"
      ]
     },
     "execution_count": 14,
     "metadata": {},
     "output_type": "execute_result"
    }
   ],
   "source": [
    "# Remove first row\n",
    "df_chadT = df_chadT.iloc[1:]\n",
    "df_chadT"
   ]
  },
  {
   "cell_type": "code",
   "execution_count": 15,
   "id": "e551a2bb",
   "metadata": {
    "scrolled": true
   },
   "outputs": [
    {
     "data": {
      "text/html": [
       "<div>\n",
       "<style scoped>\n",
       "    .dataframe tbody tr th:only-of-type {\n",
       "        vertical-align: middle;\n",
       "    }\n",
       "\n",
       "    .dataframe tbody tr th {\n",
       "        vertical-align: top;\n",
       "    }\n",
       "\n",
       "    .dataframe thead th {\n",
       "        text-align: right;\n",
       "    }\n",
       "</style>\n",
       "<table border=\"1\" class=\"dataframe\">\n",
       "  <thead>\n",
       "    <tr style=\"text-align: right;\">\n",
       "      <th></th>\n",
       "      <th>Year</th>\n",
       "      <th>GDP_PerCapita $</th>\n",
       "    </tr>\n",
       "  </thead>\n",
       "  <tbody>\n",
       "    <tr>\n",
       "      <th>1</th>\n",
       "      <td>1960.0</td>\n",
       "      <td>103.537482</td>\n",
       "    </tr>\n",
       "    <tr>\n",
       "      <th>2</th>\n",
       "      <td>1961.0</td>\n",
       "      <td>108.16465</td>\n",
       "    </tr>\n",
       "    <tr>\n",
       "      <th>3</th>\n",
       "      <td>1962.0</td>\n",
       "      <td>113.598546</td>\n",
       "    </tr>\n",
       "    <tr>\n",
       "      <th>4</th>\n",
       "      <td>1963.0</td>\n",
       "      <td>115.804587</td>\n",
       "    </tr>\n",
       "    <tr>\n",
       "      <th>5</th>\n",
       "      <td>1964.0</td>\n",
       "      <td>119.828081</td>\n",
       "    </tr>\n",
       "  </tbody>\n",
       "</table>\n",
       "</div>"
      ],
      "text/plain": [
       "0    Year GDP_PerCapita $\n",
       "1  1960.0      103.537482\n",
       "2  1961.0       108.16465\n",
       "3  1962.0      113.598546\n",
       "4  1963.0      115.804587\n",
       "5  1964.0      119.828081"
      ]
     },
     "execution_count": 15,
     "metadata": {},
     "output_type": "execute_result"
    }
   ],
   "source": [
    "df_chadT.rename(columns={'Country Name': 'Year','Chad':'GDP_PerCapita $'},inplace=True)\n",
    "df_chadT.head()"
   ]
  },
  {
   "cell_type": "code",
   "execution_count": 16,
   "id": "451b94a7",
   "metadata": {
    "scrolled": false
   },
   "outputs": [
    {
     "data": {
      "text/plain": [
       "0\n",
       "Year               object\n",
       "GDP_PerCapita $    object\n",
       "dtype: object"
      ]
     },
     "execution_count": 16,
     "metadata": {},
     "output_type": "execute_result"
    }
   ],
   "source": [
    "df_chadT.dtypes"
   ]
  },
  {
   "cell_type": "code",
   "execution_count": 17,
   "id": "1ce941b4",
   "metadata": {},
   "outputs": [],
   "source": [
    "df_chadT['Year']=df_chadT['Year'].astype('int32')\n",
    "df_chadT['GDP_PerCapita $']=df_chadT['GDP_PerCapita $'].astype('float64')"
   ]
  },
  {
   "cell_type": "code",
   "execution_count": 18,
   "id": "bcb4b993",
   "metadata": {
    "scrolled": true
   },
   "outputs": [
    {
     "data": {
      "text/html": [
       "<div>\n",
       "<style scoped>\n",
       "    .dataframe tbody tr th:only-of-type {\n",
       "        vertical-align: middle;\n",
       "    }\n",
       "\n",
       "    .dataframe tbody tr th {\n",
       "        vertical-align: top;\n",
       "    }\n",
       "\n",
       "    .dataframe thead th {\n",
       "        text-align: right;\n",
       "    }\n",
       "</style>\n",
       "<table border=\"1\" class=\"dataframe\">\n",
       "  <thead>\n",
       "    <tr style=\"text-align: right;\">\n",
       "      <th></th>\n",
       "      <th>Year</th>\n",
       "      <th>GDP_PerCapita $</th>\n",
       "    </tr>\n",
       "  </thead>\n",
       "  <tbody>\n",
       "    <tr>\n",
       "      <th>count</th>\n",
       "      <td>62.000000</td>\n",
       "      <td>62.000000</td>\n",
       "    </tr>\n",
       "    <tr>\n",
       "      <th>mean</th>\n",
       "      <td>1990.500000</td>\n",
       "      <td>364.446469</td>\n",
       "    </tr>\n",
       "    <tr>\n",
       "      <th>std</th>\n",
       "      <td>18.041619</td>\n",
       "      <td>286.640794</td>\n",
       "    </tr>\n",
       "    <tr>\n",
       "      <th>min</th>\n",
       "      <td>1960.000000</td>\n",
       "      <td>103.537482</td>\n",
       "    </tr>\n",
       "    <tr>\n",
       "      <th>25%</th>\n",
       "      <td>1975.250000</td>\n",
       "      <td>168.915270</td>\n",
       "    </tr>\n",
       "    <tr>\n",
       "      <th>50%</th>\n",
       "      <td>1990.500000</td>\n",
       "      <td>221.956350</td>\n",
       "    </tr>\n",
       "    <tr>\n",
       "      <th>75%</th>\n",
       "      <td>2005.750000</td>\n",
       "      <td>658.116203</td>\n",
       "    </tr>\n",
       "    <tr>\n",
       "      <th>max</th>\n",
       "      <td>2021.000000</td>\n",
       "      <td>1017.787824</td>\n",
       "    </tr>\n",
       "  </tbody>\n",
       "</table>\n",
       "</div>"
      ],
      "text/plain": [
       "0             Year  GDP_PerCapita $\n",
       "count    62.000000        62.000000\n",
       "mean   1990.500000       364.446469\n",
       "std      18.041619       286.640794\n",
       "min    1960.000000       103.537482\n",
       "25%    1975.250000       168.915270\n",
       "50%    1990.500000       221.956350\n",
       "75%    2005.750000       658.116203\n",
       "max    2021.000000      1017.787824"
      ]
     },
     "execution_count": 18,
     "metadata": {},
     "output_type": "execute_result"
    }
   ],
   "source": [
    "df_chadT.describe()"
   ]
  },
  {
   "cell_type": "code",
   "execution_count": 19,
   "id": "04580092",
   "metadata": {},
   "outputs": [
    {
     "data": {
      "text/html": [
       "<div>\n",
       "<style scoped>\n",
       "    .dataframe tbody tr th:only-of-type {\n",
       "        vertical-align: middle;\n",
       "    }\n",
       "\n",
       "    .dataframe tbody tr th {\n",
       "        vertical-align: top;\n",
       "    }\n",
       "\n",
       "    .dataframe thead th {\n",
       "        text-align: right;\n",
       "    }\n",
       "</style>\n",
       "<table border=\"1\" class=\"dataframe\">\n",
       "  <thead>\n",
       "    <tr style=\"text-align: right;\">\n",
       "      <th></th>\n",
       "      <th>Year</th>\n",
       "      <th>GDP_PerCapita $</th>\n",
       "    </tr>\n",
       "  </thead>\n",
       "  <tbody>\n",
       "    <tr>\n",
       "      <th>1</th>\n",
       "      <td>1960</td>\n",
       "      <td>103.537482</td>\n",
       "    </tr>\n",
       "    <tr>\n",
       "      <th>2</th>\n",
       "      <td>1961</td>\n",
       "      <td>108.164650</td>\n",
       "    </tr>\n",
       "    <tr>\n",
       "      <th>3</th>\n",
       "      <td>1962</td>\n",
       "      <td>113.598546</td>\n",
       "    </tr>\n",
       "    <tr>\n",
       "      <th>4</th>\n",
       "      <td>1963</td>\n",
       "      <td>115.804587</td>\n",
       "    </tr>\n",
       "    <tr>\n",
       "      <th>5</th>\n",
       "      <td>1964</td>\n",
       "      <td>119.828081</td>\n",
       "    </tr>\n",
       "  </tbody>\n",
       "</table>\n",
       "</div>"
      ],
      "text/plain": [
       "0  Year  GDP_PerCapita $\n",
       "1  1960       103.537482\n",
       "2  1961       108.164650\n",
       "3  1962       113.598546\n",
       "4  1963       115.804587\n",
       "5  1964       119.828081"
      ]
     },
     "execution_count": 19,
     "metadata": {},
     "output_type": "execute_result"
    }
   ],
   "source": [
    "df_chadT.head()"
   ]
  },
  {
   "cell_type": "code",
   "execution_count": 20,
   "id": "33318b1b",
   "metadata": {
    "scrolled": false
   },
   "outputs": [],
   "source": [
    "# Selecting data from 1980 onwards to reflect relevant economic conditions\n",
    "df_chadT_filter = df_chadT.loc[df_chadT['Year']>=1980]"
   ]
  },
  {
   "cell_type": "code",
   "execution_count": 21,
   "id": "5be9f557",
   "metadata": {
    "scrolled": true
   },
   "outputs": [
    {
     "data": {
      "text/html": [
       "<div>\n",
       "<style scoped>\n",
       "    .dataframe tbody tr th:only-of-type {\n",
       "        vertical-align: middle;\n",
       "    }\n",
       "\n",
       "    .dataframe tbody tr th {\n",
       "        vertical-align: top;\n",
       "    }\n",
       "\n",
       "    .dataframe thead th {\n",
       "        text-align: right;\n",
       "    }\n",
       "</style>\n",
       "<table border=\"1\" class=\"dataframe\">\n",
       "  <thead>\n",
       "    <tr style=\"text-align: right;\">\n",
       "      <th></th>\n",
       "      <th>Year</th>\n",
       "      <th>GDP_PerCapita $</th>\n",
       "    </tr>\n",
       "  </thead>\n",
       "  <tbody>\n",
       "    <tr>\n",
       "      <th>21</th>\n",
       "      <td>1980</td>\n",
       "      <td>234.334960</td>\n",
       "    </tr>\n",
       "    <tr>\n",
       "      <th>22</th>\n",
       "      <td>1981</td>\n",
       "      <td>198.887006</td>\n",
       "    </tr>\n",
       "    <tr>\n",
       "      <th>23</th>\n",
       "      <td>1982</td>\n",
       "      <td>180.489056</td>\n",
       "    </tr>\n",
       "    <tr>\n",
       "      <th>24</th>\n",
       "      <td>1983</td>\n",
       "      <td>171.308123</td>\n",
       "    </tr>\n",
       "    <tr>\n",
       "      <th>25</th>\n",
       "      <td>1984</td>\n",
       "      <td>186.788594</td>\n",
       "    </tr>\n",
       "  </tbody>\n",
       "</table>\n",
       "</div>"
      ],
      "text/plain": [
       "0   Year  GDP_PerCapita $\n",
       "21  1980       234.334960\n",
       "22  1981       198.887006\n",
       "23  1982       180.489056\n",
       "24  1983       171.308123\n",
       "25  1984       186.788594"
      ]
     },
     "execution_count": 21,
     "metadata": {},
     "output_type": "execute_result"
    }
   ],
   "source": [
    "df_chadT_filter.head()"
   ]
  },
  {
   "cell_type": "code",
   "execution_count": 22,
   "id": "d2227909",
   "metadata": {},
   "outputs": [],
   "source": [
    "# Creating a datetime index column from Year to be able to run decompostion later\n",
    "from datetime import datetime\n",
    "\n",
    "df_chadT_filter['Year_datetime'] = pd.to_datetime(df_chadT_filter['Year'], format='%Y')"
   ]
  },
  {
   "cell_type": "code",
   "execution_count": 23,
   "id": "4d908501",
   "metadata": {
    "scrolled": true
   },
   "outputs": [
    {
     "data": {
      "text/html": [
       "<div>\n",
       "<style scoped>\n",
       "    .dataframe tbody tr th:only-of-type {\n",
       "        vertical-align: middle;\n",
       "    }\n",
       "\n",
       "    .dataframe tbody tr th {\n",
       "        vertical-align: top;\n",
       "    }\n",
       "\n",
       "    .dataframe thead th {\n",
       "        text-align: right;\n",
       "    }\n",
       "</style>\n",
       "<table border=\"1\" class=\"dataframe\">\n",
       "  <thead>\n",
       "    <tr style=\"text-align: right;\">\n",
       "      <th></th>\n",
       "      <th>Year</th>\n",
       "      <th>GDP_PerCapita $</th>\n",
       "      <th>Year_datetime</th>\n",
       "    </tr>\n",
       "  </thead>\n",
       "  <tbody>\n",
       "    <tr>\n",
       "      <th>21</th>\n",
       "      <td>1980</td>\n",
       "      <td>234.334960</td>\n",
       "      <td>1980-01-01</td>\n",
       "    </tr>\n",
       "    <tr>\n",
       "      <th>22</th>\n",
       "      <td>1981</td>\n",
       "      <td>198.887006</td>\n",
       "      <td>1981-01-01</td>\n",
       "    </tr>\n",
       "    <tr>\n",
       "      <th>23</th>\n",
       "      <td>1982</td>\n",
       "      <td>180.489056</td>\n",
       "      <td>1982-01-01</td>\n",
       "    </tr>\n",
       "    <tr>\n",
       "      <th>24</th>\n",
       "      <td>1983</td>\n",
       "      <td>171.308123</td>\n",
       "      <td>1983-01-01</td>\n",
       "    </tr>\n",
       "    <tr>\n",
       "      <th>25</th>\n",
       "      <td>1984</td>\n",
       "      <td>186.788594</td>\n",
       "      <td>1984-01-01</td>\n",
       "    </tr>\n",
       "  </tbody>\n",
       "</table>\n",
       "</div>"
      ],
      "text/plain": [
       "0   Year  GDP_PerCapita $ Year_datetime\n",
       "21  1980       234.334960    1980-01-01\n",
       "22  1981       198.887006    1981-01-01\n",
       "23  1982       180.489056    1982-01-01\n",
       "24  1983       171.308123    1983-01-01\n",
       "25  1984       186.788594    1984-01-01"
      ]
     },
     "execution_count": 23,
     "metadata": {},
     "output_type": "execute_result"
    }
   ],
   "source": [
    "df_chadT_filter.head()"
   ]
  },
  {
   "cell_type": "code",
   "execution_count": 24,
   "id": "102379ef",
   "metadata": {},
   "outputs": [
    {
     "data": {
      "text/html": [
       "<div>\n",
       "<style scoped>\n",
       "    .dataframe tbody tr th:only-of-type {\n",
       "        vertical-align: middle;\n",
       "    }\n",
       "\n",
       "    .dataframe tbody tr th {\n",
       "        vertical-align: top;\n",
       "    }\n",
       "\n",
       "    .dataframe thead th {\n",
       "        text-align: right;\n",
       "    }\n",
       "</style>\n",
       "<table border=\"1\" class=\"dataframe\">\n",
       "  <thead>\n",
       "    <tr style=\"text-align: right;\">\n",
       "      <th></th>\n",
       "      <th>Year_datetime</th>\n",
       "      <th>GDP_PerCapita $</th>\n",
       "    </tr>\n",
       "  </thead>\n",
       "  <tbody>\n",
       "    <tr>\n",
       "      <th>21</th>\n",
       "      <td>1980-01-01</td>\n",
       "      <td>234.334960</td>\n",
       "    </tr>\n",
       "    <tr>\n",
       "      <th>22</th>\n",
       "      <td>1981-01-01</td>\n",
       "      <td>198.887006</td>\n",
       "    </tr>\n",
       "    <tr>\n",
       "      <th>23</th>\n",
       "      <td>1982-01-01</td>\n",
       "      <td>180.489056</td>\n",
       "    </tr>\n",
       "    <tr>\n",
       "      <th>24</th>\n",
       "      <td>1983-01-01</td>\n",
       "      <td>171.308123</td>\n",
       "    </tr>\n",
       "    <tr>\n",
       "      <th>25</th>\n",
       "      <td>1984-01-01</td>\n",
       "      <td>186.788594</td>\n",
       "    </tr>\n",
       "  </tbody>\n",
       "</table>\n",
       "</div>"
      ],
      "text/plain": [
       "0  Year_datetime  GDP_PerCapita $\n",
       "21    1980-01-01       234.334960\n",
       "22    1981-01-01       198.887006\n",
       "23    1982-01-01       180.489056\n",
       "24    1983-01-01       171.308123\n",
       "25    1984-01-01       186.788594"
      ]
     },
     "execution_count": 24,
     "metadata": {},
     "output_type": "execute_result"
    }
   ],
   "source": [
    "#Drop original year column\n",
    "df_chadT_filter=df_chadT_filter[['Year_datetime','GDP_PerCapita $']]\n",
    "df_chadT_filter.head()"
   ]
  },
  {
   "cell_type": "code",
   "execution_count": 25,
   "id": "f9916805",
   "metadata": {},
   "outputs": [],
   "source": [
    "#Set year as index back again\n",
    "df_chadT_filter = df_chadT_filter.set_index('Year_datetime') "
   ]
  },
  {
   "cell_type": "code",
   "execution_count": 26,
   "id": "b87cd65c",
   "metadata": {},
   "outputs": [
    {
     "data": {
      "text/plain": [
       "[<matplotlib.lines.Line2D at 0x19c8b11d9a0>]"
      ]
     },
     "execution_count": 26,
     "metadata": {},
     "output_type": "execute_result"
    },
    {
     "data": {
      "image/png": "[encoded data removed]",
      "text/plain": [
       "<Figure size 1500x500 with 1 Axes>"
      ]
     },
     "metadata": {},
     "output_type": "display_data"
    }
   ],
   "source": [
    "# Plot chart\n",
    "plt.figure(figsize=(15,5), dpi=100)\n",
    "plt.plot(df_chadT_filter)"
   ]
  },
  {
   "cell_type": "code",
   "execution_count": 27,
   "id": "d25f7ead",
   "metadata": {},
   "outputs": [
    {
     "data": {
      "text/plain": [
       "0\n",
       "GDP_PerCapita $    0\n",
       "dtype: int64"
      ]
     },
     "execution_count": 27,
     "metadata": {},
     "output_type": "execute_result"
    }
   ],
   "source": [
    "# Check for missing values (you shouldn't have any)\n",
    "df_chadT_filter.isnull().sum() "
   ]
  },
  {
   "cell_type": "code",
   "execution_count": 28,
   "id": "11176775",
   "metadata": {},
   "outputs": [
    {
     "data": {
      "text/plain": [
       "0"
      ]
     },
     "execution_count": 28,
     "metadata": {},
     "output_type": "execute_result"
    }
   ],
   "source": [
    "# Check for duplicates\n",
    "dups = df_chadT_filter.duplicated()\n",
    "dups.sum()"
   ]
  },
  {
   "cell_type": "markdown",
   "id": "4a9c5c89",
   "metadata": {},
   "source": [
    "# 3. Time Series Analysis - Decompose"
   ]
  },
  {
   "cell_type": "code",
   "execution_count": 29,
   "id": "61620807",
   "metadata": {},
   "outputs": [],
   "source": [
    "# Decompose the time series using an additive model\n",
    "decomposition = sm.tsa.seasonal_decompose(df_chadT_filter, model='additive')"
   ]
  },
  {
   "cell_type": "code",
   "execution_count": 30,
   "id": "38d14d7f",
   "metadata": {},
   "outputs": [],
   "source": [
    "# Define a fixed size for all special charts.\n",
    "from pylab import rcParams \n",
    "rcParams['figure.figsize'] = 18, 7"
   ]
  },
  {
   "cell_type": "code",
   "execution_count": 31,
   "id": "15f89405",
   "metadata": {},
   "outputs": [
    {
     "data": {
      "image/png": "[encoded data removed]",
      "text/plain": [
       "<Figure size 1296x504 with 4 Axes>"
      ]
     },
     "metadata": {},
     "output_type": "display_data"
    }
   ],
   "source": [
    "# Plotting decompositions\n",
    "decomposition.plot()\n",
    "plt.show()"
   ]
  },
  {
   "cell_type": "markdown",
   "id": "120b87e8",
   "metadata": {},
   "source": [
    "The decomposition shows that the series is affected mainly by trend with n seasonality or noise. We know it's not stationary but lets confirm that with a test."
   ]
  },
  {
   "cell_type": "markdown",
   "id": "89eb2390",
   "metadata": {},
   "source": [
    "# 4.Check for Stationarity - Dicky Fuller"
   ]
  },
  {
   "cell_type": "markdown",
   "id": "af6ddba8",
   "metadata": {},
   "source": [
    "Null Hypothesis = data is not stationary"
   ]
  },
  {
   "cell_type": "code",
   "execution_count": 32,
   "id": "f0a881d7",
   "metadata": {},
   "outputs": [
    {
     "name": "stdout",
     "output_type": "stream",
     "text": [
      "Dickey-Fuller Stationarity test:\n",
      "Test Statistic                 -1.111512\n",
      "p-value                         0.710459\n",
      "Number of Lags Used             1.000000\n",
      "Number of Observations Used    40.000000\n",
      "Critical Value (1%)            -3.605565\n",
      "Critical Value (5%)            -2.937069\n",
      "Critical Value (10%)           -2.606986\n",
      "dtype: float64\n"
     ]
    }
   ],
   "source": [
    "# The adfuller() function will import from the model from statsmodels for the test; however, running it will only return \n",
    "# an array of numbers. This is why you need to also define a function that prints the correct output from that array.\n",
    "\n",
    "from statsmodels.tsa.stattools import adfuller \n",
    "\n",
    "def dickey_fuller(timeseries): # Define the function\n",
    "    # Perform the Dickey-Fuller test:\n",
    "    print ('Dickey-Fuller Stationarity test:')\n",
    "    test = adfuller(timeseries, autolag='AIC')\n",
    "    result = pd.Series(test[0:4], index=['Test Statistic','p-value','Number of Lags Used','Number of Observations Used'])\n",
    "    for key,value in test[4].items():\n",
    "       result['Critical Value (%s)'%key] = value\n",
    "    print (result)\n",
    "\n",
    "# Apply the test using the function on the time series\n",
    "dickey_fuller(df_chadT_filter['GDP_PerCapita $'])"
   ]
  },
  {
   "cell_type": "markdown",
   "id": "148371c4",
   "metadata": {},
   "source": [
    "The test statistic is larger than the critical value (-1.1 vs -2.9). Also, p-value is greater than 0.05. We cannot reject null hypothesis, which means data is not stationary."
   ]
  },
  {
   "cell_type": "markdown",
   "id": "e6d5e72a",
   "metadata": {},
   "source": [
    "# 5. Check for Autocorrelations"
   ]
  },
  {
   "cell_type": "code",
   "execution_count": 33,
   "id": "9f9df4c4",
   "metadata": {},
   "outputs": [
    {
     "data": {
      "image/png": "[encoded data removed]",
      "text/plain": [
       "<Figure size 1296x504 with 1 Axes>"
      ]
     },
     "metadata": {},
     "output_type": "display_data"
    }
   ],
   "source": [
    "# Import the autocorrelation and partial correlation plots\n",
    "from statsmodels.graphics.tsaplots import plot_acf, plot_pacf \n",
    "\n",
    "plot_acf(df_chadT_filter)\n",
    "plt.show()"
   ]
  },
  {
   "cell_type": "markdown",
   "id": "c3db9970",
   "metadata": {},
   "source": [
    "There are only a few autocorrelated data (autocorrelated lags), as represented by the dots outside of the shaded blue confidence interval."
   ]
  },
  {
   "cell_type": "markdown",
   "id": "fa4661e9",
   "metadata": {},
   "source": [
    "# 6. Stationarizing the time series"
   ]
  },
  {
   "cell_type": "code",
   "execution_count": 34,
   "id": "47309855",
   "metadata": {},
   "outputs": [],
   "source": [
    "# The df.shift(1) function turns the observation to t-1, making the whole thing t - (t -1)\n",
    "data_diff = df_chadT_filter - df_chadT_filter.shift(1) "
   ]
  },
  {
   "cell_type": "code",
   "execution_count": 35,
   "id": "9e041e88",
   "metadata": {},
   "outputs": [
    {
     "data": {
      "text/html": [
       "<div>\n",
       "<style scoped>\n",
       "    .dataframe tbody tr th:only-of-type {\n",
       "        vertical-align: middle;\n",
       "    }\n",
       "\n",
       "    .dataframe tbody tr th {\n",
       "        vertical-align: top;\n",
       "    }\n",
       "\n",
       "    .dataframe thead th {\n",
       "        text-align: right;\n",
       "    }\n",
       "</style>\n",
       "<table border=\"1\" class=\"dataframe\">\n",
       "  <thead>\n",
       "    <tr style=\"text-align: right;\">\n",
       "      <th></th>\n",
       "      <th>GDP_PerCapita $</th>\n",
       "    </tr>\n",
       "    <tr>\n",
       "      <th>Year_datetime</th>\n",
       "      <th></th>\n",
       "    </tr>\n",
       "  </thead>\n",
       "  <tbody>\n",
       "    <tr>\n",
       "      <th>1980-01-01</th>\n",
       "      <td>NaN</td>\n",
       "    </tr>\n",
       "    <tr>\n",
       "      <th>1981-01-01</th>\n",
       "      <td>-35.447954</td>\n",
       "    </tr>\n",
       "    <tr>\n",
       "      <th>1982-01-01</th>\n",
       "      <td>-18.397951</td>\n",
       "    </tr>\n",
       "    <tr>\n",
       "      <th>1983-01-01</th>\n",
       "      <td>-9.180933</td>\n",
       "    </tr>\n",
       "    <tr>\n",
       "      <th>1984-01-01</th>\n",
       "      <td>15.480471</td>\n",
       "    </tr>\n",
       "  </tbody>\n",
       "</table>\n",
       "</div>"
      ],
      "text/plain": [
       "0              GDP_PerCapita $\n",
       "Year_datetime                 \n",
       "1980-01-01                 NaN\n",
       "1981-01-01          -35.447954\n",
       "1982-01-01          -18.397951\n",
       "1983-01-01           -9.180933\n",
       "1984-01-01           15.480471"
      ]
     },
     "execution_count": 35,
     "metadata": {},
     "output_type": "execute_result"
    }
   ],
   "source": [
    "data_diff.head()"
   ]
  },
  {
   "cell_type": "code",
   "execution_count": 36,
   "id": "bdf72a18",
   "metadata": {},
   "outputs": [],
   "source": [
    "# Remove the missing values that came about as a result of the differencing to be able to run the Dickey-Fuller test.\n",
    "data_diff.dropna(inplace = True) "
   ]
  },
  {
   "cell_type": "code",
   "execution_count": 37,
   "id": "33e72ed4",
   "metadata": {},
   "outputs": [
    {
     "data": {
      "text/plain": [
       "[<matplotlib.lines.Line2D at 0x19c8bf02d30>]"
      ]
     },
     "execution_count": 37,
     "metadata": {},
     "output_type": "execute_result"
    },
    {
     "data": {
      "image/png": "[encoded data removed]",
      "text/plain": [
       "<Figure size 1500x500 with 1 Axes>"
      ]
     },
     "metadata": {},
     "output_type": "display_data"
    }
   ],
   "source": [
    "# Plot series after differencing\n",
    "plt.figure(figsize=(15,5), dpi=100)\n",
    "plt.plot(data_diff)"
   ]
  },
  {
   "cell_type": "code",
   "execution_count": 38,
   "id": "b12862c8",
   "metadata": {},
   "outputs": [
    {
     "name": "stdout",
     "output_type": "stream",
     "text": [
      "Dickey-Fuller Stationarity test:\n",
      "Test Statistic                 -4.714376\n",
      "p-value                         0.000079\n",
      "Number of Lags Used             0.000000\n",
      "Number of Observations Used    40.000000\n",
      "Critical Value (1%)            -3.605565\n",
      "Critical Value (5%)            -2.937069\n",
      "Critical Value (10%)           -2.606986\n",
      "dtype: float64\n"
     ]
    }
   ],
   "source": [
    "# Running dicky fuller after differencing\n",
    "dickey_fuller(data_diff)"
   ]
  },
  {
   "cell_type": "markdown",
   "id": "b28ad796",
   "metadata": {},
   "source": [
    "Test statistic is smaller than the critical value at 5% (-4 vs -2) and p-value is <0.05, which means we can reject the null hypothesis that says data is non stationary. Data is now stationary!"
   ]
  },
  {
   "cell_type": "code",
   "execution_count": 39,
   "id": "ee52a90f",
   "metadata": {},
   "outputs": [
    {
     "data": {
      "image/png": "[encoded data removed]",
      "text/plain": [
       "<Figure size 1296x504 with 1 Axes>"
      ]
     },
     "metadata": {},
     "output_type": "display_data"
    }
   ],
   "source": [
    "# Checking for auto correlations again\n",
    "plot_acf(data_diff)\n",
    "plt.show()"
   ]
  },
  {
   "cell_type": "markdown",
   "id": "1cd08405",
   "metadata": {},
   "source": [
    "Most autocorrelated lags are reduced"
   ]
  },
  {
   "cell_type": "markdown",
   "id": "8faf468b",
   "metadata": {},
   "source": [
    "# Bonus Task"
   ]
  },
  {
   "cell_type": "markdown",
   "id": "82ad0e87",
   "metadata": {},
   "source": [
    " 1. Defining Your Parameters\n",
    " 2. Splitting the Data\n",
    " 3. Running and Fitting the Model\n",
    " 4. Iterating"
   ]
  },
  {
   "cell_type": "markdown",
   "id": "b746ccf7",
   "metadata": {},
   "source": [
    "### 1. Defining Parameters"
   ]
  },
  {
   "cell_type": "code",
   "execution_count": 40,
   "id": "a5c8dbf9",
   "metadata": {},
   "outputs": [
    {
     "data": {
      "image/png": "[encoded data removed]",
      "text/plain": [
       "<Figure size 1296x504 with 1 Axes>"
      ]
     },
     "metadata": {},
     "output_type": "display_data"
    },
    {
     "data": {
      "text/plain": [
       "<Figure size 4500x4500 with 0 Axes>"
      ]
     },
     "metadata": {},
     "output_type": "display_data"
    }
   ],
   "source": [
    "# Plotting partial autocorrelation to determine p\n",
    "plot_pacf(data_diff)\n",
    "plt.figure(figsize=(15,15), dpi=300)\n",
    "plt.show()"
   ]
  },
  {
   "cell_type": "markdown",
   "id": "2bb41d88",
   "metadata": {},
   "source": [
    "Only one bar slightly higher in value. Will pick 1 AR term to start with, so p=1"
   ]
  },
  {
   "cell_type": "code",
   "execution_count": 41,
   "id": "ee70aca9",
   "metadata": {},
   "outputs": [
    {
     "data": {
      "image/png": "[encoded data removed]",
      "text/plain": [
       "<Figure size 1296x504 with 1 Axes>"
      ]
     },
     "metadata": {},
     "output_type": "display_data"
    },
    {
     "data": {
      "text/plain": [
       "<Figure size 1500x500 with 0 Axes>"
      ]
     },
     "metadata": {},
     "output_type": "display_data"
    }
   ],
   "source": [
    "# Plotting autocorrelation to determine q\n",
    "plot_acf(data_diff)\n",
    "plt.figure(figsize=(15,5), dpi=100)\n",
    "plt.show()"
   ]
  },
  {
   "cell_type": "markdown",
   "id": "74fd2826",
   "metadata": {},
   "source": [
    "Again, only 1 significant autocorrelation lag, so will pick 1 MA term, so q=1"
   ]
  },
  {
   "cell_type": "markdown",
   "id": "9ee22ecd",
   "metadata": {},
   "source": [
    "### 2. Splitting the Data"
   ]
  },
  {
   "cell_type": "code",
   "execution_count": 42,
   "id": "796458d7",
   "metadata": {
    "scrolled": true
   },
   "outputs": [
    {
     "data": {
      "text/plain": [
       "(41, 1)"
      ]
     },
     "execution_count": 42,
     "metadata": {},
     "output_type": "execute_result"
    }
   ],
   "source": [
    "data_diff.shape"
   ]
  },
  {
   "cell_type": "markdown",
   "id": "d335f46c",
   "metadata": {},
   "source": [
    "Choosing to pick the split at year 2010/2011"
   ]
  },
  {
   "cell_type": "code",
   "execution_count": 43,
   "id": "04574fb7",
   "metadata": {},
   "outputs": [],
   "source": [
    "# Split the data\n",
    "train = data_diff['GDP_PerCapita $'][:31]\n",
    "test = data_diff['GDP_PerCapita $'][30:]"
   ]
  },
  {
   "cell_type": "code",
   "execution_count": 44,
   "id": "c7e97427",
   "metadata": {},
   "outputs": [
    {
     "data": {
      "text/plain": [
       "[<matplotlib.lines.Line2D at 0x19c8cf3dc40>]"
      ]
     },
     "execution_count": 44,
     "metadata": {},
     "output_type": "execute_result"
    },
    {
     "data": {
      "image/png": "[encoded data removed]",
      "text/plain": [
       "<Figure size 1500x500 with 1 Axes>"
      ]
     },
     "metadata": {},
     "output_type": "display_data"
    }
   ],
   "source": [
    "# Plot both sets in order to see the split\n",
    "plt.figure(figsize=(15,5), dpi=100)\n",
    "plt.plot(train)\n",
    "plt.plot(test)"
   ]
  },
  {
   "cell_type": "code",
   "execution_count": 45,
   "id": "132b4e87",
   "metadata": {},
   "outputs": [
    {
     "data": {
      "text/plain": [
       "(11,)"
      ]
     },
     "execution_count": 45,
     "metadata": {},
     "output_type": "execute_result"
    }
   ],
   "source": [
    "test.shape"
   ]
  },
  {
   "cell_type": "markdown",
   "id": "a840a831",
   "metadata": {},
   "source": [
    "### 3. Running and Fitting Model"
   ]
  },
  {
   "cell_type": "code",
   "execution_count": 46,
   "id": "124e8973",
   "metadata": {},
   "outputs": [],
   "source": [
    "# Import ARIMA model\n",
    "from statsmodels.tsa.api import ARIMA"
   ]
  },
  {
   "cell_type": "code",
   "execution_count": 47,
   "id": "f97743da",
   "metadata": {},
   "outputs": [
    {
     "data": {
      "text/plain": [
       "Index(['GDP_PerCapita $'], dtype='object', name=0)"
      ]
     },
     "execution_count": 47,
     "metadata": {},
     "output_type": "execute_result"
    }
   ],
   "source": [
    "data_diff.columns"
   ]
  },
  {
   "cell_type": "code",
   "execution_count": 48,
   "id": "3ca16588",
   "metadata": {},
   "outputs": [
    {
     "name": "stdout",
     "output_type": "stream",
     "text": [
      "                               SARIMAX Results                                \n",
      "==============================================================================\n",
      "Dep. Variable:        GDP_PerCapita $   No. Observations:                   31\n",
      "Model:                 ARIMA(1, 1, 1)   Log Likelihood                -168.126\n",
      "Date:                Thu, 09 Mar 2023   AIC                            342.251\n",
      "Time:                        13:26:32   BIC                            346.455\n",
      "Sample:                    01-01-1981   HQIC                           343.596\n",
      "                         - 01-01-2011                                         \n",
      "Covariance Type:                  opg                                         \n",
      "==============================================================================\n",
      "                 coef    std err          z      P>|z|      [0.025      0.975]\n",
      "------------------------------------------------------------------------------\n",
      "ar.L1          0.1641      0.244      0.674      0.500      -0.313       0.641\n",
      "ma.L1         -0.8226      0.145     -5.664      0.000      -1.107      -0.538\n",
      "sigma2      4195.6336    920.516      4.558      0.000    2391.456    5999.811\n",
      "===================================================================================\n",
      "Ljung-Box (L1) (Q):                   0.12   Jarque-Bera (JB):                28.92\n",
      "Prob(Q):                              0.73   Prob(JB):                         0.00\n",
      "Heteroskedasticity (H):              13.02   Skew:                            -1.19\n",
      "Prob(H) (two-sided):                  0.00   Kurtosis:                         7.18\n",
      "===================================================================================\n",
      "\n",
      "Warnings:\n",
      "[1] Covariance matrix calculated using the outer product of gradients (complex-step).\n"
     ]
    },
    {
     "ename": "TypeError",
     "evalue": "'float' object is not subscriptable",
     "output_type": "error",
     "traceback": [
      "\u001b[1;31m---------------------------------------------------------------------------\u001b[0m",
      "\u001b[1;31mTypeError\u001b[0m                                 Traceback (most recent call last)",
      "Input \u001b[1;32mIn [48]\u001b[0m, in \u001b[0;36m<cell line: 12>\u001b[1;34m()\u001b[0m\n\u001b[0;32m      8\u001b[0m \u001b[38;5;66;03m#Error says 3 is the expected value to pack\u001b[39;00m\n\u001b[0;32m      9\u001b[0m \n\u001b[0;32m     10\u001b[0m \u001b[38;5;66;03m# Make into pandas series\u001b[39;00m\n\u001b[0;32m     11\u001b[0m fc_series \u001b[38;5;241m=\u001b[39m pd\u001b[38;5;241m.\u001b[39mSeries(fc, index\u001b[38;5;241m=\u001b[39mtest\u001b[38;5;241m.\u001b[39mindex) \u001b[38;5;66;03m# This creates the forecasted curve\u001b[39;00m\n\u001b[1;32m---> 12\u001b[0m lower_series \u001b[38;5;241m=\u001b[39m pd\u001b[38;5;241m.\u001b[39mSeries(\u001b[43mconf\u001b[49m\u001b[43m[\u001b[49m\u001b[43m:\u001b[49m\u001b[43m,\u001b[49m\u001b[43m \u001b[49m\u001b[38;5;241;43m0\u001b[39;49m\u001b[43m]\u001b[49m, index\u001b[38;5;241m=\u001b[39mtest\u001b[38;5;241m.\u001b[39mindex) \u001b[38;5;66;03m# lower bound of the confidence interval\u001b[39;00m\n\u001b[0;32m     13\u001b[0m upper_series \u001b[38;5;241m=\u001b[39m pd\u001b[38;5;241m.\u001b[39mSeries(conf[:, \u001b[38;5;241m1\u001b[39m], index\u001b[38;5;241m=\u001b[39mtest\u001b[38;5;241m.\u001b[39mindex) \u001b[38;5;66;03m# Upper bound of the confidence interval\u001b[39;00m\n\u001b[0;32m     15\u001b[0m \u001b[38;5;66;03m# Plot\u001b[39;00m\n",
      "\u001b[1;31mTypeError\u001b[0m: 'float' object is not subscriptable"
     ]
    }
   ],
   "source": [
    "# Run ARIMA\n",
    "model = ARIMA(train, order=(1, 1, 1))  \n",
    "fitted = model.fit()  \n",
    "print(fitted.summary()) # Check model summary\n",
    "\n",
    "# Forecast with 95% confidence interval  --> alpha = 0.05; \n",
    "fc, se, conf = fitted.forecast(3, alpha=0.05) \n",
    "#Error says 3 is the expected value to pack\n",
    "\n",
    "# Make into pandas series\n",
    "fc_series = pd.Series(fc, index=test.index) # This creates the forecasted curve\n",
    "lower_series = pd.Series(conf[:, 0], index=test.index) # lower bound of the confidence interval\n",
    "upper_series = pd.Series(conf[:, 1], index=test.index) # Upper bound of the confidence interval\n",
    "\n",
    "# Plot\n",
    "plt.figure(figsize=(12,4), dpi=100)\n",
    "plt.plot(train, label='training')\n",
    "plt.plot(test, label='actual')\n",
    "plt.plot(fc_series, label='forecast')\n",
    "plt.fill_between(lower_series.index, lower_series, upper_series, \n",
    "                 color='k', alpha=.05) # This creates the confidence interval\n",
    "plt.title('Forecast vs Actuals')\n",
    "plt.legend(loc='upper left', fontsize=8)\n",
    "plt.show()"
   ]
  },
  {
   "cell_type": "code",
   "execution_count": null,
   "id": "2d1cc223",
   "metadata": {},
   "outputs": [],
   "source": []
  }
 ],
 "metadata": {
  "kernelspec": {
   "display_name": "Python 3",
   "language": "python",
   "name": "python3"
  },
  "language_info": {
   "codemirror_mode": {
    "name": "ipython",
    "version": 3
   },
   "file_extension": ".py",
   "mimetype": "text/x-python",
   "name": "python",
   "nbconvert_exporter": "python",
   "pygments_lexer": "ipython3",
   "version": "3.9.12"
  }
 },
 "nbformat": 4,
 "nbformat_minor": 5
}
